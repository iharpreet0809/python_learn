{
 "cells": [
  {
   "cell_type": "code",
   "execution_count": 2,
   "id": "7399424c",
   "metadata": {},
   "outputs": [],
   "source": [
    " # how to send mail in python"
   ]
  },
  {
   "cell_type": "code",
   "execution_count": 3,
   "id": "188a3f5b",
   "metadata": {},
   "outputs": [],
   "source": [
    "# smtp library"
   ]
  },
  {
   "cell_type": "code",
   "execution_count": 4,
   "id": "7c479bf1",
   "metadata": {},
   "outputs": [],
   "source": [
    "import smtplib"
   ]
  },
  {
   "cell_type": "code",
   "execution_count": 5,
   "id": "447e3301",
   "metadata": {},
   "outputs": [
    {
     "name": "stdout",
     "output_type": "stream",
     "text": [
      "['CRLF', 'LMTP', 'LMTP_PORT', 'OLDSTYLE_AUTH', 'SMTP', 'SMTPAuthenticationError', 'SMTPConnectError', 'SMTPDataError', 'SMTPException', 'SMTPHeloError', 'SMTPNotSupportedError', 'SMTPRecipientsRefused', 'SMTPResponseException', 'SMTPSenderRefused', 'SMTPServerDisconnected', 'SMTP_PORT', 'SMTP_SSL', 'SMTP_SSL_PORT', '_MAXCHALLENGE', '_MAXLINE', '__all__', '__builtins__', '__cached__', '__doc__', '__file__', '__loader__', '__name__', '__package__', '__spec__', '_addr_only', '_fix_eols', '_have_ssl', '_quote_periods', 'bCRLF', 'base64', 'copy', 'datetime', 'email', 'encode_base64', 'hmac', 'io', 'quoteaddr', 'quotedata', 're', 'socket', 'ssl', 'sys']\n"
     ]
    }
   ],
   "source": [
    "print(dir(smtplib))"
   ]
  },
  {
   "cell_type": "code",
   "execution_count": 6,
   "id": "7f0a30da",
   "metadata": {},
   "outputs": [],
   "source": [
    "# gmail host----> smtp.gmail.com\n",
    "# port----->     587\n",
    "#gmail        connection     B"
   ]
  },
  {
   "cell_type": "code",
   "execution_count": 7,
   "id": "d10daf7c",
   "metadata": {},
   "outputs": [
    {
     "name": "stdout",
     "output_type": "stream",
     "text": [
      "enter password: ········\n"
     ]
    }
   ],
   "source": [
    "from getpass import getpass\n",
    "p=getpass('enter password: ')"
   ]
  },
  {
   "cell_type": "code",
   "execution_count": 10,
   "id": "04d3a12c",
   "metadata": {},
   "outputs": [
    {
     "name": "stdout",
     "output_type": "stream",
     "text": [
      "sent...\n"
     ]
    }
   ],
   "source": [
    "connection=smtplib.SMTP('smtp.gmail.com',587)\n",
    "connection.starttls()\n",
    "connection.login('bankapplication7@gmail.com','Bankapp@')\n",
    "connection.sendmail('bankapplication7@gmail.com','harpreetarora066@gmail.com','Subject: OTP \\n\\n hello harpreet how are you')\n",
    "print('sent...')\n",
    "connection.close()"
   ]
  },
  {
   "cell_type": "code",
   "execution_count": 8,
   "id": "719db7f2",
   "metadata": {},
   "outputs": [
    {
     "data": {
      "text/plain": [
       "'manish'"
      ]
     },
     "execution_count": 8,
     "metadata": {},
     "output_type": "execute_result"
    }
   ],
   "source": [
    "p"
   ]
  },
  {
   "cell_type": "code",
   "execution_count": 11,
   "id": "a9da8e55",
   "metadata": {},
   "outputs": [],
   "source": [
    "data={1001:{'name':'manish','bal':50000,'email':'rmanish911@gmail.com','pass':'mann@123'},\n",
    "     1002:{'name':'shan','bal':55000,'email':'shan@gmail.com','pass':'shan@123'},\n",
    "     1003:{'name':'sachin','bal':60000,'email':'sachin@gmail.com','pass':'sachin@123'}}"
   ]
  },
  {
   "cell_type": "code",
   "execution_count": 12,
   "id": "0ec7cbd5",
   "metadata": {},
   "outputs": [
    {
     "data": {
      "text/plain": [
       "{1001: {'name': 'manish',\n",
       "  'bal': 50000,\n",
       "  'email': 'rmanish911@gmail.com',\n",
       "  'pass': 'mann@123'},\n",
       " 1002: {'name': 'shan',\n",
       "  'bal': 55000,\n",
       "  'email': 'shan@gmail.com',\n",
       "  'pass': 'shan@123'},\n",
       " 1003: {'name': 'sachin',\n",
       "  'bal': 60000,\n",
       "  'email': 'sachin@gmail.com',\n",
       "  'pass': 'sachin@123'}}"
      ]
     },
     "execution_count": 12,
     "metadata": {},
     "output_type": "execute_result"
    }
   ],
   "source": [
    "data"
   ]
  },
  {
   "cell_type": "code",
   "execution_count": 13,
   "id": "a7ffbb06",
   "metadata": {},
   "outputs": [
    {
     "data": {
      "text/plain": [
       "{'name': 'manish',\n",
       " 'bal': 50000,\n",
       " 'email': 'rmanish911@gmail.com',\n",
       " 'pass': 'mann@123'}"
      ]
     },
     "execution_count": 13,
     "metadata": {},
     "output_type": "execute_result"
    }
   ],
   "source": [
    "data[1001]"
   ]
  },
  {
   "cell_type": "code",
   "execution_count": 14,
   "id": "58610593",
   "metadata": {},
   "outputs": [
    {
     "data": {
      "text/plain": [
       "{'name': 'sachin',\n",
       " 'bal': 60000,\n",
       " 'email': 'sachin@gmail.com',\n",
       " 'pass': 'sachin@123'}"
      ]
     },
     "execution_count": 14,
     "metadata": {},
     "output_type": "execute_result"
    }
   ],
   "source": [
    "data[1003]"
   ]
  },
  {
   "cell_type": "code",
   "execution_count": 15,
   "id": "b10f4732",
   "metadata": {},
   "outputs": [
    {
     "data": {
      "text/plain": [
       "'sachin@123'"
      ]
     },
     "execution_count": 15,
     "metadata": {},
     "output_type": "execute_result"
    }
   ],
   "source": [
    "data[1003]['pass']"
   ]
  },
  {
   "cell_type": "code",
   "execution_count": 16,
   "id": "eb184252",
   "metadata": {},
   "outputs": [
    {
     "data": {
      "text/plain": [
       "dict"
      ]
     },
     "execution_count": 16,
     "metadata": {},
     "output_type": "execute_result"
    }
   ],
   "source": [
    "type(data)"
   ]
  },
  {
   "cell_type": "code",
   "execution_count": 18,
   "id": "1eb996b0",
   "metadata": {},
   "outputs": [],
   "source": [
    "file=open('C:\\\\Users\\\\rmani\\\\Desktop\\\\demo.txt','w')"
   ]
  },
  {
   "cell_type": "code",
   "execution_count": null,
   "id": "20685049",
   "metadata": {},
   "outputs": [],
   "source": []
  },
  {
   "cell_type": "code",
   "execution_count": 20,
   "id": "ef9e0ce5",
   "metadata": {},
   "outputs": [],
   "source": [
    "import json"
   ]
  },
  {
   "cell_type": "code",
   "execution_count": 21,
   "id": "191fb539",
   "metadata": {},
   "outputs": [],
   "source": [
    "# dict ---->> write in any file ----> use dump attribute\n",
    "# file -----> read any file in json----> use load attribute"
   ]
  },
  {
   "cell_type": "code",
   "execution_count": 22,
   "id": "753a3322",
   "metadata": {},
   "outputs": [],
   "source": [
    "json.dump(data,file)"
   ]
  },
  {
   "cell_type": "code",
   "execution_count": 23,
   "id": "fc6729e2",
   "metadata": {},
   "outputs": [],
   "source": [
    "file.close()"
   ]
  },
  {
   "cell_type": "code",
   "execution_count": 24,
   "id": "3578e7da",
   "metadata": {},
   "outputs": [],
   "source": [
    "p=open('C:\\\\Users\\\\rmani\\\\Desktop\\\\demo.txt')\n",
    "f=json.load(p)"
   ]
  },
  {
   "cell_type": "code",
   "execution_count": 25,
   "id": "0f4cd3d1",
   "metadata": {},
   "outputs": [
    {
     "data": {
      "text/plain": [
       "{'1001': {'name': 'manish',\n",
       "  'bal': 50000,\n",
       "  'email': 'rmanish911@gmail.com',\n",
       "  'pass': 'mann@123'},\n",
       " '1002': {'name': 'shan',\n",
       "  'bal': 55000,\n",
       "  'email': 'shan@gmail.com',\n",
       "  'pass': 'shan@123'},\n",
       " '1003': {'name': 'sachin',\n",
       "  'bal': 60000,\n",
       "  'email': 'sachin@gmail.com',\n",
       "  'pass': 'sachin@123'}}"
      ]
     },
     "execution_count": 25,
     "metadata": {},
     "output_type": "execute_result"
    }
   ],
   "source": [
    "f"
   ]
  },
  {
   "cell_type": "code",
   "execution_count": 26,
   "id": "63da402e",
   "metadata": {},
   "outputs": [],
   "source": [
    "import os"
   ]
  },
  {
   "cell_type": "code",
   "execution_count": 27,
   "id": "bf3b30d1",
   "metadata": {},
   "outputs": [
    {
     "data": {
      "text/plain": [
       "'C:\\\\Users\\\\rmani'"
      ]
     },
     "execution_count": 27,
     "metadata": {},
     "output_type": "execute_result"
    }
   ],
   "source": [
    "os.getcwd()"
   ]
  },
  {
   "cell_type": "code",
   "execution_count": 28,
   "id": "e12ebcff",
   "metadata": {},
   "outputs": [
    {
     "data": {
      "text/plain": [
       "['.bash_history',\n",
       " '.conda',\n",
       " '.gitconfig',\n",
       " '.google-cookie',\n",
       " '.idlerc',\n",
       " '.ipynb_checkpoints',\n",
       " '.ipython',\n",
       " '.jupyter',\n",
       " '.keras',\n",
       " '.lesshst',\n",
       " '.matplotlib',\n",
       " '.pipwin',\n",
       " '.surprise_data',\n",
       " '.viminfo',\n",
       " '.vscode',\n",
       " '18th Sep Python Practice.ipynb',\n",
       " '2.Chapter-2.ipynb',\n",
       " '3.Chapter_2_ControlStatements.ipynb',\n",
       " '3.Numpy.ipynb',\n",
       " '3D Objects',\n",
       " '50_AdAgency.csv',\n",
       " 'advance_function.ipynb',\n",
       " 'akshat_first_class.ipynb',\n",
       " 'anaconda3',\n",
       " 'analysis2.xlsx',\n",
       " 'anatomy.jpg',\n",
       " 'AppData',\n",
       " 'Application Data',\n",
       " 'application_record.csv',\n",
       " 'Assignment_1.ipynb',\n",
       " 'bank.csv',\n",
       " 'bank.py',\n",
       " 'bankdata.txt',\n",
       " 'bank_app.ipynb',\n",
       " 'Bank_Application_final.ipynb',\n",
       " 'bank_application_roshni.ipynb',\n",
       " 'basic_socket.ipynb',\n",
       " 'birthday.ipynb',\n",
       " 'build',\n",
       " 'car.jpg',\n",
       " 'cl.py',\n",
       " 'client.ipynb',\n",
       " 'client.py',\n",
       " 'client_darshan.ipynb',\n",
       " 'client_darshan.py',\n",
       " 'client_shubh.ipynb',\n",
       " 'comparision.ipynb',\n",
       " 'Contacts',\n",
       " 'control statement.ipynb',\n",
       " 'control.ipynb',\n",
       " 'Control_Staements.ipynb',\n",
       " 'control_statement.ipynb',\n",
       " 'control_statement2.ipynb',\n",
       " 'control_statement_yashika.ipynb',\n",
       " 'Cookies',\n",
       " 'credit_record.csv',\n",
       " 'd.jpg',\n",
       " 'd.png',\n",
       " 'darshan_first_class.ipynb',\n",
       " 'data type class 10_26.ipynb',\n",
       " 'Data type first class .ipynb',\n",
       " 'data type_1st.ipynb',\n",
       " 'data type_2nd class.ipynb',\n",
       " 'Data Type_2nd_class.ipynb',\n",
       " 'data _type _5pm.ipynb',\n",
       " 'data.csv',\n",
       " 'data.txt',\n",
       " 'database_connectivity.ipynb',\n",
       " 'database_connectivity_darshan.ipynb',\n",
       " 'data_science_weekend',\n",
       " 'data_type.ipynb',\n",
       " 'data_type_1.ipynb',\n",
       " 'data_type_1day.ipynb',\n",
       " 'data_type_2nd.html',\n",
       " 'data_type_2nd.ipynb',\n",
       " 'data_type_day3.ipynb',\n",
       " 'day3_27_10.ipynb',\n",
       " 'DBSCAN.ipynb',\n",
       " 'deeksha.csv',\n",
       " 'deeksha_numpy2nd .ipynb',\n",
       " 'demo',\n",
       " 'Demo.ipynb',\n",
       " 'demo_data.txt',\n",
       " 'Demo_python.ipynb',\n",
       " 'demo_udit.ipynb',\n",
       " 'denis.jpg',\n",
       " 'Desktop',\n",
       " 'dict and set.ipynb',\n",
       " 'dist',\n",
       " 'Documents',\n",
       " 'doubt_class.ipynb',\n",
       " 'Doubt_class_10am.ipynb',\n",
       " 'Downloads',\n",
       " 'DT_PRACTICE.ipynb',\n",
       " 'excel.log',\n",
       " 'exception handling.ipynb',\n",
       " 'exception_handling.ipynb',\n",
       " 'exception_handling_roshni.ipynb',\n",
       " 'Favorites',\n",
       " 'file',\n",
       " 'file.py',\n",
       " 'filehandling2.ipynb',\n",
       " 'filehandling3.ipynb',\n",
       " 'file_handling.ipynb',\n",
       " 'file_handling1.ipynb',\n",
       " 'file_handling1_9am.ipynb',\n",
       " 'file_handling_1_.ipynb',\n",
       " 'file_handling_1_30.ipynb',\n",
       " 'file_handling_3day.ipynb',\n",
       " 'file_handling_5pm.ipynb',\n",
       " 'file_handling_5pm2.ipynb',\n",
       " 'file_handling_movie.ipynb',\n",
       " 'file_handling_movie_analysis.ipynb',\n",
       " 'file_handling_result_card.ipynb',\n",
       " 'file_handling_yashika.ipynb',\n",
       " 'first_class.html',\n",
       " 'first_class_python.ipynb',\n",
       " 'formal_titanic.txt',\n",
       " 'for_loop.ipynb',\n",
       " 'for_loop_5pm.ipynb',\n",
       " 'for_loop_9am.ipynb',\n",
       " 'for_loop_nested.ipynb',\n",
       " 'for_loop_roshni_31_aug.ipynb',\n",
       " 'for_loop_yashika.ipynb',\n",
       " 'functions.ipynb',\n",
       " 'functions_130pm.ipynb',\n",
       " 'functions_day4_5pm.ipynb',\n",
       " 'functions_predefine.ipynb',\n",
       " 'functions_roshni.ipynb',\n",
       " 'functions_yashika.ipynb',\n",
       " 'function_1_30pm.ipynb',\n",
       " 'function_9am.ipynb',\n",
       " 'function_day1_5pm .ipynb',\n",
       " 'function_day2_5pm.ipynb',\n",
       " 'function_day3_5pm.ipynb',\n",
       " 'function_predefine.ipynb',\n",
       " 'g.jpg',\n",
       " 'git_data',\n",
       " 'git_demo',\n",
       " 'haarcascade_eye.xml',\n",
       " 'haarcascade_eye_tree_eyeglasses.xml',\n",
       " 'haarcascade_frontalcatface.xml',\n",
       " 'haarcascade_frontalcatface_extended.xml',\n",
       " 'haarcascade_frontalface_alt.xml',\n",
       " 'haarcascade_frontalface_alt2.xml',\n",
       " 'haarcascade_frontalface_alt_tree.xml',\n",
       " 'haarcascade_frontalface_default.xml',\n",
       " 'haarcascade_fullbody.xml',\n",
       " 'haarcascade_lefteye_2splits.xml',\n",
       " 'haarcascade_licence_plate_rus_16stages.xml',\n",
       " 'haarcascade_lowerbody.xml',\n",
       " 'haarcascade_profileface.xml',\n",
       " 'haarcascade_righteye_2splits.xml',\n",
       " 'haarcascade_russian_plate_number.xml',\n",
       " 'haarcascade_smile.xml',\n",
       " 'haarcascade_upperbody.xml',\n",
       " 'hitarth_filehandling3.ipynb',\n",
       " 'i.jpg',\n",
       " 'i1.jpg',\n",
       " 'image-3-1024x791.png',\n",
       " 'inheritance.ipynb',\n",
       " 'inheritance_darshan.ipynb',\n",
       " 'inheritance_day3.ipynb',\n",
       " 'inheritance_roshni.ipynb',\n",
       " 'inheritance_yashika.ipynb',\n",
       " 'instaprofile.py',\n",
       " 'instaprofile.spec',\n",
       " 'Insta_profilepic_download.ipynb',\n",
       " 'IntelGraphicsProfiles',\n",
       " 'Introduction_To_Pandas.ipynb',\n",
       " 'jay.txt',\n",
       " 'jayshree (1).ipynb',\n",
       " 'jsondata.txt',\n",
       " 'KNN_algo.ipynb',\n",
       " 'K_Means.ipynb',\n",
       " 'lena.png',\n",
       " 'linear_regression.ipynb',\n",
       " 'line_plot.png',\n",
       " 'Links',\n",
       " 'list_tuple_dict_1_30pm.ipynb',\n",
       " 'Local Settings',\n",
       " 'logistic_regression_2nd.ipynb',\n",
       " 'logistic_reg_day1.ipynb',\n",
       " 'loop.ipynb',\n",
       " 'looping.ipynb',\n",
       " 'looping_5pm.ipynb',\n",
       " 'loop_1_class.ipynb',\n",
       " 'loop_and_numpy.ipynb',\n",
       " 'loop_predefine_function.ipynb',\n",
       " 'MariaDB_ Data Types.pdf',\n",
       " 'matlotlib.ipynb',\n",
       " 'matplotlib.ipynb',\n",
       " 'matplot_26.ipynb',\n",
       " 'matplot_9pm.ipynb',\n",
       " 'matplot_deeksha.ipynb',\n",
       " 'ML_BATCH_2021',\n",
       " 'models.ipynb',\n",
       " 'movie-recommendation-system-checkpoint.ipynb',\n",
       " 'movie-recommendation-system.ipynb',\n",
       " 'movies.dat',\n",
       " 'movies_data.ipynb',\n",
       " 'movie_project',\n",
       " 'movie_project.zip',\n",
       " 'movie_user_df.csv',\n",
       " 'Multi Linear Regression.ipynb',\n",
       " 'multi_linear_reg.ipynb',\n",
       " 'multi_logistic_reg.ipynb',\n",
       " 'Music',\n",
       " 'My Documents',\n",
       " 'my_module.py',\n",
       " 'Nadia_Murad.jpg',\n",
       " 'naive_bayes.ipynb',\n",
       " 'nested_loop_5pm.ipynb',\n",
       " 'nested_loop_yashika.ipynb',\n",
       " 'netflix_titles.csv',\n",
       " 'NetHood',\n",
       " 'NTUSER.DAT',\n",
       " 'ntuser.dat.LOG1',\n",
       " 'ntuser.dat.LOG2',\n",
       " 'NTUSER.DAT{53b39e87-18c4-11ea-a811-000d3aa4692b}.TxR.0.regtrans-ms',\n",
       " 'NTUSER.DAT{53b39e87-18c4-11ea-a811-000d3aa4692b}.TxR.1.regtrans-ms',\n",
       " 'NTUSER.DAT{53b39e87-18c4-11ea-a811-000d3aa4692b}.TxR.2.regtrans-ms',\n",
       " 'NTUSER.DAT{53b39e87-18c4-11ea-a811-000d3aa4692b}.TxR.blf',\n",
       " 'NTUSER.DAT{53b39e88-18c4-11ea-a811-000d3aa4692b}.TM.blf',\n",
       " 'NTUSER.DAT{53b39e88-18c4-11ea-a811-000d3aa4692b}.TMContainer00000000000000000001.regtrans-ms',\n",
       " 'NTUSER.DAT{53b39e88-18c4-11ea-a811-000d3aa4692b}.TMContainer00000000000000000002.regtrans-ms',\n",
       " 'ntuser.ini',\n",
       " 'number conversion.ipynb',\n",
       " 'numpy intro.ipynb',\n",
       " 'numpy2day.ipynb',\n",
       " 'numpy2nd class.ipynb',\n",
       " 'numpy_23_sep.ipynb',\n",
       " 'numpy_class1.ipynb',\n",
       " 'numpy_class3.ipynb',\n",
       " 'numpy_deeksha.ipynb',\n",
       " 'OneDrive',\n",
       " 'oops.ipynb',\n",
       " 'oops1.ipynb',\n",
       " 'oops1_roshni.ipynb',\n",
       " 'oops2_class.ipynb',\n",
       " 'oops3.ipynb',\n",
       " 'oops_class1.ipynb',\n",
       " 'oops_class2_yashika.ipynb',\n",
       " 'oops_classday1.ipynb',\n",
       " 'oops_day3_roshni.ipynb',\n",
       " 'oops_day5.ipynb',\n",
       " 'oops_p.ipynb',\n",
       " 'oops_poly_operator.ipynb',\n",
       " 'oops_yashika.ipynb',\n",
       " 'opencv2nd_class.ipynb',\n",
       " 'opencv4day.ipynb',\n",
       " 'opencv_3rd.ipynb',\n",
       " 'operator.ipynb',\n",
       " 'operators.ipynb',\n",
       " 'operators_5pm.ipynb',\n",
       " 'operators_type_conversion.ipynb',\n",
       " 'operator_18_10.ipynb',\n",
       " 'operator_control_statement.ipynb',\n",
       " 'operator_yashika.ipynb',\n",
       " 'operator_yashika_2nd.ipynb',\n",
       " 'opps_day4.ipynb',\n",
       " 'pandas.ipynb',\n",
       " 'pandas1_27.ipynb',\n",
       " 'pandas2nd class.ipynb',\n",
       " 'pandas_01.ipynb',\n",
       " 'pandas_10_25.ipynb',\n",
       " 'pandas_30.ipynb',\n",
       " 'pandas_3rdday.ipynb',\n",
       " 'pandas_cross_pivot_.ipynb',\n",
       " 'pandas_data.csv',\n",
       " 'pandas_date_module.ipynb',\n",
       " 'pandas_day1.ipynb',\n",
       " 'pandas_day1_weekend.ipynb',\n",
       " 'pandas_day2.ipynb',\n",
       " 'pattern.ipynb',\n",
       " 'Patterns.ipynb',\n",
       " 'patterns_5pm.ipynb',\n",
       " 'Pictures',\n",
       " 'pipwin',\n",
       " 'portal.jpg',\n",
       " 'pre_define_function.ipynb',\n",
       " 'PrintHood',\n",
       " 'project_2_30pm.ipynb',\n",
       " 'python_batch_1_30pm',\n",
       " 'python_batch_result.txt',\n",
       " 'python_first_class.ipynb',\n",
       " 'python_titanic_analysis.ipynb',\n",
       " 'random_forest.ipynb',\n",
       " 'random_population_creator.ipynb',\n",
       " 'range_function.ipynb',\n",
       " 'Recent',\n",
       " 'recognized.txt',\n",
       " 'regular_expression.ipynb',\n",
       " 'regular_expression_.ipynb',\n",
       " 'resizelena.png',\n",
       " 'roshni_encapsulation_polymorphism.ipynb',\n",
       " 'roshni_first_class.ipynb',\n",
       " 'roshni_oops2_class.ipynb',\n",
       " 'roshni_operators.ipynb',\n",
       " 'roshni_server.py',\n",
       " 'Rough.ipynb',\n",
       " 'salary.csv',\n",
       " 'Salary_Data.csv',\n",
       " 'Saved Games',\n",
       " 'sbhubh_client.py',\n",
       " 'seaborn-data',\n",
       " 'seaborn.ipynb',\n",
       " 'Searches',\n",
       " 'SendTo',\n",
       " 'server.ipynb',\n",
       " 'server_darshan.ipynb',\n",
       " 'server_darshan.py',\n",
       " 'server_roshni.ipynb',\n",
       " 'shubh_1st_class.ipynb',\n",
       " 'shubh_client.py',\n",
       " 'shubh_data_type.ipynb',\n",
       " 'si.jpg',\n",
       " 'Simple Linear regression practice.ipynb',\n",
       " 'smile.jpg',\n",
       " 'Social_Network_Ads (1).csv',\n",
       " 'Social_Network_Ads.csv',\n",
       " 'solvay.jpg',\n",
       " 'solvay1.jpg',\n",
       " 'special function.ipynb',\n",
       " 'Start Menu',\n",
       " 'stock.csv',\n",
       " 'stock_data.ipynb',\n",
       " 'string_akshat.ipynb',\n",
       " 'svm.ipynb',\n",
       " 'Templates',\n",
       " 'Test-10am Batch.ipynb',\n",
       " 'test2.ipynb',\n",
       " 'titanic.csv',\n",
       " 'titanic.txt',\n",
       " 'titanice.txt',\n",
       " 'titanic_analysis.ipynb',\n",
       " 'Tracing',\n",
       " 'tree_viz',\n",
       " 'Unconfirmed 743862.crdownload',\n",
       " 'Untitled Folder',\n",
       " 'Untitled.ipynb',\n",
       " 'Untitled1.ipynb',\n",
       " 'Untitled10.ipynb',\n",
       " 'Untitled100.ipynb',\n",
       " 'Untitled101.ipynb',\n",
       " 'Untitled102.ipynb',\n",
       " 'Untitled103.ipynb',\n",
       " 'Untitled104.ipynb',\n",
       " 'Untitled105.ipynb',\n",
       " 'Untitled106.ipynb',\n",
       " 'Untitled107.ipynb',\n",
       " 'Untitled108.ipynb',\n",
       " 'Untitled11.ipynb',\n",
       " 'Untitled12.ipynb',\n",
       " 'Untitled13.ipynb',\n",
       " 'Untitled14.ipynb',\n",
       " 'Untitled15.ipynb',\n",
       " 'Untitled16.ipynb',\n",
       " 'Untitled17.ipynb',\n",
       " 'Untitled18.ipynb',\n",
       " 'Untitled19.ipynb',\n",
       " 'Untitled2.ipynb',\n",
       " 'Untitled20.ipynb',\n",
       " 'Untitled21.ipynb',\n",
       " 'Untitled22.ipynb',\n",
       " 'Untitled23.ipynb',\n",
       " 'Untitled24.ipynb',\n",
       " 'Untitled25.ipynb',\n",
       " 'Untitled26.ipynb',\n",
       " 'Untitled27.ipynb',\n",
       " 'Untitled28.ipynb',\n",
       " 'Untitled29.ipynb',\n",
       " 'Untitled3.ipynb',\n",
       " 'Untitled30.ipynb',\n",
       " 'Untitled31.ipynb',\n",
       " 'Untitled32.ipynb',\n",
       " 'Untitled33.ipynb',\n",
       " 'Untitled34.ipynb',\n",
       " 'Untitled35.ipynb',\n",
       " 'Untitled36.ipynb',\n",
       " 'Untitled37.ipynb',\n",
       " 'Untitled38.ipynb',\n",
       " 'Untitled39.ipynb',\n",
       " 'Untitled4.ipynb',\n",
       " 'Untitled40.ipynb',\n",
       " 'Untitled41.ipynb',\n",
       " 'Untitled42.ipynb',\n",
       " 'Untitled43.ipynb',\n",
       " 'Untitled44.ipynb',\n",
       " 'Untitled45.ipynb',\n",
       " 'Untitled46.ipynb',\n",
       " 'Untitled47.ipynb',\n",
       " 'Untitled48.ipynb',\n",
       " 'Untitled49.ipynb',\n",
       " 'Untitled5.ipynb',\n",
       " 'Untitled50.ipynb',\n",
       " 'Untitled51.ipynb',\n",
       " 'Untitled52.ipynb',\n",
       " 'Untitled53.ipynb',\n",
       " 'Untitled54.ipynb',\n",
       " 'Untitled55.ipynb',\n",
       " 'Untitled56.ipynb',\n",
       " 'Untitled57.ipynb',\n",
       " 'Untitled58.ipynb',\n",
       " 'Untitled59.ipynb',\n",
       " 'Untitled6.ipynb',\n",
       " 'Untitled60.ipynb',\n",
       " 'Untitled61.ipynb',\n",
       " 'Untitled62.ipynb',\n",
       " 'Untitled63.ipynb',\n",
       " 'Untitled64.ipynb',\n",
       " 'Untitled65.ipynb',\n",
       " 'Untitled66.ipynb',\n",
       " 'Untitled67.ipynb',\n",
       " 'Untitled68.ipynb',\n",
       " 'Untitled69.ipynb',\n",
       " 'Untitled7.ipynb',\n",
       " 'Untitled70.ipynb',\n",
       " 'Untitled71.ipynb',\n",
       " 'Untitled72.ipynb',\n",
       " 'Untitled73.ipynb',\n",
       " 'Untitled74.ipynb',\n",
       " 'Untitled75.ipynb',\n",
       " 'Untitled76.ipynb',\n",
       " 'Untitled77.ipynb',\n",
       " 'Untitled78.ipynb',\n",
       " 'Untitled79.ipynb',\n",
       " 'Untitled8.ipynb',\n",
       " 'Untitled80.ipynb',\n",
       " 'Untitled81.ipynb',\n",
       " 'Untitled82.ipynb',\n",
       " 'Untitled83.ipynb',\n",
       " 'Untitled84.ipynb',\n",
       " 'Untitled85.ipynb',\n",
       " 'Untitled86.ipynb',\n",
       " 'Untitled87.ipynb',\n",
       " 'Untitled88.ipynb',\n",
       " 'Untitled89.ipynb',\n",
       " 'Untitled9.ipynb',\n",
       " 'Untitled90.ipynb',\n",
       " 'Untitled91.ipynb',\n",
       " 'Untitled92.ipynb',\n",
       " 'Untitled93.ipynb',\n",
       " 'Untitled94.ipynb',\n",
       " 'Untitled95.ipynb',\n",
       " 'Untitled96.ipynb',\n",
       " 'Untitled97.ipynb',\n",
       " 'Untitled98.ipynb',\n",
       " 'Untitled99.ipynb',\n",
       " 'user_define_function.ipynb',\n",
       " 'utils.py',\n",
       " 'Videos',\n",
       " 'wa_timer.ipynb',\n",
       " 'web_scrapping.ipynb',\n",
       " 'while loop.ipynb',\n",
       " 'yashika_client.ipynb',\n",
       " 'yashika_client.py',\n",
       " 'yashika_inheritance.ipynb',\n",
       " 'yashika_server.ipynb',\n",
       " 'yashika_server.py',\n",
       " 'zip_enumerate_list_comp.ipynb',\n",
       " '__pycache__']"
      ]
     },
     "execution_count": 28,
     "metadata": {},
     "output_type": "execute_result"
    }
   ],
   "source": [
    "os.listdir()"
   ]
  },
  {
   "cell_type": "code",
   "execution_count": 30,
   "id": "9a385aae",
   "metadata": {},
   "outputs": [],
   "source": [
    "os.chdir('Desktop')"
   ]
  },
  {
   "cell_type": "code",
   "execution_count": 31,
   "id": "ea9596c6",
   "metadata": {},
   "outputs": [
    {
     "data": {
      "text/plain": [
       "'C:\\\\Users\\\\rmani\\\\Desktop'"
      ]
     },
     "execution_count": 31,
     "metadata": {},
     "output_type": "execute_result"
    }
   ],
   "source": [
    "os.getcwd()"
   ]
  },
  {
   "cell_type": "code",
   "execution_count": 32,
   "id": "036991b8",
   "metadata": {},
   "outputs": [
    {
     "data": {
      "text/plain": [
       "['1294266.png',\n",
       " 'apply.txt',\n",
       " 'chat.py',\n",
       " 'client.py',\n",
       " 'contact.html',\n",
       " 'demo.html',\n",
       " 'demo.txt',\n",
       " 'design.html',\n",
       " 'desktop.ini',\n",
       " 'django_command.txt',\n",
       " 'djnago_classes',\n",
       " 'document_management_system',\n",
       " 'document_management_system.zip',\n",
       " 'download.png',\n",
       " 'drive_lecture.txt',\n",
       " 'ecom',\n",
       " 'ecom.zip',\n",
       " 'first_hmtl_class.html',\n",
       " 'git_demo',\n",
       " 'home3-classic.html',\n",
       " 'HTTrack Website Copier.lnk',\n",
       " 'imgdata.txt',\n",
       " 'imgdata1.txt',\n",
       " 'imgdata2.txt',\n",
       " 'IMG_20210119_121106.jpg',\n",
       " 'jeet_result.html',\n",
       " 'khata',\n",
       " 'kuchbhi.html',\n",
       " 'layout.png',\n",
       " 'line.jpg',\n",
       " 'login12 - Copy.html',\n",
       " 'login12.html',\n",
       " 'Love.png',\n",
       " 'manish - Chrome.lnk',\n",
       " 'mann_result.txt',\n",
       " 'meet.txt',\n",
       " 'Microsoft Teams.lnk',\n",
       " 'neha_result.html',\n",
       " 'python_project',\n",
       " 'register12 - Copy.html',\n",
       " 'register12.html',\n",
       " 'roshni.txt',\n",
       " 'server.py',\n",
       " 'st1.txt',\n",
       " 'students_result.html',\n",
       " 'stu_info.txt',\n",
       " 'test.jpg',\n",
       " 'test.py',\n",
       " 'Untitled.ipynb',\n",
       " 'user_name.txt',\n",
       " 'uTorrent Web.lnk',\n",
       " 'Visual Studio Code.lnk',\n",
       " 'web1',\n",
       " 'Zoom.lnk',\n",
       " '__pycache__']"
      ]
     },
     "execution_count": 32,
     "metadata": {},
     "output_type": "execute_result"
    }
   ],
   "source": [
    "os.listdir()"
   ]
  },
  {
   "cell_type": "code",
   "execution_count": 33,
   "id": "f11f595a",
   "metadata": {},
   "outputs": [],
   "source": [
    "os.mkdir('python_demo')"
   ]
  },
  {
   "cell_type": "code",
   "execution_count": 36,
   "id": "c1f25d86",
   "metadata": {},
   "outputs": [],
   "source": [
    "r=\"C:\\\\Users\\\\rmani\"\n",
    "r1=\"Desktop\\\\python_data\""
   ]
  },
  {
   "cell_type": "code",
   "execution_count": 37,
   "id": "e43bf7ab",
   "metadata": {},
   "outputs": [
    {
     "data": {
      "text/plain": [
       "'C:\\\\Users\\\\rmani\\\\Desktop\\\\python_data'"
      ]
     },
     "execution_count": 37,
     "metadata": {},
     "output_type": "execute_result"
    }
   ],
   "source": [
    "os.path.join(r,r1)"
   ]
  },
  {
   "cell_type": "code",
   "execution_count": 38,
   "id": "3ca99cf4",
   "metadata": {},
   "outputs": [
    {
     "name": "stdout",
     "output_type": "stream",
     "text": [
      "['DirEntry', 'F_OK', 'GenericAlias', 'Mapping', 'MutableMapping', 'O_APPEND', 'O_BINARY', 'O_CREAT', 'O_EXCL', 'O_NOINHERIT', 'O_RANDOM', 'O_RDONLY', 'O_RDWR', 'O_SEQUENTIAL', 'O_SHORT_LIVED', 'O_TEMPORARY', 'O_TEXT', 'O_TRUNC', 'O_WRONLY', 'P_DETACH', 'P_NOWAIT', 'P_NOWAITO', 'P_OVERLAY', 'P_WAIT', 'PathLike', 'R_OK', 'SEEK_CUR', 'SEEK_END', 'SEEK_SET', 'TMP_MAX', 'W_OK', 'X_OK', '_AddedDllDirectory', '_Environ', '__all__', '__builtins__', '__cached__', '__doc__', '__file__', '__loader__', '__name__', '__package__', '__spec__', '_check_methods', '_execvpe', '_exists', '_exit', '_fspath', '_get_exports_list', '_walk', '_wrap_close', 'abc', 'abort', 'access', 'add_dll_directory', 'altsep', 'chdir', 'chmod', 'close', 'closerange', 'cpu_count', 'curdir', 'defpath', 'device_encoding', 'devnull', 'dup', 'dup2', 'environ', 'error', 'execl', 'execle', 'execlp', 'execlpe', 'execv', 'execve', 'execvp', 'execvpe', 'extsep', 'fdopen', 'fsdecode', 'fsencode', 'fspath', 'fstat', 'fsync', 'ftruncate', 'get_exec_path', 'get_handle_inheritable', 'get_inheritable', 'get_terminal_size', 'getcwd', 'getcwdb', 'getenv', 'getlogin', 'getpid', 'getppid', 'isatty', 'kill', 'linesep', 'link', 'listdir', 'lseek', 'lstat', 'makedirs', 'mkdir', 'name', 'open', 'pardir', 'path', 'pathsep', 'pipe', 'popen', 'putenv', 'read', 'readlink', 'remove', 'removedirs', 'rename', 'renames', 'replace', 'rmdir', 'scandir', 'sep', 'set_handle_inheritable', 'set_inheritable', 'spawnl', 'spawnle', 'spawnv', 'spawnve', 'st', 'startfile', 'stat', 'stat_result', 'statvfs_result', 'strerror', 'supports_bytes_environ', 'supports_dir_fd', 'supports_effective_ids', 'supports_fd', 'supports_follow_symlinks', 'symlink', 'sys', 'system', 'terminal_size', 'times', 'times_result', 'truncate', 'umask', 'uname_result', 'unlink', 'unsetenv', 'urandom', 'utime', 'waitpid', 'waitstatus_to_exitcode', 'walk', 'write']\n"
     ]
    }
   ],
   "source": [
    "print(dir(os))"
   ]
  },
  {
   "cell_type": "code",
   "execution_count": null,
   "id": "7768da5e",
   "metadata": {},
   "outputs": [],
   "source": []
  },
  {
   "cell_type": "code",
   "execution_count": null,
   "id": "9cd28c88",
   "metadata": {},
   "outputs": [],
   "source": []
  },
  {
   "cell_type": "code",
   "execution_count": null,
   "id": "453b8f31",
   "metadata": {},
   "outputs": [],
   "source": []
  },
  {
   "cell_type": "code",
   "execution_count": null,
   "id": "ef94e40f",
   "metadata": {},
   "outputs": [],
   "source": []
  },
  {
   "cell_type": "code",
   "execution_count": null,
   "id": "874fe274",
   "metadata": {},
   "outputs": [],
   "source": []
  },
  {
   "cell_type": "markdown",
   "id": "eabcad18",
   "metadata": {},
   "source": [
    "# bank application"
   ]
  },
  {
   "cell_type": "code",
   "execution_count": 45,
   "id": "c0673851",
   "metadata": {},
   "outputs": [],
   "source": [
    "import sys\n",
    "import time\n",
    "import os\n",
    "import random\n",
    "from getpass import getpass\n",
    "import smtplib\n",
    "def main():\n",
    "    print('Welcome to bank application'.center(100))\n",
    "    print()\n",
    "    print('*'*100)\n",
    "    print()\n",
    "    print('1. Login \\t\\t 2. Signup \\t\\t 3. Exit')\n",
    "    print()\n",
    "    usr=int(input('Enter your choice: '))\n",
    "    if usr==1:\n",
    "        Login()\n",
    "    elif usr==2:\n",
    "        Signup()\n",
    "    elif usr==3:\n",
    "        sys.exit()\n",
    "#"
   ]
  },
  {
   "cell_type": "code",
   "execution_count": 46,
   "id": "db672e91",
   "metadata": {},
   "outputs": [
    {
     "name": "stdout",
     "output_type": "stream",
     "text": [
      "                                    Welcome to bank application                                     \n",
      "\n",
      "****************************************************************************************************\n",
      "\n",
      "1. Login \t\t 2. Signup \t\t 3. Exit\n",
      "\n",
      "Enter your choice: 3\n"
     ]
    },
    {
     "ename": "SystemExit",
     "evalue": "",
     "output_type": "error",
     "traceback": [
      "An exception has occurred, use %tb to see the full traceback.\n",
      "\u001b[1;31mSystemExit\u001b[0m\n"
     ]
    },
    {
     "name": "stderr",
     "output_type": "stream",
     "text": [
      "c:\\users\\rmani\\appdata\\local\\programs\\python\\python39\\lib\\site-packages\\IPython\\core\\interactiveshell.py:3449: UserWarning: To exit: use 'exit', 'quit', or Ctrl-D.\n",
      "  warn(\"To exit: use 'exit', 'quit', or Ctrl-D.\", stacklevel=1)\n"
     ]
    }
   ],
   "source": [
    "main()"
   ]
  },
  {
   "cell_type": "code",
   "execution_count": 47,
   "id": "45a19573",
   "metadata": {},
   "outputs": [],
   "source": [
    "# factorial\n",
    "#sum of  1 to 100 numbers "
   ]
  },
  {
   "cell_type": "code",
   "execution_count": null,
   "id": "d3abc553",
   "metadata": {},
   "outputs": [],
   "source": []
  }
 ],
 "metadata": {
  "kernelspec": {
   "display_name": "Python 3 (ipykernel)",
   "language": "python",
   "name": "python3"
  },
  "language_info": {
   "codemirror_mode": {
    "name": "ipython",
    "version": 3
   },
   "file_extension": ".py",
   "mimetype": "text/x-python",
   "name": "python",
   "nbconvert_exporter": "python",
   "pygments_lexer": "ipython3",
   "version": "3.9.6"
  }
 },
 "nbformat": 4,
 "nbformat_minor": 5
}
