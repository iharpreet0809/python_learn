{
 "cells": [
  {
   "cell_type": "markdown",
   "id": "04c84e7a",
   "metadata": {},
   "source": [
    "# Matplot Library"
   ]
  },
  {
   "cell_type": "code",
   "execution_count": 1,
   "id": "8e14f1d1",
   "metadata": {},
   "outputs": [],
   "source": [
    "# plotting\n",
    "# data plotting types:\n",
    "#1. Line plot\n",
    "#2. Scatter plot\n",
    "#3. Bar plot\n",
    "#4. boxplot\n",
    "#5. hist plot\n",
    "#6. pie plot"
   ]
  },
  {
   "cell_type": "code",
   "execution_count": 2,
   "id": "f38c6ac1",
   "metadata": {},
   "outputs": [],
   "source": [
    "# line plot "
   ]
  },
  {
   "cell_type": "code",
   "execution_count": 3,
   "id": "570666f8",
   "metadata": {},
   "outputs": [],
   "source": [
    "import numpy as np\n",
    "import matplotlib.pyplot as plt"
   ]
  },
  {
   "cell_type": "code",
   "execution_count": 4,
   "id": "75e1bffd",
   "metadata": {},
   "outputs": [],
   "source": [
    "#pip install matplotlib"
   ]
  },
  {
   "cell_type": "code",
   "execution_count": 44,
   "id": "594ca97f",
   "metadata": {},
   "outputs": [],
   "source": [
    "data=np.arange(1,11)"
   ]
  },
  {
   "cell_type": "code",
   "execution_count": 45,
   "id": "0017895e",
   "metadata": {},
   "outputs": [
    {
     "name": "stdout",
     "output_type": "stream",
     "text": [
      "[ 1  2  3  4  5  6  7  8  9 10]\n"
     ]
    }
   ],
   "source": [
    "print(data)\n",
    "x=np.arange(10)"
   ]
  },
  {
   "cell_type": "code",
   "execution_count": 64,
   "id": "8fb593af",
   "metadata": {},
   "outputs": [
    {
     "data": {
      "image/png": "[encoded data removed]",
      "text/plain": [
       "<Figure size 864x432 with 1 Axes>"
      ]
     },
     "metadata": {
      "needs_background": "light"
     },
     "output_type": "display_data"
    }
   ],
   "source": [
    "plt.figure(figsize=(12,6))\n",
    "plt.plot(x,data,marker='*',color='green',ls='--',lw=2,label='linear') # plt.plot(x,y)\n",
    "plt.plot(x,data**2,marker='^',color='magenta',ls=':',lw=3,label='square')\n",
    "plt.plot(x,data**3,color='red',ls='-.',label='qube')\n",
    "#plt.yticks([0,10,20,30,40,50,60,70,80,90,100])\n",
    "plt.xticks([0,1,2,3,4,5,6,7,8,9,10])\n",
    "plt.grid()\n",
    "plt.xlabel('x-axis',fontsize=15,color='b',fontweight='bold')\n",
    "plt.ylabel('y-axis',fontsize=15,color='b',fontweight='bold')\n",
    "plt.title('linear Vs square vs qube',fontsize=20,color='b',fontweight='bold')\n",
    "plt.legend(loc=2)\n",
    "plt.savefig('lineplot.png')\n",
    "plt.show()"
   ]
  },
  {
   "cell_type": "code",
   "execution_count": 65,
   "id": "5aed3cf4",
   "metadata": {},
   "outputs": [],
   "source": [
    "import pandas as pd"
   ]
  },
  {
   "cell_type": "code",
   "execution_count": 66,
   "id": "6cfb3772",
   "metadata": {},
   "outputs": [],
   "source": [
    "data=pd.read_csv('data (1).csv')"
   ]
  },
  {
   "cell_type": "code",
   "execution_count": 67,
   "id": "2a3411e1",
   "metadata": {},
   "outputs": [
    {
     "data": {
      "text/html": [
       "<div>\n",
       "<style scoped>\n",
       "    .dataframe tbody tr th:only-of-type {\n",
       "        vertical-align: middle;\n",
       "    }\n",
       "\n",
       "    .dataframe tbody tr th {\n",
       "        vertical-align: top;\n",
       "    }\n",
       "\n",
       "    .dataframe thead th {\n",
       "        text-align: right;\n",
       "    }\n",
       "</style>\n",
       "<table border=\"1\" class=\"dataframe\">\n",
       "  <thead>\n",
       "    <tr style=\"text-align: right;\">\n",
       "      <th></th>\n",
       "      <th>dateRep</th>\n",
       "      <th>day</th>\n",
       "      <th>month</th>\n",
       "      <th>year</th>\n",
       "      <th>cases</th>\n",
       "      <th>deaths</th>\n",
       "      <th>countriesAndTerritories</th>\n",
       "      <th>geoId</th>\n",
       "      <th>countryterritoryCode</th>\n",
       "      <th>popData2020</th>\n",
       "      <th>continentExp</th>\n",
       "    </tr>\n",
       "  </thead>\n",
       "  <tbody>\n",
       "    <tr>\n",
       "      <th>0</th>\n",
       "      <td>06/01/2022</td>\n",
       "      <td>6</td>\n",
       "      <td>1</td>\n",
       "      <td>2022</td>\n",
       "      <td>10778</td>\n",
       "      <td>23</td>\n",
       "      <td>Austria</td>\n",
       "      <td>AT</td>\n",
       "      <td>AUT</td>\n",
       "      <td>8901064</td>\n",
       "      <td>Europe</td>\n",
       "    </tr>\n",
       "    <tr>\n",
       "      <th>1</th>\n",
       "      <td>05/01/2022</td>\n",
       "      <td>5</td>\n",
       "      <td>1</td>\n",
       "      <td>2022</td>\n",
       "      <td>5435</td>\n",
       "      <td>13</td>\n",
       "      <td>Austria</td>\n",
       "      <td>AT</td>\n",
       "      <td>AUT</td>\n",
       "      <td>8901064</td>\n",
       "      <td>Europe</td>\n",
       "    </tr>\n",
       "    <tr>\n",
       "      <th>2</th>\n",
       "      <td>04/01/2022</td>\n",
       "      <td>4</td>\n",
       "      <td>1</td>\n",
       "      <td>2022</td>\n",
       "      <td>3221</td>\n",
       "      <td>13</td>\n",
       "      <td>Austria</td>\n",
       "      <td>AT</td>\n",
       "      <td>AUT</td>\n",
       "      <td>8901064</td>\n",
       "      <td>Europe</td>\n",
       "    </tr>\n",
       "    <tr>\n",
       "      <th>3</th>\n",
       "      <td>03/01/2022</td>\n",
       "      <td>3</td>\n",
       "      <td>1</td>\n",
       "      <td>2022</td>\n",
       "      <td>32360</td>\n",
       "      <td>198</td>\n",
       "      <td>Austria</td>\n",
       "      <td>AT</td>\n",
       "      <td>AUT</td>\n",
       "      <td>8901064</td>\n",
       "      <td>Europe</td>\n",
       "    </tr>\n",
       "    <tr>\n",
       "      <th>4</th>\n",
       "      <td>22/12/2021</td>\n",
       "      <td>22</td>\n",
       "      <td>12</td>\n",
       "      <td>2021</td>\n",
       "      <td>1913</td>\n",
       "      <td>40</td>\n",
       "      <td>Austria</td>\n",
       "      <td>AT</td>\n",
       "      <td>AUT</td>\n",
       "      <td>8901064</td>\n",
       "      <td>Europe</td>\n",
       "    </tr>\n",
       "    <tr>\n",
       "      <th>...</th>\n",
       "      <td>...</td>\n",
       "      <td>...</td>\n",
       "      <td>...</td>\n",
       "      <td>...</td>\n",
       "      <td>...</td>\n",
       "      <td>...</td>\n",
       "      <td>...</td>\n",
       "      <td>...</td>\n",
       "      <td>...</td>\n",
       "      <td>...</td>\n",
       "      <td>...</td>\n",
       "    </tr>\n",
       "    <tr>\n",
       "      <th>9025</th>\n",
       "      <td>05/03/2021</td>\n",
       "      <td>5</td>\n",
       "      <td>3</td>\n",
       "      <td>2021</td>\n",
       "      <td>4069</td>\n",
       "      <td>15</td>\n",
       "      <td>Sweden</td>\n",
       "      <td>SE</td>\n",
       "      <td>SWE</td>\n",
       "      <td>10327589</td>\n",
       "      <td>Europe</td>\n",
       "    </tr>\n",
       "    <tr>\n",
       "      <th>9026</th>\n",
       "      <td>04/03/2021</td>\n",
       "      <td>4</td>\n",
       "      <td>3</td>\n",
       "      <td>2021</td>\n",
       "      <td>4882</td>\n",
       "      <td>19</td>\n",
       "      <td>Sweden</td>\n",
       "      <td>SE</td>\n",
       "      <td>SWE</td>\n",
       "      <td>10327589</td>\n",
       "      <td>Europe</td>\n",
       "    </tr>\n",
       "    <tr>\n",
       "      <th>9027</th>\n",
       "      <td>03/03/2021</td>\n",
       "      <td>3</td>\n",
       "      <td>3</td>\n",
       "      <td>2021</td>\n",
       "      <td>4871</td>\n",
       "      <td>18</td>\n",
       "      <td>Sweden</td>\n",
       "      <td>SE</td>\n",
       "      <td>SWE</td>\n",
       "      <td>10327589</td>\n",
       "      <td>Europe</td>\n",
       "    </tr>\n",
       "    <tr>\n",
       "      <th>9028</th>\n",
       "      <td>02/03/2021</td>\n",
       "      <td>2</td>\n",
       "      <td>3</td>\n",
       "      <td>2021</td>\n",
       "      <td>6189</td>\n",
       "      <td>23</td>\n",
       "      <td>Sweden</td>\n",
       "      <td>SE</td>\n",
       "      <td>SWE</td>\n",
       "      <td>10327589</td>\n",
       "      <td>Europe</td>\n",
       "    </tr>\n",
       "    <tr>\n",
       "      <th>9029</th>\n",
       "      <td>01/03/2021</td>\n",
       "      <td>1</td>\n",
       "      <td>3</td>\n",
       "      <td>2021</td>\n",
       "      <td>668949</td>\n",
       "      <td>13089</td>\n",
       "      <td>Sweden</td>\n",
       "      <td>SE</td>\n",
       "      <td>SWE</td>\n",
       "      <td>10327589</td>\n",
       "      <td>Europe</td>\n",
       "    </tr>\n",
       "  </tbody>\n",
       "</table>\n",
       "<p>9030 rows × 11 columns</p>\n",
       "</div>"
      ],
      "text/plain": [
       "         dateRep  day  month  year   cases  deaths countriesAndTerritories  \\\n",
       "0     06/01/2022    6      1  2022   10778      23                 Austria   \n",
       "1     05/01/2022    5      1  2022    5435      13                 Austria   \n",
       "2     04/01/2022    4      1  2022    3221      13                 Austria   \n",
       "3     03/01/2022    3      1  2022   32360     198                 Austria   \n",
       "4     22/12/2021   22     12  2021    1913      40                 Austria   \n",
       "...          ...  ...    ...   ...     ...     ...                     ...   \n",
       "9025  05/03/2021    5      3  2021    4069      15                  Sweden   \n",
       "9026  04/03/2021    4      3  2021    4882      19                  Sweden   \n",
       "9027  03/03/2021    3      3  2021    4871      18                  Sweden   \n",
       "9028  02/03/2021    2      3  2021    6189      23                  Sweden   \n",
       "9029  01/03/2021    1      3  2021  668949   13089                  Sweden   \n",
       "\n",
       "     geoId countryterritoryCode  popData2020 continentExp  \n",
       "0       AT                  AUT      8901064       Europe  \n",
       "1       AT                  AUT      8901064       Europe  \n",
       "2       AT                  AUT      8901064       Europe  \n",
       "3       AT                  AUT      8901064       Europe  \n",
       "4       AT                  AUT      8901064       Europe  \n",
       "...    ...                  ...          ...          ...  \n",
       "9025    SE                  SWE     10327589       Europe  \n",
       "9026    SE                  SWE     10327589       Europe  \n",
       "9027    SE                  SWE     10327589       Europe  \n",
       "9028    SE                  SWE     10327589       Europe  \n",
       "9029    SE                  SWE     10327589       Europe  \n",
       "\n",
       "[9030 rows x 11 columns]"
      ]
     },
     "execution_count": 67,
     "metadata": {},
     "output_type": "execute_result"
    }
   ],
   "source": [
    "data"
   ]
  },
  {
   "cell_type": "code",
   "execution_count": 75,
   "id": "f8d7bc99",
   "metadata": {},
   "outputs": [],
   "source": [
    "cases=data[data['countriesAndTerritories']=='Austria']['cases']"
   ]
  },
  {
   "cell_type": "code",
   "execution_count": 89,
   "id": "a11a4a6c",
   "metadata": {},
   "outputs": [],
   "source": [
    "c=cases[1:11].sort_values()\n"
   ]
  },
  {
   "cell_type": "code",
   "execution_count": 90,
   "id": "dc56eef5",
   "metadata": {},
   "outputs": [
    {
     "data": {
      "text/plain": [
       "[<matplotlib.lines.Line2D at 0x17934f93af0>]"
      ]
     },
     "execution_count": 90,
     "metadata": {},
     "output_type": "execute_result"
    },
    {
     "data": {
      "image/png": "[encoded data removed]",
      "text/plain": [
       "<Figure size 720x360 with 1 Axes>"
      ]
     },
     "metadata": {
      "needs_background": "light"
     },
     "output_type": "display_data"
    }
   ],
   "source": [
    "plt.figure(figsize=(10,5))\n",
    "plt.plot(c)"
   ]
  },
  {
   "cell_type": "code",
   "execution_count": 106,
   "id": "463576fe",
   "metadata": {},
   "outputs": [],
   "source": [
    "degree=np.arange(0,500,30)\n",
    "rad=np.rad2deg(degree)"
   ]
  },
  {
   "cell_type": "code",
   "execution_count": 107,
   "id": "b058cd37",
   "metadata": {},
   "outputs": [
    {
     "data": {
      "text/plain": [
       "array([    0.        ,  1718.87338539,  3437.74677078,  5156.62015618,\n",
       "        6875.49354157,  8594.36692696, 10313.24031235, 12032.11369775,\n",
       "       13750.98708314, 15469.86046853, 17188.73385392, 18907.60723932,\n",
       "       20626.48062471, 22345.3540101 , 24064.22739549, 25783.10078089,\n",
       "       27501.97416628])"
      ]
     },
     "execution_count": 107,
     "metadata": {},
     "output_type": "execute_result"
    }
   ],
   "source": [
    "rad"
   ]
  },
  {
   "cell_type": "code",
   "execution_count": 108,
   "id": "edfcb8d0",
   "metadata": {},
   "outputs": [],
   "source": [
    "sin=np.sin(rad)"
   ]
  },
  {
   "cell_type": "code",
   "execution_count": 109,
   "id": "b8b588b5",
   "metadata": {},
   "outputs": [
    {
     "name": "stdout",
     "output_type": "stream",
     "text": [
      "[ 0.         -0.4097718   0.74757789 -0.95409147  0.99304382 -0.85759397\n",
      "  0.57153017 -0.18509202 -0.2338527   0.6117273  -0.882168    0.99767894\n",
      " -0.93797365  0.71353781 -0.36378771 -0.0498522   0.45473688]\n"
     ]
    }
   ],
   "source": [
    "print(sin)"
   ]
  },
  {
   "cell_type": "code",
   "execution_count": 111,
   "id": "045e1e5b",
   "metadata": {},
   "outputs": [
    {
     "data": {
      "image/png": "[encoded data removed]",
      "text/plain": [
       "<Figure size 720x360 with 1 Axes>"
      ]
     },
     "metadata": {
      "needs_background": "light"
     },
     "output_type": "display_data"
    }
   ],
   "source": [
    "plt.figure(figsize=(10,5))\n",
    "plt.plot(sin,'r:',lw=3)\n",
    "plt.show()"
   ]
  },
  {
   "cell_type": "code",
   "execution_count": null,
   "id": "e7b49523",
   "metadata": {},
   "outputs": [],
   "source": []
  }
 ],
 "metadata": {
  "kernelspec": {
   "display_name": "Python 3 (ipykernel)",
   "language": "python",
   "name": "python3"
  },
  "language_info": {
   "codemirror_mode": {
    "name": "ipython",
    "version": 3
   },
   "file_extension": ".py",
   "mimetype": "text/x-python",
   "name": "python",
   "nbconvert_exporter": "python",
   "pygments_lexer": "ipython3",
   "version": "3.9.6"
  }
 },
 "nbformat": 4,
 "nbformat_minor": 5
}
