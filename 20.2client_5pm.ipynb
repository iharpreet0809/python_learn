{
 "cells": [
  {
   "cell_type": "code",
   "execution_count": 3,
   "id": "8da3fc4c",
   "metadata": {},
   "outputs": [
    {
     "name": "stdout",
     "output_type": "stream",
     "text": [
      "hello client\n",
      "Enter msg: hello server\n"
     ]
    },
    {
     "data": {
      "text/plain": [
       "12"
      ]
     },
     "execution_count": 3,
     "metadata": {},
     "output_type": "execute_result"
    }
   ],
   "source": [
    "import socket\n",
    "con=socket.socket()\n",
    "con.connect(('DESKTOP-DJJ079G',1234))\n",
    "data=con.recv(1024)\n",
    "print(data.decode())\n",
    "d=input('Enter msg: ')\n",
    "con.send(d.encode())"
   ]
  },
  {
   "cell_type": "code",
   "execution_count": 4,
   "id": "9624e459",
   "metadata": {},
   "outputs": [
    {
     "data": {
      "text/plain": [
       "61"
      ]
     },
     "execution_count": 4,
     "metadata": {},
     "output_type": "execute_result"
    }
   ],
   "source": [
    "'hello server'.__sizeof__()"
   ]
  },
  {
   "cell_type": "code",
   "execution_count": 3,
   "id": "af77733e",
   "metadata": {},
   "outputs": [
    {
     "name": "stdout",
     "output_type": "stream",
     "text": [
      "Overwriting client_5pm.py\n"
     ]
    }
   ],
   "source": [
    "%%writefile client_5pm.py\n",
    "import socket\n",
    "con=socket.socket()\n",
    "con.connect(('DESKTOP-DJJ079G',12345))\n",
    "while True:\n",
    "    data=con.recv(1024)\n",
    "    print(data.decode())\n",
    "    if data.decode()=='bye':\n",
    "        break\n",
    "    d=input('Enter msg: ')\n",
    "    con.send(d.encode())\n",
    "    if d=='bye':\n",
    "        break"
   ]
  },
  {
   "cell_type": "code",
   "execution_count": null,
   "id": "2b58f147",
   "metadata": {},
   "outputs": [],
   "source": []
  }
 ],
 "metadata": {
  "kernelspec": {
   "display_name": "Python 3 (ipykernel)",
   "language": "python",
   "name": "python3"
  },
  "language_info": {
   "codemirror_mode": {
    "name": "ipython",
    "version": 3
   },
   "file_extension": ".py",
   "mimetype": "text/x-python",
   "name": "python",
   "nbconvert_exporter": "python",
   "pygments_lexer": "ipython3",
   "version": "3.9.6"
  }
 },
 "nbformat": 4,
 "nbformat_minor": 5
}
