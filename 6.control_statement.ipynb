{
 "cells": [
  {
   "cell_type": "markdown",
   "id": "805ef882",
   "metadata": {},
   "source": [
    "                Control statement\n",
    "                        Code flow control\n",
    "                 # task1\n",
    "                 # task2\n",
    "                 # task3\n",
    "                 \n",
    "                 if condition1:\n",
    "                     task1\n",
    "                 elif condition2:\n",
    "                     task2\n",
    "                 elif condition3:\n",
    "                     task3"
   ]
  },
  {
   "cell_type": "code",
   "execution_count": 6,
   "id": "89e53922",
   "metadata": {},
   "outputs": [
    {
     "name": "stdout",
     "output_type": "stream",
     "text": [
      "a: 21\n",
      "odd\n"
     ]
    }
   ],
   "source": [
    "a=int(input('a: '))\n",
    "if a%2:\n",
    "    print('odd')\n",
    "else:\n",
    "    print('even')"
   ]
  },
  {
   "cell_type": "code",
   "execution_count": 9,
   "id": "4733cb76",
   "metadata": {},
   "outputs": [
    {
     "name": "stdout",
     "output_type": "stream",
     "text": [
      "a: 89\n",
      "s: 67\n",
      "a is max\n"
     ]
    }
   ],
   "source": [
    "a=int(input('a: '))\n",
    "s=int(input('s: '))\n",
    "if a>s:\n",
    "    print('a is max')\n",
    "elif s>a:\n",
    "    print('s is max')\n",
    "else:\n",
    "    \n",
    "    print('both are equal')"
   ]
  },
  {
   "cell_type": "markdown",
   "id": "118c1ec3",
   "metadata": {},
   "source": [
    "# Write a Python program to check whether a year is leap year or not.\n"
   ]
  },
  {
   "cell_type": "code",
   "execution_count": 10,
   "id": "01348ab9",
   "metadata": {},
   "outputs": [],
   "source": [
    "# year -----> normal (1- 99) , century (100 mul)\n",
    "# normal ---divisible by 4 \n",
    "# century----> 400"
   ]
  },
  {
   "cell_type": "code",
   "execution_count": 17,
   "id": "504c9cff",
   "metadata": {},
   "outputs": [
    {
     "name": "stdout",
     "output_type": "stream",
     "text": [
      "year: 2016\n",
      "leap year\n"
     ]
    }
   ],
   "source": [
    "year =int(input('year: '))\n",
    "if year%100:\n",
    "    if year%4==0:\n",
    "        print('leap year')\n",
    "    else:\n",
    "        print('not leap year')\n",
    "else:\n",
    "    if year%400==0:\n",
    "        print('leap year')\n",
    "    else:\n",
    "        print('not leap year')\n",
    "    "
   ]
  },
  {
   "cell_type": "code",
   "execution_count": 23,
   "id": "37a08d70",
   "metadata": {},
   "outputs": [
    {
     "name": "stdout",
     "output_type": "stream",
     "text": [
      "year: 2020\n",
      "leap year\n"
     ]
    }
   ],
   "source": [
    "year =int(input('year: '))\n",
    "if year%4==0 and(year%400==0 or year%100):\n",
    "    print('leap year')\n",
    "else:\n",
    "    print('not leap year')"
   ]
  },
  {
   "cell_type": "code",
   "execution_count": 24,
   "id": "b5fc9ff6",
   "metadata": {},
   "outputs": [],
   "source": [
    "am=8400"
   ]
  },
  {
   "cell_type": "code",
   "execution_count": 25,
   "id": "cdc37425",
   "metadata": {},
   "outputs": [
    {
     "data": {
      "text/plain": [
       "4"
      ]
     },
     "execution_count": 25,
     "metadata": {},
     "output_type": "execute_result"
    }
   ],
   "source": [
    "am//2000"
   ]
  },
  {
   "cell_type": "code",
   "execution_count": 26,
   "id": "7212bfc0",
   "metadata": {},
   "outputs": [],
   "source": [
    "am=am%2000"
   ]
  },
  {
   "cell_type": "code",
   "execution_count": 27,
   "id": "deead50b",
   "metadata": {},
   "outputs": [
    {
     "data": {
      "text/plain": [
       "400"
      ]
     },
     "execution_count": 27,
     "metadata": {},
     "output_type": "execute_result"
    }
   ],
   "source": [
    "am"
   ]
  },
  {
   "cell_type": "code",
   "execution_count": 28,
   "id": "27809d62",
   "metadata": {},
   "outputs": [
    {
     "data": {
      "text/plain": [
       "2"
      ]
     },
     "execution_count": 28,
     "metadata": {},
     "output_type": "execute_result"
    }
   ],
   "source": [
    "am//200"
   ]
  },
  {
   "cell_type": "code",
   "execution_count": 29,
   "id": "e0cc35dc",
   "metadata": {},
   "outputs": [],
   "source": [
    "am=am%200"
   ]
  },
  {
   "cell_type": "code",
   "execution_count": 30,
   "id": "aa8a15da",
   "metadata": {},
   "outputs": [
    {
     "data": {
      "text/plain": [
       "0"
      ]
     },
     "execution_count": 30,
     "metadata": {},
     "output_type": "execute_result"
    }
   ],
   "source": [
    "am"
   ]
  },
  {
   "cell_type": "code",
   "execution_count": null,
   "id": "fcb9d1f4",
   "metadata": {},
   "outputs": [],
   "source": [
    "m\n",
    "t=m//2000\n",
    "m=m%2000\n",
    "f=m//500\n",
    "m=m%500\n",
    "th=m//200\n",
    "m=m%200\n"
   ]
  },
  {
   "cell_type": "code",
   "execution_count": null,
   "id": "29d5cbd8",
   "metadata": {},
   "outputs": [],
   "source": [
    "root1=-b+((b**2-4*a*c)**0.5)/2*a"
   ]
  }
 ],
 "metadata": {
  "kernelspec": {
   "display_name": "Python 3 (ipykernel)",
   "language": "python",
   "name": "python3"
  },
  "language_info": {
   "codemirror_mode": {
    "name": "ipython",
    "version": 3
   },
   "file_extension": ".py",
   "mimetype": "text/x-python",
   "name": "python",
   "nbconvert_exporter": "python",
   "pygments_lexer": "ipython3",
   "version": "3.9.6"
  }
 },
 "nbformat": 4,
 "nbformat_minor": 5
}
