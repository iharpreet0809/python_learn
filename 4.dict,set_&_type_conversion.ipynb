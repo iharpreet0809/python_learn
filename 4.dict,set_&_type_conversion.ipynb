{
 "cells": [
  {
   "cell_type": "code",
   "execution_count": 1,
   "id": "18f6be4d",
   "metadata": {},
   "outputs": [],
   "source": [
    "d={'name':'harpreet','age':23,'addr':'Jaipur'}"
   ]
  },
  {
   "cell_type": "code",
   "execution_count": 2,
   "id": "6f1748a2",
   "metadata": {},
   "outputs": [
    {
     "name": "stdout",
     "output_type": "stream",
     "text": [
      "['__class__', '__class_getitem__', '__contains__', '__delattr__', '__delitem__', '__dir__', '__doc__', '__eq__', '__format__', '__ge__', '__getattribute__', '__getitem__', '__gt__', '__hash__', '__init__', '__init_subclass__', '__ior__', '__iter__', '__le__', '__len__', '__lt__', '__ne__', '__new__', '__or__', '__reduce__', '__reduce_ex__', '__repr__', '__reversed__', '__ror__', '__setattr__', '__setitem__', '__sizeof__', '__str__', '__subclasshook__', 'clear', 'copy', 'fromkeys', 'get', 'items', 'keys', 'pop', 'popitem', 'setdefault', 'update', 'values']\n"
     ]
    }
   ],
   "source": [
    "print(dir(dict))"
   ]
  },
  {
   "cell_type": "code",
   "execution_count": 3,
   "id": "c0e8493f",
   "metadata": {},
   "outputs": [
    {
     "data": {
      "text/plain": [
       "{'name': 'harpreet', 'age': 23, 'addr': 'Jaipur'}"
      ]
     },
     "execution_count": 3,
     "metadata": {},
     "output_type": "execute_result"
    }
   ],
   "source": [
    "d"
   ]
  },
  {
   "cell_type": "code",
   "execution_count": 4,
   "id": "84e10772",
   "metadata": {},
   "outputs": [
    {
     "data": {
      "text/plain": [
       "'harpreet'"
      ]
     },
     "execution_count": 4,
     "metadata": {},
     "output_type": "execute_result"
    }
   ],
   "source": [
    "d.get('name')"
   ]
  },
  {
   "cell_type": "code",
   "execution_count": 6,
   "id": "69f957b3",
   "metadata": {},
   "outputs": [],
   "source": [
    "# pair add and revome"
   ]
  },
  {
   "cell_type": "code",
   "execution_count": 7,
   "id": "e1e5748e",
   "metadata": {},
   "outputs": [],
   "source": [
    "# add pair in dict\n",
    "# setdefault"
   ]
  },
  {
   "cell_type": "code",
   "execution_count": 7,
   "id": "d1b3de89",
   "metadata": {},
   "outputs": [
    {
     "data": {
      "text/plain": [
       "67"
      ]
     },
     "execution_count": 7,
     "metadata": {},
     "output_type": "execute_result"
    }
   ],
   "source": [
    "d.setdefault('weight',67) # setdefault(key,value)"
   ]
  },
  {
   "cell_type": "code",
   "execution_count": 5,
   "id": "7b135402",
   "metadata": {},
   "outputs": [
    {
     "data": {
      "text/plain": [
       "{'name': 'harpreet', 'age': 23, 'addr': 'Jaipur'}"
      ]
     },
     "execution_count": 5,
     "metadata": {},
     "output_type": "execute_result"
    }
   ],
   "source": [
    "d"
   ]
  },
  {
   "cell_type": "code",
   "execution_count": 9,
   "id": "a4ca881e",
   "metadata": {},
   "outputs": [
    {
     "data": {
      "text/plain": [
       "'harpreet'"
      ]
     },
     "execution_count": 9,
     "metadata": {},
     "output_type": "execute_result"
    }
   ],
   "source": [
    "d['name'] #also used this method to get value"
   ]
  },
  {
   "cell_type": "code",
   "execution_count": 10,
   "id": "26f19f49",
   "metadata": {},
   "outputs": [],
   "source": [
    "d['course']='Python'"
   ]
  },
  {
   "cell_type": "code",
   "execution_count": 11,
   "id": "9eac6c7b",
   "metadata": {},
   "outputs": [
    {
     "name": "stdout",
     "output_type": "stream",
     "text": [
      "{'name': 'harpreet', 'age': 23, 'addr': 'Jaipur', 'weight': 67, 'course': 'Python'}\n"
     ]
    }
   ],
   "source": [
    "print(d)"
   ]
  },
  {
   "cell_type": "code",
   "execution_count": 14,
   "id": "03385dcb",
   "metadata": {},
   "outputs": [],
   "source": [
    "d['age']=24 #create, read and update the dict from this method"
   ]
  },
  {
   "cell_type": "code",
   "execution_count": 15,
   "id": "afede8c5",
   "metadata": {},
   "outputs": [
    {
     "data": {
      "text/plain": [
       "{'name': 'harpreet',\n",
       " 'age': 24,\n",
       " 'addr': 'Jaipur',\n",
       " 'weight': 67,\n",
       " 'course': 'Python'}"
      ]
     },
     "execution_count": 15,
     "metadata": {},
     "output_type": "execute_result"
    }
   ],
   "source": [
    "d"
   ]
  },
  {
   "cell_type": "code",
   "execution_count": 16,
   "id": "6b4d9356",
   "metadata": {},
   "outputs": [],
   "source": [
    "d1=d.copy()"
   ]
  },
  {
   "cell_type": "code",
   "execution_count": 17,
   "id": "eba7e373",
   "metadata": {},
   "outputs": [
    {
     "data": {
      "text/plain": [
       "{'name': 'harpreet',\n",
       " 'age': 24,\n",
       " 'addr': 'Jaipur',\n",
       " 'weight': 67,\n",
       " 'course': 'Python'}"
      ]
     },
     "execution_count": 17,
     "metadata": {},
     "output_type": "execute_result"
    }
   ],
   "source": [
    "d1"
   ]
  },
  {
   "cell_type": "code",
   "execution_count": 18,
   "id": "310a3909",
   "metadata": {},
   "outputs": [
    {
     "data": {
      "text/plain": [
       "{'name': 'harpreet',\n",
       " 'age': 24,\n",
       " 'addr': 'Jaipur',\n",
       " 'weight': 67,\n",
       " 'course': 'Python'}"
      ]
     },
     "execution_count": 18,
     "metadata": {},
     "output_type": "execute_result"
    }
   ],
   "source": [
    "d"
   ]
  },
  {
   "cell_type": "code",
   "execution_count": 19,
   "id": "3e2f564b",
   "metadata": {},
   "outputs": [],
   "source": [
    "d1.clear()"
   ]
  },
  {
   "cell_type": "code",
   "execution_count": 20,
   "id": "cd0450da",
   "metadata": {},
   "outputs": [
    {
     "data": {
      "text/plain": [
       "{}"
      ]
     },
     "execution_count": 20,
     "metadata": {},
     "output_type": "execute_result"
    }
   ],
   "source": [
    "d1"
   ]
  },
  {
   "cell_type": "code",
   "execution_count": 21,
   "id": "d4150845",
   "metadata": {},
   "outputs": [
    {
     "data": {
      "text/plain": [
       "{'name': 'harpreet',\n",
       " 'age': 24,\n",
       " 'addr': 'Jaipur',\n",
       " 'weight': 67,\n",
       " 'course': 'Python'}"
      ]
     },
     "execution_count": 21,
     "metadata": {},
     "output_type": "execute_result"
    }
   ],
   "source": [
    "d"
   ]
  },
  {
   "cell_type": "code",
   "execution_count": 22,
   "id": "e9f13982",
   "metadata": {},
   "outputs": [],
   "source": [
    "# remove pair from dict"
   ]
  },
  {
   "cell_type": "code",
   "execution_count": 29,
   "id": "2cebb1f0",
   "metadata": {},
   "outputs": [],
   "source": [
    "# pop ----> use key to delete the dict element\n",
    "# popitem--->"
   ]
  },
  {
   "cell_type": "code",
   "execution_count": 30,
   "id": "4912ef2e",
   "metadata": {},
   "outputs": [
    {
     "data": {
      "text/plain": [
       "{'name': 'harpreet', 'age': 24, 'weight': 67, 'course': 'Python'}"
      ]
     },
     "execution_count": 30,
     "metadata": {},
     "output_type": "execute_result"
    }
   ],
   "source": [
    "d"
   ]
  },
  {
   "cell_type": "code",
   "execution_count": 31,
   "id": "b975329f",
   "metadata": {},
   "outputs": [
    {
     "ename": "KeyError",
     "evalue": "'addr'",
     "output_type": "error",
     "traceback": [
      "\u001b[1;31m---------------------------------------------------------------------------\u001b[0m",
      "\u001b[1;31mKeyError\u001b[0m                                  Traceback (most recent call last)",
      "\u001b[1;32mC:\\Users\\ADMIN0~1\\AppData\\Local\\Temp/ipykernel_32388/2454283375.py\u001b[0m in \u001b[0;36m<module>\u001b[1;34m\u001b[0m\n\u001b[1;32m----> 1\u001b[1;33m \u001b[0md\u001b[0m\u001b[1;33m.\u001b[0m\u001b[0mpop\u001b[0m\u001b[1;33m(\u001b[0m\u001b[1;34m'addr'\u001b[0m\u001b[1;33m)\u001b[0m\u001b[1;31m# pop(key)\u001b[0m\u001b[1;33m\u001b[0m\u001b[1;33m\u001b[0m\u001b[0m\n\u001b[0m",
      "\u001b[1;31mKeyError\u001b[0m: 'addr'"
     ]
    }
   ],
   "source": [
    "d.pop('addr')# pop(key)"
   ]
  },
  {
   "cell_type": "code",
   "execution_count": 32,
   "id": "c61bcc9d",
   "metadata": {},
   "outputs": [
    {
     "data": {
      "text/plain": [
       "{'name': 'harpreet', 'age': 24, 'weight': 67, 'course': 'Python'}"
      ]
     },
     "execution_count": 32,
     "metadata": {},
     "output_type": "execute_result"
    }
   ],
   "source": [
    "d"
   ]
  },
  {
   "cell_type": "code",
   "execution_count": 33,
   "id": "422ea7c8",
   "metadata": {},
   "outputs": [
    {
     "ename": "TypeError",
     "evalue": "pop expected at least 1 argument, got 0",
     "output_type": "error",
     "traceback": [
      "\u001b[1;31m---------------------------------------------------------------------------\u001b[0m",
      "\u001b[1;31mTypeError\u001b[0m                                 Traceback (most recent call last)",
      "\u001b[1;32mC:\\Users\\ADMIN0~1\\AppData\\Local\\Temp/ipykernel_32388/799408502.py\u001b[0m in \u001b[0;36m<module>\u001b[1;34m\u001b[0m\n\u001b[1;32m----> 1\u001b[1;33m \u001b[0md\u001b[0m\u001b[1;33m.\u001b[0m\u001b[0mpop\u001b[0m\u001b[1;33m(\u001b[0m\u001b[1;33m)\u001b[0m  \u001b[1;31m#pop expected at least 1 argument, got 0\u001b[0m\u001b[1;33m\u001b[0m\u001b[1;33m\u001b[0m\u001b[0m\n\u001b[0m",
      "\u001b[1;31mTypeError\u001b[0m: pop expected at least 1 argument, got 0"
     ]
    }
   ],
   "source": [
    "d.pop()  #pop expected at least 1 argument, got 0"
   ]
  },
  {
   "cell_type": "code",
   "execution_count": 34,
   "id": "73dd5d7e",
   "metadata": {},
   "outputs": [
    {
     "data": {
      "text/plain": [
       "{'name': 'harpreet', 'age': 24, 'weight': 67, 'course': 'Python'}"
      ]
     },
     "execution_count": 34,
     "metadata": {},
     "output_type": "execute_result"
    }
   ],
   "source": [
    "d"
   ]
  },
  {
   "cell_type": "code",
   "execution_count": 37,
   "id": "1f7d2bae",
   "metadata": {},
   "outputs": [
    {
     "data": {
      "text/plain": [
       "('weight', 67)"
      ]
     },
     "execution_count": 37,
     "metadata": {},
     "output_type": "execute_result"
    }
   ],
   "source": [
    "d.popitem()"
   ]
  },
  {
   "cell_type": "code",
   "execution_count": 38,
   "id": "6788ac9c",
   "metadata": {},
   "outputs": [
    {
     "data": {
      "text/plain": [
       "{'name': 'harpreet', 'age': 24}"
      ]
     },
     "execution_count": 38,
     "metadata": {},
     "output_type": "execute_result"
    }
   ],
   "source": [
    "d"
   ]
  },
  {
   "cell_type": "code",
   "execution_count": 39,
   "id": "467e464a",
   "metadata": {},
   "outputs": [
    {
     "name": "stdout",
     "output_type": "stream",
     "text": [
      "['__class__', '__class_getitem__', '__contains__', '__delattr__', '__delitem__', '__dir__', '__doc__', '__eq__', '__format__', '__ge__', '__getattribute__', '__getitem__', '__gt__', '__hash__', '__init__', '__init_subclass__', '__ior__', '__iter__', '__le__', '__len__', '__lt__', '__ne__', '__new__', '__or__', '__reduce__', '__reduce_ex__', '__repr__', '__reversed__', '__ror__', '__setattr__', '__setitem__', '__sizeof__', '__str__', '__subclasshook__', 'clear', 'copy', 'fromkeys', 'get', 'items', 'keys', 'pop', 'popitem', 'setdefault', 'update', 'values']\n"
     ]
    }
   ],
   "source": [
    "print(dir(dict))"
   ]
  },
  {
   "cell_type": "code",
   "execution_count": 44,
   "id": "1d072706",
   "metadata": {},
   "outputs": [],
   "source": [
    "d1=d.fromkeys('abcd') #access from the keys"
   ]
  },
  {
   "cell_type": "code",
   "execution_count": 45,
   "id": "bbeebbe7",
   "metadata": {},
   "outputs": [
    {
     "data": {
      "text/plain": [
       "{'a': None, 'b': None, 'c': None, 'd': None}"
      ]
     },
     "execution_count": 45,
     "metadata": {},
     "output_type": "execute_result"
    }
   ],
   "source": [
    "d1"
   ]
  },
  {
   "cell_type": "code",
   "execution_count": 46,
   "id": "1d96fbe0",
   "metadata": {},
   "outputs": [],
   "source": [
    "d1['a']='name'"
   ]
  },
  {
   "cell_type": "code",
   "execution_count": 47,
   "id": "b52adf24",
   "metadata": {},
   "outputs": [
    {
     "data": {
      "text/plain": [
       "{'a': 'name', 'b': None, 'c': None, 'd': None}"
      ]
     },
     "execution_count": 47,
     "metadata": {},
     "output_type": "execute_result"
    }
   ],
   "source": [
    "d1"
   ]
  },
  {
   "cell_type": "markdown",
   "id": "debf1964",
   "metadata": {},
   "source": [
    "# Set"
   ]
  },
  {
   "cell_type": "markdown",
   "id": "282c1376",
   "metadata": {},
   "source": [
    "                    set:\n",
    "                        1. unique ---> they return the unique value which is not repeated value.\n",
    "                        2. unordered----> they return the unique value is not order form\n",
    "                "
   ]
  },
  {
   "cell_type": "code",
   "execution_count": 48,
   "id": "f0d83216",
   "metadata": {},
   "outputs": [],
   "source": [
    "s={1,2,3,4,5,1,2,3,2,1,34,45,67,787,45,3432,23}"
   ]
  },
  {
   "cell_type": "code",
   "execution_count": 49,
   "id": "8d8891b2",
   "metadata": {},
   "outputs": [
    {
     "name": "stdout",
     "output_type": "stream",
     "text": [
      "{1, 2, 3, 4, 5, 34, 67, 3432, 45, 787, 23}\n"
     ]
    }
   ],
   "source": [
    "print(s)"
   ]
  },
  {
   "cell_type": "code",
   "execution_count": 50,
   "id": "8e9be873",
   "metadata": {},
   "outputs": [],
   "source": [
    "# superset\n",
    "# subset\n",
    "# union\n",
    "# intersection\n",
    "# difference\n"
   ]
  },
  {
   "cell_type": "code",
   "execution_count": 51,
   "id": "7d3b7feb",
   "metadata": {},
   "outputs": [],
   "source": [
    "s={1,2,3,4,5}"
   ]
  },
  {
   "cell_type": "code",
   "execution_count": 52,
   "id": "4c47aac2",
   "metadata": {},
   "outputs": [],
   "source": [
    "s1={3,4}"
   ]
  },
  {
   "cell_type": "code",
   "execution_count": 53,
   "id": "5b2d8763",
   "metadata": {},
   "outputs": [
    {
     "data": {
      "text/plain": [
       "True"
      ]
     },
     "execution_count": 53,
     "metadata": {},
     "output_type": "execute_result"
    }
   ],
   "source": [
    "s.issuperset(s1)"
   ]
  },
  {
   "cell_type": "code",
   "execution_count": 54,
   "id": "56563f76",
   "metadata": {},
   "outputs": [
    {
     "data": {
      "text/plain": [
       "False"
      ]
     },
     "execution_count": 54,
     "metadata": {},
     "output_type": "execute_result"
    }
   ],
   "source": [
    "s1.issuperset(s)"
   ]
  },
  {
   "cell_type": "code",
   "execution_count": 55,
   "id": "89e43975",
   "metadata": {},
   "outputs": [
    {
     "data": {
      "text/plain": [
       "True"
      ]
     },
     "execution_count": 55,
     "metadata": {},
     "output_type": "execute_result"
    }
   ],
   "source": [
    "s1.issubset(s)"
   ]
  },
  {
   "cell_type": "code",
   "execution_count": 56,
   "id": "c2d76a19",
   "metadata": {},
   "outputs": [],
   "source": [
    "s1={1,2,3,4,5,6,7,8}"
   ]
  },
  {
   "cell_type": "code",
   "execution_count": 57,
   "id": "cae40405",
   "metadata": {},
   "outputs": [],
   "source": [
    "s2={4,5,6,9,10,12,6}"
   ]
  },
  {
   "cell_type": "code",
   "execution_count": 58,
   "id": "582be12d",
   "metadata": {},
   "outputs": [
    {
     "data": {
      "text/plain": [
       "{4, 5, 6}"
      ]
     },
     "execution_count": 58,
     "metadata": {},
     "output_type": "execute_result"
    }
   ],
   "source": [
    "s1.intersection(s2)"
   ]
  },
  {
   "cell_type": "code",
   "execution_count": 59,
   "id": "0f175c2c",
   "metadata": {},
   "outputs": [
    {
     "data": {
      "text/plain": [
       "{1, 2, 3, 4, 5, 6, 7, 8, 9, 10, 12}"
      ]
     },
     "execution_count": 59,
     "metadata": {},
     "output_type": "execute_result"
    }
   ],
   "source": [
    "s1.union(s2)"
   ]
  },
  {
   "cell_type": "code",
   "execution_count": 60,
   "id": "2fb6df51",
   "metadata": {},
   "outputs": [
    {
     "data": {
      "text/plain": [
       "{1, 2, 3, 7, 8}"
      ]
     },
     "execution_count": 60,
     "metadata": {},
     "output_type": "execute_result"
    }
   ],
   "source": [
    "s1.difference(s2)"
   ]
  },
  {
   "cell_type": "code",
   "execution_count": 61,
   "id": "6d63cf24",
   "metadata": {},
   "outputs": [
    {
     "data": {
      "text/plain": [
       "{1, 2, 3, 4, 5, 6, 7, 8}"
      ]
     },
     "execution_count": 61,
     "metadata": {},
     "output_type": "execute_result"
    }
   ],
   "source": [
    "s1"
   ]
  },
  {
   "cell_type": "code",
   "execution_count": 62,
   "id": "adc95d63",
   "metadata": {},
   "outputs": [],
   "source": [
    "s1.add(10)"
   ]
  },
  {
   "cell_type": "code",
   "execution_count": 63,
   "id": "8f74854f",
   "metadata": {},
   "outputs": [
    {
     "data": {
      "text/plain": [
       "{1, 2, 3, 4, 5, 6, 7, 8, 10}"
      ]
     },
     "execution_count": 63,
     "metadata": {},
     "output_type": "execute_result"
    }
   ],
   "source": [
    "s1"
   ]
  },
  {
   "cell_type": "code",
   "execution_count": 64,
   "id": "7ce15b5c",
   "metadata": {},
   "outputs": [],
   "source": [
    "s1.discard(6)"
   ]
  },
  {
   "cell_type": "code",
   "execution_count": 65,
   "id": "323e47aa",
   "metadata": {},
   "outputs": [
    {
     "data": {
      "text/plain": [
       "{1, 2, 3, 4, 5, 7, 8, 10}"
      ]
     },
     "execution_count": 65,
     "metadata": {},
     "output_type": "execute_result"
    }
   ],
   "source": [
    "s1"
   ]
  },
  {
   "cell_type": "code",
   "execution_count": 66,
   "id": "d4354e64",
   "metadata": {},
   "outputs": [],
   "source": [
    "s1.remove(8)"
   ]
  },
  {
   "cell_type": "code",
   "execution_count": 67,
   "id": "e7c05c39",
   "metadata": {},
   "outputs": [
    {
     "data": {
      "text/plain": [
       "{1, 2, 3, 4, 5, 7, 10}"
      ]
     },
     "execution_count": 67,
     "metadata": {},
     "output_type": "execute_result"
    }
   ],
   "source": [
    "s1"
   ]
  },
  {
   "cell_type": "code",
   "execution_count": 68,
   "id": "d4f9a555",
   "metadata": {},
   "outputs": [
    {
     "name": "stdout",
     "output_type": "stream",
     "text": [
      "['__and__', '__class__', '__class_getitem__', '__contains__', '__delattr__', '__dir__', '__doc__', '__eq__', '__format__', '__ge__', '__getattribute__', '__gt__', '__hash__', '__iand__', '__init__', '__init_subclass__', '__ior__', '__isub__', '__iter__', '__ixor__', '__le__', '__len__', '__lt__', '__ne__', '__new__', '__or__', '__rand__', '__reduce__', '__reduce_ex__', '__repr__', '__ror__', '__rsub__', '__rxor__', '__setattr__', '__sizeof__', '__str__', '__sub__', '__subclasshook__', '__xor__', 'add', 'clear', 'copy', 'difference', 'difference_update', 'discard', 'intersection', 'intersection_update', 'isdisjoint', 'issubset', 'issuperset', 'pop', 'remove', 'symmetric_difference', 'symmetric_difference_update', 'union', 'update']\n"
     ]
    }
   ],
   "source": [
    "print(dir(set))"
   ]
  },
  {
   "cell_type": "code",
   "execution_count": 91,
   "id": "42bc50ec",
   "metadata": {},
   "outputs": [
    {
     "data": {
      "text/plain": [
       "{4, 5, 7, 10}"
      ]
     },
     "execution_count": 91,
     "metadata": {},
     "output_type": "execute_result"
    }
   ],
   "source": [
    "s1"
   ]
  },
  {
   "cell_type": "code",
   "execution_count": 92,
   "id": "254c1f33",
   "metadata": {},
   "outputs": [
    {
     "data": {
      "text/plain": [
       "4"
      ]
     },
     "execution_count": 92,
     "metadata": {},
     "output_type": "execute_result"
    }
   ],
   "source": [
    "s1.pop() #In set, pop will remove the first element"
   ]
  },
  {
   "cell_type": "code",
   "execution_count": 94,
   "id": "f12b0547",
   "metadata": {},
   "outputs": [
    {
     "data": {
      "text/plain": [
       "{5, 7, 10}"
      ]
     },
     "execution_count": 94,
     "metadata": {},
     "output_type": "execute_result"
    }
   ],
   "source": [
    "s1"
   ]
  },
  {
   "cell_type": "code",
   "execution_count": 95,
   "id": "9bd341e9",
   "metadata": {},
   "outputs": [
    {
     "data": {
      "text/plain": [
       "5"
      ]
     },
     "execution_count": 95,
     "metadata": {},
     "output_type": "execute_result"
    }
   ],
   "source": [
    "s1.pop()"
   ]
  },
  {
   "cell_type": "code",
   "execution_count": 96,
   "id": "7921c3e1",
   "metadata": {},
   "outputs": [
    {
     "data": {
      "text/plain": [
       "{7, 10}"
      ]
     },
     "execution_count": 96,
     "metadata": {},
     "output_type": "execute_result"
    }
   ],
   "source": [
    "s1"
   ]
  },
  {
   "cell_type": "code",
   "execution_count": 97,
   "id": "cbe8017b",
   "metadata": {},
   "outputs": [],
   "source": [
    "r=[1,2,34,5]"
   ]
  },
  {
   "cell_type": "code",
   "execution_count": 98,
   "id": "bd4dfa08",
   "metadata": {},
   "outputs": [],
   "source": [
    "t=(1,2,4,5,6)"
   ]
  },
  {
   "cell_type": "code",
   "execution_count": 99,
   "id": "5de8124a",
   "metadata": {},
   "outputs": [
    {
     "data": {
      "text/plain": [
       "712"
      ]
     },
     "execution_count": 99,
     "metadata": {},
     "output_type": "execute_result"
    }
   ],
   "source": [
    "s1.__sizeof__()"
   ]
  },
  {
   "cell_type": "code",
   "execution_count": 100,
   "id": "2479b9e6",
   "metadata": {},
   "outputs": [
    {
     "data": {
      "text/plain": [
       "104"
      ]
     },
     "execution_count": 100,
     "metadata": {},
     "output_type": "execute_result"
    }
   ],
   "source": [
    "r.__sizeof__()"
   ]
  },
  {
   "cell_type": "code",
   "execution_count": 101,
   "id": "d8f4980e",
   "metadata": {},
   "outputs": [
    {
     "data": {
      "text/plain": [
       "64"
      ]
     },
     "execution_count": 101,
     "metadata": {},
     "output_type": "execute_result"
    }
   ],
   "source": [
    "t.__sizeof__()"
   ]
  },
  {
   "cell_type": "code",
   "execution_count": 102,
   "id": "0dc50879",
   "metadata": {},
   "outputs": [],
   "source": [
    "t=10"
   ]
  },
  {
   "cell_type": "code",
   "execution_count": 103,
   "id": "e62940dc",
   "metadata": {},
   "outputs": [
    {
     "data": {
      "text/plain": [
       "30"
      ]
     },
     "execution_count": 103,
     "metadata": {},
     "output_type": "execute_result"
    }
   ],
   "source": [
    "t.__add__(20)"
   ]
  },
  {
   "cell_type": "code",
   "execution_count": 104,
   "id": "917e6f54",
   "metadata": {},
   "outputs": [
    {
     "data": {
      "text/plain": [
       "4"
      ]
     },
     "execution_count": 104,
     "metadata": {},
     "output_type": "execute_result"
    }
   ],
   "source": [
    "r.__len__()"
   ]
  },
  {
   "cell_type": "code",
   "execution_count": 105,
   "id": "e46137ec",
   "metadata": {},
   "outputs": [
    {
     "data": {
      "text/plain": [
       "[1, 2, 34, 5]"
      ]
     },
     "execution_count": 105,
     "metadata": {},
     "output_type": "execute_result"
    }
   ],
   "source": [
    "r"
   ]
  },
  {
   "cell_type": "markdown",
   "id": "80a5d401",
   "metadata": {},
   "source": [
    "# Type conversion or number conversion"
   ]
  },
  {
   "cell_type": "markdown",
   "id": "f943e5fb",
   "metadata": {},
   "source": [
    "                    1. int to (str,flaot , complex) \n",
    "                    2. str  to (int,list, tuple,set)\n",
    "                    3. list to (tuple , str, set )\n",
    "                    4. tuple to list ,str, set"
   ]
  },
  {
   "cell_type": "code",
   "execution_count": 106,
   "id": "1ed1a2eb",
   "metadata": {},
   "outputs": [],
   "source": [
    "a=100"
   ]
  },
  {
   "cell_type": "code",
   "execution_count": 107,
   "id": "e5bceb09",
   "metadata": {},
   "outputs": [
    {
     "data": {
      "text/plain": [
       "int"
      ]
     },
     "execution_count": 107,
     "metadata": {},
     "output_type": "execute_result"
    }
   ],
   "source": [
    "type(a)"
   ]
  },
  {
   "cell_type": "code",
   "execution_count": 108,
   "id": "9648bb13",
   "metadata": {},
   "outputs": [],
   "source": [
    "b=str(a)"
   ]
  },
  {
   "cell_type": "code",
   "execution_count": 109,
   "id": "463d53d6",
   "metadata": {},
   "outputs": [
    {
     "name": "stdout",
     "output_type": "stream",
     "text": [
      "100\n"
     ]
    }
   ],
   "source": [
    "print(b)"
   ]
  },
  {
   "cell_type": "code",
   "execution_count": 110,
   "id": "c846f79c",
   "metadata": {},
   "outputs": [
    {
     "data": {
      "text/plain": [
       "str"
      ]
     },
     "execution_count": 110,
     "metadata": {},
     "output_type": "execute_result"
    }
   ],
   "source": [
    "type(b)"
   ]
  },
  {
   "cell_type": "code",
   "execution_count": 111,
   "id": "42a1a776",
   "metadata": {},
   "outputs": [],
   "source": [
    "c=complex(a)"
   ]
  },
  {
   "cell_type": "code",
   "execution_count": 112,
   "id": "0e334a43",
   "metadata": {},
   "outputs": [
    {
     "name": "stdout",
     "output_type": "stream",
     "text": [
      "(100+0j)\n"
     ]
    }
   ],
   "source": [
    "print(c)"
   ]
  },
  {
   "cell_type": "code",
   "execution_count": 113,
   "id": "4d54f345",
   "metadata": {},
   "outputs": [
    {
     "data": {
      "text/plain": [
       "complex"
      ]
     },
     "execution_count": 113,
     "metadata": {},
     "output_type": "execute_result"
    }
   ],
   "source": [
    "type(c)"
   ]
  },
  {
   "cell_type": "code",
   "execution_count": 114,
   "id": "42d81fae",
   "metadata": {},
   "outputs": [
    {
     "data": {
      "text/plain": [
       "100.0"
      ]
     },
     "execution_count": 114,
     "metadata": {},
     "output_type": "execute_result"
    }
   ],
   "source": [
    "float(a)"
   ]
  },
  {
   "cell_type": "code",
   "execution_count": 115,
   "id": "f4a12700",
   "metadata": {},
   "outputs": [],
   "source": [
    "r='pythono'"
   ]
  },
  {
   "cell_type": "code",
   "execution_count": 116,
   "id": "fa0cc0aa",
   "metadata": {},
   "outputs": [
    {
     "data": {
      "text/plain": [
       "str"
      ]
     },
     "execution_count": 116,
     "metadata": {},
     "output_type": "execute_result"
    }
   ],
   "source": [
    "type(r)"
   ]
  },
  {
   "cell_type": "code",
   "execution_count": 117,
   "id": "d50c898c",
   "metadata": {},
   "outputs": [],
   "source": [
    "e=list(r)"
   ]
  },
  {
   "cell_type": "code",
   "execution_count": 118,
   "id": "8ccd3a14",
   "metadata": {},
   "outputs": [
    {
     "data": {
      "text/plain": [
       "['p', 'y', 't', 'h', 'o', 'n', 'o']"
      ]
     },
     "execution_count": 118,
     "metadata": {},
     "output_type": "execute_result"
    }
   ],
   "source": [
    "e"
   ]
  },
  {
   "cell_type": "code",
   "execution_count": 119,
   "id": "5c0bdb35",
   "metadata": {},
   "outputs": [
    {
     "data": {
      "text/plain": [
       "list"
      ]
     },
     "execution_count": 119,
     "metadata": {},
     "output_type": "execute_result"
    }
   ],
   "source": [
    "type(e)"
   ]
  },
  {
   "cell_type": "code",
   "execution_count": 120,
   "id": "7ed0afbc",
   "metadata": {},
   "outputs": [
    {
     "data": {
      "text/plain": [
       "('p', 'y', 't', 'h', 'o', 'n', 'o')"
      ]
     },
     "execution_count": 120,
     "metadata": {},
     "output_type": "execute_result"
    }
   ],
   "source": [
    "tuple(r)"
   ]
  },
  {
   "cell_type": "code",
   "execution_count": 121,
   "id": "8d4f7424",
   "metadata": {},
   "outputs": [
    {
     "data": {
      "text/plain": [
       "{'h', 'n', 'o', 'p', 't', 'y'}"
      ]
     },
     "execution_count": 121,
     "metadata": {},
     "output_type": "execute_result"
    }
   ],
   "source": [
    "set(r)"
   ]
  },
  {
   "cell_type": "code",
   "execution_count": 122,
   "id": "76dc49b5",
   "metadata": {},
   "outputs": [
    {
     "ename": "ValueError",
     "evalue": "invalid literal for int() with base 10: 'pythono'",
     "output_type": "error",
     "traceback": [
      "\u001b[1;31m---------------------------------------------------------------------------\u001b[0m",
      "\u001b[1;31mValueError\u001b[0m                                Traceback (most recent call last)",
      "\u001b[1;32mC:\\Users\\ADMIN0~1\\AppData\\Local\\Temp/ipykernel_32388/598509529.py\u001b[0m in \u001b[0;36m<module>\u001b[1;34m\u001b[0m\n\u001b[1;32m----> 1\u001b[1;33m \u001b[0mint\u001b[0m\u001b[1;33m(\u001b[0m\u001b[0mr\u001b[0m\u001b[1;33m)\u001b[0m\u001b[1;33m\u001b[0m\u001b[1;33m\u001b[0m\u001b[0m\n\u001b[0m",
      "\u001b[1;31mValueError\u001b[0m: invalid literal for int() with base 10: 'pythono'"
     ]
    }
   ],
   "source": [
    "int(r) #alpha(string) can't change into int"
   ]
  },
  {
   "cell_type": "code",
   "execution_count": 123,
   "id": "d130d0f9",
   "metadata": {},
   "outputs": [],
   "source": [
    "t='6767'"
   ]
  },
  {
   "cell_type": "code",
   "execution_count": 124,
   "id": "ff83af14",
   "metadata": {},
   "outputs": [
    {
     "data": {
      "text/plain": [
       "str"
      ]
     },
     "execution_count": 124,
     "metadata": {},
     "output_type": "execute_result"
    }
   ],
   "source": [
    "type(t)"
   ]
  },
  {
   "cell_type": "code",
   "execution_count": 125,
   "id": "0a383fcb",
   "metadata": {},
   "outputs": [],
   "source": [
    "w=int(t)"
   ]
  },
  {
   "cell_type": "code",
   "execution_count": 126,
   "id": "3c16f364",
   "metadata": {},
   "outputs": [
    {
     "data": {
      "text/plain": [
       "6767"
      ]
     },
     "execution_count": 126,
     "metadata": {},
     "output_type": "execute_result"
    }
   ],
   "source": [
    "w"
   ]
  },
  {
   "cell_type": "code",
   "execution_count": 127,
   "id": "e54ca98d",
   "metadata": {},
   "outputs": [
    {
     "data": {
      "text/plain": [
       "int"
      ]
     },
     "execution_count": 127,
     "metadata": {},
     "output_type": "execute_result"
    }
   ],
   "source": [
    "type(w)"
   ]
  },
  {
   "cell_type": "code",
   "execution_count": 167,
   "id": "7ba9745b",
   "metadata": {},
   "outputs": [],
   "source": [
    "l=[1,2,3,4,'harpreet',6]"
   ]
  },
  {
   "cell_type": "code",
   "execution_count": 168,
   "id": "1e0de9d6",
   "metadata": {},
   "outputs": [],
   "source": [
    "t=tuple(l)"
   ]
  },
  {
   "cell_type": "code",
   "execution_count": 169,
   "id": "f87bad5a",
   "metadata": {},
   "outputs": [
    {
     "data": {
      "text/plain": [
       "(1, 2, 3, 4, 'harpreet', 6)"
      ]
     },
     "execution_count": 169,
     "metadata": {},
     "output_type": "execute_result"
    }
   ],
   "source": [
    "t"
   ]
  },
  {
   "cell_type": "code",
   "execution_count": 170,
   "id": "e33b6f47",
   "metadata": {},
   "outputs": [],
   "source": [
    "s=set(l)"
   ]
  },
  {
   "cell_type": "code",
   "execution_count": 171,
   "id": "6f630649",
   "metadata": {},
   "outputs": [
    {
     "data": {
      "text/plain": [
       "{1, 2, 3, 4, 6, 'harpreet'}"
      ]
     },
     "execution_count": 171,
     "metadata": {},
     "output_type": "execute_result"
    }
   ],
   "source": [
    "s"
   ]
  },
  {
   "cell_type": "code",
   "execution_count": 172,
   "id": "03562002",
   "metadata": {},
   "outputs": [],
   "source": [
    "q=str(l)"
   ]
  },
  {
   "cell_type": "code",
   "execution_count": 173,
   "id": "03acb845",
   "metadata": {},
   "outputs": [
    {
     "data": {
      "text/plain": [
       "\"[1, 2, 3, 4, 'harpreet', 6]\""
      ]
     },
     "execution_count": 173,
     "metadata": {},
     "output_type": "execute_result"
    }
   ],
   "source": [
    "q"
   ]
  },
  {
   "cell_type": "code",
   "execution_count": 174,
   "id": "d5dabcdd",
   "metadata": {},
   "outputs": [
    {
     "data": {
      "text/plain": [
       "str"
      ]
     },
     "execution_count": 174,
     "metadata": {},
     "output_type": "execute_result"
    }
   ],
   "source": [
    "type(q)"
   ]
  },
  {
   "cell_type": "code",
   "execution_count": 175,
   "id": "121a7504",
   "metadata": {},
   "outputs": [],
   "source": [
    "s=(1,2,3,4,5,6)"
   ]
  },
  {
   "cell_type": "code",
   "execution_count": 176,
   "id": "9d8d2617",
   "metadata": {},
   "outputs": [
    {
     "data": {
      "text/plain": [
       "[1, 2, 3, 4, 5, 6]"
      ]
     },
     "execution_count": 176,
     "metadata": {},
     "output_type": "execute_result"
    }
   ],
   "source": [
    "list(s)"
   ]
  },
  {
   "cell_type": "code",
   "execution_count": 177,
   "id": "b93bb84e",
   "metadata": {},
   "outputs": [
    {
     "data": {
      "text/plain": [
       "{1, 2, 3, 4, 5, 6}"
      ]
     },
     "execution_count": 177,
     "metadata": {},
     "output_type": "execute_result"
    }
   ],
   "source": [
    "set(s)"
   ]
  },
  {
   "cell_type": "code",
   "execution_count": 178,
   "id": "116046b2",
   "metadata": {},
   "outputs": [
    {
     "data": {
      "text/plain": [
       "'(1, 2, 3, 4, 5, 6)'"
      ]
     },
     "execution_count": 178,
     "metadata": {},
     "output_type": "execute_result"
    }
   ],
   "source": [
    "str(s)"
   ]
  },
  {
   "cell_type": "code",
   "execution_count": 179,
   "id": "ef7273b2",
   "metadata": {},
   "outputs": [
    {
     "ename": "TypeError",
     "evalue": "cannot convert dictionary update sequence element #0 to a sequence",
     "output_type": "error",
     "traceback": [
      "\u001b[1;31m---------------------------------------------------------------------------\u001b[0m",
      "\u001b[1;31mTypeError\u001b[0m                                 Traceback (most recent call last)",
      "\u001b[1;32mC:\\Users\\ADMIN0~1\\AppData\\Local\\Temp/ipykernel_32388/3728499651.py\u001b[0m in \u001b[0;36m<module>\u001b[1;34m\u001b[0m\n\u001b[1;32m----> 1\u001b[1;33m \u001b[0mdict\u001b[0m\u001b[1;33m(\u001b[0m\u001b[0ms\u001b[0m\u001b[1;33m)\u001b[0m\u001b[1;33m\u001b[0m\u001b[1;33m\u001b[0m\u001b[0m\n\u001b[0m",
      "\u001b[1;31mTypeError\u001b[0m: cannot convert dictionary update sequence element #0 to a sequence"
     ]
    }
   ],
   "source": [
    "dict(s)"
   ]
  },
  {
   "cell_type": "code",
   "execution_count": 180,
   "id": "f5a70faf",
   "metadata": {},
   "outputs": [],
   "source": [
    "d={'name':'harpreet','addr':'jaipur','age':23}"
   ]
  },
  {
   "cell_type": "code",
   "execution_count": 181,
   "id": "c8d89339",
   "metadata": {},
   "outputs": [
    {
     "data": {
      "text/plain": [
       "{'name': 'harpreet', 'addr': 'jaipur', 'age': 23}"
      ]
     },
     "execution_count": 181,
     "metadata": {},
     "output_type": "execute_result"
    }
   ],
   "source": [
    "d"
   ]
  },
  {
   "cell_type": "code",
   "execution_count": 182,
   "id": "c3247336",
   "metadata": {},
   "outputs": [
    {
     "data": {
      "text/plain": [
       "['name', 'addr', 'age']"
      ]
     },
     "execution_count": 182,
     "metadata": {},
     "output_type": "execute_result"
    }
   ],
   "source": [
    "list(d)"
   ]
  },
  {
   "cell_type": "code",
   "execution_count": 183,
   "id": "8c27801a",
   "metadata": {},
   "outputs": [
    {
     "data": {
      "text/plain": [
       "('name', 'addr', 'age')"
      ]
     },
     "execution_count": 183,
     "metadata": {},
     "output_type": "execute_result"
    }
   ],
   "source": [
    "tuple(d)"
   ]
  },
  {
   "cell_type": "code",
   "execution_count": 184,
   "id": "8f5f3d1f",
   "metadata": {},
   "outputs": [
    {
     "data": {
      "text/plain": [
       "\"{'name': 'harpreet', 'addr': 'jaipur', 'age': 23}\""
      ]
     },
     "execution_count": 184,
     "metadata": {},
     "output_type": "execute_result"
    }
   ],
   "source": [
    "str(d)"
   ]
  },
  {
   "cell_type": "markdown",
   "id": "6d0ed263",
   "metadata": {},
   "source": [
    "# number conversion"
   ]
  },
  {
   "cell_type": "markdown",
   "id": "d5dad4d6",
   "metadata": {},
   "source": [
    "            numbers ---->:\n",
    "                    1. decimal  ---> base10\n",
    "                    2. binary   ----> base2\n",
    "                    3. octal    ----> base8\n",
    "                    4. hexadecimal --> base16 \n",
    "                    "
   ]
  },
  {
   "cell_type": "code",
   "execution_count": 146,
   "id": "9143926b",
   "metadata": {},
   "outputs": [],
   "source": [
    "# decimal to binary , octal , hexadecimal"
   ]
  },
  {
   "cell_type": "code",
   "execution_count": 147,
   "id": "875f9463",
   "metadata": {},
   "outputs": [],
   "source": [
    "r=100"
   ]
  },
  {
   "cell_type": "code",
   "execution_count": 148,
   "id": "95b07170",
   "metadata": {},
   "outputs": [
    {
     "data": {
      "text/plain": [
       "'0b1100100'"
      ]
     },
     "execution_count": 148,
     "metadata": {},
     "output_type": "execute_result"
    }
   ],
   "source": [
    "# decimal to binary\n",
    "bin(r)"
   ]
  },
  {
   "cell_type": "code",
   "execution_count": 149,
   "id": "65e61fff",
   "metadata": {},
   "outputs": [
    {
     "data": {
      "text/plain": [
       "'0o144'"
      ]
     },
     "execution_count": 149,
     "metadata": {},
     "output_type": "execute_result"
    }
   ],
   "source": [
    "# decimal to octal \n",
    "oct(r)"
   ]
  },
  {
   "cell_type": "code",
   "execution_count": 150,
   "id": "26b70677",
   "metadata": {},
   "outputs": [
    {
     "data": {
      "text/plain": [
       "'0x64'"
      ]
     },
     "execution_count": 150,
     "metadata": {},
     "output_type": "execute_result"
    }
   ],
   "source": [
    "# decimal to hexadecimal\n",
    "hex(r)"
   ]
  },
  {
   "cell_type": "markdown",
   "id": "9cdab498",
   "metadata": {},
   "source": [
    "100/8       4\n",
    "12/8        4\n",
    "1/8         1\n"
   ]
  },
  {
   "cell_type": "code",
   "execution_count": 151,
   "id": "4574ced5",
   "metadata": {},
   "outputs": [],
   "source": [
    "b='11001011'"
   ]
  },
  {
   "cell_type": "code",
   "execution_count": 152,
   "id": "5281b7d8",
   "metadata": {},
   "outputs": [],
   "source": [
    "# binary to decimal"
   ]
  },
  {
   "cell_type": "code",
   "execution_count": 153,
   "id": "e4ba8c7d",
   "metadata": {},
   "outputs": [
    {
     "data": {
      "text/plain": [
       "203"
      ]
     },
     "execution_count": 153,
     "metadata": {},
     "output_type": "execute_result"
    }
   ],
   "source": [
    "int(b,2)"
   ]
  },
  {
   "cell_type": "code",
   "execution_count": 154,
   "id": "21a2c568",
   "metadata": {},
   "outputs": [],
   "source": [
    "# binary to octal"
   ]
  },
  {
   "cell_type": "code",
   "execution_count": 155,
   "id": "f4ea28a5",
   "metadata": {},
   "outputs": [
    {
     "data": {
      "text/plain": [
       "'11001011'"
      ]
     },
     "execution_count": 155,
     "metadata": {},
     "output_type": "execute_result"
    }
   ],
   "source": [
    "b"
   ]
  },
  {
   "cell_type": "code",
   "execution_count": 156,
   "id": "ae647efa",
   "metadata": {},
   "outputs": [
    {
     "data": {
      "text/plain": [
       "'0o313'"
      ]
     },
     "execution_count": 156,
     "metadata": {},
     "output_type": "execute_result"
    }
   ],
   "source": [
    "d=int(b,2) #firstly covert into decimal then convert into octal\n",
    "oct(d)"
   ]
  },
  {
   "cell_type": "code",
   "execution_count": null,
   "id": "a277d2c5",
   "metadata": {},
   "outputs": [],
   "source": [
    "# binary to hexadecimal"
   ]
  },
  {
   "cell_type": "code",
   "execution_count": 185,
   "id": "cada6a93",
   "metadata": {},
   "outputs": [
    {
     "data": {
      "text/plain": [
       "'11001011'"
      ]
     },
     "execution_count": 185,
     "metadata": {},
     "output_type": "execute_result"
    }
   ],
   "source": [
    "b"
   ]
  },
  {
   "cell_type": "code",
   "execution_count": 186,
   "id": "df6a1b9c",
   "metadata": {},
   "outputs": [
    {
     "data": {
      "text/plain": [
       "'0xcb'"
      ]
     },
     "execution_count": 186,
     "metadata": {},
     "output_type": "execute_result"
    }
   ],
   "source": [
    "d=int(b,2)\n",
    "hex(d)"
   ]
  },
  {
   "cell_type": "code",
   "execution_count": 157,
   "id": "370a4463",
   "metadata": {},
   "outputs": [],
   "source": [
    "# octal to decimal"
   ]
  },
  {
   "cell_type": "code",
   "execution_count": 196,
   "id": "4c11596f",
   "metadata": {},
   "outputs": [],
   "source": [
    "t='675423'"
   ]
  },
  {
   "cell_type": "code",
   "execution_count": 197,
   "id": "37e85c7a",
   "metadata": {},
   "outputs": [
    {
     "data": {
      "text/plain": [
       "228115"
      ]
     },
     "execution_count": 197,
     "metadata": {},
     "output_type": "execute_result"
    }
   ],
   "source": [
    "int(t,8)"
   ]
  },
  {
   "cell_type": "code",
   "execution_count": 198,
   "id": "ff3c9940",
   "metadata": {},
   "outputs": [],
   "source": [
    "#octal to binary"
   ]
  },
  {
   "cell_type": "code",
   "execution_count": 201,
   "id": "bf264d57",
   "metadata": {},
   "outputs": [
    {
     "data": {
      "text/plain": [
       "'0b110111101100010011'"
      ]
     },
     "execution_count": 201,
     "metadata": {},
     "output_type": "execute_result"
    }
   ],
   "source": [
    "t='675423'\n",
    "d=int(t,8)\n",
    "bin(d)"
   ]
  },
  {
   "cell_type": "code",
   "execution_count": null,
   "id": "a99dcfb3",
   "metadata": {},
   "outputs": [],
   "source": [
    "#octal to hexadecimal"
   ]
  },
  {
   "cell_type": "code",
   "execution_count": 202,
   "id": "e1e8346f",
   "metadata": {},
   "outputs": [
    {
     "data": {
      "text/plain": [
       "'0x37b13'"
      ]
     },
     "execution_count": 202,
     "metadata": {},
     "output_type": "execute_result"
    }
   ],
   "source": [
    "t='675423'\n",
    "d=int(t,8)\n",
    "hex(d)"
   ]
  },
  {
   "cell_type": "code",
   "execution_count": 160,
   "id": "9927dd9d",
   "metadata": {},
   "outputs": [],
   "source": [
    "# hexa decimal to decimal"
   ]
  },
  {
   "cell_type": "code",
   "execution_count": 161,
   "id": "af45ff74",
   "metadata": {},
   "outputs": [],
   "source": [
    "q='1b2c45d'"
   ]
  },
  {
   "cell_type": "code",
   "execution_count": 162,
   "id": "85b6415a",
   "metadata": {},
   "outputs": [
    {
     "data": {
      "text/plain": [
       "28492893"
      ]
     },
     "execution_count": 162,
     "metadata": {},
     "output_type": "execute_result"
    }
   ],
   "source": [
    "int(q,16)"
   ]
  },
  {
   "cell_type": "code",
   "execution_count": 204,
   "id": "f67af5f0",
   "metadata": {},
   "outputs": [
    {
     "data": {
      "text/plain": [
       "'0b1101100101100010001011101'"
      ]
     },
     "execution_count": 204,
     "metadata": {},
     "output_type": "execute_result"
    }
   ],
   "source": [
    "#hexadecimal to binary\n",
    "q='1b2c45d'\n",
    "d=int(q,16)\n",
    "bin(d)"
   ]
  },
  {
   "cell_type": "code",
   "execution_count": 205,
   "id": "fbde8e53",
   "metadata": {},
   "outputs": [
    {
     "data": {
      "text/plain": [
       "'0o154542135'"
      ]
     },
     "execution_count": 205,
     "metadata": {},
     "output_type": "execute_result"
    }
   ],
   "source": [
    "#hexadecimal to octal\n",
    "q='1b2c45d'\n",
    "d=int(q,16)\n",
    "oct(d)"
   ]
  },
  {
   "cell_type": "code",
   "execution_count": 163,
   "id": "8bb777cf",
   "metadata": {},
   "outputs": [],
   "source": [
    "# operator"
   ]
  }
 ],
 "metadata": {
  "kernelspec": {
   "display_name": "Python 3 (ipykernel)",
   "language": "python",
   "name": "python3"
  },
  "language_info": {
   "codemirror_mode": {
    "name": "ipython",
    "version": 3
   },
   "file_extension": ".py",
   "mimetype": "text/x-python",
   "name": "python",
   "nbconvert_exporter": "python",
   "pygments_lexer": "ipython3",
   "version": "3.9.7"
  }
 },
 "nbformat": 4,
 "nbformat_minor": 5
}
