{
 "cells": [
  {
   "cell_type": "code",
   "execution_count": 15,
   "id": "7d4c8f23",
   "metadata": {},
   "outputs": [],
   "source": [
    "class robot:\n",
    "    def get(x):\n",
    "        print(x)\n",
    "        print('hello world')"
   ]
  },
  {
   "cell_type": "code",
   "execution_count": 16,
   "id": "95fe0f88",
   "metadata": {},
   "outputs": [],
   "source": [
    "obj=robot()"
   ]
  },
  {
   "cell_type": "code",
   "execution_count": 17,
   "id": "040f8bda",
   "metadata": {},
   "outputs": [
    {
     "name": "stdout",
     "output_type": "stream",
     "text": [
      "<__main__.robot object at 0x000001C4F6B31910>\n",
      "hello world\n"
     ]
    }
   ],
   "source": [
    "obj.get()\n",
    "# __new__ here will be generate "
   ]
  },
  {
   "cell_type": "code",
   "execution_count": 18,
   "id": "92322a61",
   "metadata": {},
   "outputs": [
    {
     "name": "stdout",
     "output_type": "stream",
     "text": [
      "<__main__.robot object at 0x000001C4F6B31910>\n"
     ]
    }
   ],
   "source": [
    "print(obj)"
   ]
  },
  {
   "cell_type": "code",
   "execution_count": 8,
   "id": "8bed07f6",
   "metadata": {},
   "outputs": [],
   "source": [
    "def add(a):\n",
    "    return a"
   ]
  },
  {
   "cell_type": "code",
   "execution_count": 10,
   "id": "5d62e490",
   "metadata": {},
   "outputs": [
    {
     "ename": "TypeError",
     "evalue": "add() takes 1 positional argument but 2 were given",
     "output_type": "error",
     "traceback": [
      "\u001b[1;31m---------------------------------------------------------------------------\u001b[0m",
      "\u001b[1;31mTypeError\u001b[0m                                 Traceback (most recent call last)",
      "\u001b[1;32m~\\AppData\\Local\\Temp/ipykernel_11028/2334285133.py\u001b[0m in \u001b[0;36m<module>\u001b[1;34m\u001b[0m\n\u001b[1;32m----> 1\u001b[1;33m \u001b[0madd\u001b[0m\u001b[1;33m(\u001b[0m\u001b[1;36m10\u001b[0m\u001b[1;33m,\u001b[0m\u001b[1;36m20\u001b[0m\u001b[1;33m)\u001b[0m\u001b[1;33m\u001b[0m\u001b[1;33m\u001b[0m\u001b[0m\n\u001b[0m",
      "\u001b[1;31mTypeError\u001b[0m: add() takes 1 positional argument but 2 were given"
     ]
    }
   ],
   "source": [
    "add(10,20)"
   ]
  },
  {
   "cell_type": "code",
   "execution_count": 26,
   "id": "a121b8e7",
   "metadata": {},
   "outputs": [],
   "source": [
    "class robot1:\n",
    "    def get(self):\n",
    "        print(self)\n",
    "        print('hello world')"
   ]
  },
  {
   "cell_type": "code",
   "execution_count": 27,
   "id": "5bd1b0b8",
   "metadata": {},
   "outputs": [],
   "source": [
    "ob=robot1()"
   ]
  },
  {
   "cell_type": "code",
   "execution_count": 28,
   "id": "21d04ddc",
   "metadata": {},
   "outputs": [],
   "source": [
    "ob1=robot1()"
   ]
  },
  {
   "cell_type": "code",
   "execution_count": 29,
   "id": "1fd45d01",
   "metadata": {},
   "outputs": [
    {
     "name": "stdout",
     "output_type": "stream",
     "text": [
      "<__main__.robot1 object at 0x000001C4F6CC87C0>\n"
     ]
    }
   ],
   "source": [
    "print(ob)"
   ]
  },
  {
   "cell_type": "code",
   "execution_count": 30,
   "id": "746b535a",
   "metadata": {},
   "outputs": [
    {
     "name": "stdout",
     "output_type": "stream",
     "text": [
      "<__main__.robot1 object at 0x000001C4F6CC8940>\n"
     ]
    }
   ],
   "source": [
    "print(ob1)"
   ]
  },
  {
   "cell_type": "code",
   "execution_count": 31,
   "id": "1c6a171b",
   "metadata": {},
   "outputs": [
    {
     "name": "stdout",
     "output_type": "stream",
     "text": [
      "<__main__.robot1 object at 0x000001C4F6CC87C0>\n",
      "hello world\n"
     ]
    }
   ],
   "source": [
    "ob.get()"
   ]
  },
  {
   "cell_type": "code",
   "execution_count": 32,
   "id": "2045cd4d",
   "metadata": {},
   "outputs": [
    {
     "name": "stdout",
     "output_type": "stream",
     "text": [
      "<__main__.robot1 object at 0x000001C4F6CC8940>\n",
      "hello world\n"
     ]
    }
   ],
   "source": [
    "ob1.get()"
   ]
  },
  {
   "cell_type": "code",
   "execution_count": 37,
   "id": "bc0f10ff",
   "metadata": {},
   "outputs": [],
   "source": [
    "class testing:\n",
    "    def getdata(self):\n",
    "        self.name=input('Enter your name: ')\n",
    "        self.email=input('enter your email: ')\n",
    "    def showdata(self):\n",
    "        print('hello ',self.name)\n",
    "        print('your email address: ',self.email)"
   ]
  },
  {
   "cell_type": "code",
   "execution_count": 38,
   "id": "cd151b7e",
   "metadata": {},
   "outputs": [],
   "source": [
    "obj=testing()"
   ]
  },
  {
   "cell_type": "code",
   "execution_count": 39,
   "id": "5d4ae33a",
   "metadata": {},
   "outputs": [
    {
     "name": "stdout",
     "output_type": "stream",
     "text": [
      "Enter your name: mann\n",
      "enter your email: mann@gmail.com\n"
     ]
    }
   ],
   "source": [
    "obj.getdata()"
   ]
  },
  {
   "cell_type": "code",
   "execution_count": 40,
   "id": "729f1c78",
   "metadata": {},
   "outputs": [
    {
     "name": "stdout",
     "output_type": "stream",
     "text": [
      "hello  mann\n",
      "your email address:  mann@gmail.com\n"
     ]
    }
   ],
   "source": [
    "obj.showdata()"
   ]
  },
  {
   "cell_type": "code",
   "execution_count": 41,
   "id": "2bd8d994",
   "metadata": {},
   "outputs": [],
   "source": [
    "class testing1:\n",
    "    def getdata(self):\n",
    "        self.name='manish'\n",
    "        self.email='manish@123'\n",
    "    def showdata(self):\n",
    "        print('hello ',self.name)\n",
    "        print('your email address: ',self.email)"
   ]
  },
  {
   "cell_type": "code",
   "execution_count": 42,
   "id": "c64b1852",
   "metadata": {},
   "outputs": [],
   "source": [
    "obj=testing1()"
   ]
  },
  {
   "cell_type": "code",
   "execution_count": 44,
   "id": "e6bdea15",
   "metadata": {},
   "outputs": [],
   "source": [
    "obj.getdata()"
   ]
  },
  {
   "cell_type": "code",
   "execution_count": 45,
   "id": "cd38ab3d",
   "metadata": {},
   "outputs": [
    {
     "name": "stdout",
     "output_type": "stream",
     "text": [
      "hello  manish\n",
      "your email address:  manish@123\n"
     ]
    }
   ],
   "source": [
    "obj.showdata()"
   ]
  },
  {
   "cell_type": "code",
   "execution_count": 46,
   "id": "c4b20ab2",
   "metadata": {},
   "outputs": [],
   "source": [
    "#constructor"
   ]
  },
  {
   "cell_type": "code",
   "execution_count": 51,
   "id": "29501e7d",
   "metadata": {},
   "outputs": [],
   "source": [
    "class testing2:\n",
    "    def __init__(self):\n",
    "        print('welcome to python')\n",
    "        self.name='mann'\n",
    "        self.email='manish@gmail.com'\n",
    "    def showdata(self):\n",
    "        print('hello ',self.name)\n",
    "        print('your email address: ',self.email)"
   ]
  },
  {
   "cell_type": "code",
   "execution_count": 52,
   "id": "fff8f1ff",
   "metadata": {},
   "outputs": [
    {
     "name": "stdout",
     "output_type": "stream",
     "text": [
      "welcome to python\n"
     ]
    }
   ],
   "source": [
    "ob=testing2()"
   ]
  },
  {
   "cell_type": "code",
   "execution_count": 53,
   "id": "44588ee5",
   "metadata": {},
   "outputs": [
    {
     "name": "stdout",
     "output_type": "stream",
     "text": [
      "hello  mann\n",
      "your email address:  manish@gmail.com\n"
     ]
    }
   ],
   "source": [
    "ob.showdata()"
   ]
  },
  {
   "cell_type": "code",
   "execution_count": 55,
   "id": "352fb784",
   "metadata": {},
   "outputs": [],
   "source": [
    "#__new__\n",
    "# __init__\n",
    "# __str__\n",
    "#__repr__\n",
    "#__add__\n",
    "#__mul__\n",
    "#__del__\n",
    "# magic method"
   ]
  },
  {
   "cell_type": "code",
   "execution_count": 66,
   "id": "e9aa8ec4",
   "metadata": {},
   "outputs": [],
   "source": [
    "class car:\n",
    "    def __init__(self):\n",
    "        self.name='ferrari'\n",
    "        self.model='Top model'\n",
    "    def showinfo(self):\n",
    "        print('car name: ',self.name)\n",
    "        print('car model: ',self.model)\n",
    "    def __str__(self):\n",
    "        return 'hello i am string method'\n",
    "    "
   ]
  },
  {
   "cell_type": "code",
   "execution_count": 67,
   "id": "520c96cb",
   "metadata": {},
   "outputs": [],
   "source": [
    "obj=car()"
   ]
  },
  {
   "cell_type": "code",
   "execution_count": 68,
   "id": "64f0c265",
   "metadata": {},
   "outputs": [
    {
     "name": "stdout",
     "output_type": "stream",
     "text": [
      "car name:  ferrari\n",
      "car model:  Top model\n"
     ]
    }
   ],
   "source": [
    "obj.showinfo()"
   ]
  },
  {
   "cell_type": "code",
   "execution_count": 69,
   "id": "7f04f750",
   "metadata": {},
   "outputs": [
    {
     "name": "stdout",
     "output_type": "stream",
     "text": [
      "hello i am string method\n"
     ]
    }
   ],
   "source": [
    "print(obj)"
   ]
  },
  {
   "cell_type": "code",
   "execution_count": 70,
   "id": "b377dff2",
   "metadata": {},
   "outputs": [
    {
     "name": "stdout",
     "output_type": "stream",
     "text": [
      "<class '__main__.car'>\n"
     ]
    }
   ],
   "source": [
    "print(car)"
   ]
  },
  {
   "cell_type": "code",
   "execution_count": 71,
   "id": "bdf126f3",
   "metadata": {},
   "outputs": [],
   "source": [
    "obj1=car()"
   ]
  },
  {
   "cell_type": "code",
   "execution_count": 72,
   "id": "233536e2",
   "metadata": {},
   "outputs": [
    {
     "name": "stdout",
     "output_type": "stream",
     "text": [
      "hello i am string method\n"
     ]
    }
   ],
   "source": [
    "print(obj1)"
   ]
  },
  {
   "cell_type": "code",
   "execution_count": 73,
   "id": "d56357be",
   "metadata": {},
   "outputs": [],
   "source": [
    "# scope dependency\n",
    "# method depend\n",
    "# conctructor\n",
    "# string method\n"
   ]
  },
  {
   "cell_type": "code",
   "execution_count": null,
   "id": "fa68f24f",
   "metadata": {},
   "outputs": [],
   "source": [
    "# private variable \n",
    "# public variable\n",
    "# protected variable\n",
    "# private mathod\n",
    "# public method\n"
   ]
  }
 ],
 "metadata": {
  "kernelspec": {
   "display_name": "Python 3 (ipykernel)",
   "language": "python",
   "name": "python3"
  },
  "language_info": {
   "codemirror_mode": {
    "name": "ipython",
    "version": 3
   },
   "file_extension": ".py",
   "mimetype": "text/x-python",
   "name": "python",
   "nbconvert_exporter": "python",
   "pygments_lexer": "ipython3",
   "version": "3.9.6"
  }
 },
 "nbformat": 4,
 "nbformat_minor": 5
}
