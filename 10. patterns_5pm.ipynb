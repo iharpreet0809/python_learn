{
 "cells": [
  {
   "cell_type": "markdown",
   "id": "aafb3041",
   "metadata": {},
   "source": [
    "                  *     * * * *\n",
    "                  *     *\n",
    "                  *     *\n",
    "                  * * * * * * *\n",
    "                        *     *\n",
    "                        *     *\n",
    "                  * * * *     *"
   ]
  },
  {
   "cell_type": "markdown",
   "id": "505f2ed3",
   "metadata": {},
   "source": [
    "                    row =7 \n",
    "                    col=7\n",
    "                    \n",
    "                        conditions ----> row--> 4 , col --> 4, (row--> 1 and col>3), (col-->7 and row>3),(col---> 1 and row <4), (row-->7 and col <4)\n",
    "                    "
   ]
  },
  {
   "cell_type": "code",
   "execution_count": 2,
   "id": "2cd81570",
   "metadata": {},
   "outputs": [
    {
     "name": "stdout",
     "output_type": "stream",
     "text": [
      "*     * * * * \n",
      "*     *       \n",
      "*     *       \n",
      "* * * * * * * \n",
      "      *     * \n",
      "      *     * \n",
      "* * * *     * \n"
     ]
    }
   ],
   "source": [
    "for row in range(7):\n",
    "    for col in range(7):\n",
    "        if row ==3 or col==3 or (row==0 and col>2) or (col==6 and row>2) or (col==0 and row<3) or (row==6 and col<3):\n",
    "            print('*',end=' ')\n",
    "        else:\n",
    "            print(end='  ')\n",
    "    print()"
   ]
  },
  {
   "cell_type": "code",
   "execution_count": null,
   "id": "3a2cfb17",
   "metadata": {},
   "outputs": [],
   "source": [
    "10%2==0"
   ]
  },
  {
   "cell_type": "code",
   "execution_count": 5,
   "id": "28ddff8b",
   "metadata": {},
   "outputs": [
    {
     "data": {
      "text/plain": [
       "5"
      ]
     },
     "execution_count": 5,
     "metadata": {},
     "output_type": "execute_result"
    }
   ],
   "source": [
    "11//2"
   ]
  },
  {
   "cell_type": "code",
   "execution_count": 11,
   "id": "433c6845",
   "metadata": {},
   "outputs": [
    {
     "name": "stdout",
     "output_type": "stream",
     "text": [
      "Enter row: 10\n",
      "plz enter odd number ....\n"
     ]
    }
   ],
   "source": [
    "n=int(input('Enter row: '))\n",
    "if n%2:\n",
    "    \n",
    "    for row in range(n):\n",
    "        for col in range(n):\n",
    "            if row ==n//2 or col==n//2 or (row==0 and col>n//2) or (col==n-1 and row>n//2) or (col==0 and row<n//2) or (row==n-1 and col<n//2):\n",
    "                print('*',end=' ')\n",
    "            else:\n",
    "                print(end='  ')\n",
    "        print()\n",
    "else:\n",
    "    print('plz enter odd number ....')"
   ]
  },
  {
   "cell_type": "markdown",
   "id": "9ded120c",
   "metadata": {},
   "source": [
    "                                    *\n",
    "                                   * *\n",
    "                                  * * * \n",
    "                                 * * * *\n",
    "                                * * * * *\n",
    "                                 * * * *\n",
    "                                * * * * *\n",
    "                               * * * * * *\n",
    "                              * * * * * * *\n",
    "                               * * * * * *\n",
    "                              * * * * * * *\n",
    "                             * * * * * * * *\n",
    "                              * * * * * * * \n",
    "                             * * * * * * * *\n",
    "                            * * * * * * * * *\n",
    "                           * * * * * * * * * *\n",
    "                                 * * * *\n",
    "                                 * * * *\n",
    "                                 * * * *\n",
    "                                 * * * *\n",
    "                                 * * * *"
   ]
  },
  {
   "cell_type": "code",
   "execution_count": 26,
   "id": "212f312c",
   "metadata": {},
   "outputs": [
    {
     "name": "stdout",
     "output_type": "stream",
     "text": [
      "                    \n",
      "                    *\n",
      "                   * *\n",
      "                  * * *\n",
      "                 * * * *\n",
      "                * * * * *\n",
      "                 * * * *\n",
      "                * * * * *\n",
      "               * * * * * *\n",
      "              * * * * * * *\n",
      "               * * * * * *\n",
      "              * * * * * * *\n",
      "             * * * * * * * *\n",
      "            * * * * * * * * *\n",
      "             * * * * * * * *\n",
      "            * * * * * * * * *\n",
      "           * * * * * * * * * *\n",
      "          * * * * * * * * * * *\n",
      "                * * * * *\n",
      "                * * * * *\n",
      "                * * * * *\n",
      "                * * * * *\n",
      "                * * * * *\n"
     ]
    }
   ],
   "source": [
    "for i in range(6):\n",
    "    print(' '*(20-i)+' *'*i)\n",
    "for i in range(4,8):\n",
    "    print(' '*(20-i)+' *'*i)\n",
    "for i in range(6,10):\n",
    "    print(' '*(20-i)+' *'*i)\n",
    "for i in range(8,12):\n",
    "    print(' '*(20-i)+' *'*i)\n",
    "for i in range(5):\n",
    "    print(' '*(15)+' *'*5)"
   ]
  },
  {
   "cell_type": "markdown",
   "id": "9e0d9523",
   "metadata": {},
   "source": [
    "                        ***********\n",
    "                        ***** *****\n",
    "                        ****   ****\n",
    "                        ***     ***\n",
    "                        **       **\n",
    "                        *         *\n",
    "                        **       **\n",
    "                        ***     ***\n",
    "                        ****   ****\n",
    "                        ***** *****\n",
    "                        ***********"
   ]
  }
 ],
 "metadata": {
  "kernelspec": {
   "display_name": "Python 3 (ipykernel)",
   "language": "python",
   "name": "python3"
  },
  "language_info": {
   "codemirror_mode": {
    "name": "ipython",
    "version": 3
   },
   "file_extension": ".py",
   "mimetype": "text/x-python",
   "name": "python",
   "nbconvert_exporter": "python",
   "pygments_lexer": "ipython3",
   "version": "3.9.6"
  }
 },
 "nbformat": 4,
 "nbformat_minor": 5
}
