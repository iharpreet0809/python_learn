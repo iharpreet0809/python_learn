{
 "cells": [
  {
   "cell_type": "code",
   "execution_count": 1,
   "id": "d028e8c4",
   "metadata": {},
   "outputs": [],
   "source": [
    "d=[1,2,3,6,7,9,5,2,1]\n",
    "mean=4\n"
   ]
  },
  {
   "cell_type": "code",
   "execution_count": 2,
   "id": "02e18d94",
   "metadata": {},
   "outputs": [],
   "source": [
    "import numpy as np"
   ]
  },
  {
   "cell_type": "code",
   "execution_count": 3,
   "id": "e99e940a",
   "metadata": {},
   "outputs": [
    {
     "data": {
      "text/plain": [
       "4.0"
      ]
     },
     "execution_count": 3,
     "metadata": {},
     "output_type": "execute_result"
    }
   ],
   "source": [
    "np.mean(d)"
   ]
  },
  {
   "cell_type": "code",
   "execution_count": 4,
   "id": "d5fa4364",
   "metadata": {},
   "outputs": [
    {
     "data": {
      "text/plain": [
       "3.0"
      ]
     },
     "execution_count": 4,
     "metadata": {},
     "output_type": "execute_result"
    }
   ],
   "source": [
    "np.median(d)"
   ]
  },
  {
   "cell_type": "code",
   "execution_count": 5,
   "id": "301cb772",
   "metadata": {},
   "outputs": [],
   "source": [
    "incomes=np.random.normal(27000,15000,10000)"
   ]
  },
  {
   "cell_type": "code",
   "execution_count": 6,
   "id": "4804e02a",
   "metadata": {},
   "outputs": [
    {
     "name": "stdout",
     "output_type": "stream",
     "text": [
      "[28108.72933936 20763.25588457 47845.64546252 ... 33883.51014524\n",
      " 40549.63383538  7994.42886847]\n"
     ]
    }
   ],
   "source": [
    "print(incomes)"
   ]
  },
  {
   "cell_type": "code",
   "execution_count": 7,
   "id": "ba48ac76",
   "metadata": {},
   "outputs": [
    {
     "data": {
      "text/plain": [
       "27101.285942177885"
      ]
     },
     "execution_count": 7,
     "metadata": {},
     "output_type": "execute_result"
    }
   ],
   "source": [
    "np.mean(incomes)"
   ]
  },
  {
   "cell_type": "code",
   "execution_count": 8,
   "id": "ad353b97",
   "metadata": {},
   "outputs": [],
   "source": [
    "import matplotlib.pyplot as plt"
   ]
  },
  {
   "cell_type": "code",
   "execution_count": 9,
   "id": "ff106d8b",
   "metadata": {},
   "outputs": [
    {
     "data": {
      "image/png": "[encoded data removed]",
      "text/plain": [
       "<Figure size 432x288 with 1 Axes>"
      ]
     },
     "metadata": {
      "needs_background": "light"
     },
     "output_type": "display_data"
    }
   ],
   "source": [
    "plt.hist(incomes,50)\n",
    "plt.show()"
   ]
  },
  {
   "cell_type": "code",
   "execution_count": 10,
   "id": "fce0444f",
   "metadata": {},
   "outputs": [
    {
     "data": {
      "text/plain": [
       "27048.19967031514"
      ]
     },
     "execution_count": 10,
     "metadata": {},
     "output_type": "execute_result"
    }
   ],
   "source": [
    "np.median(incomes)"
   ]
  },
  {
   "cell_type": "code",
   "execution_count": 11,
   "id": "0b65cc7f",
   "metadata": {},
   "outputs": [],
   "source": [
    "from scipy import stats"
   ]
  },
  {
   "cell_type": "code",
   "execution_count": 12,
   "id": "46cfb955",
   "metadata": {},
   "outputs": [
    {
     "data": {
      "text/plain": [
       "ModeResult(mode=array([-30105.08722156]), count=array([1]))"
      ]
     },
     "execution_count": 12,
     "metadata": {},
     "output_type": "execute_result"
    }
   ],
   "source": [
    "stats.mode(incomes)"
   ]
  },
  {
   "cell_type": "code",
   "execution_count": 16,
   "id": "f6f058ac",
   "metadata": {},
   "outputs": [],
   "source": [
    "ages=np.random.randint(18,80,500)"
   ]
  },
  {
   "cell_type": "code",
   "execution_count": 17,
   "id": "74a1d814",
   "metadata": {},
   "outputs": [
    {
     "data": {
      "text/plain": [
       "array([59, 77, 58, 31, 19, 20, 21, 69, 67, 20, 78, 53, 25, 33, 43, 58, 74,\n",
       "       43, 38, 23, 76, 69, 45, 20, 63, 34, 41, 75, 37, 26, 56, 66, 32, 21,\n",
       "       45, 30, 24, 32, 67, 62, 29, 71, 22, 38, 33, 35, 48, 19, 40, 24, 62,\n",
       "       38, 32, 67, 53, 69, 46, 32, 45, 74, 57, 41, 52, 56, 68, 52, 62, 59,\n",
       "       60, 74, 79, 36, 43, 43, 71, 58, 69, 37, 73, 55, 77, 79, 21, 31, 35,\n",
       "       30, 67, 30, 20, 46, 45, 73, 45, 24, 76, 69, 42, 63, 63, 75, 36, 70,\n",
       "       27, 39, 56, 20, 48, 48, 40, 42, 73, 35, 35, 24, 62, 60, 50, 77, 69,\n",
       "       29, 45, 31, 27, 37, 71, 65, 49, 47, 52, 77, 65, 72, 66, 66, 76, 21,\n",
       "       50, 52, 43, 73, 27, 22, 58, 64, 23, 38, 53, 48, 28, 56, 47, 25, 62,\n",
       "       55, 20, 71, 63, 20, 55, 29, 69, 28, 61, 62, 48, 18, 47, 75, 72, 40,\n",
       "       33, 26, 59, 35, 26, 18, 47, 70, 28, 75, 76, 69, 30, 76, 48, 79, 53,\n",
       "       66, 42, 54, 63, 40, 46, 35, 25, 20, 75, 43, 26, 39, 78, 57, 67, 43,\n",
       "       39, 54, 46, 44, 77, 43, 24, 57, 63, 28, 31, 39, 34, 60, 36, 74, 19,\n",
       "       25, 72, 75, 32, 61, 49, 61, 48, 62, 47, 48, 25, 71, 53, 59, 56, 79,\n",
       "       28, 41, 18, 40, 57, 43, 59, 70, 58, 19, 31, 25, 54, 49, 72, 54, 43,\n",
       "       27, 33, 29, 55, 77, 76, 42, 22, 47, 47, 57, 54, 64, 74, 18, 78, 62,\n",
       "       77, 40, 52, 76, 25, 51, 56, 65, 28, 18, 68, 30, 20, 19, 32, 75, 69,\n",
       "       75, 56, 40, 51, 24, 66, 68, 20, 18, 22, 72, 76, 52, 20, 19, 66, 45,\n",
       "       24, 32, 65, 66, 37, 40, 60, 54, 55, 59, 69, 57, 35, 29, 24, 52, 68,\n",
       "       58, 28, 63, 50, 65, 30, 22, 22, 48, 18, 28, 73, 27, 68, 53, 53, 64,\n",
       "       40, 35, 41, 53, 62, 50, 78, 45, 78, 40, 33, 23, 59, 76, 57, 72, 75,\n",
       "       38, 75, 26, 68, 25, 40, 46, 74, 26, 64, 49, 33, 54, 74, 18, 38, 40,\n",
       "       52, 57, 42, 79, 65, 51, 70, 77, 71, 34, 33, 25, 33, 21, 38, 33, 46,\n",
       "       71, 36, 25, 75, 50, 62, 66, 51, 61, 32, 30, 75, 20, 47, 30, 49, 69,\n",
       "       71, 52, 64, 44, 55, 65, 23, 60, 53, 65, 57, 71, 75, 57, 31, 68, 51,\n",
       "       37, 23, 42, 21, 24, 56, 76, 50, 43, 26, 56, 34, 61, 73, 65, 43, 68,\n",
       "       63, 78, 65, 41, 51, 21, 67, 47, 64, 26, 22, 63, 32, 29, 55, 44, 24,\n",
       "       73, 37, 37, 79, 71, 36, 67, 43, 18, 33, 65, 49, 34, 55, 30, 48, 79,\n",
       "       22, 32, 79, 70, 28, 46, 74, 56, 46, 62, 66, 64, 73, 67, 71, 18, 62,\n",
       "       50, 27, 68, 37, 53, 43, 74])"
      ]
     },
     "execution_count": 17,
     "metadata": {},
     "output_type": "execute_result"
    }
   ],
   "source": [
    "ages"
   ]
  },
  {
   "cell_type": "code",
   "execution_count": 18,
   "id": "bce35021",
   "metadata": {},
   "outputs": [
    {
     "data": {
      "text/plain": [
       "ModeResult(mode=array([43]), count=array([14]))"
      ]
     },
     "execution_count": 18,
     "metadata": {},
     "output_type": "execute_result"
    }
   ],
   "source": [
    "stats.mode(ages)"
   ]
  },
  {
   "cell_type": "code",
   "execution_count": 19,
   "id": "4ac2c23d",
   "metadata": {},
   "outputs": [],
   "source": [
    " # std , var "
   ]
  },
  {
   "cell_type": "code",
   "execution_count": 20,
   "id": "2cd3e009",
   "metadata": {},
   "outputs": [],
   "source": [
    "#std\n",
    "# var"
   ]
  },
  {
   "cell_type": "code",
   "execution_count": 21,
   "id": "33f5b63b",
   "metadata": {},
   "outputs": [
    {
     "data": {
      "text/plain": [
       "18.179139143534822"
      ]
     },
     "execution_count": 21,
     "metadata": {},
     "output_type": "execute_result"
    }
   ],
   "source": [
    "np.std(ages)"
   ]
  },
  {
   "cell_type": "code",
   "execution_count": 22,
   "id": "551f7942",
   "metadata": {},
   "outputs": [
    {
     "data": {
      "text/plain": [
       "330.48109999999997"
      ]
     },
     "execution_count": 22,
     "metadata": {},
     "output_type": "execute_result"
    }
   ],
   "source": [
    "np.var(ages)"
   ]
  },
  {
   "cell_type": "code",
   "execution_count": 23,
   "id": "25cf3de9",
   "metadata": {},
   "outputs": [],
   "source": [
    "mean=np.mean(ages)"
   ]
  },
  {
   "cell_type": "code",
   "execution_count": 24,
   "id": "faba38da",
   "metadata": {},
   "outputs": [
    {
     "data": {
      "text/plain": [
       "49.03"
      ]
     },
     "execution_count": 24,
     "metadata": {},
     "output_type": "execute_result"
    }
   ],
   "source": [
    "mean"
   ]
  },
  {
   "cell_type": "code",
   "execution_count": 28,
   "id": "3601dc35",
   "metadata": {},
   "outputs": [
    {
     "data": {
      "text/plain": [
       "330.4810999999999"
      ]
     },
     "execution_count": 28,
     "metadata": {},
     "output_type": "execute_result"
    }
   ],
   "source": [
    "sum((ages-mean)**2)/len(ages)"
   ]
  },
  {
   "cell_type": "code",
   "execution_count": null,
   "id": "094dc0ce",
   "metadata": {},
   "outputs": [],
   "source": []
  }
 ],
 "metadata": {
  "kernelspec": {
   "display_name": "Python 3",
   "language": "python",
   "name": "python3"
  },
  "language_info": {
   "codemirror_mode": {
    "name": "ipython",
    "version": 3
   },
   "file_extension": ".py",
   "mimetype": "text/x-python",
   "name": "python",
   "nbconvert_exporter": "python",
   "pygments_lexer": "ipython3",
   "version": "3.6.4"
  }
 },
 "nbformat": 4,
 "nbformat_minor": 5
}
