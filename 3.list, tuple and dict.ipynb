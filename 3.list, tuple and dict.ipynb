{
 "cells": [
  {
   "cell_type": "code",
   "execution_count": 1,
   "id": "78276c40",
   "metadata": {},
   "outputs": [],
   "source": [
    "s='hello python'"
   ]
  },
  {
   "cell_type": "code",
   "execution_count": 2,
   "id": "820e7f18",
   "metadata": {},
   "outputs": [
    {
     "data": {
      "text/plain": [
       "str"
      ]
     },
     "execution_count": 2,
     "metadata": {},
     "output_type": "execute_result"
    }
   ],
   "source": [
    "type(s)"
   ]
  },
  {
   "cell_type": "code",
   "execution_count": 3,
   "id": "b57a1d5c",
   "metadata": {},
   "outputs": [],
   "source": [
    "s1=s.encode()"
   ]
  },
  {
   "cell_type": "code",
   "execution_count": 4,
   "id": "c8dbfac8",
   "metadata": {},
   "outputs": [
    {
     "data": {
      "text/plain": [
       "bytes"
      ]
     },
     "execution_count": 4,
     "metadata": {},
     "output_type": "execute_result"
    }
   ],
   "source": [
    "type(s1)"
   ]
  },
  {
   "cell_type": "code",
   "execution_count": 5,
   "id": "99cc94aa",
   "metadata": {},
   "outputs": [
    {
     "data": {
      "text/plain": [
       "b'hello python'"
      ]
     },
     "execution_count": 5,
     "metadata": {},
     "output_type": "execute_result"
    }
   ],
   "source": [
    "s1"
   ]
  },
  {
   "cell_type": "code",
   "execution_count": 6,
   "id": "f0b8b732",
   "metadata": {},
   "outputs": [],
   "source": [
    "r='hello python how are you'"
   ]
  },
  {
   "cell_type": "code",
   "execution_count": 7,
   "id": "c42c8c09",
   "metadata": {},
   "outputs": [
    {
     "data": {
      "text/plain": [
       "13"
      ]
     },
     "execution_count": 7,
     "metadata": {},
     "output_type": "execute_result"
    }
   ],
   "source": [
    "r.find('how')"
   ]
  },
  {
   "cell_type": "code",
   "execution_count": 8,
   "id": "4665e9a3",
   "metadata": {},
   "outputs": [],
   "source": [
    "r.format_map?"
   ]
  },
  {
   "cell_type": "code",
   "execution_count": 1,
   "id": "49a2a8a7",
   "metadata": {},
   "outputs": [],
   "source": [
    "name='harpreet'\n",
    "email='harpreet99437@gmail.com'"
   ]
  },
  {
   "cell_type": "code",
   "execution_count": 2,
   "id": "320a3fd8",
   "metadata": {},
   "outputs": [
    {
     "name": "stdout",
     "output_type": "stream",
     "text": [
      "hello harpreet and your email id harpreet99437@gmail.com\n"
     ]
    }
   ],
   "source": [
    "print(f'hello {name} and your email id {email}')"
   ]
  },
  {
   "cell_type": "code",
   "execution_count": 3,
   "id": "dd45f6cd",
   "metadata": {},
   "outputs": [
    {
     "name": "stdout",
     "output_type": "stream",
     "text": [
      "hii harpreet and your id harpreet99437@gmail.com\n"
     ]
    }
   ],
   "source": [
    "print('hii {} and your id {}'.format(name,email))"
   ]
  },
  {
   "cell_type": "code",
   "execution_count": 4,
   "id": "e05f9a40",
   "metadata": {},
   "outputs": [],
   "source": [
    "d={'id':1001,'name':'python'}"
   ]
  },
  {
   "cell_type": "code",
   "execution_count": 5,
   "id": "d9a01245",
   "metadata": {},
   "outputs": [
    {
     "name": "stdout",
     "output_type": "stream",
     "text": [
      "hello your id 1001 and name python\n"
     ]
    }
   ],
   "source": [
    "print('hello your id {id} and name {name}'.format_map(d))"
   ]
  },
  {
   "cell_type": "code",
   "execution_count": 6,
   "id": "7a222640",
   "metadata": {},
   "outputs": [
    {
     "name": "stdout",
     "output_type": "stream",
     "text": [
      "your roll number 1004 and marks 90\n"
     ]
    }
   ],
   "source": [
    "roll=1004\n",
    "marks=90\n",
    "print('your roll number %d and marks %d'%(roll,marks))"
   ]
  },
  {
   "cell_type": "markdown",
   "id": "152f2f98",
   "metadata": {},
   "source": [
    "# list and tuple\n",
    "# both are collection of datatype\n",
    "# list is a mutable and tuple is a immutable\n"
   ]
  },
  {
   "cell_type": "code",
   "execution_count": 7,
   "id": "65ca1149",
   "metadata": {},
   "outputs": [],
   "source": [
    "l=['harpreet',23,'jaipur']"
   ]
  },
  {
   "cell_type": "code",
   "execution_count": 8,
   "id": "35b939d2",
   "metadata": {},
   "outputs": [],
   "source": [
    "t=('harpreet',23,'jaipur')"
   ]
  },
  {
   "cell_type": "code",
   "execution_count": 9,
   "id": "54cfbf36",
   "metadata": {},
   "outputs": [
    {
     "data": {
      "text/plain": [
       "list"
      ]
     },
     "execution_count": 9,
     "metadata": {},
     "output_type": "execute_result"
    }
   ],
   "source": [
    "type(l)"
   ]
  },
  {
   "cell_type": "code",
   "execution_count": 10,
   "id": "19e5dafe",
   "metadata": {},
   "outputs": [
    {
     "data": {
      "text/plain": [
       "tuple"
      ]
     },
     "execution_count": 10,
     "metadata": {},
     "output_type": "execute_result"
    }
   ],
   "source": [
    "type(t)"
   ]
  },
  {
   "cell_type": "code",
   "execution_count": 11,
   "id": "891b2a7b",
   "metadata": {},
   "outputs": [
    {
     "name": "stdout",
     "output_type": "stream",
     "text": [
      "['__add__', '__class__', '__class_getitem__', '__contains__', '__delattr__', '__delitem__', '__dir__', '__doc__', '__eq__', '__format__', '__ge__', '__getattribute__', '__getitem__', '__gt__', '__hash__', '__iadd__', '__imul__', '__init__', '__init_subclass__', '__iter__', '__le__', '__len__', '__lt__', '__mul__', '__ne__', '__new__', '__reduce__', '__reduce_ex__', '__repr__', '__reversed__', '__rmul__', '__setattr__', '__setitem__', '__sizeof__', '__str__', '__subclasshook__', 'append', 'clear', 'copy', 'count', 'extend', 'index', 'insert', 'pop', 'remove', 'reverse', 'sort']\n"
     ]
    }
   ],
   "source": [
    "print(dir(list))"
   ]
  },
  {
   "cell_type": "code",
   "execution_count": 12,
   "id": "76b4d100",
   "metadata": {},
   "outputs": [
    {
     "name": "stdout",
     "output_type": "stream",
     "text": [
      "['__add__', '__class__', '__class_getitem__', '__contains__', '__delattr__', '__dir__', '__doc__', '__eq__', '__format__', '__ge__', '__getattribute__', '__getitem__', '__getnewargs__', '__gt__', '__hash__', '__init__', '__init_subclass__', '__iter__', '__le__', '__len__', '__lt__', '__mul__', '__ne__', '__new__', '__reduce__', '__reduce_ex__', '__repr__', '__rmul__', '__setattr__', '__sizeof__', '__str__', '__subclasshook__', 'count', 'index']\n"
     ]
    }
   ],
   "source": [
    "print(dir(tuple))"
   ]
  },
  {
   "cell_type": "code",
   "execution_count": 13,
   "id": "6d0af1db",
   "metadata": {},
   "outputs": [
    {
     "data": {
      "text/plain": [
       "['harpreet', 23, 'jaipur']"
      ]
     },
     "execution_count": 13,
     "metadata": {},
     "output_type": "execute_result"
    }
   ],
   "source": [
    "l"
   ]
  },
  {
   "cell_type": "code",
   "execution_count": 14,
   "id": "b8399b12",
   "metadata": {},
   "outputs": [
    {
     "data": {
      "text/plain": [
       "('harpreet', 23, 'jaipur')"
      ]
     },
     "execution_count": 14,
     "metadata": {},
     "output_type": "execute_result"
    }
   ],
   "source": [
    "t"
   ]
  },
  {
   "cell_type": "code",
   "execution_count": 15,
   "id": "0c29ae6f",
   "metadata": {},
   "outputs": [
    {
     "data": {
      "text/plain": [
       "104"
      ]
     },
     "execution_count": 15,
     "metadata": {},
     "output_type": "execute_result"
    }
   ],
   "source": [
    "l.__sizeof__()"
   ]
  },
  {
   "cell_type": "code",
   "execution_count": 16,
   "id": "fe13ce98",
   "metadata": {},
   "outputs": [
    {
     "data": {
      "text/plain": [
       "48"
      ]
     },
     "execution_count": 16,
     "metadata": {},
     "output_type": "execute_result"
    }
   ],
   "source": [
    "t.__sizeof__()"
   ]
  },
  {
   "cell_type": "markdown",
   "id": "3312eec1",
   "metadata": {},
   "source": [
    "# for add element in list\n",
    "# append---> add element end of the list\n",
    "# insert\n",
    "# extend"
   ]
  },
  {
   "cell_type": "code",
   "execution_count": 18,
   "id": "bd2aea56",
   "metadata": {},
   "outputs": [],
   "source": [
    "l.append('delhi')"
   ]
  },
  {
   "cell_type": "code",
   "execution_count": 19,
   "id": "c6acb7a1",
   "metadata": {},
   "outputs": [
    {
     "data": {
      "text/plain": [
       "['harpreet', 23, 'jaipur', 'delhi']"
      ]
     },
     "execution_count": 19,
     "metadata": {},
     "output_type": "execute_result"
    }
   ],
   "source": [
    "l"
   ]
  },
  {
   "cell_type": "code",
   "execution_count": 20,
   "id": "c390a5f2",
   "metadata": {},
   "outputs": [],
   "source": [
    "l.append('agra')"
   ]
  },
  {
   "cell_type": "code",
   "execution_count": 21,
   "id": "e37bb055",
   "metadata": {},
   "outputs": [
    {
     "data": {
      "text/plain": [
       "['harpreet', 23, 'jaipur', 'delhi', 'agra']"
      ]
     },
     "execution_count": 21,
     "metadata": {},
     "output_type": "execute_result"
    }
   ],
   "source": [
    "l"
   ]
  },
  {
   "cell_type": "code",
   "execution_count": 22,
   "id": "0307eef1",
   "metadata": {},
   "outputs": [
    {
     "data": {
      "text/plain": [
       "'harpreet'"
      ]
     },
     "execution_count": 22,
     "metadata": {},
     "output_type": "execute_result"
    }
   ],
   "source": [
    "l[0]"
   ]
  },
  {
   "cell_type": "code",
   "execution_count": 23,
   "id": "0c863798",
   "metadata": {},
   "outputs": [
    {
     "data": {
      "text/plain": [
       "23"
      ]
     },
     "execution_count": 23,
     "metadata": {},
     "output_type": "execute_result"
    }
   ],
   "source": [
    "l[1]"
   ]
  },
  {
   "cell_type": "code",
   "execution_count": 24,
   "id": "e9e3a424",
   "metadata": {},
   "outputs": [
    {
     "data": {
      "text/plain": [
       "['harpreet', 23, 'jaipur', 'delhi', 'agra']"
      ]
     },
     "execution_count": 24,
     "metadata": {},
     "output_type": "execute_result"
    }
   ],
   "source": [
    "l"
   ]
  },
  {
   "cell_type": "code",
   "execution_count": 25,
   "id": "4c462871",
   "metadata": {},
   "outputs": [],
   "source": [
    "l.insert(3,'Ajmer') # insert(indexing,element)"
   ]
  },
  {
   "cell_type": "code",
   "execution_count": 26,
   "id": "323e67d2",
   "metadata": {},
   "outputs": [
    {
     "data": {
      "text/plain": [
       "['harpreet', 23, 'jaipur', 'Ajmer', 'delhi', 'agra']"
      ]
     },
     "execution_count": 26,
     "metadata": {},
     "output_type": "execute_result"
    }
   ],
   "source": [
    "l"
   ]
  },
  {
   "cell_type": "code",
   "execution_count": 27,
   "id": "67b5b0f4",
   "metadata": {},
   "outputs": [],
   "source": [
    "l.extend(['shan','jeet','sachin','neha'])"
   ]
  },
  {
   "cell_type": "code",
   "execution_count": 28,
   "id": "5176c042",
   "metadata": {},
   "outputs": [
    {
     "name": "stdout",
     "output_type": "stream",
     "text": [
      "['harpreet', 23, 'jaipur', 'Ajmer', 'delhi', 'agra', 'shan', 'jeet', 'sachin', 'neha']\n"
     ]
    }
   ],
   "source": [
    "print(l)"
   ]
  },
  {
   "cell_type": "code",
   "execution_count": 29,
   "id": "a619c6e7",
   "metadata": {},
   "outputs": [],
   "source": [
    "# "
   ]
  },
  {
   "cell_type": "code",
   "execution_count": 30,
   "id": "fee79048",
   "metadata": {},
   "outputs": [
    {
     "ename": "AttributeError",
     "evalue": "'tuple' object has no attribute 'append'",
     "output_type": "error",
     "traceback": [
      "\u001b[1;31m---------------------------------------------------------------------------\u001b[0m",
      "\u001b[1;31mAttributeError\u001b[0m                            Traceback (most recent call last)",
      "\u001b[1;32mC:\\Users\\ADMIN0~1\\AppData\\Local\\Temp/ipykernel_31148/1702498049.py\u001b[0m in \u001b[0;36m<module>\u001b[1;34m\u001b[0m\n\u001b[1;32m----> 1\u001b[1;33m \u001b[0mt\u001b[0m\u001b[1;33m.\u001b[0m\u001b[0mappend\u001b[0m\u001b[1;33m(\u001b[0m\u001b[1;34m'jaipur'\u001b[0m\u001b[1;33m)\u001b[0m\u001b[1;33m\u001b[0m\u001b[1;33m\u001b[0m\u001b[0m\n\u001b[0m",
      "\u001b[1;31mAttributeError\u001b[0m: 'tuple' object has no attribute 'append'"
     ]
    }
   ],
   "source": [
    "t.append('jaipur')"
   ]
  },
  {
   "cell_type": "code",
   "execution_count": null,
   "id": "2f5b8fc4",
   "metadata": {},
   "outputs": [],
   "source": [
    "# for delete element in list\n",
    "# pop\n",
    "# remove"
   ]
  },
  {
   "cell_type": "code",
   "execution_count": 31,
   "id": "6abeec3e",
   "metadata": {},
   "outputs": [
    {
     "name": "stdout",
     "output_type": "stream",
     "text": [
      "['harpreet', 23, 'jaipur', 'Ajmer', 'delhi', 'agra', 'shan', 'jeet', 'sachin', 'neha']\n"
     ]
    }
   ],
   "source": [
    "print(l)"
   ]
  },
  {
   "cell_type": "code",
   "execution_count": 32,
   "id": "7744d203",
   "metadata": {},
   "outputs": [
    {
     "data": {
      "text/plain": [
       "'neha'"
      ]
     },
     "execution_count": 32,
     "metadata": {},
     "output_type": "execute_result"
    }
   ],
   "source": [
    "l.pop()"
   ]
  },
  {
   "cell_type": "code",
   "execution_count": 33,
   "id": "20446ab0",
   "metadata": {},
   "outputs": [
    {
     "name": "stdout",
     "output_type": "stream",
     "text": [
      "['harpreet', 23, 'jaipur', 'Ajmer', 'delhi', 'agra', 'shan', 'jeet', 'sachin']\n"
     ]
    }
   ],
   "source": [
    "print(l)"
   ]
  },
  {
   "cell_type": "code",
   "execution_count": 34,
   "id": "c4a6e164",
   "metadata": {},
   "outputs": [
    {
     "data": {
      "text/plain": [
       "'sachin'"
      ]
     },
     "execution_count": 34,
     "metadata": {},
     "output_type": "execute_result"
    }
   ],
   "source": [
    "l.pop()"
   ]
  },
  {
   "cell_type": "code",
   "execution_count": 35,
   "id": "6b95cfc3",
   "metadata": {},
   "outputs": [
    {
     "name": "stdout",
     "output_type": "stream",
     "text": [
      "['harpreet', 23, 'jaipur', 'Ajmer', 'delhi', 'agra', 'shan', 'jeet']\n"
     ]
    }
   ],
   "source": [
    "print(l)"
   ]
  },
  {
   "cell_type": "code",
   "execution_count": 36,
   "id": "8320c63c",
   "metadata": {},
   "outputs": [
    {
     "data": {
      "text/plain": [
       "'delhi'"
      ]
     },
     "execution_count": 36,
     "metadata": {},
     "output_type": "execute_result"
    }
   ],
   "source": [
    "l.pop(4)"
   ]
  },
  {
   "cell_type": "code",
   "execution_count": 37,
   "id": "b372732c",
   "metadata": {},
   "outputs": [
    {
     "name": "stdout",
     "output_type": "stream",
     "text": [
      "['harpreet', 23, 'jaipur', 'Ajmer', 'agra', 'shan', 'jeet']\n"
     ]
    }
   ],
   "source": [
    "print(l)"
   ]
  },
  {
   "cell_type": "code",
   "execution_count": 38,
   "id": "851eb2d1",
   "metadata": {},
   "outputs": [],
   "source": [
    "l.remove('Ajmer')"
   ]
  },
  {
   "cell_type": "code",
   "execution_count": 39,
   "id": "af06e8d2",
   "metadata": {},
   "outputs": [
    {
     "name": "stdout",
     "output_type": "stream",
     "text": [
      "['harpreet', 23, 'jaipur', 'agra', 'shan', 'jeet']\n"
     ]
    }
   ],
   "source": [
    "print(l)"
   ]
  },
  {
   "cell_type": "code",
   "execution_count": 40,
   "id": "90a04ce9",
   "metadata": {},
   "outputs": [],
   "source": [
    "l.remove('agra')"
   ]
  },
  {
   "cell_type": "code",
   "execution_count": 41,
   "id": "e3f2ca65",
   "metadata": {},
   "outputs": [
    {
     "name": "stdout",
     "output_type": "stream",
     "text": [
      "['harpreet', 23, 'jaipur', 'shan', 'jeet']\n"
     ]
    }
   ],
   "source": [
    "print(l)"
   ]
  },
  {
   "cell_type": "code",
   "execution_count": 42,
   "id": "b8450be5",
   "metadata": {},
   "outputs": [
    {
     "data": {
      "text/plain": [
       "['harpreet', 23, 'jaipur', 'shan', 'jeet']"
      ]
     },
     "execution_count": 42,
     "metadata": {},
     "output_type": "execute_result"
    }
   ],
   "source": [
    "l"
   ]
  },
  {
   "cell_type": "markdown",
   "id": "0e0b0523",
   "metadata": {},
   "source": [
    "# shallow copy\n",
    "# deep copy"
   ]
  },
  {
   "cell_type": "code",
   "execution_count": 44,
   "id": "66414d49",
   "metadata": {},
   "outputs": [],
   "source": [
    "l1=l # deep copy"
   ]
  },
  {
   "cell_type": "code",
   "execution_count": 45,
   "id": "49e8874a",
   "metadata": {},
   "outputs": [
    {
     "data": {
      "text/plain": [
       "['harpreet', 23, 'jaipur', 'shan', 'jeet']"
      ]
     },
     "execution_count": 45,
     "metadata": {},
     "output_type": "execute_result"
    }
   ],
   "source": [
    "l1"
   ]
  },
  {
   "cell_type": "code",
   "execution_count": 46,
   "id": "2e4997a5",
   "metadata": {},
   "outputs": [
    {
     "data": {
      "text/plain": [
       "['harpreet', 23, 'jaipur', 'shan', 'jeet']"
      ]
     },
     "execution_count": 46,
     "metadata": {},
     "output_type": "execute_result"
    }
   ],
   "source": [
    "l"
   ]
  },
  {
   "cell_type": "code",
   "execution_count": 47,
   "id": "18ce61ef",
   "metadata": {},
   "outputs": [],
   "source": [
    "l2=l.copy()"
   ]
  },
  {
   "cell_type": "code",
   "execution_count": 48,
   "id": "65b504de",
   "metadata": {},
   "outputs": [
    {
     "data": {
      "text/plain": [
       "['harpreet', 23, 'jaipur', 'shan', 'jeet']"
      ]
     },
     "execution_count": 48,
     "metadata": {},
     "output_type": "execute_result"
    }
   ],
   "source": [
    "l2 # shallow "
   ]
  },
  {
   "cell_type": "code",
   "execution_count": 49,
   "id": "6eaf40a0",
   "metadata": {},
   "outputs": [
    {
     "data": {
      "text/plain": [
       "['harpreet', 23, 'jaipur', 'shan', 'jeet']"
      ]
     },
     "execution_count": 49,
     "metadata": {},
     "output_type": "execute_result"
    }
   ],
   "source": [
    "l\n"
   ]
  },
  {
   "cell_type": "code",
   "execution_count": 50,
   "id": "4406a02b",
   "metadata": {},
   "outputs": [
    {
     "data": {
      "text/plain": [
       "['harpreet', 23, 'jaipur', 'shan', 'jeet']"
      ]
     },
     "execution_count": 50,
     "metadata": {},
     "output_type": "execute_result"
    }
   ],
   "source": [
    "l1 # deep"
   ]
  },
  {
   "cell_type": "code",
   "execution_count": 51,
   "id": "0529420f",
   "metadata": {},
   "outputs": [
    {
     "data": {
      "text/plain": [
       "'jeet'"
      ]
     },
     "execution_count": 51,
     "metadata": {},
     "output_type": "execute_result"
    }
   ],
   "source": [
    "l.pop()"
   ]
  },
  {
   "cell_type": "code",
   "execution_count": 52,
   "id": "79e26b6d",
   "metadata": {},
   "outputs": [
    {
     "data": {
      "text/plain": [
       "['harpreet', 23, 'jaipur', 'shan']"
      ]
     },
     "execution_count": 52,
     "metadata": {},
     "output_type": "execute_result"
    }
   ],
   "source": [
    "l"
   ]
  },
  {
   "cell_type": "code",
   "execution_count": 53,
   "id": "c04a9fd7",
   "metadata": {},
   "outputs": [
    {
     "data": {
      "text/plain": [
       "['harpreet', 23, 'jaipur', 'shan']"
      ]
     },
     "execution_count": 53,
     "metadata": {},
     "output_type": "execute_result"
    }
   ],
   "source": [
    "l1"
   ]
  },
  {
   "cell_type": "code",
   "execution_count": 54,
   "id": "2faaeb79",
   "metadata": {},
   "outputs": [
    {
     "data": {
      "text/plain": [
       "['harpreet', 23, 'jaipur', 'shan', 'jeet']"
      ]
     },
     "execution_count": 54,
     "metadata": {},
     "output_type": "execute_result"
    }
   ],
   "source": [
    "l2"
   ]
  },
  {
   "cell_type": "code",
   "execution_count": 55,
   "id": "288cd05a",
   "metadata": {},
   "outputs": [
    {
     "data": {
      "text/plain": [
       "['harpreet', 23, 'jaipur', 'shan']"
      ]
     },
     "execution_count": 55,
     "metadata": {},
     "output_type": "execute_result"
    }
   ],
   "source": [
    "l"
   ]
  },
  {
   "cell_type": "code",
   "execution_count": 56,
   "id": "4fc44751",
   "metadata": {},
   "outputs": [],
   "source": [
    "l.reverse()"
   ]
  },
  {
   "cell_type": "code",
   "execution_count": 57,
   "id": "5355b3d7",
   "metadata": {},
   "outputs": [
    {
     "data": {
      "text/plain": [
       "['shan', 'jaipur', 23, 'harpreet']"
      ]
     },
     "execution_count": 57,
     "metadata": {},
     "output_type": "execute_result"
    }
   ],
   "source": [
    "l"
   ]
  },
  {
   "cell_type": "code",
   "execution_count": 58,
   "id": "024801fa",
   "metadata": {},
   "outputs": [],
   "source": [
    "# sort ----> homogenious list --->same data type"
   ]
  },
  {
   "cell_type": "code",
   "execution_count": 59,
   "id": "13769a5c",
   "metadata": {},
   "outputs": [
    {
     "data": {
      "text/plain": [
       "['shan', 'jaipur', 23, 'harpreet']"
      ]
     },
     "execution_count": 59,
     "metadata": {},
     "output_type": "execute_result"
    }
   ],
   "source": [
    "l"
   ]
  },
  {
   "cell_type": "code",
   "execution_count": 60,
   "id": "2cb7ced6",
   "metadata": {},
   "outputs": [
    {
     "data": {
      "text/plain": [
       "23"
      ]
     },
     "execution_count": 60,
     "metadata": {},
     "output_type": "execute_result"
    }
   ],
   "source": [
    "l.pop(-2)"
   ]
  },
  {
   "cell_type": "code",
   "execution_count": 61,
   "id": "75ba03e1",
   "metadata": {},
   "outputs": [
    {
     "data": {
      "text/plain": [
       "['shan', 'jaipur', 'harpreet']"
      ]
     },
     "execution_count": 61,
     "metadata": {},
     "output_type": "execute_result"
    }
   ],
   "source": [
    "l"
   ]
  },
  {
   "cell_type": "code",
   "execution_count": 62,
   "id": "6147c235",
   "metadata": {},
   "outputs": [],
   "source": [
    "l.sort(reverse=True)"
   ]
  },
  {
   "cell_type": "code",
   "execution_count": 63,
   "id": "b7104ebb",
   "metadata": {},
   "outputs": [
    {
     "data": {
      "text/plain": [
       "['shan', 'jaipur', 'harpreet']"
      ]
     },
     "execution_count": 63,
     "metadata": {},
     "output_type": "execute_result"
    }
   ],
   "source": [
    "l"
   ]
  },
  {
   "cell_type": "code",
   "execution_count": 64,
   "id": "cb1af77d",
   "metadata": {},
   "outputs": [
    {
     "name": "stdout",
     "output_type": "stream",
     "text": [
      "['__add__', '__class__', '__class_getitem__', '__contains__', '__delattr__', '__delitem__', '__dir__', '__doc__', '__eq__', '__format__', '__ge__', '__getattribute__', '__getitem__', '__gt__', '__hash__', '__iadd__', '__imul__', '__init__', '__init_subclass__', '__iter__', '__le__', '__len__', '__lt__', '__mul__', '__ne__', '__new__', '__reduce__', '__reduce_ex__', '__repr__', '__reversed__', '__rmul__', '__setattr__', '__setitem__', '__sizeof__', '__str__', '__subclasshook__', 'append', 'clear', 'copy', 'count', 'extend', 'index', 'insert', 'pop', 'remove', 'reverse', 'sort']\n"
     ]
    }
   ],
   "source": [
    "print(dir(list))"
   ]
  },
  {
   "cell_type": "markdown",
   "id": "56e15e3d",
   "metadata": {},
   "source": [
    "## l"
   ]
  },
  {
   "cell_type": "code",
   "execution_count": 65,
   "id": "29bae15c",
   "metadata": {},
   "outputs": [],
   "source": [
    "l.clear()"
   ]
  },
  {
   "cell_type": "code",
   "execution_count": 66,
   "id": "bb60d465",
   "metadata": {},
   "outputs": [
    {
     "data": {
      "text/plain": [
       "[]"
      ]
     },
     "execution_count": 66,
     "metadata": {},
     "output_type": "execute_result"
    }
   ],
   "source": [
    "l"
   ]
  },
  {
   "cell_type": "code",
   "execution_count": 67,
   "id": "f7a64826",
   "metadata": {},
   "outputs": [
    {
     "data": {
      "text/plain": [
       "['harpreet', 23, 'jaipur', 'shan', 'jeet']"
      ]
     },
     "execution_count": 67,
     "metadata": {},
     "output_type": "execute_result"
    }
   ],
   "source": [
    "l2"
   ]
  },
  {
   "cell_type": "code",
   "execution_count": 68,
   "id": "6b892618",
   "metadata": {},
   "outputs": [],
   "source": [
    "l2.append('manish')"
   ]
  },
  {
   "cell_type": "code",
   "execution_count": 69,
   "id": "94c4d2ad",
   "metadata": {},
   "outputs": [
    {
     "data": {
      "text/plain": [
       "['harpreet', 23, 'jaipur', 'shan', 'jeet', 'manish']"
      ]
     },
     "execution_count": 69,
     "metadata": {},
     "output_type": "execute_result"
    }
   ],
   "source": [
    "l2"
   ]
  },
  {
   "cell_type": "code",
   "execution_count": 70,
   "id": "65bdc9a3",
   "metadata": {},
   "outputs": [
    {
     "data": {
      "text/plain": [
       "1"
      ]
     },
     "execution_count": 70,
     "metadata": {},
     "output_type": "execute_result"
    }
   ],
   "source": [
    "l2.count('manish')"
   ]
  },
  {
   "cell_type": "code",
   "execution_count": 71,
   "id": "af9cb14d",
   "metadata": {},
   "outputs": [
    {
     "data": {
      "text/plain": [
       "('harpreet', 23, 'jaipur')"
      ]
     },
     "execution_count": 71,
     "metadata": {},
     "output_type": "execute_result"
    }
   ],
   "source": [
    "t"
   ]
  },
  {
   "cell_type": "code",
   "execution_count": 72,
   "id": "bbbbd13e",
   "metadata": {},
   "outputs": [
    {
     "name": "stdout",
     "output_type": "stream",
     "text": [
      "['__add__', '__class__', '__class_getitem__', '__contains__', '__delattr__', '__dir__', '__doc__', '__eq__', '__format__', '__ge__', '__getattribute__', '__getitem__', '__getnewargs__', '__gt__', '__hash__', '__init__', '__init_subclass__', '__iter__', '__le__', '__len__', '__lt__', '__mul__', '__ne__', '__new__', '__reduce__', '__reduce_ex__', '__repr__', '__rmul__', '__setattr__', '__sizeof__', '__str__', '__subclasshook__', 'count', 'index']\n"
     ]
    }
   ],
   "source": [
    "print(dir(tuple))"
   ]
  },
  {
   "cell_type": "code",
   "execution_count": 73,
   "id": "c0df3aa4",
   "metadata": {},
   "outputs": [
    {
     "data": {
      "text/plain": [
       "0"
      ]
     },
     "execution_count": 73,
     "metadata": {},
     "output_type": "execute_result"
    }
   ],
   "source": [
    "t.count(25)"
   ]
  },
  {
   "cell_type": "code",
   "execution_count": 74,
   "id": "1456ede5",
   "metadata": {},
   "outputs": [
    {
     "data": {
      "text/plain": [
       "('harpreet', 23, 'jaipur')"
      ]
     },
     "execution_count": 74,
     "metadata": {},
     "output_type": "execute_result"
    }
   ],
   "source": [
    "t"
   ]
  },
  {
   "cell_type": "code",
   "execution_count": 75,
   "id": "9b5d689a",
   "metadata": {},
   "outputs": [
    {
     "data": {
      "text/plain": [
       "'harpreet'"
      ]
     },
     "execution_count": 75,
     "metadata": {},
     "output_type": "execute_result"
    }
   ],
   "source": [
    "t[0]"
   ]
  },
  {
   "cell_type": "code",
   "execution_count": 76,
   "id": "3b6f7087",
   "metadata": {},
   "outputs": [
    {
     "data": {
      "text/plain": [
       "2"
      ]
     },
     "execution_count": 76,
     "metadata": {},
     "output_type": "execute_result"
    }
   ],
   "source": [
    "t.index('jaipur')"
   ]
  },
  {
   "cell_type": "markdown",
   "id": "431ca10e",
   "metadata": {},
   "source": [
    "# Dict"
   ]
  },
  {
   "cell_type": "code",
   "execution_count": 109,
   "id": "1ecfa0ce",
   "metadata": {},
   "outputs": [],
   "source": [
    "# student --->  \n",
    "# key , value\n",
    "# keys will be unique\n",
    "# "
   ]
  },
  {
   "cell_type": "code",
   "execution_count": 77,
   "id": "f9075653",
   "metadata": {},
   "outputs": [],
   "source": [
    "d={'key':'value','key1':'value1','key2':'value2'}"
   ]
  },
  {
   "cell_type": "code",
   "execution_count": 78,
   "id": "3e0f3520",
   "metadata": {},
   "outputs": [],
   "source": [
    "d1={'name':'harpreet','age':23,'addr':'jaipur','name':'sachin','loc':'jaipur'}"
   ]
  },
  {
   "cell_type": "code",
   "execution_count": 79,
   "id": "b76aad3a",
   "metadata": {},
   "outputs": [
    {
     "data": {
      "text/plain": [
       "dict"
      ]
     },
     "execution_count": 79,
     "metadata": {},
     "output_type": "execute_result"
    }
   ],
   "source": [
    "type(d1)"
   ]
  },
  {
   "cell_type": "code",
   "execution_count": 80,
   "id": "44f1a3c1",
   "metadata": {},
   "outputs": [
    {
     "name": "stdout",
     "output_type": "stream",
     "text": [
      "{'name': 'sachin', 'age': 23, 'addr': 'jaipur', 'loc': 'jaipur'}\n"
     ]
    }
   ],
   "source": [
    "print(d1)"
   ]
  },
  {
   "cell_type": "code",
   "execution_count": 81,
   "id": "8c87d302",
   "metadata": {},
   "outputs": [],
   "source": [
    "# keys ---> string, tuple , numbers\n",
    "# value ---> it can be mutable or immutable"
   ]
  },
  {
   "cell_type": "code",
   "execution_count": 83,
   "id": "d14254d4",
   "metadata": {},
   "outputs": [],
   "source": [
    "d2={'name':'harpreet',10:'ten',('addr','loc'):['jaipur','mathura']}"
   ]
  },
  {
   "cell_type": "code",
   "execution_count": 84,
   "id": "c3c680cc",
   "metadata": {},
   "outputs": [
    {
     "data": {
      "text/plain": [
       "{'name': 'harpreet', 10: 'ten', ('addr', 'loc'): ['jaipur', 'mathura']}"
      ]
     },
     "execution_count": 84,
     "metadata": {},
     "output_type": "execute_result"
    }
   ],
   "source": [
    "d2"
   ]
  },
  {
   "cell_type": "code",
   "execution_count": 85,
   "id": "8725dcfc",
   "metadata": {},
   "outputs": [
    {
     "name": "stdout",
     "output_type": "stream",
     "text": [
      "['__class__', '__class_getitem__', '__contains__', '__delattr__', '__delitem__', '__dir__', '__doc__', '__eq__', '__format__', '__ge__', '__getattribute__', '__getitem__', '__gt__', '__hash__', '__init__', '__init_subclass__', '__ior__', '__iter__', '__le__', '__len__', '__lt__', '__ne__', '__new__', '__or__', '__reduce__', '__reduce_ex__', '__repr__', '__reversed__', '__ror__', '__setattr__', '__setitem__', '__sizeof__', '__str__', '__subclasshook__', 'clear', 'copy', 'fromkeys', 'get', 'items', 'keys', 'pop', 'popitem', 'setdefault', 'update', 'values']\n"
     ]
    }
   ],
   "source": [
    "print(dir(dict))"
   ]
  },
  {
   "cell_type": "code",
   "execution_count": 86,
   "id": "3423e60c",
   "metadata": {},
   "outputs": [
    {
     "data": {
      "text/plain": [
       "{'name': 'sachin', 'age': 23, 'addr': 'jaipur', 'loc': 'jaipur'}"
      ]
     },
     "execution_count": 86,
     "metadata": {},
     "output_type": "execute_result"
    }
   ],
   "source": [
    "d1"
   ]
  },
  {
   "cell_type": "code",
   "execution_count": 87,
   "id": "8852694d",
   "metadata": {},
   "outputs": [
    {
     "data": {
      "text/plain": [
       "dict_keys(['name', 'age', 'addr', 'loc'])"
      ]
     },
     "execution_count": 87,
     "metadata": {},
     "output_type": "execute_result"
    }
   ],
   "source": [
    "d1.keys()"
   ]
  },
  {
   "cell_type": "code",
   "execution_count": 88,
   "id": "55d393a6",
   "metadata": {},
   "outputs": [
    {
     "data": {
      "text/plain": [
       "dict_values(['sachin', 23, 'jaipur', 'jaipur'])"
      ]
     },
     "execution_count": 88,
     "metadata": {},
     "output_type": "execute_result"
    }
   ],
   "source": [
    "d1.values()"
   ]
  },
  {
   "cell_type": "code",
   "execution_count": 89,
   "id": "a821b7c2",
   "metadata": {},
   "outputs": [
    {
     "data": {
      "text/plain": [
       "dict_items([('name', 'sachin'), ('age', 23), ('addr', 'jaipur'), ('loc', 'jaipur')])"
      ]
     },
     "execution_count": 89,
     "metadata": {},
     "output_type": "execute_result"
    }
   ],
   "source": [
    "d1.items()"
   ]
  },
  {
   "cell_type": "code",
   "execution_count": 90,
   "id": "4eb0ff6f",
   "metadata": {},
   "outputs": [
    {
     "data": {
      "text/plain": [
       "{'name': 'sachin', 'age': 23, 'addr': 'jaipur', 'loc': 'jaipur'}"
      ]
     },
     "execution_count": 90,
     "metadata": {},
     "output_type": "execute_result"
    }
   ],
   "source": [
    "d1"
   ]
  },
  {
   "cell_type": "code",
   "execution_count": 91,
   "id": "bed3bd1d",
   "metadata": {},
   "outputs": [
    {
     "data": {
      "text/plain": [
       "23"
      ]
     },
     "execution_count": 91,
     "metadata": {},
     "output_type": "execute_result"
    }
   ],
   "source": [
    "d1.get('age')"
   ]
  },
  {
   "cell_type": "code",
   "execution_count": 92,
   "id": "bde01c3b",
   "metadata": {},
   "outputs": [
    {
     "data": {
      "text/plain": [
       "'jaipur'"
      ]
     },
     "execution_count": 92,
     "metadata": {},
     "output_type": "execute_result"
    }
   ],
   "source": [
    "d1.get('addr')"
   ]
  },
  {
   "cell_type": "code",
   "execution_count": 93,
   "id": "4b8d382a",
   "metadata": {},
   "outputs": [],
   "source": [
    "d1.get('jaipur')"
   ]
  },
  {
   "cell_type": "code",
   "execution_count": 94,
   "id": "b05e17df",
   "metadata": {},
   "outputs": [
    {
     "data": {
      "text/plain": [
       "'sachin'"
      ]
     },
     "execution_count": 94,
     "metadata": {},
     "output_type": "execute_result"
    }
   ],
   "source": [
    "d1['name']"
   ]
  },
  {
   "cell_type": "code",
   "execution_count": 95,
   "id": "a9a2de87",
   "metadata": {},
   "outputs": [
    {
     "data": {
      "text/plain": [
       "'jaipur'"
      ]
     },
     "execution_count": 95,
     "metadata": {},
     "output_type": "execute_result"
    }
   ],
   "source": [
    "d1['addr']"
   ]
  },
  {
   "cell_type": "code",
   "execution_count": 96,
   "id": "3dafcefd",
   "metadata": {},
   "outputs": [
    {
     "ename": "KeyError",
     "evalue": "'jaipur'",
     "output_type": "error",
     "traceback": [
      "\u001b[1;31m---------------------------------------------------------------------------\u001b[0m",
      "\u001b[1;31mKeyError\u001b[0m                                  Traceback (most recent call last)",
      "\u001b[1;32mC:\\Users\\ADMIN0~1\\AppData\\Local\\Temp/ipykernel_31148/1645688409.py\u001b[0m in \u001b[0;36m<module>\u001b[1;34m\u001b[0m\n\u001b[1;32m----> 1\u001b[1;33m \u001b[0md1\u001b[0m\u001b[1;33m[\u001b[0m\u001b[1;34m'jaipur'\u001b[0m\u001b[1;33m]\u001b[0m\u001b[1;33m\u001b[0m\u001b[1;33m\u001b[0m\u001b[0m\n\u001b[0m",
      "\u001b[1;31mKeyError\u001b[0m: 'jaipur'"
     ]
    }
   ],
   "source": [
    "d1['jaipur']"
   ]
  },
  {
   "cell_type": "code",
   "execution_count": null,
   "id": "545ba0b0",
   "metadata": {},
   "outputs": [],
   "source": []
  }
 ],
 "metadata": {
  "kernelspec": {
   "display_name": "Python 3 (ipykernel)",
   "language": "python",
   "name": "python3"
  },
  "language_info": {
   "codemirror_mode": {
    "name": "ipython",
    "version": 3
   },
   "file_extension": ".py",
   "mimetype": "text/x-python",
   "name": "python",
   "nbconvert_exporter": "python",
   "pygments_lexer": "ipython3",
   "version": "3.9.7"
  }
 },
 "nbformat": 4,
 "nbformat_minor": 5
}
