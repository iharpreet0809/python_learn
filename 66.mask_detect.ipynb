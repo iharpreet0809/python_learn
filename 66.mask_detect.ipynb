{
 "cells": [
  {
   "cell_type": "code",
   "execution_count": 19,
   "id": "841d18cc",
   "metadata": {},
   "outputs": [
    {
     "name": "stdout",
     "output_type": "stream",
     "text": [
      "()\n"
     ]
    }
   ],
   "source": [
    "import numpy as np\n",
    "import cv2\n",
    "import random\n",
    "font = cv2.FONT_HERSHEY_SIMPLEX\n",
    "org = (30, 30)\n",
    "weared_mask_font_color = (0, 255, 0)\n",
    "not_weared_mask_font_color = (0, 0, 255)\n",
    "thickness = 2\n",
    "font_scale = 1\n",
    "weared_mask = \"Thank You for wearing MASK\"\n",
    "not_weared_mask = \"Please wear MASK to defeat Corona\"\n",
    "face_cascade = cv2.CascadeClassifier('haarcascade_frontalface_default.xml')\n",
    "mouth_cascade = cv2.CascadeClassifier('Mouth.xml')\n",
    "img=cv2.imread('mask.jpg')\n",
    "mouth_rects = mouth_cascade.detectMultiScale(img, 1.5, 15)\n",
    "print(mouth_rects)\n",
    "face_rect=face_cascade.detectMultiScale(img,1.5,10)\n",
    "if(len(mouth_rects) == 0):\n",
    "    \n",
    "    cv2.putText(img, weared_mask, org, font, font_scale, weared_mask_font_color, thickness, cv2.LINE_AA)\n",
    "    cv2.imshow('frame',img)\n",
    "    cv2.waitKey(0)\n",
    "        \n",
    "else:\n",
    "    \n",
    "    for (mx, my, mw, mh) in face_rect:\n",
    "        cv2.rectangle(img,(mx,my),(mx+mw,my+mh),(255,0,0),3)\n",
    "        cv2.putText(img, not_weared_mask, org, font, font_scale, weared_mask_font_color, thickness, cv2.LINE_AA)\n",
    "        cv2.imshow('frame',img)\n",
    "        cv2.waitKey(0)"
   ]
  },
  {
   "cell_type": "code",
   "execution_count": 4,
   "id": "4c90d7ca",
   "metadata": {},
   "outputs": [
    {
     "data": {
      "text/plain": [
       "'C:\\\\Users\\\\rmani'"
      ]
     },
     "execution_count": 4,
     "metadata": {},
     "output_type": "execute_result"
    }
   ],
   "source": [
    "pwd"
   ]
  },
  {
   "cell_type": "code",
   "execution_count": null,
   "id": "7cd408a9",
   "metadata": {},
   "outputs": [],
   "source": [
    "face_rect=face_cascade.detectMultiScale(img,1.5,10)"
   ]
  }
 ],
 "metadata": {
  "kernelspec": {
   "display_name": "Python 3",
   "language": "python",
   "name": "python3"
  },
  "language_info": {
   "codemirror_mode": {
    "name": "ipython",
    "version": 3
   },
   "file_extension": ".py",
   "mimetype": "text/x-python",
   "name": "python",
   "nbconvert_exporter": "python",
   "pygments_lexer": "ipython3",
   "version": "3.6.4"
  }
 },
 "nbformat": 4,
 "nbformat_minor": 5
}
