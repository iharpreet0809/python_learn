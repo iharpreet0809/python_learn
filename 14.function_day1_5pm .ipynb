{
 "cells": [
  {
   "cell_type": "markdown",
   "id": "12515dda",
   "metadata": {},
   "source": [
    "                    block of code \n",
    "                    for code reusable\n",
    "                    2 type:\n",
    "                         userdefine \n",
    "                         predefine\n",
    "                         "
   ]
  },
  {
   "cell_type": "code",
   "execution_count": 1,
   "id": "672815c2",
   "metadata": {},
   "outputs": [],
   "source": [
    "import builtins"
   ]
  },
  {
   "cell_type": "code",
   "execution_count": 2,
   "id": "8ca2240e",
   "metadata": {},
   "outputs": [
    {
     "name": "stdout",
     "output_type": "stream",
     "text": [
      "['ArithmeticError', 'AssertionError', 'AttributeError', 'BaseException', 'BlockingIOError', 'BrokenPipeError', 'BufferError', 'BytesWarning', 'ChildProcessError', 'ConnectionAbortedError', 'ConnectionError', 'ConnectionRefusedError', 'ConnectionResetError', 'DeprecationWarning', 'EOFError', 'Ellipsis', 'EnvironmentError', 'Exception', 'False', 'FileExistsError', 'FileNotFoundError', 'FloatingPointError', 'FutureWarning', 'GeneratorExit', 'IOError', 'ImportError', 'ImportWarning', 'IndentationError', 'IndexError', 'InterruptedError', 'IsADirectoryError', 'KeyError', 'KeyboardInterrupt', 'LookupError', 'MemoryError', 'ModuleNotFoundError', 'NameError', 'None', 'NotADirectoryError', 'NotImplemented', 'NotImplementedError', 'OSError', 'OverflowError', 'PendingDeprecationWarning', 'PermissionError', 'ProcessLookupError', 'RecursionError', 'ReferenceError', 'ResourceWarning', 'RuntimeError', 'RuntimeWarning', 'StopAsyncIteration', 'StopIteration', 'SyntaxError', 'SyntaxWarning', 'SystemError', 'SystemExit', 'TabError', 'TimeoutError', 'True', 'TypeError', 'UnboundLocalError', 'UnicodeDecodeError', 'UnicodeEncodeError', 'UnicodeError', 'UnicodeTranslateError', 'UnicodeWarning', 'UserWarning', 'ValueError', 'Warning', 'WindowsError', 'ZeroDivisionError', '__IPYTHON__', '__build_class__', '__debug__', '__doc__', '__import__', '__loader__', '__name__', '__package__', '__spec__', 'abs', 'all', 'any', 'ascii', 'bin', 'bool', 'breakpoint', 'bytearray', 'bytes', 'callable', 'chr', 'classmethod', 'compile', 'complex', 'copyright', 'credits', 'delattr', 'dict', 'dir', 'display', 'divmod', 'enumerate', 'eval', 'exec', 'filter', 'float', 'format', 'frozenset', 'get_ipython', 'getattr', 'globals', 'hasattr', 'hash', 'help', 'hex', 'id', 'input', 'int', 'isinstance', 'issubclass', 'iter', 'len', 'license', 'list', 'locals', 'map', 'max', 'memoryview', 'min', 'next', 'object', 'oct', 'open', 'ord', 'pow', 'print', 'property', 'range', 'repr', 'reversed', 'round', 'set', 'setattr', 'slice', 'sorted', 'staticmethod', 'str', 'sum', 'super', 'tuple', 'type', 'vars', 'zip']\n"
     ]
    }
   ],
   "source": [
    "print(dir(builtins))"
   ]
  },
  {
   "cell_type": "code",
   "execution_count": 3,
   "id": "89a4f992",
   "metadata": {},
   "outputs": [],
   "source": [
    "u=-8897897"
   ]
  },
  {
   "cell_type": "code",
   "execution_count": 4,
   "id": "3087cf45",
   "metadata": {},
   "outputs": [
    {
     "data": {
      "text/plain": [
       "8897897"
      ]
     },
     "execution_count": 4,
     "metadata": {},
     "output_type": "execute_result"
    }
   ],
   "source": [
    "abs(u)"
   ]
  },
  {
   "cell_type": "code",
   "execution_count": 18,
   "id": "a75d3854",
   "metadata": {},
   "outputs": [
    {
     "name": "stdout",
     "output_type": "stream",
     "text": [
      "[100, 99, 98, 97, 96, 95, 94, 93, 92, 91, 90, 89, 88, 87, 86, 85, 84, 83, 82, 81, 80, 79, 78, 77, 76, 75, 74, 73, 72, 71, 70, 69, 68, 67, 66, 65, 64, 63, 62, 61, 60, 59, 58, 57, 56, 55, 54, 53, 52, 51, 50, 49, 48, 47, 46, 45, 44, 43, 42, 41, 40, 39, 38, 37, 36, 35, 34, 33, 32, 31, 30, 29, 28, 27, 26, 25, 24, 23, 22, 21, 20, 19, 18, 17, 16, 15, 14, 13, 12, 11, 10, 9, 8, 7, 6, 5, 4, 3, 2, 1, 0, -1, -2, -3, -4, -5, -6, -7, -8, -9, -10, -11, -12, -13, -14, -15, -16, -17, -18, -19, -20, -21, -22, -23, -24, -25, -26, -27, -28, -29, -30, -31, -32, -33, -34, -35, -36, -37, -38, -39, -40, -41, -42, -43, -44, -45, -46, -47, -48, -49, -50, -51, -52, -53, -54, -55, -56, -57, -58, -59, -60, -61, -62, -63, -64, -65, -66, -67, -68, -69, -70, -71, -72, -73, -74, -75, -76, -77, -78, -79, -80, -81, -82, -83, -84, -85, -86, -87, -88, -89, -90, -91, -92, -93, -94, -95, -96, -97, -98, -99, -100]\n"
     ]
    }
   ],
   "source": [
    "data=list(range(100,-101,-1))\n",
    "print(data)"
   ]
  },
  {
   "cell_type": "code",
   "execution_count": 13,
   "id": "15b6de41",
   "metadata": {},
   "outputs": [],
   "source": [
    "r=[abs(i) for i in data]"
   ]
  },
  {
   "cell_type": "code",
   "execution_count": 14,
   "id": "fa6da998",
   "metadata": {},
   "outputs": [
    {
     "name": "stdout",
     "output_type": "stream",
     "text": [
      "[100, 99, 98, 97, 96, 95, 94, 93, 92, 91, 90, 89, 88, 87, 86, 85, 84, 83, 82, 81, 80, 79, 78, 77, 76, 75, 74, 73, 72, 71, 70, 69, 68, 67, 66, 65, 64, 63, 62, 61, 60, 59, 58, 57, 56, 55, 54, 53, 52, 51, 50, 49, 48, 47, 46, 45, 44, 43, 42, 41, 40, 39, 38, 37, 36, 35, 34, 33, 32, 31, 30, 29, 28, 27, 26, 25, 24, 23, 22, 21, 20, 19, 18, 17, 16, 15, 14, 13, 12, 11, 10, 9, 8, 7, 6, 5, 4, 3, 2, 1, 0, 1, 2, 3, 4, 5, 6, 7, 8, 9, 10, 11, 12, 13, 14, 15, 16, 17, 18, 19, 20, 21, 22, 23, 24, 25, 26, 27, 28, 29, 30, 31, 32, 33, 34, 35, 36, 37, 38, 39, 40, 41, 42, 43, 44, 45, 46, 47, 48, 49, 50, 51, 52, 53, 54, 55, 56, 57, 58, 59, 60, 61, 62, 63, 64, 65, 66, 67, 68, 69, 70, 71, 72, 73, 74, 75, 76, 77, 78, 79, 80, 81, 82, 83, 84, 85, 86, 87, 88, 89, 90, 91, 92, 93, 94, 95, 96, 97, 98, 99, 100]\n"
     ]
    }
   ],
   "source": [
    "print(r)"
   ]
  },
  {
   "cell_type": "code",
   "execution_count": 15,
   "id": "438da9c1",
   "metadata": {},
   "outputs": [],
   "source": [
    "import matplotlib.pyplot as plt"
   ]
  },
  {
   "cell_type": "code",
   "execution_count": 19,
   "id": "76ec4356",
   "metadata": {},
   "outputs": [
    {
     "data": {
      "text/plain": [
       "[<matplotlib.lines.Line2D at 0x19e5cb17040>]"
      ]
     },
     "execution_count": 19,
     "metadata": {},
     "output_type": "execute_result"
    },
    {
     "data": {
      "image/png": "[encoded data removed]",
      "text/plain": [
       "<Figure size 432x288 with 1 Axes>"
      ]
     },
     "metadata": {
      "needs_background": "light"
     },
     "output_type": "display_data"
    }
   ],
   "source": [
    "plt.plot(r)"
   ]
  },
  {
   "cell_type": "code",
   "execution_count": 21,
   "id": "a17c0ddd",
   "metadata": {},
   "outputs": [
    {
     "data": {
      "text/plain": [
       "676"
      ]
     },
     "execution_count": 21,
     "metadata": {},
     "output_type": "execute_result"
    }
   ],
   "source": [
    "abs(-676)"
   ]
  },
  {
   "cell_type": "code",
   "execution_count": 25,
   "id": "1de6b3e1",
   "metadata": {},
   "outputs": [
    {
     "data": {
      "text/plain": [
       "False"
      ]
     },
     "execution_count": 25,
     "metadata": {},
     "output_type": "execute_result"
    }
   ],
   "source": [
    "all([1,10,False,'manish','shan'])"
   ]
  },
  {
   "cell_type": "code",
   "execution_count": 26,
   "id": "f2253558",
   "metadata": {},
   "outputs": [],
   "source": [
    "# 0 , False , None , '', (),[],{}"
   ]
  },
  {
   "cell_type": "code",
   "execution_count": 30,
   "id": "a22fa4b4",
   "metadata": {},
   "outputs": [
    {
     "data": {
      "text/plain": [
       "True"
      ]
     },
     "execution_count": 30,
     "metadata": {},
     "output_type": "execute_result"
    }
   ],
   "source": [
    "any(['','',0,0,False, None ,'man'])"
   ]
  },
  {
   "cell_type": "code",
   "execution_count": 37,
   "id": "1112cd15",
   "metadata": {},
   "outputs": [],
   "source": [
    "l=(1,3,45,76,79,9)"
   ]
  },
  {
   "cell_type": "code",
   "execution_count": 38,
   "id": "89867416",
   "metadata": {},
   "outputs": [
    {
     "data": {
      "text/plain": [
       "79"
      ]
     },
     "execution_count": 38,
     "metadata": {},
     "output_type": "execute_result"
    }
   ],
   "source": [
    "max(l)"
   ]
  },
  {
   "cell_type": "code",
   "execution_count": 39,
   "id": "95602d28",
   "metadata": {},
   "outputs": [
    {
     "data": {
      "text/plain": [
       "1"
      ]
     },
     "execution_count": 39,
     "metadata": {},
     "output_type": "execute_result"
    }
   ],
   "source": [
    "min(l)"
   ]
  },
  {
   "cell_type": "code",
   "execution_count": 40,
   "id": "e183835b",
   "metadata": {},
   "outputs": [
    {
     "data": {
      "text/plain": [
       "213"
      ]
     },
     "execution_count": 40,
     "metadata": {},
     "output_type": "execute_result"
    }
   ],
   "source": [
    "sum(l)"
   ]
  },
  {
   "cell_type": "code",
   "execution_count": 42,
   "id": "22389ff6",
   "metadata": {},
   "outputs": [
    {
     "data": {
      "text/plain": [
       "'A'"
      ]
     },
     "execution_count": 42,
     "metadata": {},
     "output_type": "execute_result"
    }
   ],
   "source": [
    "chr(65)"
   ]
  },
  {
   "cell_type": "code",
   "execution_count": 43,
   "id": "dbfdaa09",
   "metadata": {},
   "outputs": [
    {
     "data": {
      "text/plain": [
       "'B'"
      ]
     },
     "execution_count": 43,
     "metadata": {},
     "output_type": "execute_result"
    }
   ],
   "source": [
    "chr(66)"
   ]
  },
  {
   "cell_type": "code",
   "execution_count": 44,
   "id": "0138f002",
   "metadata": {},
   "outputs": [
    {
     "data": {
      "text/plain": [
       "'a'"
      ]
     },
     "execution_count": 44,
     "metadata": {},
     "output_type": "execute_result"
    }
   ],
   "source": [
    "chr(97)"
   ]
  },
  {
   "cell_type": "code",
   "execution_count": 45,
   "id": "5f03f582",
   "metadata": {},
   "outputs": [
    {
     "data": {
      "text/plain": [
       "'b'"
      ]
     },
     "execution_count": 45,
     "metadata": {},
     "output_type": "execute_result"
    }
   ],
   "source": [
    "chr(98)"
   ]
  },
  {
   "cell_type": "code",
   "execution_count": 46,
   "id": "ab25fb04",
   "metadata": {},
   "outputs": [
    {
     "data": {
      "text/plain": [
       "'z'"
      ]
     },
     "execution_count": 46,
     "metadata": {},
     "output_type": "execute_result"
    }
   ],
   "source": [
    "chr(122)"
   ]
  },
  {
   "cell_type": "code",
   "execution_count": 48,
   "id": "80160e80",
   "metadata": {},
   "outputs": [
    {
     "name": "stdout",
     "output_type": "stream",
     "text": [
      "\u0000 \u0001 \u0002 \u0003 \u0004 \u0005 \u0006 \u0007 \t \n"
     ]
    },
    {
     "name": "stdout",
     "output_type": "stream",
     "text": [
      " \u000e \u000f \u0010 \u0011 \u0012 \u0013 \u0014 \u0015 \u0016 \u0017 \u0018 \u0019 \u001a \u001b \u001c",
      " \u001d",
      " \u001e",
      " \u001f   ! \" # $ % & ' ( ) * + , - . / 0 1 2 3 4 5 6 7 8 9 : ; < = > ? @ A B C D E F G H I J K L M N O P Q R S T U V W X Y Z [ \\ ] ^ _ ` a b c d e f g h i j k l m n o p q r s t u v w x y z { | } ~       ",
      "                             ¡ ¢ £ ¤ ¥ ¦ § ¨ © ª « ¬ ­ ® ¯ ° ± ² ³ ´ µ ¶ · ¸ ¹ º » ¼ ½ ¾ ¿ À Á Â Ã Ä Å Æ Ç È É Ê Ë Ì Í Î Ï Ð Ñ Ò Ó Ô Õ Ö × Ø Ù Ú Û Ü Ý Þ ß à á â ã ä å æ ç è é ê ë ì í î ï ð ñ ò ó ô õ ö ÷ ø ù ú û ü ý þ ÿ Ā ā Ă ă Ą ą Ć ć Ĉ ĉ Ċ ċ Č č Ď ď Đ đ Ē ē Ĕ ĕ Ė ė Ę ę Ě ě Ĝ ĝ Ğ ğ Ġ ġ Ģ ģ Ĥ ĥ Ħ ħ Ĩ ĩ Ī ī Ĭ ĭ Į į İ ı Ĳ ĳ Ĵ ĵ Ķ ķ ĸ Ĺ ĺ Ļ ļ Ľ ľ Ŀ ŀ Ł ł Ń ń Ņ ņ Ň ň ŉ Ŋ ŋ Ō ō Ŏ ŏ Ő ő Œ œ Ŕ ŕ Ŗ ŗ Ř ř Ś ś Ŝ ŝ Ş ş Š š Ţ ţ Ť ť Ŧ ŧ Ũ ũ Ū ū Ŭ ŭ Ů ů Ű ű Ų ų Ŵ ŵ Ŷ ŷ Ÿ Ź ź Ż ż Ž ž ſ ƀ Ɓ Ƃ ƃ Ƅ ƅ Ɔ Ƈ ƈ Ɖ Ɗ Ƌ ƌ ƍ Ǝ Ə Ɛ Ƒ ƒ Ɠ Ɣ ƕ Ɩ Ɨ Ƙ ƙ ƚ ƛ Ɯ Ɲ ƞ Ɵ Ơ ơ Ƣ ƣ Ƥ ƥ Ʀ Ƨ ƨ Ʃ ƪ ƫ Ƭ ƭ Ʈ Ư ư Ʊ Ʋ Ƴ ƴ Ƶ ƶ Ʒ Ƹ ƹ ƺ ƻ Ƽ ƽ ƾ ƿ ǀ ǁ ǂ ǃ Ǆ ǅ ǆ Ǉ ǈ ǉ Ǌ ǋ ǌ Ǎ ǎ Ǐ ǐ Ǒ ǒ Ǔ ǔ Ǖ ǖ Ǘ ǘ Ǚ ǚ Ǜ ǜ ǝ Ǟ ǟ Ǡ ǡ Ǣ ǣ Ǥ ǥ Ǧ ǧ Ǩ ǩ Ǫ ǫ Ǭ ǭ Ǯ ǯ ǰ Ǳ ǲ ǳ Ǵ ǵ Ƕ Ƿ Ǹ ǹ Ǻ ǻ Ǽ ǽ Ǿ ǿ Ȁ ȁ Ȃ ȃ Ȅ ȅ Ȇ ȇ Ȉ ȉ Ȋ ȋ Ȍ ȍ Ȏ ȏ Ȑ ȑ Ȓ ȓ Ȕ ȕ Ȗ ȗ Ș ș Ț ț Ȝ ȝ Ȟ ȟ Ƞ ȡ Ȣ ȣ Ȥ ȥ Ȧ ȧ Ȩ ȩ Ȫ ȫ Ȭ ȭ Ȯ ȯ Ȱ ȱ Ȳ ȳ ȴ ȵ ȶ ȷ ȸ ȹ Ⱥ Ȼ ȼ Ƚ Ⱦ ȿ ɀ Ɂ ɂ Ƀ Ʉ Ʌ Ɇ ɇ Ɉ ɉ Ɋ ɋ Ɍ ɍ Ɏ ɏ ɐ ɑ ɒ ɓ ɔ ɕ ɖ ɗ ɘ ə ɚ ɛ ɜ ɝ ɞ ɟ ɠ ɡ ɢ ɣ ɤ ɥ ɦ ɧ ɨ ɩ ɪ ɫ ɬ ɭ ɮ ɯ ɰ ɱ ɲ ɳ ɴ ɵ ɶ ɷ ɸ ɹ ɺ ɻ ɼ ɽ ɾ ɿ ʀ ʁ ʂ ʃ ʄ ʅ ʆ ʇ ʈ ʉ ʊ ʋ ʌ ʍ ʎ ʏ ʐ ʑ ʒ ʓ ʔ ʕ ʖ ʗ ʘ ʙ ʚ ʛ ʜ ʝ ʞ ʟ ʠ ʡ ʢ ʣ ʤ ʥ ʦ ʧ ʨ ʩ ʪ ʫ ʬ ʭ ʮ ʯ ʰ ʱ ʲ ʳ ʴ ʵ ʶ ʷ ʸ ʹ ʺ ʻ ʼ ʽ ʾ ʿ ˀ ˁ ˂ ˃ ˄ ˅ ˆ ˇ ˈ ˉ ˊ ˋ ˌ ˍ ˎ ˏ ː ˑ ˒ ˓ ˔ ˕ ˖ ˗ ˘ ˙ ˚ ˛ ˜ ˝ ˞ ˟ ˠ ˡ ˢ ˣ ˤ ˥ ˦ ˧ ˨ ˩ ˪ ˫ ˬ ˭ ˮ ˯ ˰ ˱ ˲ ˳ ˴ ˵ ˶ ˷ ˸ ˹ ˺ ˻ ˼ ˽ ˾ ˿ ̀ ́ ̂ ̃ ̄ ̅ ̆ ̇ ̈ ̉ ̊ ̋ ̌ ̍ ̎ ̏ ̐ ̑ ̒ ̓ ̔ ̕ ̖ ̗ ̘ ̙ ̚ ̛ ̜ ̝ ̞ ̟ ̠ ̡ ̢ ̣ ̤ ̥ ̦ ̧ ̨ ̩ ̪ ̫ ̬ ̭ ̮ ̯ ̰ ̱ ̲ ̳ ̴ ̵ ̶ ̷ ̸ ̹ ̺ ̻ ̼ ̽ ̾ ̿ ̀ ́ ͂ ̓ ̈́ ͅ ͆ ͇ ͈ ͉ ͊ ͋ ͌ ͍ ͎ ͏ ͐ ͑ ͒ ͓ ͔ ͕ ͖ ͗ ͘ ͙ ͚ ͛ ͜ ͝ ͞ ͟ ͠ ͡ ͢ ͣ ͤ ͥ ͦ ͧ ͨ ͩ ͪ ͫ ͬ ͭ ͮ ͯ Ͱ ͱ Ͳ ͳ ʹ ͵ Ͷ ͷ ͸ ͹ ͺ ͻ ͼ ͽ ; Ϳ ΀ ΁ ΂ ΃ ΄ ΅ Ά · Έ Ή Ί ΋ Ό ΍ Ύ Ώ ΐ Α Β Γ Δ Ε Ζ Η Θ Ι Κ Λ Μ Ν Ξ Ο Π Ρ ΢ Σ Τ Υ Φ Χ Ψ Ω Ϊ Ϋ ά έ ή ί ΰ α β γ δ ε ζ η θ ι κ λ μ ν ξ ο π ρ ς σ τ υ φ χ ψ ω ϊ ϋ ό ύ ώ Ϗ ϐ ϑ ϒ ϓ ϔ ϕ ϖ ϗ Ϙ ϙ Ϛ ϛ Ϝ ϝ Ϟ ϟ Ϡ ϡ Ϣ ϣ Ϥ ϥ Ϧ ϧ Ϩ ϩ Ϫ ϫ Ϭ ϭ Ϯ ϯ ϰ ϱ ϲ ϳ ϴ ϵ ϶ Ϸ ϸ Ϲ Ϻ ϻ ϼ Ͻ Ͼ Ͽ Ѐ Ё Ђ Ѓ Є Ѕ І Ї Ј Љ Њ Ћ Ќ Ѝ Ў Џ А Б В Г Д Е Ж З И Й К Л М Н О П Р С Т У Ф Х Ц Ч Ш Щ Ъ Ы Ь Э Ю Я а б в г д е ж з и й к л м н о п р с т у ф х ц ч ш щ ъ ы ь э ю я ѐ ё ђ ѓ є ѕ і ї ј љ њ ћ ќ ѝ ў џ Ѡ ѡ Ѣ ѣ Ѥ ѥ Ѧ ѧ Ѩ ѩ Ѫ ѫ Ѭ ѭ Ѯ ѯ Ѱ ѱ Ѳ ѳ Ѵ ѵ Ѷ ѷ Ѹ ѹ Ѻ ѻ Ѽ ѽ Ѿ ѿ Ҁ ҁ ҂ ҃ ҄ ҅ ҆ ҇ ҈ ҉ Ҋ ҋ Ҍ ҍ Ҏ ҏ Ґ ґ Ғ ғ Ҕ ҕ Җ җ Ҙ ҙ Қ қ Ҝ ҝ Ҟ ҟ Ҡ ҡ Ң ң Ҥ ҥ Ҧ ҧ Ҩ ҩ Ҫ ҫ Ҭ ҭ Ү ү Ұ ұ Ҳ ҳ Ҵ ҵ Ҷ ҷ Ҹ ҹ Һ һ Ҽ ҽ Ҿ ҿ Ӏ Ӂ ӂ Ӄ ӄ Ӆ ӆ Ӈ ӈ Ӊ ӊ Ӌ ӌ Ӎ ӎ ӏ Ӑ ӑ Ӓ ӓ Ӕ ӕ Ӗ ӗ Ә ә Ӛ ӛ Ӝ ӝ Ӟ ӟ Ӡ ӡ Ӣ ӣ Ӥ ӥ Ӧ ӧ Ө ө Ӫ ӫ Ӭ ӭ Ӯ ӯ Ӱ ӱ Ӳ ӳ Ӵ ӵ Ӷ ӷ Ӹ ӹ Ӻ ӻ Ӽ ӽ Ӿ ӿ Ԁ ԁ Ԃ ԃ Ԅ ԅ Ԇ ԇ Ԉ ԉ Ԋ ԋ Ԍ ԍ Ԏ ԏ Ԑ ԑ Ԓ ԓ Ԕ ԕ Ԗ ԗ Ԙ ԙ Ԛ ԛ Ԝ ԝ Ԟ ԟ Ԡ ԡ Ԣ ԣ Ԥ ԥ Ԧ ԧ Ԩ ԩ Ԫ ԫ Ԭ ԭ Ԯ ԯ ԰ Ա Բ Գ Դ Ե Զ Է Ը Թ Ժ Ի Լ Խ Ծ Կ Հ Ձ Ղ Ճ Մ Յ Ն Շ Ո Չ Պ Ջ Ռ Ս Վ Տ Ր Ց Ւ Փ Ք Օ Ֆ ՗ ՘ ՙ ՚ ՛ ՜ ՝ ՞ ՟ ՠ ա բ գ դ ե զ է ը թ ժ ի լ խ ծ կ հ ձ ղ ճ մ յ ն շ ո չ պ ջ ռ ս վ տ ր ց ւ փ ք օ ֆ և ֈ ։ ֊ ֋ ֌ ֍ ֎ ֏ ֐ ֑ ֒ ֓ ֔ ֕ ֖ ֗ ֘ ֙ ֚ ֛ ֜ ֝ ֞ ֟ ֠ ֡ ֢ ֣ ֤ ֥ ֦ ֧ ֨ ֩ ֪ ֫ ֬ ֭ ֮ ֯ ְ ֱ ֲ ֳ ִ ֵ ֶ ַ ָ ֹ ֺ ֻ ּ ֽ ־ ֿ ׀ ׁ ׂ ׃ ׄ ׅ ׆ ׇ ׈ ׉ ׊ ׋ ׌ ׍ ׎ ׏ א ב ג ד ה ו ז ח ט י ך כ ל ם מ ן נ ס ע ף פ ץ צ ק ר ש ת ׫ ׬ ׭ ׮ ׯ װ ױ ײ ׳ ״ ׵ ׶ ׷ ׸ ׹ ׺ ׻ ׼ ׽ ׾ ׿ ؀ ؁ ؂ ؃ ؄ ؅ ؆ ؇ ؈ ؉ ؊ ؋ ، ؍ ؎ ؏ ؐ ؑ ؒ ؓ ؔ ؕ ؖ ؗ ؘ ؙ ؚ ؛ ؜ ؝ ؞ ؟ ؠ ء آ أ ؤ إ ئ ا ب ة ت ث ج ح خ د ذ ر ز س ش ص ض ط ظ ع غ ػ ؼ ؽ ؾ ؿ ـ ف ق ك ل م ن ه و ى ي ً ٌ ٍ َ ُ ِ ّ ْ ٓ ٔ ٕ ٖ ٗ ٘ ٙ ٚ ٛ ٜ ٝ ٞ ٟ ٠ ١ ٢ ٣ ٤ ٥ ٦ ٧ ٨ ٩ ٪ ٫ ٬ ٭ ٮ ٯ ٰ ٱ ٲ ٳ ٴ ٵ ٶ ٷ ٸ ٹ ٺ ٻ ټ ٽ پ ٿ ڀ ځ ڂ ڃ ڄ څ چ ڇ ڈ ډ ڊ ڋ ڌ ڍ ڎ ڏ ڐ ڑ ڒ ړ ڔ ڕ ږ ڗ ژ ڙ ښ ڛ ڜ ڝ ڞ ڟ ڠ ڡ ڢ ڣ ڤ ڥ ڦ ڧ ڨ ک ڪ ګ ڬ ڭ ڮ گ ڰ ڱ ڲ ڳ ڴ ڵ ڶ ڷ ڸ ڹ ں ڻ ڼ ڽ ھ ڿ ۀ ہ ۂ ۃ ۄ ۅ ۆ ۇ ۈ ۉ ۊ ۋ ی ۍ ێ ۏ ې ۑ ے ۓ ۔ ە ۖ ۗ ۘ ۙ ۚ ۛ ۜ ۝ ۞ ۟ ۠ ۡ ۢ ۣ ۤ ۥ ۦ ۧ ۨ ۩ ۪ ۫ ۬ ۭ ۮ ۯ ۰ ۱ ۲ ۳ ۴ ۵ ۶ ۷ ۸ ۹ ۺ ۻ ۼ ۽ ۾ ۿ ܀ ܁ ܂ ܃ ܄ ܅ ܆ ܇ ܈ ܉ ܊ ܋ ܌ ܍ ܎ ܏ ܐ ܑ ܒ ܓ ܔ ܕ ܖ ܗ ܘ ܙ ܚ ܛ ܜ ܝ ܞ ܟ ܠ ܡ ܢ ܣ ܤ ܥ ܦ ܧ ܨ ܩ ܪ ܫ ܬ ܭ ܮ ܯ ܰ ܱ ܲ ܳ ܴ ܵ ܶ ܷ ܸ ܹ ܺ ܻ ܼ ܽ ܾ ܿ ݀ ݁ ݂ ݃ ݄ ݅ ݆ ݇ ݈ ݉ ݊ ݋ ݌ ݍ ݎ ݏ ݐ ݑ ݒ ݓ ݔ ݕ ݖ ݗ ݘ ݙ ݚ ݛ ݜ ݝ ݞ ݟ ݠ ݡ ݢ ݣ ݤ ݥ ݦ ݧ ݨ ݩ ݪ ݫ ݬ ݭ ݮ ݯ ݰ ݱ ݲ ݳ ݴ ݵ ݶ ݷ ݸ ݹ ݺ ݻ ݼ ݽ ݾ ݿ ހ ށ ނ ރ ބ ޅ ކ އ ވ މ ފ ދ ތ ލ ގ ޏ ސ ޑ ޒ ޓ ޔ ޕ ޖ ޗ ޘ ޙ ޚ ޛ ޜ ޝ ޞ ޟ ޠ ޡ ޢ ޣ ޤ ޥ ަ ާ ި ީ ު ޫ ެ ޭ ޮ ޯ ް ޱ ޲ ޳ ޴ ޵ ޶ ޷ ޸ ޹ ޺ ޻ ޼ ޽ ޾ ޿ ߀ ߁ ߂ ߃ ߄ ߅ ߆ ߇ ߈ ߉ ߊ ߋ ߌ ߍ ߎ ߏ ߐ ߑ ߒ ߓ ߔ ߕ ߖ ߗ ߘ ߙ ߚ ߛ ߜ ߝ ߞ ߟ ߠ ߡ ߢ ߣ ߤ ߥ ߦ ߧ ߨ ߩ ߪ ߫ ߬ ߭ ߮ ߯ ߰ ߱ ߲ ߳ ߴ ߵ ߶ ߷ ߸ ߹ ߺ ߻ ߼ ߽ ߾ ߿ ࠀ ࠁ ࠂ ࠃ ࠄ ࠅ ࠆ ࠇ ࠈ ࠉ ࠊ ࠋ ࠌ ࠍ ࠎ ࠏ ࠐ ࠑ ࠒ ࠓ ࠔ ࠕ ࠖ ࠗ ࠘ ࠙ ࠚ ࠛ ࠜ ࠝ ࠞ ࠟ ࠠ ࠡ ࠢ ࠣ ࠤ ࠥ ࠦ ࠧ ࠨ ࠩ ࠪ ࠫ ࠬ ࠭ ࠮ ࠯ ࠰ ࠱ ࠲ ࠳ ࠴ ࠵ ࠶ ࠷ ࠸ ࠹ ࠺ ࠻ ࠼ ࠽ ࠾ ࠿ ࡀ ࡁ ࡂ ࡃ ࡄ ࡅ ࡆ ࡇ ࡈ ࡉ ࡊ ࡋ ࡌ ࡍ ࡎ ࡏ ࡐ ࡑ ࡒ ࡓ ࡔ ࡕ ࡖ ࡗ ࡘ ࡙ ࡚ ࡛ ࡜ ࡝ ࡞ ࡟ ࡠ ࡡ ࡢ ࡣ ࡤ ࡥ ࡦ ࡧ ࡨ ࡩ ࡪ ࡫ ࡬ ࡭ ࡮ ࡯ ࡰ ࡱ ࡲ ࡳ ࡴ ࡵ ࡶ ࡷ ࡸ ࡹ ࡺ ࡻ ࡼ ࡽ ࡾ ࡿ ࢀ ࢁ ࢂ ࢃ ࢄ ࢅ ࢆ ࢇ ࢈ ࢉ ࢊ ࢋ ࢌ ࢍ ࢎ ࢏ ࢐ ࢑ ࢒ ࢓ ࢔ ࢕ ࢖ ࢗ ࢘ ࢙ ࢚ ࢛ ࢜ ࢝ ࢞ ࢟ ࢠ ࢡ ࢢ ࢣ ࢤ ࢥ ࢦ ࢧ ࢨ ࢩ ࢪ ࢫ ࢬ ࢭ ࢮ ࢯ ࢰ ࢱ ࢲ ࢳ ࢴ ࢵ ࢶ ࢷ ࢸ ࢹ ࢺ ࢻ ࢼ ࢽ ࢾ ࢿ ࣀ ࣁ ࣂ ࣃ ࣄ ࣅ ࣆ ࣇ ࣈ ࣉ ࣊ ࣋ ࣌ ࣍ ࣎ ࣏ ࣐ ࣑ ࣒ ࣓ ࣔ ࣕ ࣖ ࣗ ࣘ ࣙ ࣚ ࣛ ࣜ ࣝ ࣞ ࣟ ࣠ ࣡ ࣢ ࣣ ࣤ ࣥ ࣦ ࣧ ࣨ ࣩ ࣪ ࣫ ࣬ ࣭ ࣮ ࣯ ࣰ ࣱ ࣲ ࣳ ࣴ ࣵ ࣶ ࣷ ࣸ ࣹ ࣺ ࣻ ࣼ ࣽ ࣾ ࣿ ऀ ँ ं ः ऄ अ आ इ ई उ ऊ ऋ ऌ ऍ ऎ ए ऐ ऑ ऒ ओ औ क ख ग घ ङ च छ ज झ ञ ट ठ ड ढ ण त थ द ध न ऩ प फ ब भ म य र ऱ ल ळ ऴ व श ष स ह ऺ ऻ ़ ऽ ा ि ी ु ू ृ ॄ ॅ ॆ े ै ॉ ॊ ो ौ ् ॎ ॏ ॐ ॑ ॒ ॓ ॔ ॕ ॖ ॗ क़ ख़ ग़ ज़ ड़ ढ़ फ़ य़ ॠ ॡ ॢ ॣ । ॥ ० १ २ ३ ४ ५ ६ ७ ८ ९ ॰ ॱ ॲ ॳ ॴ ॵ ॶ ॷ ॸ ॹ ॺ ॻ ॼ ॽ ॾ ॿ ঀ ঁ ং ঃ ঄ অ আ ই ঈ উ ঊ ঋ ঌ ঍ ঎ এ ঐ ঑ ঒ ও ঔ ক খ গ ঘ ঙ চ ছ জ ঝ ঞ ট ঠ ড ঢ ণ ত থ দ ধ ন ঩ প ফ ব ভ ম য র ঱ ল ঳ ঴ ঵ শ ষ স হ ঺ ঻ ় ঽ া ি ী ু ূ ৃ ৄ ৅ ৆ ে ৈ ৉ ৊ ো ৌ ্ ৎ ৏ ৐ ৑ ৒ ৓ ৔ ৕ ৖ ৗ ৘ ৙ ৚ ৛ ড় ঢ় ৞ য় ৠ ৡ ৢ ৣ ৤ ৥ ০ ১ ২ ৩ ৪ ৫ ৬ ৭ ৮ ৯ ৰ ৱ ৲ ৳ ৴ ৵ ৶ ৷ ৸ ৹ ৺ ৻ ৼ ৽ ৾ ৿ ਀ ਁ ਂ ਃ ਄ ਅ ਆ ਇ ਈ ਉ ਊ ਋ ਌ ਍ ਎ ਏ ਐ ਑ ਒ ਓ ਔ ਕ ਖ ਗ ਘ ਙ ਚ ਛ ਜ ਝ ਞ ਟ ਠ ਡ ਢ ਣ ਤ ਥ ਦ ਧ ਨ ਩ ਪ ਫ ਬ ਭ ਮ ਯ ਰ ਱ ਲ ਲ਼ ਴ ਵ ਸ਼ ਷ ਸ ਹ ਺ ਻ ਼ ਽ ਾ ਿ ੀ ੁ ੂ ੃ ੄ ੅ ੆ ੇ ੈ ੉ ੊ ੋ ੌ ੍ ੎ ੏ ੐ ੑ ੒ ੓ ੔ ੕ ੖ ੗ ੘ ਖ਼ ਗ਼ ਜ਼ ੜ ੝ ਫ਼ ੟ ੠ ੡ ੢ ੣ ੤ ੥ ੦ ੧ ੨ ੩ ੪ ੫ ੬ ੭ ੮ ੯ ੰ ੱ ੲ ੳ ੴ ੵ ੶ ੷ ੸ ੹ ੺ ੻ ੼ ੽ ੾ ੿ ઀ ઁ ં ઃ ઄ અ આ ઇ ઈ ઉ ઊ ઋ ઌ ઍ ઎ એ ઐ ઑ ઒ ઓ ઔ ક ખ ગ ઘ ઙ ચ છ જ ઝ ઞ ટ ઠ ડ ઢ ણ ત થ દ ધ ન ઩ પ ફ બ ભ મ ય ર ઱ લ ળ ઴ વ શ ષ સ હ ઺ ઻ ઼ ઽ ા િ ી ુ ૂ ૃ ૄ ૅ ૆ ે ૈ ૉ ૊ ો ૌ ્ ૎ ૏ ૐ ૑ ૒ ૓ ૔ ૕ ૖ ૗ ૘ ૙ ૚ ૛ ૜ ૝ ૞ ૟ ૠ ૡ ૢ ૣ ૤ ૥ ૦ ૧ ૨ ૩ ૪ ૫ ૬ ૭ ૮ ૯ ૰ ૱ ૲ ૳ ૴ ૵ ૶ ૷ ૸ ૹ ૺ ૻ ૼ ૽ ૾ ૿ ଀ ଁ ଂ ଃ ଄ ଅ ଆ ଇ ଈ ଉ ଊ ଋ ଌ ଍ ଎ ଏ ଐ ଑ ଒ ଓ ଔ କ ଖ ଗ ଘ ଙ ଚ ଛ ଜ ଝ ଞ ଟ ଠ ଡ ଢ ଣ ତ ଥ ଦ ଧ ନ ଩ ପ ଫ ବ ଭ ମ ଯ ର ଱ ଲ ଳ ଴ ଵ ଶ ଷ ସ ହ ଺ ଻ ଼ ଽ ା ି ୀ ୁ ୂ ୃ ୄ ୅ ୆ େ ୈ ୉ ୊ ୋ ୌ ୍ ୎ ୏ ୐ ୑ ୒ ୓ ୔ ୕ ୖ ୗ ୘ ୙ ୚ ୛ ଡ଼ ଢ଼ ୞ ୟ ୠ ୡ ୢ ୣ ୤ ୥ ୦ ୧ ୨ ୩ ୪ ୫ ୬ ୭ ୮ ୯ ୰ ୱ ୲ ୳ ୴ ୵ ୶ ୷ ୸ ୹ ୺ ୻ ୼ ୽ ୾ ୿ ஀ ஁ ஂ ஃ ஄ அ ஆ இ ஈ உ ஊ ஋ ஌ ஍ எ ஏ ஐ ஑ ஒ ஓ ஔ க ஖ ஗ ஘ ங ச ஛ ஜ ஝ ஞ ட ஠ ஡ ஢ ண த ஥ ஦ ஧ ந ன ப ஫ ஬ ஭ ம ய ர ற ல ள ழ வ ஶ ஷ ஸ ஹ ஺ ஻ ஼ ஽ ா ி ீ ு ூ ௃ ௄ ௅ ெ ே ை ௉ ொ ோ ௌ ் ௎ ௏ ௐ ௑ ௒ ௓ ௔ ௕ ௖ ௗ ௘ ௙ ௚ ௛ ௜ ௝ ௞ ௟ ௠ ௡ ௢ ௣ ௤ ௥ ௦ ௧ ௨ ௩ ௪ ௫ ௬ ௭ ௮ ௯ ௰ ௱ ௲ ௳ ௴ ௵ ௶ ௷ ௸ ௹ ௺ ௻ ௼ ௽ ௾ ௿ ఀ ఁ ం ః ఄ అ ఆ ఇ ఈ ఉ ఊ ఋ ఌ ఍ ఎ ఏ ఐ ఑ ఒ ఓ ఔ క ఖ గ ఘ ఙ చ ఛ జ ఝ ఞ ట ఠ డ ఢ ణ త థ ద ధ న ఩ ప ఫ బ భ మ య ర ఱ ల ళ ఴ వ శ ష స హ ఺ ఻ ఼ ఽ ా ి ీ ు ూ ృ ౄ ౅ ె ే ై ౉ ొ ో ౌ ్ ౎ ౏ ౐ ౑ ౒ ౓ ౔ ౕ ౖ ౗ ౘ ౙ ౚ ౛ ౜ ౝ ౞ ౟ ౠ ౡ ౢ ౣ ౤ ౥ ౦ ౧ ౨ ౩ ౪ ౫ ౬ ౭ ౮ ౯ ౰ ౱ ౲ ౳ ౴ ౵ ౶ ౷ ౸ ౹ ౺ ౻ ౼ ౽ ౾ ౿ ಀ ಁ ಂ ಃ ಄ ಅ ಆ ಇ ಈ ಉ ಊ ಋ ಌ ಍ ಎ ಏ ಐ ಑ ಒ ಓ ಔ ಕ ಖ ಗ ಘ ಙ ಚ ಛ ಜ ಝ ಞ ಟ ಠ ಡ ಢ ಣ ತ ಥ ದ ಧ ನ ಩ ಪ ಫ ಬ ಭ ಮ ಯ ರ ಱ ಲ ಳ ಴ ವ ಶ ಷ ಸ ಹ ಺ ಻ ಼ ಽ ಾ ಿ ೀ ು ೂ ೃ ೄ ೅ ೆ ೇ ೈ ೉ ೊ ೋ ೌ ್ ೎ ೏ ೐ ೑ ೒ ೓ ೔ ೕ ೖ ೗ ೘ ೙ ೚ ೛ ೜ ೝ ೞ ೟ ೠ ೡ ೢ ೣ ೤ ೥ ೦ ೧ ೨ ೩ ೪ ೫ ೬ ೭ ೮ ೯ ೰ ೱ ೲ ೳ ೴ ೵ ೶ ೷ ೸ ೹ ೺ ೻ ೼ ೽ ೾ ೿ ഀ ഁ ം ഃ ഄ അ ആ ഇ ഈ ഉ ഊ ഋ ഌ ഍ എ ഏ ഐ ഑ ഒ ഓ ഔ ക ഖ ഗ ഘ ങ ച ഛ ജ ഝ ഞ ട ഠ ഡ ഢ ണ ത ഥ ദ ധ ന ഩ പ ഫ ബ ഭ മ യ ര റ ല ള ഴ വ ശ ഷ സ ഹ ഺ ഻ ഼ ഽ ാ ി ീ ു ൂ ൃ ൄ ൅ െ േ ൈ ൉ ൊ ോ ൌ ് ൎ ൏ ൐ ൑ ൒ ൓ ൔ ൕ ൖ ൗ ൘ ൙ ൚ ൛ ൜ ൝ ൞ ൟ ൠ ൡ ൢ ൣ ൤ ൥ ൦ ൧ ൨ ൩ ൪ ൫ ൬ ൭ ൮ ൯ ൰ ൱ ൲ ൳ ൴ ൵ ൶ ൷ ൸ ൹ ൺ ൻ ർ ൽ ൾ ൿ ඀ ඁ ං ඃ ඄ අ ආ ඇ ඈ ඉ ඊ උ ඌ ඍ ඎ ඏ ඐ එ ඒ ඓ ඔ ඕ ඖ ඗ ඘ ඙ ක ඛ ග ඝ ඞ ඟ ච ඡ ජ ඣ ඤ ඥ ඦ ට ඨ ඩ ඪ ණ ඬ ත ථ ද ධ න ඲ ඳ ප ඵ බ භ ම ඹ ය ර ඼ ල ඾ ඿ ව ශ ෂ ස හ ළ ෆ ෇ ෈ ෉ ් ෋ ෌ ෍ ෎ ා ැ ෑ ි ී ු ෕ ූ ෗ ෘ ෙ ේ ෛ ො ෝ ෞ ෟ ෠ ෡ ෢ ෣ ෤ ෥ ෦ ෧ ෨ ෩ ෪ ෫ ෬ ෭ ෮ ෯ ෰ ෱ ෲ ෳ ෴ ෵ ෶ ෷ ෸ ෹ ෺ ෻ ෼ ෽ ෾ ෿ ฀ ก ข ฃ ค ฅ ฆ ง จ ฉ ช ซ ฌ ญ ฎ ฏ ฐ ฑ ฒ ณ ด ต ถ ท ธ น บ ป ผ ฝ พ ฟ ภ ม ย ร ฤ ล ฦ ว ศ ษ ส ห ฬ อ ฮ ฯ ะ ั า ำ ิ ี ึ ื ุ ู ฺ ฻ ฼ ฽ ฾ ฿ เ แ โ ใ ไ ๅ ๆ ็ ่ ้ ๊ ๋ ์ ํ ๎ ๏ ๐ ๑ ๒ ๓ ๔ ๕ ๖ ๗ ๘ ๙ ๚ ๛ ๜ ๝ ๞ ๟ ๠ ๡ ๢ ๣ ๤ ๥ ๦ ๧ ๨ ๩ ๪ ๫ ๬ ๭ ๮ ๯ ๰ ๱ ๲ ๳ ๴ ๵ ๶ ๷ ๸ ๹ ๺ ๻ ๼ ๽ ๾ ๿ ຀ ກ ຂ ຃ ຄ ຅ ຆ ງ ຈ ຉ ຊ ຋ ຌ ຍ ຎ ຏ ຐ ຑ ຒ ຓ ດ ຕ ຖ ທ ຘ ນ ບ ປ ຜ ຝ ພ ຟ ຠ ມ ຢ ຣ ຤ ລ ຦ ວ ຨ ຩ ສ ຫ ຬ ອ ຮ ຯ ະ ັ າ ຳ ິ ີ ຶ ື ຸ ູ ຺ ົ ຼ ຽ ຾ ຿ ເ ແ ໂ ໃ ໄ ໅ ໆ ໇ ່ ້ ໊ ໋ ໌ ໍ ໎ ໏ ໐ ໑ ໒ ໓ ໔ ໕ ໖ ໗ ໘ ໙ ໚ ໛ ໜ ໝ ໞ ໟ ໠ ໡ ໢ ໣ ໤ ໥ ໦ ໧ ໨ ໩ ໪ ໫ ໬ ໭ ໮ ໯ ໰ ໱ ໲ ໳ ໴ ໵ ໶ ໷ ໸ ໹ ໺ ໻ ໼ ໽ ໾ ໿ ༀ ༁ ༂ ༃ ༄ ༅ ༆ ༇ ༈ ༉ ༊ ་ ༌ ། ༎ ༏ ༐ ༑ ༒ ༓ ༔ ༕ ༖ ༗ ༘ ༙ ༚ ༛ ༜ ༝ ༞ ༟ ༠ ༡ ༢ ༣ ༤ ༥ ༦ ༧ ༨ ༩ ༪ ༫ ༬ ༭ ༮ ༯ ༰ ༱ ༲ ༳ ༴ ༵ ༶ ༷ ༸ ༹ ༺ ༻ ༼ ༽ ༾ ༿ ཀ ཁ ག གྷ ང ཅ ཆ ཇ ཈ ཉ ཊ ཋ ཌ ཌྷ ཎ ཏ ཐ ད དྷ ན པ ཕ བ བྷ མ ཙ ཚ ཛ ཛྷ ཝ ཞ ཟ འ ཡ ར ལ ཤ ཥ ས ཧ ཨ ཀྵ ཪ ཫ ཬ ཭ ཮ ཯ ཰ ཱ ི ཱི ུ ཱུ ྲྀ ཷ ླྀ ཹ ེ ཻ ོ ཽ ཾ ཿ ྀ ཱྀ ྂ ྃ ྄ ྅ ྆ ྇ ྈ ྉ ྊ ྋ ྌ ྍ ྎ ྏ ྐ ྑ ྒ ྒྷ ྔ ྕ ྖ ྗ ྘ ྙ ྚ ྛ ྜ ྜྷ ྞ ྟ ྠ ྡ ྡྷ ྣ ྤ ྥ ྦ ྦྷ ྨ ྩ ྪ ྫ ྫྷ ྭ ྮ ྯ ྰ ྱ ྲ ླ ྴ ྵ ྶ ྷ ྸ ྐྵ ྺ ྻ ྼ ྽ ྾ ྿ ࿀ ࿁ ࿂ ࿃ ࿄ ࿅ ࿆ ࿇ ࿈ ࿉ ࿊ ࿋ ࿌ ࿍ ࿎ ࿏ ࿐ ࿑ ࿒ ࿓ ࿔ ࿕ ࿖ ࿗ ࿘ ࿙ ࿚ ࿛ ࿜ ࿝ ࿞ ࿟ ࿠ ࿡ ࿢ ࿣ ࿤ ࿥ ࿦ ࿧ ࿨ ࿩ ࿪ ࿫ ࿬ ࿭ ࿮ ࿯ ࿰ ࿱ ࿲ ࿳ ࿴ ࿵ ࿶ ࿷ ࿸ ࿹ ࿺ ࿻ ࿼ ࿽ ࿾ ࿿ က ခ ဂ ဃ င စ ဆ ဇ ဈ ဉ ည ဋ ဌ ဍ ဎ ဏ တ ထ ဒ ဓ န ပ ဖ ဗ ဘ မ ယ ရ လ ဝ သ ဟ ဠ အ ဢ ဣ ဤ ဥ ဦ ဧ ဨ ဩ ဪ ါ ာ ိ ီ ု ူ ေ ဲ ဳ ဴ ဵ ံ ့ း ္ ် ျ ြ ွ ှ ဿ ၀ ၁ ၂ ၃ ၄ ၅ ၆ ၇ ၈ ၉ ၊ ။ ၌ ၍ ၎ ၏ ၐ ၑ ၒ ၓ ၔ ၕ ၖ ၗ ၘ ၙ ၚ ၛ ၜ ၝ ၞ ၟ ၠ ၡ ၢ ၣ ၤ ၥ ၦ ၧ ၨ ၩ ၪ ၫ ၬ ၭ ၮ ၯ ၰ ၱ ၲ ၳ ၴ ၵ ၶ ၷ ၸ ၹ ၺ ၻ ၼ ၽ ၾ ၿ ႀ ႁ ႂ ႃ ႄ ႅ ႆ ႇ ႈ ႉ ႊ ႋ ႌ ႍ ႎ ႏ ႐ ႑ ႒ ႓ ႔ ႕ ႖ ႗ ႘ ႙ ႚ ႛ ႜ ႝ ႞ ႟ Ⴀ Ⴁ Ⴂ Ⴃ Ⴄ Ⴅ Ⴆ Ⴇ Ⴈ Ⴉ Ⴊ Ⴋ Ⴌ Ⴍ Ⴎ Ⴏ Ⴐ Ⴑ Ⴒ Ⴓ Ⴔ Ⴕ Ⴖ Ⴗ Ⴘ Ⴙ Ⴚ Ⴛ Ⴜ Ⴝ Ⴞ Ⴟ Ⴠ Ⴡ Ⴢ Ⴣ Ⴤ Ⴥ ჆ Ⴧ ჈ ჉ ჊ ჋ ჌ Ⴭ ჎ ჏ ა ბ გ დ ე ვ ზ თ ი კ ლ მ ნ ო პ ჟ რ ს ტ უ ფ ქ ღ ყ შ ჩ ც ძ წ ჭ ხ ჯ ჰ ჱ ჲ ჳ ჴ ჵ ჶ ჷ ჸ ჹ ჺ ჻ ჼ ჽ ჾ ჿ ᄀ ᄁ ᄂ ᄃ ᄄ ᄅ ᄆ ᄇ ᄈ ᄉ ᄊ ᄋ ᄌ ᄍ ᄎ ᄏ ᄐ ᄑ ᄒ ᄓ ᄔ ᄕ ᄖ ᄗ ᄘ ᄙ ᄚ ᄛ ᄜ ᄝ ᄞ ᄟ ᄠ ᄡ ᄢ ᄣ ᄤ ᄥ ᄦ ᄧ ᄨ ᄩ ᄪ ᄫ ᄬ ᄭ ᄮ ᄯ ᄰ ᄱ ᄲ ᄳ ᄴ ᄵ ᄶ ᄷ ᄸ ᄹ ᄺ ᄻ ᄼ ᄽ ᄾ ᄿ ᅀ ᅁ ᅂ ᅃ ᅄ ᅅ ᅆ ᅇ ᅈ ᅉ ᅊ ᅋ ᅌ ᅍ ᅎ ᅏ ᅐ ᅑ ᅒ ᅓ ᅔ ᅕ ᅖ ᅗ ᅘ ᅙ ᅚ ᅛ ᅜ ᅝ ᅞ ᅟ ᅠ ᅡ ᅢ ᅣ ᅤ ᅥ ᅦ ᅧ ᅨ ᅩ ᅪ ᅫ ᅬ ᅭ ᅮ ᅯ ᅰ ᅱ ᅲ ᅳ ᅴ ᅵ ᅶ ᅷ ᅸ ᅹ ᅺ ᅻ ᅼ ᅽ ᅾ ᅿ ᆀ ᆁ ᆂ ᆃ ᆄ ᆅ ᆆ ᆇ ᆈ ᆉ ᆊ ᆋ ᆌ ᆍ ᆎ ᆏ ᆐ ᆑ ᆒ ᆓ ᆔ ᆕ ᆖ ᆗ ᆘ ᆙ ᆚ ᆛ ᆜ ᆝ ᆞ ᆟ ᆠ ᆡ ᆢ ᆣ ᆤ ᆥ ᆦ ᆧ ᆨ ᆩ ᆪ ᆫ ᆬ ᆭ ᆮ ᆯ ᆰ ᆱ ᆲ ᆳ ᆴ ᆵ ᆶ ᆷ ᆸ ᆹ ᆺ ᆻ ᆼ ᆽ ᆾ ᆿ ᇀ ᇁ ᇂ ᇃ ᇄ ᇅ ᇆ ᇇ ᇈ ᇉ ᇊ ᇋ ᇌ ᇍ ᇎ ᇏ ᇐ ᇑ ᇒ ᇓ ᇔ ᇕ ᇖ ᇗ ᇘ ᇙ ᇚ ᇛ ᇜ ᇝ ᇞ ᇟ ᇠ ᇡ ᇢ ᇣ ᇤ ᇥ ᇦ ᇧ ᇨ ᇩ ᇪ ᇫ ᇬ ᇭ ᇮ ᇯ ᇰ ᇱ ᇲ ᇳ ᇴ ᇵ ᇶ ᇷ ᇸ ᇹ ᇺ ᇻ ᇼ ᇽ ᇾ ᇿ ሀ ሁ ሂ ሃ ሄ ህ ሆ ሇ ለ ሉ ሊ ላ ሌ ል ሎ ሏ ሐ ሑ ሒ ሓ ሔ ሕ ሖ ሗ መ ሙ ሚ ማ ሜ ም ሞ ሟ ሠ ሡ ሢ ሣ ሤ ሥ ሦ ሧ ረ ሩ ሪ ራ ሬ ር ሮ ሯ ሰ ሱ ሲ ሳ ሴ ስ ሶ ሷ ሸ ሹ ሺ ሻ ሼ ሽ ሾ ሿ ቀ ቁ ቂ ቃ ቄ ቅ ቆ ቇ ቈ ቉ ቊ ቋ ቌ ቍ ቎ ቏ ቐ ቑ ቒ ቓ ቔ ቕ ቖ ቗ ቘ ቙ ቚ ቛ ቜ ቝ ቞ ቟ በ ቡ ቢ ባ ቤ ብ ቦ ቧ ቨ ቩ ቪ ቫ ቬ ቭ ቮ ቯ ተ ቱ ቲ ታ ቴ ት ቶ ቷ ቸ ቹ ቺ ቻ ቼ ች ቾ ቿ ኀ ኁ ኂ ኃ ኄ ኅ ኆ ኇ ኈ ኉ ኊ ኋ ኌ ኍ ኎ ኏ ነ ኑ ኒ ና ኔ ን ኖ ኗ ኘ ኙ ኚ ኛ ኜ ኝ ኞ ኟ አ ኡ ኢ ኣ ኤ እ ኦ ኧ ከ ኩ ኪ ካ ኬ ክ ኮ ኯ ኰ ኱ ኲ ኳ ኴ ኵ ኶ ኷ ኸ ኹ ኺ ኻ ኼ ኽ ኾ ኿ ዀ ዁ ዂ ዃ ዄ ዅ ዆ ዇ ወ ዉ ዊ ዋ ዌ ው ዎ ዏ ዐ ዑ ዒ ዓ ዔ ዕ ዖ ዗ ዘ ዙ ዚ ዛ ዜ ዝ ዞ ዟ ዠ ዡ ዢ ዣ ዤ ዥ ዦ ዧ የ ዩ ዪ ያ ዬ ይ ዮ ዯ ደ ዱ ዲ ዳ ዴ ድ ዶ ዷ ዸ ዹ ዺ ዻ ዼ ዽ ዾ ዿ ጀ ጁ ጂ ጃ ጄ ጅ ጆ ጇ ገ ጉ ጊ ጋ ጌ ግ ጎ ጏ ጐ ጑ ጒ ጓ ጔ ጕ ጖ ጗ ጘ ጙ ጚ ጛ ጜ ጝ ጞ ጟ ጠ ጡ ጢ ጣ ጤ ጥ ጦ ጧ ጨ ጩ ጪ ጫ ጬ ጭ ጮ ጯ ጰ ጱ ጲ ጳ ጴ ጵ ጶ ጷ ጸ ጹ ጺ ጻ ጼ ጽ ጾ ጿ ፀ ፁ ፂ ፃ ፄ ፅ ፆ ፇ ፈ ፉ ፊ ፋ ፌ ፍ ፎ ፏ ፐ ፑ ፒ ፓ ፔ ፕ ፖ ፗ ፘ ፙ ፚ ፛ ፜ ፝ ፞ ፟ ፠ ፡ ። ፣ ፤ ፥ ፦ ፧ ፨ ፩ ፪ ፫ ፬ ፭ ፮ ፯ ፰ ፱ ፲ ፳ ፴ ፵ ፶ ፷ ፸ ፹ ፺ ፻ ፼ ፽ ፾ ፿ ᎀ ᎁ ᎂ ᎃ ᎄ ᎅ ᎆ ᎇ "
     ]
    }
   ],
   "source": [
    "for i in range(5000):\n",
    "    print(chr(i),end=' ')"
   ]
  },
  {
   "cell_type": "code",
   "execution_count": 49,
   "id": "9d287845",
   "metadata": {},
   "outputs": [
    {
     "data": {
      "text/plain": [
       "'A'"
      ]
     },
     "execution_count": 49,
     "metadata": {},
     "output_type": "execute_result"
    }
   ],
   "source": [
    "chr(65)"
   ]
  },
  {
   "cell_type": "code",
   "execution_count": 50,
   "id": "17be1e2e",
   "metadata": {},
   "outputs": [
    {
     "data": {
      "text/plain": [
       "65"
      ]
     },
     "execution_count": 50,
     "metadata": {},
     "output_type": "execute_result"
    }
   ],
   "source": [
    "ord('A')"
   ]
  },
  {
   "cell_type": "code",
   "execution_count": 51,
   "id": "0b02ad10",
   "metadata": {},
   "outputs": [
    {
     "data": {
      "text/plain": [
       "122"
      ]
     },
     "execution_count": 51,
     "metadata": {},
     "output_type": "execute_result"
    }
   ],
   "source": [
    "ord('z')"
   ]
  },
  {
   "cell_type": "code",
   "execution_count": 52,
   "id": "ba902675",
   "metadata": {},
   "outputs": [
    {
     "name": "stdout",
     "output_type": "stream",
     "text": [
      "A\n",
      "B\n",
      "C\n",
      "D\n",
      "E\n",
      "F\n",
      "G\n",
      "H\n",
      "I\n",
      "J\n",
      "K\n",
      "L\n",
      "M\n",
      "N\n",
      "O\n",
      "P\n",
      "Q\n",
      "R\n",
      "S\n",
      "T\n",
      "U\n",
      "V\n",
      "W\n",
      "X\n",
      "Y\n",
      "Z\n"
     ]
    }
   ],
   "source": [
    "for i in  range(26):\n",
    "    print(chr(i+65))"
   ]
  },
  {
   "cell_type": "code",
   "execution_count": 59,
   "id": "746b985f",
   "metadata": {},
   "outputs": [],
   "source": [
    "l=[19,22,3,4,5,6,7]\n",
    "l1=[10,11,12,13,14,15,16,17]"
   ]
  },
  {
   "cell_type": "code",
   "execution_count": 60,
   "id": "d1fd83cd",
   "metadata": {},
   "outputs": [
    {
     "name": "stdout",
     "output_type": "stream",
     "text": [
      "792\n"
     ]
    }
   ],
   "source": [
    "s=0\n",
    "for i in range(7):\n",
    "    s=s+l[i]*l1[i]\n",
    "print(s)"
   ]
  },
  {
   "cell_type": "code",
   "execution_count": 62,
   "id": "ec20ecdd",
   "metadata": {},
   "outputs": [
    {
     "name": "stdout",
     "output_type": "stream",
     "text": [
      "190\n",
      "242\n",
      "36\n",
      "52\n",
      "70\n",
      "90\n",
      "112\n"
     ]
    }
   ],
   "source": [
    "for i,j in zip(l,l1):\n",
    "    print(i*j)\n",
    "    "
   ]
  },
  {
   "cell_type": "code",
   "execution_count": 65,
   "id": "209bc8a3",
   "metadata": {},
   "outputs": [],
   "source": [
    "import random\n",
    "t=[chr(random.randint(10,1000)) for i in range(600)]"
   ]
  },
  {
   "cell_type": "code",
   "execution_count": 66,
   "id": "0ab1b12d",
   "metadata": {},
   "outputs": [
    {
     "name": "stdout",
     "output_type": "stream",
     "text": [
      "['ŀ', 'ƴ', 'Ƴ', 'γ', 'H', 'Ő', 'b', '\\x19', 'Ǻ', '̝', 'Ʊ', 'Ĳ', 'ŷ', 'Ϗ', 'Ƹ', '˗', 'ͽ', '̟', 'μ', '\\x86', 'ĝ', 'ˠ', 'Å', '\\x8e', '̞', 'ϕ', 'ƚ', 'Ƃ', 'ȯ', 'Ɩ', '\\x14', 'Ů', '͏', '̬', 'ū', '̵', '̪', 'Ή', '́', '.', 'Ƚ', 'ͧ', 'ͷ', 'ͣ', 'ͅ', 'é', 'ϓ', 'ȯ', '7', 'ʋ', 'Đ', 'ś', 'Ϟ', 'Ƞ', 'ͤ', '¥', '\\x91', 'ʰ', 'ƽ', 'ʺ', 'ʆ', 'ɀ', 'ǻ', '̩', '¹', '˻', '˦', 'ʫ', 'ȁ', 'σ', '̩', 'ǚ', '\\x93', 'z', 'ō', 'Ϗ', 'ě', '4', 'F', '\\x14', '|', 'ȸ', '͈', 'ʴ', 'ʝ', 'Č', 'Ȱ', 'ķ', 'ŋ', 'ǜ', '<', '¿', '΄', '\\x84', '˴', 'ė', 'Ǚ', '\\x7f', 'Ƨ', 'õ', 'Π', 'ɺ', 'ψ', 'λ', '\\x0e', 'υ', 'ˉ', 'Ŗ', '˙', 'õ', 'ɕ', '˭', 'f', '̳', '˴', 'ƥ', '\\u0378', 'Ά', 'ì', 'τ', 'ό', 'ǀ', 'ɯ', 'ʨ', 'Ğ', '̇', 'ç', 'ğ', '½', 'Ħ', '3', '\\u0379', ')', 'ţ', '\\u0379', 'Ϡ', '̆', '\\x0e', 'Ą', 'ÿ', 'ɍ', 'ȣ', 'ɩ', '̜', 'ʜ', 'ɠ', '\\x89', 'ϑ', 'Ĭ', 'ƕ', 'ŷ', 'ψ', 'Ͳ', '̮', 'ȕ', 'ɭ', 'α', 'ˣ', 'Ï', 'ϣ', 'ʴ', '̦', 'r', 'ð', 'ƒ', '©', 'ű', 'ζ', 'å', '\\x0e', '̾', '\\u0383', 'Ϩ', 'ü', 'ĵ', 'β', '̘', 'ο', 'ũ', 'Ŋ', '\\x0b', 'ɀ', 'Ɋ', '\\x9e', '\\x91', 'λ', 'ț', 'ß', 'β', 'Ś', 'ô', 'ɱ', 'ž', '~', 'ʊ', '\\x8c', '{', 'Ń', 'ħ', 'ć', 'ν', 'ð', 'Ǆ', '͎', 'Ä', '«', 'Ƀ', '?', '(', '̘', '͜', 'ʝ', 'ȍ', '˗', 'Ģ', 'ō', 'ŭ', '̑', 'Ɔ', '͂', 'ʯ', 'Ϗ', 'Ϧ', 'Ú', '=', 'Ǹ', 'ʷ', '\\x91', '͋', 'r', 'ɂ', 'Ĩ', '˓', 'Χ', '˘', '°', '%', 'ˀ', '˭', '˶', 'Φ', 'Ř', '̶', '(', 'ɮ', 'ʚ', 'd', 'ȡ', 'Ć', 'ƈ', 'ʛ', 'H', 'ζ', '\\x86', '\\x10', 'ʜ', '{', '˗', 'Ȧ', 'ư', 'ͳ', '˻', '%', 'ŗ', 'Σ', 'ͮ', 'ρ', '\\x16', 'ɚ', 'ƿ', 'ʹ', 'ɲ', '̣', 'ε', '˳', 'ʺ', 'ǁ', 's', '͡', '¿', '̊', 'Ǿ', '\\x8d', 'Ȗ', 'Ϗ', '˥', 'Ȕ', 'ˢ', 'ɶ', '͌', 'Ź', 'x', 'ħ', 'ψ', 'Ʉ', 'ƥ', 'ş', 'ˊ', '˼', 'Å', 'ʢ', 'Û', 'ȸ', '\\x7f', 'ȇ', 'Ĥ', '°', 'ȁ', 'ʥ', 'Ĺ', 'Ι', 'ʡ', 'φ', '̒', 'ɐ', 'Ɛ', '=', 'ϡ', 'š', 'Ʃ', '˸', 'Ĳ', 'Ð', '̣', 'Ā', 'Ƌ', '2', 'ǹ', '\\x0c', 'ͫ', 'ć', '@', 'ȿ', 'Õ', '^', 'Ɵ', 'p', 'μ', 'ͭ', 'P', '\\x1e', 'Ǧ', 'Ǥ', 'ç', '˂', 'ø', 'N', 'ǆ', 'ō', 'ɼ', 'ŭ', '©', 'X', '͠', 'ȕ', 'ǭ', 'Ĥ', 'Ĉ', '΄', '\\x1d', 'Ġ', '<', 'Ű', 'ɝ', 'ǜ', 'ƺ', 'ώ', '-', 'ν', '̄', 'ǭ', '̰', '¿', 'ï', '̞', 'Ÿ', 'Ĩ', '́', 'Ć', '̈', '£', '˹', 'Y', 'É', 'Ǘ', '̝', 'n', 'Ą', 'ʭ', 'ϛ', '̅', 'ʌ', 'ǒ', 'Ȁ', 'ˉ', '˾', 'Ħ', 'Α', 'Δ', 'ľ', 'Ǝ', 'Ɩ', 'ÿ', 'ȵ', 'F', 'ͣ', 'Ǽ', 'ͨ', 'm', '̸', 'ʭ', 'Ƥ', 'K', 'Ä', '\\x8a', 'ę', '\\r', 'Ə', '¦', 'Ǯ', '§', 'ó', 'ý', '˙', 'Ʃ', 'î', '\\x99', 'ʹ', 'x', 'ə', 'i', 'ˀ', 'ʰ', 'ƫ', 'ī', '\\x1d', 'ə', '\\\\', 'ǹ', 'Ō', 'Ę', 'Ǿ', '©', 'ȡ', 'Ę', 'ň', 'Ɲ', 'Ƣ', '\\x95', 'ʴ', 'Ğ', 'Ć', 'ł', 'Ř', 'ƴ', 'Ĳ', 'ʪ', 'Ȯ', 'Ο', '̙', 'ř', 'Ę', 'Γ', '×', 'ș', 'ƫ', '˺', 'g', '\\x17', '˛', 'ȯ', 'c', 'ȇ', '\\x1b', '͢', '8', 'Ƞ', '·', '˸', '0', 'è', '=', 'ɳ', 'ú', 'Æ', 'Ï', 'Ŧ', 'Ș', 'Ñ', '˖', '˽', 'ȁ', '\\x94', 'ʅ', 'Ƚ', 'ɡ', '\\x95', '̴', 'ˉ', 'u', 'ʗ', 'Ņ', 'D', '̽', '̡', 'ʌ', 'Ű', 'ʧ', 'Ψ', '\\x9b', 'Ν', 'ł', 'ͩ', '\\x93', 'ʁ', 'Ǯ', '̎', 'ɘ', '̟', '̌', 'Ĉ', '\\x84', 'ſ', 'ϝ', 'W', '̗', 'ʹ', 'I', 'ʊ', 'Φ', 'Ǵ', 'ȇ', '\\x92', '\\u0382', 'f', '̜', '\\x87', 'Ĳ', 'ʔ', 'ͨ', 'Ε', 'Έ', '˨', 'ž', 'Ψ', 'ų', 'ĸ', 'ē', 'ɒ', 'ƫ', 'ğ', '˗', 'ͨ', 'O', 'Ǳ', '̵', 'ǁ', 'ƶ', 'Ȫ', '̤', 'c', '̀', 'ċ', 'ͫ', 'ƪ', 'Ţ', 'Ɗ', 'Ζ', 'Ű', '˭', 'ʨ', 'U', 'Ȳ', 'Ȟ', '\\x89', 'Ƈ', 'Ϋ', 'Ǭ', '̧', 'ʘ', 'ˊ', 'ˏ', 'M', '*', '2', 'ǘ', 'à', '\\u0379', 'ˠ', 'Μ', 'Ł', 'º', '¬', 'Ƃ', 'Ǆ', '͛', '˥', '7', 'λ', 'ů']\n"
     ]
    }
   ],
   "source": [
    "print(t)"
   ]
  },
  {
   "cell_type": "code",
   "execution_count": 69,
   "id": "37f6579f",
   "metadata": {},
   "outputs": [
    {
     "name": "stdout",
     "output_type": "stream",
     "text": [
      "[(0, 'ŀ'), (1, 'ƴ'), (2, 'Ƴ'), (3, 'γ'), (4, 'H'), (5, 'Ő'), (6, 'b'), (7, '\\x19'), (8, 'Ǻ'), (9, '̝'), (10, 'Ʊ'), (11, 'Ĳ'), (12, 'ŷ'), (13, 'Ϗ'), (14, 'Ƹ'), (15, '˗'), (16, 'ͽ'), (17, '̟'), (18, 'μ'), (19, '\\x86'), (20, 'ĝ'), (21, 'ˠ'), (22, 'Å'), (23, '\\x8e'), (24, '̞'), (25, 'ϕ'), (26, 'ƚ'), (27, 'Ƃ'), (28, 'ȯ'), (29, 'Ɩ'), (30, '\\x14'), (31, 'Ů'), (32, '͏'), (33, '̬'), (34, 'ū'), (35, '̵'), (36, '̪'), (37, 'Ή'), (38, '́'), (39, '.'), (40, 'Ƚ'), (41, 'ͧ'), (42, 'ͷ'), (43, 'ͣ'), (44, 'ͅ'), (45, 'é'), (46, 'ϓ'), (47, 'ȯ'), (48, '7'), (49, 'ʋ'), (50, 'Đ'), (51, 'ś'), (52, 'Ϟ'), (53, 'Ƞ'), (54, 'ͤ'), (55, '¥'), (56, '\\x91'), (57, 'ʰ'), (58, 'ƽ'), (59, 'ʺ'), (60, 'ʆ'), (61, 'ɀ'), (62, 'ǻ'), (63, '̩'), (64, '¹'), (65, '˻'), (66, '˦'), (67, 'ʫ'), (68, 'ȁ'), (69, 'σ'), (70, '̩'), (71, 'ǚ'), (72, '\\x93'), (73, 'z'), (74, 'ō'), (75, 'Ϗ'), (76, 'ě'), (77, '4'), (78, 'F'), (79, '\\x14'), (80, '|'), (81, 'ȸ'), (82, '͈'), (83, 'ʴ'), (84, 'ʝ'), (85, 'Č'), (86, 'Ȱ'), (87, 'ķ'), (88, 'ŋ'), (89, 'ǜ'), (90, '<'), (91, '¿'), (92, '΄'), (93, '\\x84'), (94, '˴'), (95, 'ė'), (96, 'Ǚ'), (97, '\\x7f'), (98, 'Ƨ'), (99, 'õ'), (100, 'Π'), (101, 'ɺ'), (102, 'ψ'), (103, 'λ'), (104, '\\x0e'), (105, 'υ'), (106, 'ˉ'), (107, 'Ŗ'), (108, '˙'), (109, 'õ'), (110, 'ɕ'), (111, '˭'), (112, 'f'), (113, '̳'), (114, '˴'), (115, 'ƥ'), (116, '\\u0378'), (117, 'Ά'), (118, 'ì'), (119, 'τ'), (120, 'ό'), (121, 'ǀ'), (122, 'ɯ'), (123, 'ʨ'), (124, 'Ğ'), (125, '̇'), (126, 'ç'), (127, 'ğ'), (128, '½'), (129, 'Ħ'), (130, '3'), (131, '\\u0379'), (132, ')'), (133, 'ţ'), (134, '\\u0379'), (135, 'Ϡ'), (136, '̆'), (137, '\\x0e'), (138, 'Ą'), (139, 'ÿ'), (140, 'ɍ'), (141, 'ȣ'), (142, 'ɩ'), (143, '̜'), (144, 'ʜ'), (145, 'ɠ'), (146, '\\x89'), (147, 'ϑ'), (148, 'Ĭ'), (149, 'ƕ'), (150, 'ŷ'), (151, 'ψ'), (152, 'Ͳ'), (153, '̮'), (154, 'ȕ'), (155, 'ɭ'), (156, 'α'), (157, 'ˣ'), (158, 'Ï'), (159, 'ϣ'), (160, 'ʴ'), (161, '̦'), (162, 'r'), (163, 'ð'), (164, 'ƒ'), (165, '©'), (166, 'ű'), (167, 'ζ'), (168, 'å'), (169, '\\x0e'), (170, '̾'), (171, '\\u0383'), (172, 'Ϩ'), (173, 'ü'), (174, 'ĵ'), (175, 'β'), (176, '̘'), (177, 'ο'), (178, 'ũ'), (179, 'Ŋ'), (180, '\\x0b'), (181, 'ɀ'), (182, 'Ɋ'), (183, '\\x9e'), (184, '\\x91'), (185, 'λ'), (186, 'ț'), (187, 'ß'), (188, 'β'), (189, 'Ś'), (190, 'ô'), (191, 'ɱ'), (192, 'ž'), (193, '~'), (194, 'ʊ'), (195, '\\x8c'), (196, '{'), (197, 'Ń'), (198, 'ħ'), (199, 'ć'), (200, 'ν'), (201, 'ð'), (202, 'Ǆ'), (203, '͎'), (204, 'Ä'), (205, '«'), (206, 'Ƀ'), (207, '?'), (208, '('), (209, '̘'), (210, '͜'), (211, 'ʝ'), (212, 'ȍ'), (213, '˗'), (214, 'Ģ'), (215, 'ō'), (216, 'ŭ'), (217, '̑'), (218, 'Ɔ'), (219, '͂'), (220, 'ʯ'), (221, 'Ϗ'), (222, 'Ϧ'), (223, 'Ú'), (224, '='), (225, 'Ǹ'), (226, 'ʷ'), (227, '\\x91'), (228, '͋'), (229, 'r'), (230, 'ɂ'), (231, 'Ĩ'), (232, '˓'), (233, 'Χ'), (234, '˘'), (235, '°'), (236, '%'), (237, 'ˀ'), (238, '˭'), (239, '˶'), (240, 'Φ'), (241, 'Ř'), (242, '̶'), (243, '('), (244, 'ɮ'), (245, 'ʚ'), (246, 'd'), (247, 'ȡ'), (248, 'Ć'), (249, 'ƈ'), (250, 'ʛ'), (251, 'H'), (252, 'ζ'), (253, '\\x86'), (254, '\\x10'), (255, 'ʜ'), (256, '{'), (257, '˗'), (258, 'Ȧ'), (259, 'ư'), (260, 'ͳ'), (261, '˻'), (262, '%'), (263, 'ŗ'), (264, 'Σ'), (265, 'ͮ'), (266, 'ρ'), (267, '\\x16'), (268, 'ɚ'), (269, 'ƿ'), (270, 'ʹ'), (271, 'ɲ'), (272, '̣'), (273, 'ε'), (274, '˳'), (275, 'ʺ'), (276, 'ǁ'), (277, 's'), (278, '͡'), (279, '¿'), (280, '̊'), (281, 'Ǿ'), (282, '\\x8d'), (283, 'Ȗ'), (284, 'Ϗ'), (285, '˥'), (286, 'Ȕ'), (287, 'ˢ'), (288, 'ɶ'), (289, '͌'), (290, 'Ź'), (291, 'x'), (292, 'ħ'), (293, 'ψ'), (294, 'Ʉ'), (295, 'ƥ'), (296, 'ş'), (297, 'ˊ'), (298, '˼'), (299, 'Å'), (300, 'ʢ'), (301, 'Û'), (302, 'ȸ'), (303, '\\x7f'), (304, 'ȇ'), (305, 'Ĥ'), (306, '°'), (307, 'ȁ'), (308, 'ʥ'), (309, 'Ĺ'), (310, 'Ι'), (311, 'ʡ'), (312, 'φ'), (313, '̒'), (314, 'ɐ'), (315, 'Ɛ'), (316, '='), (317, 'ϡ'), (318, 'š'), (319, 'Ʃ'), (320, '˸'), (321, 'Ĳ'), (322, 'Ð'), (323, '̣'), (324, 'Ā'), (325, 'Ƌ'), (326, '2'), (327, 'ǹ'), (328, '\\x0c'), (329, 'ͫ'), (330, 'ć'), (331, '@'), (332, 'ȿ'), (333, 'Õ'), (334, '^'), (335, 'Ɵ'), (336, 'p'), (337, 'μ'), (338, 'ͭ'), (339, 'P'), (340, '\\x1e'), (341, 'Ǧ'), (342, 'Ǥ'), (343, 'ç'), (344, '˂'), (345, 'ø'), (346, 'N'), (347, 'ǆ'), (348, 'ō'), (349, 'ɼ'), (350, 'ŭ'), (351, '©'), (352, 'X'), (353, '͠'), (354, 'ȕ'), (355, 'ǭ'), (356, 'Ĥ'), (357, 'Ĉ'), (358, '΄'), (359, '\\x1d'), (360, 'Ġ'), (361, '<'), (362, 'Ű'), (363, 'ɝ'), (364, 'ǜ'), (365, 'ƺ'), (366, 'ώ'), (367, '-'), (368, 'ν'), (369, '̄'), (370, 'ǭ'), (371, '̰'), (372, '¿'), (373, 'ï'), (374, '̞'), (375, 'Ÿ'), (376, 'Ĩ'), (377, '́'), (378, 'Ć'), (379, '̈'), (380, '£'), (381, '˹'), (382, 'Y'), (383, 'É'), (384, 'Ǘ'), (385, '̝'), (386, 'n'), (387, 'Ą'), (388, 'ʭ'), (389, 'ϛ'), (390, '̅'), (391, 'ʌ'), (392, 'ǒ'), (393, 'Ȁ'), (394, 'ˉ'), (395, '˾'), (396, 'Ħ'), (397, 'Α'), (398, 'Δ'), (399, 'ľ'), (400, 'Ǝ'), (401, 'Ɩ'), (402, 'ÿ'), (403, 'ȵ'), (404, 'F'), (405, 'ͣ'), (406, 'Ǽ'), (407, 'ͨ'), (408, 'm'), (409, '̸'), (410, 'ʭ'), (411, 'Ƥ'), (412, 'K'), (413, 'Ä'), (414, '\\x8a'), (415, 'ę'), (416, '\\r'), (417, 'Ə'), (418, '¦'), (419, 'Ǯ'), (420, '§'), (421, 'ó'), (422, 'ý'), (423, '˙'), (424, 'Ʃ'), (425, 'î'), (426, '\\x99'), (427, 'ʹ'), (428, 'x'), (429, 'ə'), (430, 'i'), (431, 'ˀ'), (432, 'ʰ'), (433, 'ƫ'), (434, 'ī'), (435, '\\x1d'), (436, 'ə'), (437, '\\\\'), (438, 'ǹ'), (439, 'Ō'), (440, 'Ę'), (441, 'Ǿ'), (442, '©'), (443, 'ȡ'), (444, 'Ę'), (445, 'ň'), (446, 'Ɲ'), (447, 'Ƣ'), (448, '\\x95'), (449, 'ʴ'), (450, 'Ğ'), (451, 'Ć'), (452, 'ł'), (453, 'Ř'), (454, 'ƴ'), (455, 'Ĳ'), (456, 'ʪ'), (457, 'Ȯ'), (458, 'Ο'), (459, '̙'), (460, 'ř'), (461, 'Ę'), (462, 'Γ'), (463, '×'), (464, 'ș'), (465, 'ƫ'), (466, '˺'), (467, 'g'), (468, '\\x17'), (469, '˛'), (470, 'ȯ'), (471, 'c'), (472, 'ȇ'), (473, '\\x1b'), (474, '͢'), (475, '8'), (476, 'Ƞ'), (477, '·'), (478, '˸'), (479, '0'), (480, 'è'), (481, '='), (482, 'ɳ'), (483, 'ú'), (484, 'Æ'), (485, 'Ï'), (486, 'Ŧ'), (487, 'Ș'), (488, 'Ñ'), (489, '˖'), (490, '˽'), (491, 'ȁ'), (492, '\\x94'), (493, 'ʅ'), (494, 'Ƚ'), (495, 'ɡ'), (496, '\\x95'), (497, '̴'), (498, 'ˉ'), (499, 'u'), (500, 'ʗ'), (501, 'Ņ'), (502, 'D'), (503, '̽'), (504, '̡'), (505, 'ʌ'), (506, 'Ű'), (507, 'ʧ'), (508, 'Ψ'), (509, '\\x9b'), (510, 'Ν'), (511, 'ł'), (512, 'ͩ'), (513, '\\x93'), (514, 'ʁ'), (515, 'Ǯ'), (516, '̎'), (517, 'ɘ'), (518, '̟'), (519, '̌'), (520, 'Ĉ'), (521, '\\x84'), (522, 'ſ'), (523, 'ϝ'), (524, 'W'), (525, '̗'), (526, 'ʹ'), (527, 'I'), (528, 'ʊ'), (529, 'Φ'), (530, 'Ǵ'), (531, 'ȇ'), (532, '\\x92'), (533, '\\u0382'), (534, 'f'), (535, '̜'), (536, '\\x87'), (537, 'Ĳ'), (538, 'ʔ'), (539, 'ͨ'), (540, 'Ε'), (541, 'Έ'), (542, '˨'), (543, 'ž'), (544, 'Ψ'), (545, 'ų'), (546, 'ĸ'), (547, 'ē'), (548, 'ɒ'), (549, 'ƫ'), (550, 'ğ'), (551, '˗'), (552, 'ͨ'), (553, 'O'), (554, 'Ǳ'), (555, '̵'), (556, 'ǁ'), (557, 'ƶ'), (558, 'Ȫ'), (559, '̤'), (560, 'c'), (561, '̀'), (562, 'ċ'), (563, 'ͫ'), (564, 'ƪ'), (565, 'Ţ'), (566, 'Ɗ'), (567, 'Ζ'), (568, 'Ű'), (569, '˭'), (570, 'ʨ'), (571, 'U'), (572, 'Ȳ'), (573, 'Ȟ'), (574, '\\x89'), (575, 'Ƈ'), (576, 'Ϋ'), (577, 'Ǭ'), (578, '̧'), (579, 'ʘ'), (580, 'ˊ'), (581, 'ˏ'), (582, 'M'), (583, '*'), (584, '2'), (585, 'ǘ'), (586, 'à'), (587, '\\u0379'), (588, 'ˠ'), (589, 'Μ'), (590, 'Ł'), (591, 'º'), (592, '¬'), (593, 'Ƃ'), (594, 'Ǆ'), (595, '͛'), (596, '˥'), (597, '7'), (598, 'λ'), (599, 'ů')]\n"
     ]
    }
   ],
   "source": [
    "print(list(enumerate(t)))"
   ]
  },
  {
   "cell_type": "code",
   "execution_count": 70,
   "id": "909c64e7",
   "metadata": {},
   "outputs": [
    {
     "data": {
      "text/plain": [
       "'β'"
      ]
     },
     "execution_count": 70,
     "metadata": {},
     "output_type": "execute_result"
    }
   ],
   "source": [
    "t[175]"
   ]
  },
  {
   "cell_type": "code",
   "execution_count": 84,
   "id": "1f3f9758",
   "metadata": {},
   "outputs": [
    {
     "name": "stdout",
     "output_type": "stream",
     "text": [
      "['0923', '4490', '9150', '0996', '5695']\n"
     ]
    }
   ],
   "source": [
    "l=[]\n",
    "for j in range(5):\n",
    "    otp=''\n",
    "    for i in range(4):\n",
    "        otp=otp+str(random.randint(0,9))\n",
    "    l.append(otp)\n",
    "print(l)"
   ]
  },
  {
   "cell_type": "code",
   "execution_count": null,
   "id": "e3220a90",
   "metadata": {},
   "outputs": [],
   "source": []
  }
 ],
 "metadata": {
  "kernelspec": {
   "display_name": "Python 3 (ipykernel)",
   "language": "python",
   "name": "python3"
  },
  "language_info": {
   "codemirror_mode": {
    "name": "ipython",
    "version": 3
   },
   "file_extension": ".py",
   "mimetype": "text/x-python",
   "name": "python",
   "nbconvert_exporter": "python",
   "pygments_lexer": "ipython3",
   "version": "3.9.6"
  }
 },
 "nbformat": 4,
 "nbformat_minor": 5
}
