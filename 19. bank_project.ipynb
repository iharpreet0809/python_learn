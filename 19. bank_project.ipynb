{
 "cells": [
  {
   "cell_type": "code",
   "execution_count": 1,
   "id": "f263ee2c",
   "metadata": {},
   "outputs": [],
   "source": [
    "# bank application"
   ]
  },
  {
   "cell_type": "code",
   "execution_count": 8,
   "id": "fbb610e4",
   "metadata": {},
   "outputs": [],
   "source": [
    "data={1001:{'name':'manish','age':23,'pass':'mann@123','bal':50000,'email':'rmanish911@gmail.com'},\n",
    "     1002:{'name':'shan','age':25,'pass':'shan@123','bal':60000,'email':'shan@gmail.com'},\n",
    "     1003:{'name':'jeet','age':27,'pass':'jeet@123','bal':70000,'email':'jeet@gmail.com'}}"
   ]
  },
  {
   "cell_type": "code",
   "execution_count": 30,
   "id": "7c4ae726",
   "metadata": {},
   "outputs": [],
   "source": [
    "import sys\n",
    "import time\n",
    "import random\n",
    "import smtplib\n",
    "from getpass import getpass\n",
    "def main():\n",
    "    print('Welcome to bank application'.center(100))\n",
    "    print('*'*100)\n",
    "    print()\n",
    "    print('1. Login \\t\\t 2. Signup \\t\\t 3. exit')\n",
    "    usr=int(input('Enter your choice: '))\n",
    "    if usr==1:\n",
    "        Login()\n",
    "    elif usr==2:\n",
    "        Signup()\n",
    "    elif usr==3:\n",
    "        sys.exit()\n",
    "def Login():\n",
    "    ac=int(input('Enter your account number: '))\n",
    "    if ac in data.keys():\n",
    "        pas=getpass('enter your password: ')\n",
    "        if data[ac]['pass']==pas:\n",
    "            print('Login success.....')\n",
    "            print('1. Debit \\t 2. Credit \\t 3. check balance 4. exit')\n",
    "            u=int(input('Enter your choice......: '))\n",
    "            if u==1:\n",
    "                Debit(ac)\n",
    "            elif u==2:\n",
    "                Credit(ac)\n",
    "            elif u==3:\n",
    "                Balance(ac)\n",
    "            elif u==4:\n",
    "                sys.exit()\n",
    "            else:\n",
    "                print('invalid choice...')\n",
    "        else:\n",
    "            print('Invalid username or password.....')\n",
    "            \n",
    "    \n",
    "    \n",
    "    else:\n",
    "        print('no result found .... first create your account')\n",
    "def Signup():\n",
    "    name=input('Enter your name: ')\n",
    "    email=input('Enter your email: ')\n",
    "    pas=getpass('enter your password: ')\n",
    "    bal=5000\n",
    "    ac=list(data.keys())[-1]+1\n",
    "    otp=''\n",
    "    for i in range(4):\n",
    "        otp=otp+str(random.randint(0,9))\n",
    "    con=smtplib.SMTP('smtp.gmail.com',587)\n",
    "    con.starttls()\n",
    "    con.login('bankapplication7@gmail.com','Bankapp@')\n",
    "    con.sendmail('bankapplication7@gmail.com',email,f'Subject: OTP\\n\\n {otp}')\n",
    "    con.close()\n",
    "    ot=input('enter otp: ')\n",
    "    if ot==otp:\n",
    "        data[ac]={'name':name,'bal':bal,'email':email,'pass':pas}\n",
    "        print('accout created....')\n",
    "        print(f'your account number is {ac}')\n",
    "    else:\n",
    "        print('invalid otp')\n",
    "\n",
    "        \n",
    "        \n",
    "        \n",
    "        \n",
    "def Debit(ac):\n",
    "    amount=int(input('Enter your debited amount: '))\n",
    "    if amount <=data[ac]['bal']:\n",
    "        data[ac]['bal']-=amount\n",
    "        print(f'your acoount {amount} has beed debited...')\n",
    "        print(f'your current balance is {data[ac][\"bal\"]}')\n",
    "    else:\n",
    "        print('insufficient balnce')\n",
    "\n",
    "        "
   ]
  },
  {
   "cell_type": "code",
   "execution_count": 32,
   "id": "2f20fca7",
   "metadata": {},
   "outputs": [
    {
     "name": "stdout",
     "output_type": "stream",
     "text": [
      "                                    Welcome to bank application                                     \n",
      "****************************************************************************************************\n",
      "\n",
      "1. Login \t\t 2. Signup \t\t 3. exit\n",
      "Enter your choice: 1\n",
      "Enter your account number: 1002\n",
      "enter your password: ········\n",
      "Login success.....\n",
      "1. Debit \t 2. Credit \t 3. check balance 4. exit\n",
      "Enter your choice......: 1\n",
      "Enter your debited amount: 20000\n",
      "your acoount 20000 has beed debited...\n",
      "your current balance is 40000\n"
     ]
    }
   ],
   "source": [
    "main()"
   ]
  },
  {
   "cell_type": "code",
   "execution_count": 33,
   "id": "feafe3fc",
   "metadata": {},
   "outputs": [
    {
     "data": {
      "text/plain": [
       "{1001: {'name': 'manish',\n",
       "  'age': 23,\n",
       "  'pass': 'mann@123',\n",
       "  'bal': 50000,\n",
       "  'email': 'rmanish911@gmail.com'},\n",
       " 1002: {'name': 'shan',\n",
       "  'age': 25,\n",
       "  'pass': 'shan@123',\n",
       "  'bal': 40000,\n",
       "  'email': 'shan@gmail.com'},\n",
       " 1003: {'name': 'jeet',\n",
       "  'age': 27,\n",
       "  'pass': 'jeet@123',\n",
       "  'bal': 70000,\n",
       "  'email': 'jeet@gmail.com'},\n",
       " 1004: {'name': 'ayush',\n",
       "  'bal': 5000,\n",
       "  'email': 'rmanish911@gmail.com',\n",
       "  'pass': 'ayush'}}"
      ]
     },
     "execution_count": 33,
     "metadata": {},
     "output_type": "execute_result"
    }
   ],
   "source": [
    "data"
   ]
  },
  {
   "cell_type": "code",
   "execution_count": 9,
   "id": "7f5baa3a",
   "metadata": {},
   "outputs": [
    {
     "data": {
      "text/plain": [
       "dict_keys([1001, 1002, 1003])"
      ]
     },
     "execution_count": 9,
     "metadata": {},
     "output_type": "execute_result"
    }
   ],
   "source": [
    "data.keys()"
   ]
  },
  {
   "cell_type": "code",
   "execution_count": 14,
   "id": "6a53aa6c",
   "metadata": {},
   "outputs": [
    {
     "data": {
      "text/plain": [
       "'manish'"
      ]
     },
     "execution_count": 14,
     "metadata": {},
     "output_type": "execute_result"
    }
   ],
   "source": [
    "data[1001]['name']"
   ]
  },
  {
   "cell_type": "code",
   "execution_count": 18,
   "id": "be6c8905",
   "metadata": {},
   "outputs": [
    {
     "name": "stdout",
     "output_type": "stream",
     "text": [
      "                                    Welcome to bank application                                     \n",
      "****************************************************************************************************\n",
      "\n",
      "1. Login \t\t 2. Signup \t\t 3. exit\n",
      "Enter your choice: 1\n",
      "Enter your account number: 1002\n",
      "enter your password: ········\n",
      "Login success.....\n"
     ]
    }
   ],
   "source": [
    "main()"
   ]
  },
  {
   "cell_type": "code",
   "execution_count": 23,
   "id": "84ac1af1",
   "metadata": {},
   "outputs": [
    {
     "data": {
      "text/plain": [
       "1004"
      ]
     },
     "execution_count": 23,
     "metadata": {},
     "output_type": "execute_result"
    }
   ],
   "source": [
    "list(data.keys())[-1]+1"
   ]
  },
  {
   "cell_type": "code",
   "execution_count": 25,
   "id": "4643b733",
   "metadata": {},
   "outputs": [
    {
     "name": "stdout",
     "output_type": "stream",
     "text": [
      "                                    Welcome to bank application                                     \n",
      "****************************************************************************************************\n",
      "\n",
      "1. Login \t\t 2. Signup \t\t 3. exit\n",
      "Enter your choice: 2\n",
      "Enter your name: ayush\n",
      "Enter your email: rmanish911@gmail.com\n",
      "enter your password: ········\n",
      "enter otp: 5156\n",
      "accout created....\n",
      "your account number is 1004\n"
     ]
    }
   ],
   "source": [
    "main()"
   ]
  },
  {
   "cell_type": "code",
   "execution_count": 26,
   "id": "9a650d2e",
   "metadata": {},
   "outputs": [
    {
     "data": {
      "text/plain": [
       "{1001: {'name': 'manish',\n",
       "  'age': 23,\n",
       "  'pass': 'mann@123',\n",
       "  'bal': 50000,\n",
       "  'email': 'rmanish911@gmail.com'},\n",
       " 1002: {'name': 'shan',\n",
       "  'age': 25,\n",
       "  'pass': 'shan@123',\n",
       "  'bal': 60000,\n",
       "  'email': 'shan@gmail.com'},\n",
       " 1003: {'name': 'jeet',\n",
       "  'age': 27,\n",
       "  'pass': 'jeet@123',\n",
       "  'bal': 70000,\n",
       "  'email': 'jeet@gmail.com'},\n",
       " 1004: {'name': 'ayush',\n",
       "  'bal': 5000,\n",
       "  'email': 'rmanish911@gmail.com',\n",
       "  'pass': 'ayush'}}"
      ]
     },
     "execution_count": 26,
     "metadata": {},
     "output_type": "execute_result"
    }
   ],
   "source": [
    "data"
   ]
  },
  {
   "cell_type": "code",
   "execution_count": 27,
   "id": "0835b973",
   "metadata": {},
   "outputs": [
    {
     "name": "stdout",
     "output_type": "stream",
     "text": [
      "                                    Welcome to bank application                                     \n",
      "****************************************************************************************************\n",
      "\n",
      "1. Login \t\t 2. Signup \t\t 3. exit\n",
      "Enter your choice: 1\n",
      "Enter your account number: 1004\n",
      "enter your password: ········\n",
      "Login success.....\n"
     ]
    }
   ],
   "source": [
    "main()"
   ]
  },
  {
   "cell_type": "code",
   "execution_count": null,
   "id": "8df2a99e",
   "metadata": {},
   "outputs": [],
   "source": []
  }
 ],
 "metadata": {
  "kernelspec": {
   "display_name": "Python 3 (ipykernel)",
   "language": "python",
   "name": "python3"
  },
  "language_info": {
   "codemirror_mode": {
    "name": "ipython",
    "version": 3
   },
   "file_extension": ".py",
   "mimetype": "text/x-python",
   "name": "python",
   "nbconvert_exporter": "python",
   "pygments_lexer": "ipython3",
   "version": "3.9.6"
  }
 },
 "nbformat": 4,
 "nbformat_minor": 5
}
