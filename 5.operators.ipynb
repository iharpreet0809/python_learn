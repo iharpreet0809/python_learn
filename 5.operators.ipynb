{
 "cells": [
  {
   "cell_type": "markdown",
   "id": "b42b0bc9",
   "metadata": {},
   "source": [
    "# Operator"
   ]
  },
  {
   "cell_type": "markdown",
   "id": "296ac9e4",
   "metadata": {},
   "source": [
    "                there are 6 type of operator\n",
    "                    1. Arithmatic\n",
    "                    2. Logical\n",
    "                    3. Comparision\n",
    "                    4. Assignment\n",
    "                    5. membership\n",
    "                    6. Identity\n",
    "                "
   ]
  },
  {
   "cell_type": "markdown",
   "id": "0b8723d4",
   "metadata": {},
   "source": [
    "        Arithmatic oeprator:\n",
    "             1. addition (+)\n",
    "             2. sub (-)\n",
    "             3. mul (*)\n",
    "             4. modulus (%)\n",
    "             5. div (/)\n",
    "             6. floor div (//)\n",
    "             7. power (**)\n",
    "             addition  ---> (numbers , str , list , tuple)\n",
    "             sub ---->(numbers)\n",
    "             mul ---> (numbers , (str,int))\n",
    "             div ---> (numbers)"
   ]
  },
  {
   "cell_type": "code",
   "execution_count": 1,
   "id": "42e7d2ab",
   "metadata": {},
   "outputs": [
    {
     "name": "stdout",
     "output_type": "stream",
     "text": [
      "Enter a :67\n",
      "Enter b: 46\n",
      "addition of a and b:  113\n"
     ]
    }
   ],
   "source": [
    "a=int(input('Enter a :'))\n",
    "b=int(input('Enter b: '))\n",
    "print('addition of a and b: ',a+b)"
   ]
  },
  {
   "cell_type": "code",
   "execution_count": 2,
   "id": "a0884eef",
   "metadata": {},
   "outputs": [
    {
     "name": "stdout",
     "output_type": "stream",
     "text": [
      "Enter a :45\n",
      "Enter b: 34.7\n",
      "addition of a and b:  79.7\n"
     ]
    }
   ],
   "source": [
    "a=float(input('Enter a :'))\n",
    "b=float(input('Enter b: '))\n",
    "print('addition of a and b: ',a+b)"
   ]
  },
  {
   "cell_type": "code",
   "execution_count": 3,
   "id": "ade7b705",
   "metadata": {},
   "outputs": [
    {
     "name": "stdout",
     "output_type": "stream",
     "text": [
      "Enter a :10\n",
      "Enter b: 20\n",
      "addition of a and b:  1020\n"
     ]
    }
   ],
   "source": [
    "a=(input('Enter a :'))\n",
    "b=(input('Enter b: '))\n",
    "print('addition of a and b: ',a+b)"
   ]
  },
  {
   "cell_type": "code",
   "execution_count": 4,
   "id": "7e3d43b9",
   "metadata": {},
   "outputs": [],
   "source": [
    "l=[1,2,3]\n",
    "l1=[5,6,7,8]"
   ]
  },
  {
   "cell_type": "code",
   "execution_count": 5,
   "id": "b19c3ccb",
   "metadata": {},
   "outputs": [
    {
     "data": {
      "text/plain": [
       "[1, 2, 3, 5, 6, 7, 8]"
      ]
     },
     "execution_count": 5,
     "metadata": {},
     "output_type": "execute_result"
    }
   ],
   "source": [
    "l+l1"
   ]
  },
  {
   "cell_type": "code",
   "execution_count": 6,
   "id": "e740ddca",
   "metadata": {},
   "outputs": [],
   "source": [
    "t=(1,2,3)"
   ]
  },
  {
   "cell_type": "code",
   "execution_count": 7,
   "id": "ae27194d",
   "metadata": {},
   "outputs": [],
   "source": [
    "t1=(7,8)"
   ]
  },
  {
   "cell_type": "code",
   "execution_count": 8,
   "id": "076df636",
   "metadata": {},
   "outputs": [
    {
     "data": {
      "text/plain": [
       "(1, 2, 3, 7, 8)"
      ]
     },
     "execution_count": 8,
     "metadata": {},
     "output_type": "execute_result"
    }
   ],
   "source": [
    "t+t1"
   ]
  },
  {
   "cell_type": "code",
   "execution_count": 9,
   "id": "35b2bb18",
   "metadata": {},
   "outputs": [
    {
     "data": {
      "text/plain": [
       "5"
      ]
     },
     "execution_count": 9,
     "metadata": {},
     "output_type": "execute_result"
    }
   ],
   "source": [
    "10-5"
   ]
  },
  {
   "cell_type": "code",
   "execution_count": 10,
   "id": "76fe036b",
   "metadata": {},
   "outputs": [
    {
     "data": {
      "text/plain": [
       "17.900000000000002"
      ]
     },
     "execution_count": 10,
     "metadata": {},
     "output_type": "execute_result"
    }
   ],
   "source": [
    "23.6-5.7"
   ]
  },
  {
   "cell_type": "code",
   "execution_count": 11,
   "id": "131c3294",
   "metadata": {},
   "outputs": [
    {
     "ename": "TypeError",
     "evalue": "unsupported operand type(s) for -: 'str' and 'str'",
     "output_type": "error",
     "traceback": [
      "\u001b[1;31m---------------------------------------------------------------------------\u001b[0m",
      "\u001b[1;31mTypeError\u001b[0m                                 Traceback (most recent call last)",
      "\u001b[1;32m~\\AppData\\Local\\Temp/ipykernel_9360/3843242250.py\u001b[0m in \u001b[0;36m<module>\u001b[1;34m\u001b[0m\n\u001b[1;32m----> 1\u001b[1;33m \u001b[1;34m'10'\u001b[0m\u001b[1;33m-\u001b[0m\u001b[1;34m'10'\u001b[0m\u001b[1;33m\u001b[0m\u001b[1;33m\u001b[0m\u001b[0m\n\u001b[0m",
      "\u001b[1;31mTypeError\u001b[0m: unsupported operand type(s) for -: 'str' and 'str'"
     ]
    }
   ],
   "source": [
    "'10'-'10'"
   ]
  },
  {
   "cell_type": "code",
   "execution_count": 12,
   "id": "24d9b249",
   "metadata": {},
   "outputs": [
    {
     "ename": "TypeError",
     "evalue": "unsupported operand type(s) for -: 'list' and 'list'",
     "output_type": "error",
     "traceback": [
      "\u001b[1;31m---------------------------------------------------------------------------\u001b[0m",
      "\u001b[1;31mTypeError\u001b[0m                                 Traceback (most recent call last)",
      "\u001b[1;32m~\\AppData\\Local\\Temp/ipykernel_9360/640202175.py\u001b[0m in \u001b[0;36m<module>\u001b[1;34m\u001b[0m\n\u001b[1;32m----> 1\u001b[1;33m \u001b[0ml\u001b[0m\u001b[1;33m-\u001b[0m\u001b[0ml1\u001b[0m\u001b[1;33m\u001b[0m\u001b[1;33m\u001b[0m\u001b[0m\n\u001b[0m",
      "\u001b[1;31mTypeError\u001b[0m: unsupported operand type(s) for -: 'list' and 'list'"
     ]
    }
   ],
   "source": [
    "l-l1"
   ]
  },
  {
   "cell_type": "code",
   "execution_count": 13,
   "id": "071bb821",
   "metadata": {},
   "outputs": [
    {
     "ename": "TypeError",
     "evalue": "unsupported operand type(s) for -: 'tuple' and 'tuple'",
     "output_type": "error",
     "traceback": [
      "\u001b[1;31m---------------------------------------------------------------------------\u001b[0m",
      "\u001b[1;31mTypeError\u001b[0m                                 Traceback (most recent call last)",
      "\u001b[1;32m~\\AppData\\Local\\Temp/ipykernel_9360/2598997299.py\u001b[0m in \u001b[0;36m<module>\u001b[1;34m\u001b[0m\n\u001b[1;32m----> 1\u001b[1;33m \u001b[0mt\u001b[0m\u001b[1;33m-\u001b[0m\u001b[0mt1\u001b[0m\u001b[1;33m\u001b[0m\u001b[1;33m\u001b[0m\u001b[0m\n\u001b[0m",
      "\u001b[1;31mTypeError\u001b[0m: unsupported operand type(s) for -: 'tuple' and 'tuple'"
     ]
    }
   ],
   "source": [
    "t-t1"
   ]
  },
  {
   "cell_type": "code",
   "execution_count": 15,
   "id": "73085474",
   "metadata": {},
   "outputs": [
    {
     "data": {
      "text/plain": [
       "30"
      ]
     },
     "execution_count": 15,
     "metadata": {},
     "output_type": "execute_result"
    }
   ],
   "source": [
    "10*3"
   ]
  },
  {
   "cell_type": "code",
   "execution_count": 16,
   "id": "0d300b9e",
   "metadata": {},
   "outputs": [
    {
     "data": {
      "text/plain": [
       "100"
      ]
     },
     "execution_count": 16,
     "metadata": {},
     "output_type": "execute_result"
    }
   ],
   "source": [
    "10*10"
   ]
  },
  {
   "cell_type": "code",
   "execution_count": 18,
   "id": "2a3ae6af",
   "metadata": {},
   "outputs": [
    {
     "data": {
      "text/plain": [
       "318.5"
      ]
     },
     "execution_count": 18,
     "metadata": {},
     "output_type": "execute_result"
    }
   ],
   "source": [
    "45.5*7"
   ]
  },
  {
   "cell_type": "code",
   "execution_count": 21,
   "id": "be0fc223",
   "metadata": {},
   "outputs": [
    {
     "data": {
      "text/plain": [
       "'manishmanishmanishmanishmanishmanishmanishmanishmanishmanish'"
      ]
     },
     "execution_count": 21,
     "metadata": {},
     "output_type": "execute_result"
    }
   ],
   "source": [
    "'manish'*10"
   ]
  },
  {
   "cell_type": "code",
   "execution_count": 22,
   "id": "83632cb9",
   "metadata": {},
   "outputs": [],
   "source": [
    "# div and floor div"
   ]
  },
  {
   "cell_type": "code",
   "execution_count": 23,
   "id": "3ad4cbff",
   "metadata": {},
   "outputs": [],
   "source": [
    "# div return actual div"
   ]
  },
  {
   "cell_type": "code",
   "execution_count": 27,
   "id": "08b4dc83",
   "metadata": {},
   "outputs": [
    {
     "data": {
      "text/plain": [
       "3.6666666666666665"
      ]
     },
     "execution_count": 27,
     "metadata": {},
     "output_type": "execute_result"
    }
   ],
   "source": [
    "11/3"
   ]
  },
  {
   "cell_type": "code",
   "execution_count": 26,
   "id": "634b8802",
   "metadata": {},
   "outputs": [
    {
     "data": {
      "text/plain": [
       "3"
      ]
     },
     "execution_count": 26,
     "metadata": {},
     "output_type": "execute_result"
    }
   ],
   "source": [
    "11//3"
   ]
  },
  {
   "cell_type": "code",
   "execution_count": 28,
   "id": "0b1af0ec",
   "metadata": {},
   "outputs": [
    {
     "data": {
      "text/plain": [
       "0"
      ]
     },
     "execution_count": 28,
     "metadata": {},
     "output_type": "execute_result"
    }
   ],
   "source": [
    "10%2"
   ]
  },
  {
   "cell_type": "code",
   "execution_count": 29,
   "id": "940a5d2e",
   "metadata": {},
   "outputs": [
    {
     "data": {
      "text/plain": [
       "1"
      ]
     },
     "execution_count": 29,
     "metadata": {},
     "output_type": "execute_result"
    }
   ],
   "source": [
    "11%2"
   ]
  },
  {
   "cell_type": "code",
   "execution_count": 30,
   "id": "49b78256",
   "metadata": {},
   "outputs": [
    {
     "data": {
      "text/plain": [
       "100"
      ]
     },
     "execution_count": 30,
     "metadata": {},
     "output_type": "execute_result"
    }
   ],
   "source": [
    "10**2  # power "
   ]
  },
  {
   "cell_type": "code",
   "execution_count": 31,
   "id": "56aa0d60",
   "metadata": {},
   "outputs": [
    {
     "data": {
      "text/plain": [
       "1000"
      ]
     },
     "execution_count": 31,
     "metadata": {},
     "output_type": "execute_result"
    }
   ],
   "source": [
    "10**3"
   ]
  },
  {
   "cell_type": "code",
   "execution_count": 46,
   "id": "a8e0852a",
   "metadata": {},
   "outputs": [],
   "source": [
    "# Logical ---> and  | or | not\n",
    "# and ---> if all conditions are true return true otherwise False\n",
    "# or ---> if any condition is true return true otherwise false"
   ]
  },
  {
   "cell_type": "code",
   "execution_count": 33,
   "id": "c6217692",
   "metadata": {},
   "outputs": [],
   "source": [
    "# false conditions-----> 0 , False , None , (),[],'',{}"
   ]
  },
  {
   "cell_type": "code",
   "execution_count": 34,
   "id": "a915cc57",
   "metadata": {},
   "outputs": [
    {
     "data": {
      "text/plain": [
       "0"
      ]
     },
     "execution_count": 34,
     "metadata": {},
     "output_type": "execute_result"
    }
   ],
   "source": [
    "0 and 10 and 5"
   ]
  },
  {
   "cell_type": "markdown",
   "id": "09cf07a2",
   "metadata": {},
   "source": [
    "# "
   ]
  },
  {
   "cell_type": "code",
   "execution_count": 35,
   "id": "86e3ad73",
   "metadata": {},
   "outputs": [
    {
     "data": {
      "text/plain": [
       "0"
      ]
     },
     "execution_count": 35,
     "metadata": {},
     "output_type": "execute_result"
    }
   ],
   "source": [
    "10 and 10%2 and 50"
   ]
  },
  {
   "cell_type": "code",
   "execution_count": 36,
   "id": "c0923950",
   "metadata": {},
   "outputs": [
    {
     "data": {
      "text/plain": [
       "'jeet'"
      ]
     },
     "execution_count": 36,
     "metadata": {},
     "output_type": "execute_result"
    }
   ],
   "source": [
    "'manish' and 'shan' and 10 and 'jeet'"
   ]
  },
  {
   "cell_type": "code",
   "execution_count": 37,
   "id": "c12b8c1e",
   "metadata": {},
   "outputs": [
    {
     "data": {
      "text/plain": [
       "0"
      ]
     },
     "execution_count": 37,
     "metadata": {},
     "output_type": "execute_result"
    }
   ],
   "source": [
    "0 and False and None and 10 and ''"
   ]
  },
  {
   "cell_type": "code",
   "execution_count": 38,
   "id": "ea1dc349",
   "metadata": {},
   "outputs": [
    {
     "data": {
      "text/plain": [
       "10"
      ]
     },
     "execution_count": 38,
     "metadata": {},
     "output_type": "execute_result"
    }
   ],
   "source": [
    "'hello' and ' ' and 5 and 10"
   ]
  },
  {
   "cell_type": "code",
   "execution_count": 39,
   "id": "fe07a5d4",
   "metadata": {},
   "outputs": [
    {
     "data": {
      "text/plain": [
       "[]"
      ]
     },
     "execution_count": 39,
     "metadata": {},
     "output_type": "execute_result"
    }
   ],
   "source": [
    "['manish'] and [   ] and (   ) and '   '"
   ]
  },
  {
   "cell_type": "code",
   "execution_count": 40,
   "id": "db57cce8",
   "metadata": {},
   "outputs": [
    {
     "data": {
      "text/plain": [
       "10"
      ]
     },
     "execution_count": 40,
     "metadata": {},
     "output_type": "execute_result"
    }
   ],
   "source": [
    "10 or False or None or ''"
   ]
  },
  {
   "cell_type": "code",
   "execution_count": 41,
   "id": "7c78fc72",
   "metadata": {},
   "outputs": [
    {
     "data": {
      "text/plain": [
       "''"
      ]
     },
     "execution_count": 41,
     "metadata": {},
     "output_type": "execute_result"
    }
   ],
   "source": [
    "False or 0 or ''"
   ]
  },
  {
   "cell_type": "code",
   "execution_count": 42,
   "id": "1efc1781",
   "metadata": {},
   "outputs": [
    {
     "data": {
      "text/plain": [
       "False"
      ]
     },
     "execution_count": 42,
     "metadata": {},
     "output_type": "execute_result"
    }
   ],
   "source": [
    "not True"
   ]
  },
  {
   "cell_type": "code",
   "execution_count": 43,
   "id": "52f16496",
   "metadata": {},
   "outputs": [
    {
     "data": {
      "text/plain": [
       "True"
      ]
     },
     "execution_count": 43,
     "metadata": {},
     "output_type": "execute_result"
    }
   ],
   "source": [
    "not False"
   ]
  },
  {
   "cell_type": "code",
   "execution_count": 44,
   "id": "ec1ad459",
   "metadata": {},
   "outputs": [
    {
     "data": {
      "text/plain": [
       "True"
      ]
     },
     "execution_count": 44,
     "metadata": {},
     "output_type": "execute_result"
    }
   ],
   "source": [
    "not 0"
   ]
  },
  {
   "cell_type": "code",
   "execution_count": 45,
   "id": "814f7cf5",
   "metadata": {},
   "outputs": [
    {
     "data": {
      "text/plain": [
       "False"
      ]
     },
     "execution_count": 45,
     "metadata": {},
     "output_type": "execute_result"
    }
   ],
   "source": [
    "not 1"
   ]
  },
  {
   "cell_type": "code",
   "execution_count": 47,
   "id": "9fb5ef6b",
   "metadata": {},
   "outputs": [
    {
     "data": {
      "text/plain": [
       "False"
      ]
     },
     "execution_count": 47,
     "metadata": {},
     "output_type": "execute_result"
    }
   ],
   "source": [
    "not ((10 and 0) or ('False' and 5))"
   ]
  },
  {
   "cell_type": "code",
   "execution_count": 48,
   "id": "b992cddf",
   "metadata": {},
   "outputs": [],
   "source": [
    "# comparision --- return true and false \n",
    "# <, > , <= , >= , == , !="
   ]
  },
  {
   "cell_type": "code",
   "execution_count": 49,
   "id": "cfe1c0ff",
   "metadata": {},
   "outputs": [],
   "source": [
    "a=20"
   ]
  },
  {
   "cell_type": "code",
   "execution_count": 50,
   "id": "d694df30",
   "metadata": {},
   "outputs": [
    {
     "data": {
      "text/plain": [
       "False"
      ]
     },
     "execution_count": 50,
     "metadata": {},
     "output_type": "execute_result"
    }
   ],
   "source": [
    "a<20"
   ]
  },
  {
   "cell_type": "code",
   "execution_count": 52,
   "id": "ca1cc94a",
   "metadata": {},
   "outputs": [
    {
     "data": {
      "text/plain": [
       "False"
      ]
     },
     "execution_count": 52,
     "metadata": {},
     "output_type": "execute_result"
    }
   ],
   "source": [
    "a<19"
   ]
  },
  {
   "cell_type": "code",
   "execution_count": 53,
   "id": "74cb55b5",
   "metadata": {},
   "outputs": [
    {
     "data": {
      "text/plain": [
       "True"
      ]
     },
     "execution_count": 53,
     "metadata": {},
     "output_type": "execute_result"
    }
   ],
   "source": [
    "a<21"
   ]
  },
  {
   "cell_type": "code",
   "execution_count": 54,
   "id": "04b436da",
   "metadata": {},
   "outputs": [
    {
     "data": {
      "text/plain": [
       "True"
      ]
     },
     "execution_count": 54,
     "metadata": {},
     "output_type": "execute_result"
    }
   ],
   "source": [
    "a<=20"
   ]
  },
  {
   "cell_type": "code",
   "execution_count": 55,
   "id": "00c3a562",
   "metadata": {},
   "outputs": [
    {
     "data": {
      "text/plain": [
       "False"
      ]
     },
     "execution_count": 55,
     "metadata": {},
     "output_type": "execute_result"
    }
   ],
   "source": [
    "a>20"
   ]
  },
  {
   "cell_type": "code",
   "execution_count": 56,
   "id": "244356c3",
   "metadata": {},
   "outputs": [
    {
     "data": {
      "text/plain": [
       "True"
      ]
     },
     "execution_count": 56,
     "metadata": {},
     "output_type": "execute_result"
    }
   ],
   "source": [
    "a>19"
   ]
  },
  {
   "cell_type": "code",
   "execution_count": 57,
   "id": "f6352c45",
   "metadata": {},
   "outputs": [
    {
     "data": {
      "text/plain": [
       "True"
      ]
     },
     "execution_count": 57,
     "metadata": {},
     "output_type": "execute_result"
    }
   ],
   "source": [
    "a>=20"
   ]
  },
  {
   "cell_type": "code",
   "execution_count": 58,
   "id": "b9dd29c7",
   "metadata": {},
   "outputs": [
    {
     "data": {
      "text/plain": [
       "True"
      ]
     },
     "execution_count": 58,
     "metadata": {},
     "output_type": "execute_result"
    }
   ],
   "source": [
    "a==20"
   ]
  },
  {
   "cell_type": "code",
   "execution_count": 59,
   "id": "25cc7f7c",
   "metadata": {},
   "outputs": [
    {
     "data": {
      "text/plain": [
       "False"
      ]
     },
     "execution_count": 59,
     "metadata": {},
     "output_type": "execute_result"
    }
   ],
   "source": [
    "a==19"
   ]
  },
  {
   "cell_type": "code",
   "execution_count": 60,
   "id": "04a78c4e",
   "metadata": {},
   "outputs": [
    {
     "data": {
      "text/plain": [
       "False"
      ]
     },
     "execution_count": 60,
     "metadata": {},
     "output_type": "execute_result"
    }
   ],
   "source": [
    "a==21"
   ]
  },
  {
   "cell_type": "code",
   "execution_count": 61,
   "id": "26d492c3",
   "metadata": {},
   "outputs": [
    {
     "data": {
      "text/plain": [
       "False"
      ]
     },
     "execution_count": 61,
     "metadata": {},
     "output_type": "execute_result"
    }
   ],
   "source": [
    "a!=20"
   ]
  },
  {
   "cell_type": "code",
   "execution_count": 62,
   "id": "28374f7d",
   "metadata": {},
   "outputs": [
    {
     "data": {
      "text/plain": [
       "True"
      ]
     },
     "execution_count": 62,
     "metadata": {},
     "output_type": "execute_result"
    }
   ],
   "source": [
    "a!=21"
   ]
  },
  {
   "cell_type": "code",
   "execution_count": 63,
   "id": "ae2961b8",
   "metadata": {},
   "outputs": [
    {
     "data": {
      "text/plain": [
       "True"
      ]
     },
     "execution_count": 63,
     "metadata": {},
     "output_type": "execute_result"
    }
   ],
   "source": [
    "a!=19"
   ]
  },
  {
   "cell_type": "code",
   "execution_count": 64,
   "id": "bc1e6a2c",
   "metadata": {},
   "outputs": [],
   "source": [
    "# Assignment \n",
    "# = , += , -= , *= , /= ,%= ,//= , **="
   ]
  },
  {
   "cell_type": "code",
   "execution_count": 65,
   "id": "1079ffa0",
   "metadata": {},
   "outputs": [
    {
     "data": {
      "text/plain": [
       "100"
      ]
     },
     "execution_count": 65,
     "metadata": {},
     "output_type": "execute_result"
    }
   ],
   "source": [
    "100"
   ]
  },
  {
   "cell_type": "code",
   "execution_count": 66,
   "id": "f757b60f",
   "metadata": {},
   "outputs": [],
   "source": [
    "a=100"
   ]
  },
  {
   "cell_type": "code",
   "execution_count": 67,
   "id": "17fceb5c",
   "metadata": {},
   "outputs": [
    {
     "data": {
      "text/plain": [
       "100"
      ]
     },
     "execution_count": 67,
     "metadata": {},
     "output_type": "execute_result"
    }
   ],
   "source": [
    "a"
   ]
  },
  {
   "cell_type": "code",
   "execution_count": 68,
   "id": "8b08b23e",
   "metadata": {},
   "outputs": [],
   "source": [
    "a+a50"
   ]
  },
  {
   "cell_type": "code",
   "execution_count": 69,
   "id": "5d9392d3",
   "metadata": {},
   "outputs": [
    {
     "data": {
      "text/plain": [
       "150"
      ]
     },
     "execution_count": 69,
     "metadata": {},
     "output_type": "execute_result"
    }
   ],
   "source": [
    "a"
   ]
  },
  {
   "cell_type": "code",
   "execution_count": 70,
   "id": "b33ded62",
   "metadata": {},
   "outputs": [],
   "source": [
    "a-=20"
   ]
  },
  {
   "cell_type": "code",
   "execution_count": 71,
   "id": "405d32ae",
   "metadata": {},
   "outputs": [
    {
     "data": {
      "text/plain": [
       "130"
      ]
     },
     "execution_count": 71,
     "metadata": {},
     "output_type": "execute_result"
    }
   ],
   "source": [
    "130"
   ]
  },
  {
   "cell_type": "code",
   "execution_count": 72,
   "id": "f1e6fd1d",
   "metadata": {},
   "outputs": [
    {
     "data": {
      "text/plain": [
       "130"
      ]
     },
     "execution_count": 72,
     "metadata": {},
     "output_type": "execute_result"
    }
   ],
   "source": [
    "a"
   ]
  },
  {
   "cell_type": "code",
   "execution_count": 73,
   "id": "9d3cad8c",
   "metadata": {},
   "outputs": [],
   "source": [
    "a*=10"
   ]
  },
  {
   "cell_type": "code",
   "execution_count": 74,
   "id": "fdb209b5",
   "metadata": {},
   "outputs": [
    {
     "data": {
      "text/plain": [
       "1300"
      ]
     },
     "execution_count": 74,
     "metadata": {},
     "output_type": "execute_result"
    }
   ],
   "source": [
    "a"
   ]
  },
  {
   "cell_type": "code",
   "execution_count": 75,
   "id": "d0a7512f",
   "metadata": {},
   "outputs": [
    {
     "data": {
      "text/plain": [
       "'20'"
      ]
     },
     "execution_count": 75,
     "metadata": {},
     "output_type": "execute_result"
    }
   ],
   "source": [
    "b"
   ]
  },
  {
   "cell_type": "code",
   "execution_count": 76,
   "id": "8466528d",
   "metadata": {},
   "outputs": [
    {
     "data": {
      "text/plain": [
       "(1, 2, 3)"
      ]
     },
     "execution_count": 76,
     "metadata": {},
     "output_type": "execute_result"
    }
   ],
   "source": [
    "t"
   ]
  },
  {
   "cell_type": "code",
   "execution_count": 78,
   "id": "09741452",
   "metadata": {},
   "outputs": [
    {
     "ename": "NameError",
     "evalue": "name 'n' is not defined",
     "output_type": "error",
     "traceback": [
      "\u001b[1;31m---------------------------------------------------------------------------\u001b[0m",
      "\u001b[1;31mNameError\u001b[0m                                 Traceback (most recent call last)",
      "\u001b[1;32m~\\AppData\\Local\\Temp/ipykernel_9360/2318719880.py\u001b[0m in \u001b[0;36m<module>\u001b[1;34m\u001b[0m\n\u001b[1;32m----> 1\u001b[1;33m \u001b[0mn\u001b[0m\u001b[1;33m+=\u001b[0m\u001b[1;36m100\u001b[0m\u001b[1;33m\u001b[0m\u001b[1;33m\u001b[0m\u001b[0m\n\u001b[0m",
      "\u001b[1;31mNameError\u001b[0m: name 'n' is not defined"
     ]
    }
   ],
   "source": [
    "n+=100"
   ]
  },
  {
   "cell_type": "code",
   "execution_count": 80,
   "id": "2c598403",
   "metadata": {},
   "outputs": [],
   "source": [
    "# membership ---> in , not in \n",
    "# check membership and return true or false "
   ]
  },
  {
   "cell_type": "code",
   "execution_count": 81,
   "id": "c90cf13f",
   "metadata": {},
   "outputs": [],
   "source": [
    "l=['shan','manish','jeet']"
   ]
  },
  {
   "cell_type": "code",
   "execution_count": 82,
   "id": "250450ad",
   "metadata": {},
   "outputs": [
    {
     "data": {
      "text/plain": [
       "True"
      ]
     },
     "execution_count": 82,
     "metadata": {},
     "output_type": "execute_result"
    }
   ],
   "source": [
    "'shan' in l"
   ]
  },
  {
   "cell_type": "code",
   "execution_count": 83,
   "id": "f9238753",
   "metadata": {},
   "outputs": [
    {
     "data": {
      "text/plain": [
       "False"
      ]
     },
     "execution_count": 83,
     "metadata": {},
     "output_type": "execute_result"
    }
   ],
   "source": [
    "'neha' in l"
   ]
  },
  {
   "cell_type": "code",
   "execution_count": 84,
   "id": "db9c17a2",
   "metadata": {},
   "outputs": [],
   "source": [
    "p='python'"
   ]
  },
  {
   "cell_type": "code",
   "execution_count": 85,
   "id": "607e220f",
   "metadata": {},
   "outputs": [
    {
     "data": {
      "text/plain": [
       "True"
      ]
     },
     "execution_count": 85,
     "metadata": {},
     "output_type": "execute_result"
    }
   ],
   "source": [
    "'y' in p"
   ]
  },
  {
   "cell_type": "code",
   "execution_count": 87,
   "id": "7057a5dc",
   "metadata": {},
   "outputs": [
    {
     "data": {
      "text/plain": [
       "True"
      ]
     },
     "execution_count": 87,
     "metadata": {},
     "output_type": "execute_result"
    }
   ],
   "source": [
    "'m' not in p"
   ]
  },
  {
   "cell_type": "code",
   "execution_count": 88,
   "id": "0c6cb2c5",
   "metadata": {},
   "outputs": [],
   "source": [
    "# identity  --> is , is not ---> object if object are same return true otherwise false"
   ]
  },
  {
   "cell_type": "code",
   "execution_count": 89,
   "id": "10241abe",
   "metadata": {},
   "outputs": [],
   "source": [
    "l=[1,2,3]"
   ]
  },
  {
   "cell_type": "code",
   "execution_count": 90,
   "id": "46954fbf",
   "metadata": {},
   "outputs": [],
   "source": [
    "l1=[1,2,3]"
   ]
  },
  {
   "cell_type": "code",
   "execution_count": 91,
   "id": "7461d2ae",
   "metadata": {},
   "outputs": [
    {
     "data": {
      "text/plain": [
       "True"
      ]
     },
     "execution_count": 91,
     "metadata": {},
     "output_type": "execute_result"
    }
   ],
   "source": [
    "l==l1"
   ]
  },
  {
   "cell_type": "code",
   "execution_count": 92,
   "id": "b2330a6f",
   "metadata": {},
   "outputs": [
    {
     "data": {
      "text/plain": [
       "False"
      ]
     },
     "execution_count": 92,
     "metadata": {},
     "output_type": "execute_result"
    }
   ],
   "source": [
    "l is l1"
   ]
  },
  {
   "cell_type": "code",
   "execution_count": 93,
   "id": "a55d0df5",
   "metadata": {},
   "outputs": [
    {
     "data": {
      "text/plain": [
       "2193540328576"
      ]
     },
     "execution_count": 93,
     "metadata": {},
     "output_type": "execute_result"
    }
   ],
   "source": [
    "id(l)"
   ]
  },
  {
   "cell_type": "code",
   "execution_count": 94,
   "id": "ef2f1522",
   "metadata": {},
   "outputs": [
    {
     "data": {
      "text/plain": [
       "2193539253568"
      ]
     },
     "execution_count": 94,
     "metadata": {},
     "output_type": "execute_result"
    }
   ],
   "source": [
    "id(l1)"
   ]
  },
  {
   "cell_type": "code",
   "execution_count": 95,
   "id": "57bd6776",
   "metadata": {},
   "outputs": [],
   "source": [
    "p='python'"
   ]
  },
  {
   "cell_type": "code",
   "execution_count": 96,
   "id": "e85d6f8c",
   "metadata": {},
   "outputs": [],
   "source": [
    "p1='python'"
   ]
  },
  {
   "cell_type": "code",
   "execution_count": 97,
   "id": "40c85d9a",
   "metadata": {},
   "outputs": [
    {
     "data": {
      "text/plain": [
       "True"
      ]
     },
     "execution_count": 97,
     "metadata": {},
     "output_type": "execute_result"
    }
   ],
   "source": [
    "p is p1"
   ]
  },
  {
   "cell_type": "code",
   "execution_count": 98,
   "id": "66e9a75b",
   "metadata": {},
   "outputs": [
    {
     "data": {
      "text/plain": [
       "2193508387824"
      ]
     },
     "execution_count": 98,
     "metadata": {},
     "output_type": "execute_result"
    }
   ],
   "source": [
    "id(p)"
   ]
  },
  {
   "cell_type": "code",
   "execution_count": 99,
   "id": "d4ddd0a2",
   "metadata": {},
   "outputs": [
    {
     "data": {
      "text/plain": [
       "2193508387824"
      ]
     },
     "execution_count": 99,
     "metadata": {},
     "output_type": "execute_result"
    }
   ],
   "source": [
    "id(p1)"
   ]
  },
  {
   "cell_type": "code",
   "execution_count": null,
   "id": "6c608a0e",
   "metadata": {},
   "outputs": [],
   "source": [
    "# str ---> alpha \n",
    "# list ---> diff\n",
    "# int ---> 0 to 256 "
   ]
  }
 ],
 "metadata": {
  "kernelspec": {
   "display_name": "Python 3 (ipykernel)",
   "language": "python",
   "name": "python3"
  },
  "language_info": {
   "codemirror_mode": {
    "name": "ipython",
    "version": 3
   },
   "file_extension": ".py",
   "mimetype": "text/x-python",
   "name": "python",
   "nbconvert_exporter": "python",
   "pygments_lexer": "ipython3",
   "version": "3.9.6"
  }
 },
 "nbformat": 4,
 "nbformat_minor": 5
}
