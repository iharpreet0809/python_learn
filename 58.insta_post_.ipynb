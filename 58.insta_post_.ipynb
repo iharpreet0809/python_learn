{
 "cells": [
  {
   "cell_type": "code",
   "execution_count": 20,
   "id": "413d0225",
   "metadata": {},
   "outputs": [
    {
     "name": "stdout",
     "output_type": "stream",
     "text": [
      "Opened Instagram\n"
     ]
    },
    {
     "ename": "NameError",
     "evalue": "name 'BeatifulSoup' is not defined",
     "output_type": "error",
     "traceback": [
      "\u001b[1;31m---------------------------------------------------------------------------\u001b[0m",
      "\u001b[1;31mNameError\u001b[0m                                 Traceback (most recent call last)",
      "\u001b[1;32m<ipython-input-20-e2d18a8d8c6e>\u001b[0m in \u001b[0;36m<module>\u001b[1;34m\u001b[0m\n\u001b[0;32m     25\u001b[0m \u001b[0mcode\u001b[0m\u001b[1;33m=\u001b[0m\u001b[0mdriver\u001b[0m\u001b[1;33m.\u001b[0m\u001b[0mpage_source\u001b[0m\u001b[1;33m\u001b[0m\u001b[0m\n\u001b[0;32m     26\u001b[0m \u001b[1;31m#print(code)\u001b[0m\u001b[1;33m\u001b[0m\u001b[1;33m\u001b[0m\u001b[0m\n\u001b[1;32m---> 27\u001b[1;33m \u001b[0msoup\u001b[0m\u001b[1;33m=\u001b[0m\u001b[0mBeatifulSoup\u001b[0m\u001b[1;33m(\u001b[0m\u001b[0mcode\u001b[0m\u001b[1;33m,\u001b[0m\u001b[1;34m'html.parser'\u001b[0m\u001b[1;33m)\u001b[0m\u001b[1;33m\u001b[0m\u001b[0m\n\u001b[0m\u001b[0;32m     28\u001b[0m \u001b[0mclas\u001b[0m\u001b[1;33m=\u001b[0m\u001b[0msoup\u001b[0m\u001b[1;33m.\u001b[0m\u001b[0mfind_all\u001b[0m\u001b[1;33m(\u001b[0m\u001b[1;34m'div'\u001b[0m\u001b[1;33m,\u001b[0m\u001b[1;33m{\u001b[0m\u001b[1;34m'class'\u001b[0m\u001b[1;33m:\u001b[0m\u001b[1;34m'eLAPa kPFhm'\u001b[0m\u001b[1;33m}\u001b[0m\u001b[1;33m)\u001b[0m\u001b[1;33m\u001b[0m\u001b[0m\n\u001b[0;32m     29\u001b[0m \u001b[0mprint\u001b[0m\u001b[1;33m(\u001b[0m\u001b[0mclas\u001b[0m\u001b[1;33m)\u001b[0m\u001b[1;33m\u001b[0m\u001b[0m\n",
      "\u001b[1;31mNameError\u001b[0m: name 'BeatifulSoup' is not defined"
     ]
    }
   ],
   "source": [
    "from bs4 import BeautifulSoup\n",
    "from time import sleep\n",
    "from selenium import webdriver\n",
    "#from webdriver_manager.chrome import ChromeDriverManager\n",
    "from  random import randint\n",
    "import os\n",
    "import time\n",
    "\n",
    "driver = webdriver.Chrome('chromedriver')\n",
    "driver.get('https://www.instagram.com/')\n",
    "print (\"Opened Instagram\")\n",
    "\n",
    "sleep(randint(1,4))\n",
    "username = driver.find_element_by_name('username')\n",
    "username.send_keys('faltuclick')# here pass your username\n",
    "password = driver.find_element_by_name('password')\n",
    "password.send_keys('Rdsaini220')# here pass your password\n",
    "\n",
    "\n",
    "button_login = driver.find_element_by_css_selector('#loginForm > div > div:nth-child(3) > button')\n",
    "button_login.click()\n",
    "sleep(randint(5,10))\n",
    "driver.get('https://www.instagram.com/p/CY1Z_19psD_/')\n",
    "sleep(10)\n",
    "code=driver.page_source\n",
    "#print(code)\n",
    "soup=BeatifulSoup(code,'html.parser')\n",
    "clas=soup.find_all('div',{'class':'eLAPa kPFhm'})\n",
    "print(clas)\n",
    "\n",
    "\n"
   ]
  },
  {
   "cell_type": "code",
   "execution_count": 22,
   "id": "c0d502e5",
   "metadata": {},
   "outputs": [
    {
     "name": "stdout",
     "output_type": "stream",
     "text": [
      "https://instagram.famd5-2.fna.fbcdn.net/v/t51.2885-15/e35/271937723_129902656183133_9110714353163916717_n.jpg?_nc_ht=instagram.famd5-2.fna.fbcdn.net&_nc_cat=105&_nc_ohc=12th07EqCuAAX-SONDO&edm=AABBvjUBAAAA&ccb=7-4&ig_cache_key=Mjc1MzIyMTA4MDg2NjI3ODI4OQ%3D%3D.2-ccb7-4&oh=00_AT8ab8WQd74W8IoYLzLVGNxyJMC7FXqvLYGmiz_j1gArmg&oe=62009E16&_nc_sid=83d603\n"
     ]
    }
   ],
   "source": [
    "\n",
    "#print(code)\n",
    "soup=BeautifulSoup(code,'html.parser')\n",
    "s=str(soup).partition('eLAPa')\n",
    "e=s[1]+s[2][:6]\n",
    "clas=soup.find_all('div',{'class':e})[0].find_all('img')[0].get('src')\n",
    "print(clas)\n"
   ]
  },
  {
   "cell_type": "code",
   "execution_count": 6,
   "id": "d0d04a74",
   "metadata": {},
   "outputs": [
    {
     "name": "stdout",
     "output_type": "stream",
     "text": [
      "['ASCII_SPACES', 'DEFAULT_BUILDER_FEATURES', 'DEFAULT_INTERESTING_STRING_TYPES', 'NO_PARSER_SPECIFIED_WARNING', 'ROOT_TAG_NAME', '__bool__', '__call__', '__class__', '__contains__', '__copy__', '__delattr__', '__delitem__', '__dict__', '__dir__', '__doc__', '__eq__', '__format__', '__ge__', '__getattr__', '__getattribute__', '__getitem__', '__getstate__', '__gt__', '__hash__', '__init__', '__init_subclass__', '__iter__', '__le__', '__len__', '__lt__', '__module__', '__ne__', '__new__', '__reduce__', '__reduce_ex__', '__repr__', '__setattr__', '__setitem__', '__sizeof__', '__str__', '__subclasshook__', '__unicode__', '__weakref__', '_all_strings', '_check_markup_is_url', '_decode_markup', '_feed', '_find_all', '_find_one', '_is_xml', '_lastRecursiveChild', '_last_descendant', '_linkage_fixer', '_popToTag', '_should_pretty_print', 'append', 'childGenerator', 'children', 'clear', 'decode', 'decode_contents', 'decompose', 'decomposed', 'default', 'descendants', 'encode', 'encode_contents', 'endData', 'extend', 'extract', 'fetchNextSiblings', 'fetchParents', 'fetchPrevious', 'fetchPreviousSiblings', 'find', 'findAll', 'findAllNext', 'findAllPrevious', 'findChild', 'findChildren', 'findNext', 'findNextSibling', 'findNextSiblings', 'findParent', 'findParents', 'findPrevious', 'findPreviousSibling', 'findPreviousSiblings', 'find_all', 'find_all_next', 'find_all_previous', 'find_next', 'find_next_sibling', 'find_next_siblings', 'find_parent', 'find_parents', 'find_previous', 'find_previous_sibling', 'find_previous_siblings', 'format_string', 'formatter_for_name', 'get', 'getText', 'get_attribute_list', 'get_text', 'handle_data', 'handle_endtag', 'handle_starttag', 'has_attr', 'has_key', 'index', 'insert', 'insert_after', 'insert_before', 'isSelfClosing', 'is_empty_element', 'new_string', 'new_tag', 'next', 'nextGenerator', 'nextSibling', 'nextSiblingGenerator', 'next_elements', 'next_siblings', 'object_was_parsed', 'parentGenerator', 'parents', 'parserClass', 'popTag', 'prettify', 'previous', 'previousGenerator', 'previousSibling', 'previousSiblingGenerator', 'previous_elements', 'previous_siblings', 'pushTag', 'recursiveChildGenerator', 'renderContents', 'replaceWith', 'replaceWithChildren', 'replace_with', 'replace_with_children', 'reset', 'select', 'select_one', 'setup', 'smooth', 'string', 'string_container', 'strings', 'stripped_strings', 'text', 'unwrap', 'wrap']\n"
     ]
    }
   ],
   "source": [
    "print(dir(BeautifulSoup))"
   ]
  },
  {
   "cell_type": "code",
   "execution_count": 23,
   "id": "de6978cc",
   "metadata": {},
   "outputs": [
    {
     "data": {
      "text/plain": [
       "'https://instagram.famd5-2.fna.fbcdn.net/v/t51.2885-15/e35/271937723_129902656183133_9110714353163916717_n.jpg?_nc_ht=instagram.famd5-2.fna.fbcdn.net&_nc_cat=105&_nc_ohc=12th07EqCuAAX-SONDO&edm=AABBvjUBAAAA&ccb=7-4&ig_cache_key=Mjc1MzIyMTA4MDg2NjI3ODI4OQ%3D%3D.2-ccb7-4&oh=00_AT8ab8WQd74W8IoYLzLVGNxyJMC7FXqvLYGmiz_j1gArmg&oe=62009E16&_nc_sid=83d603'"
      ]
     },
     "execution_count": 23,
     "metadata": {},
     "output_type": "execute_result"
    }
   ],
   "source": [
    "clas"
   ]
  },
  {
   "cell_type": "code",
   "execution_count": 26,
   "id": "bd3f0ef2",
   "metadata": {},
   "outputs": [],
   "source": [
    "def download(url,destination='E:/Testing/'):\n",
    "    import urllib\n",
    "    res=urllib.request.urlopen(url)\n",
    "    file=destination+'harpreet.jpg'\n",
    "    output=open(file,'wb')\n",
    "    output.write(res.read())\n",
    "    output.close()\n"
   ]
  },
  {
   "cell_type": "code",
   "execution_count": 27,
   "id": "e0746bb1",
   "metadata": {},
   "outputs": [],
   "source": [
    "download(clas)"
   ]
  },
  {
   "cell_type": "code",
   "execution_count": null,
   "id": "93b589b8",
   "metadata": {},
   "outputs": [],
   "source": []
  }
 ],
 "metadata": {
  "kernelspec": {
   "display_name": "Python 3",
   "language": "python",
   "name": "python3"
  },
  "language_info": {
   "codemirror_mode": {
    "name": "ipython",
    "version": 3
   },
   "file_extension": ".py",
   "mimetype": "text/x-python",
   "name": "python",
   "nbconvert_exporter": "python",
   "pygments_lexer": "ipython3",
   "version": "3.6.4"
  }
 },
 "nbformat": 4,
 "nbformat_minor": 5
}
