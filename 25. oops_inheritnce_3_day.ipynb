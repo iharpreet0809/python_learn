{
 "cells": [
  {
   "cell_type": "code",
   "execution_count": 1,
   "id": "b92e7ff4",
   "metadata": {},
   "outputs": [],
   "source": [
    "# multilevel\n",
    "\n"
   ]
  },
  {
   "cell_type": "code",
   "execution_count": 2,
   "id": "8684ffd2",
   "metadata": {},
   "outputs": [],
   "source": [
    "class robot:\n",
    "    def __init__(self):\n",
    "        self.name='robot'\n",
    "        self.add='grand parent'\n",
    "    def show_robot(self):\n",
    "        print('name: ',self.name)\n",
    "        print('address : ',self.add)\n",
    "class robot1(robot):\n",
    "    def show_robot1(self):\n",
    "        print('this is parent class')\n",
    "class robot2(robot1):\n",
    "    def show_robot2(self):\n",
    "        print('this is child class')"
   ]
  },
  {
   "cell_type": "code",
   "execution_count": 3,
   "id": "08b24f55",
   "metadata": {},
   "outputs": [],
   "source": [
    "obj=robot2()"
   ]
  },
  {
   "cell_type": "code",
   "execution_count": 4,
   "id": "714057ea",
   "metadata": {},
   "outputs": [
    {
     "name": "stdout",
     "output_type": "stream",
     "text": [
      "['__class__', '__delattr__', '__dict__', '__dir__', '__doc__', '__eq__', '__format__', '__ge__', '__getattribute__', '__gt__', '__hash__', '__init__', '__init_subclass__', '__le__', '__lt__', '__module__', '__ne__', '__new__', '__reduce__', '__reduce_ex__', '__repr__', '__setattr__', '__sizeof__', '__str__', '__subclasshook__', '__weakref__', 'add', 'name', 'show_robot', 'show_robot1', 'show_robot2']\n"
     ]
    }
   ],
   "source": [
    "print(dir(obj))"
   ]
  },
  {
   "cell_type": "code",
   "execution_count": 5,
   "id": "488acb7b",
   "metadata": {},
   "outputs": [
    {
     "name": "stdout",
     "output_type": "stream",
     "text": [
      "name:  robot\n",
      "address :  grand parent\n"
     ]
    }
   ],
   "source": [
    "obj.show_robot()"
   ]
  },
  {
   "cell_type": "code",
   "execution_count": 6,
   "id": "5db12cb0",
   "metadata": {},
   "outputs": [
    {
     "name": "stdout",
     "output_type": "stream",
     "text": [
      "this is parent class\n"
     ]
    }
   ],
   "source": [
    "obj.show_robot1()"
   ]
  },
  {
   "cell_type": "code",
   "execution_count": 7,
   "id": "4ec5bee9",
   "metadata": {},
   "outputs": [
    {
     "name": "stdout",
     "output_type": "stream",
     "text": [
      "this is child class\n"
     ]
    }
   ],
   "source": [
    "obj.show_robot2()"
   ]
  },
  {
   "cell_type": "code",
   "execution_count": 13,
   "id": "e4db90f4",
   "metadata": {},
   "outputs": [],
   "source": [
    "class mark:\n",
    "    def info(self):\n",
    "        print('founder of facebook and whatsapp')\n",
    "class whatsapp(mark):\n",
    "    def show_info(self):\n",
    "        print('whatsapp has transaction features or chat .....')\n",
    "class facebook(mark):\n",
    "    def facebook_info(self):\n",
    "        print('facebook is a kind of blog | chat app')\n",
    "class whatsapp_upi(whatsapp):\n",
    "    def whatsapp_info(self):\n",
    "        print('we can transaction by whatsapp upi')\n",
    "class whatsapp_chat(whatsapp):\n",
    "    def whatsapp_ch(self):\n",
    "        print('chat application')\n",
    "class facebook_blog(facebook):\n",
    "    def facebook_bl(self):\n",
    "        print('blog application')"
   ]
  },
  {
   "cell_type": "code",
   "execution_count": 14,
   "id": "b6064ffa",
   "metadata": {},
   "outputs": [],
   "source": [
    "fb=facebook_blog()"
   ]
  },
  {
   "cell_type": "code",
   "execution_count": 15,
   "id": "d8fa22dc",
   "metadata": {},
   "outputs": [],
   "source": [
    "whats=whatsapp_chat()"
   ]
  },
  {
   "cell_type": "code",
   "execution_count": 16,
   "id": "d276f7cb",
   "metadata": {},
   "outputs": [
    {
     "name": "stdout",
     "output_type": "stream",
     "text": [
      "['__class__', '__delattr__', '__dict__', '__dir__', '__doc__', '__eq__', '__format__', '__ge__', '__getattribute__', '__gt__', '__hash__', '__init__', '__init_subclass__', '__le__', '__lt__', '__module__', '__ne__', '__new__', '__reduce__', '__reduce_ex__', '__repr__', '__setattr__', '__sizeof__', '__str__', '__subclasshook__', '__weakref__', 'facebook_bl', 'facebook_info', 'info']\n"
     ]
    }
   ],
   "source": [
    "print(dir(fb))"
   ]
  },
  {
   "cell_type": "code",
   "execution_count": 17,
   "id": "c22956c8",
   "metadata": {},
   "outputs": [
    {
     "name": "stdout",
     "output_type": "stream",
     "text": [
      "['__class__', '__delattr__', '__dict__', '__dir__', '__doc__', '__eq__', '__format__', '__ge__', '__getattribute__', '__gt__', '__hash__', '__init__', '__init_subclass__', '__le__', '__lt__', '__module__', '__ne__', '__new__', '__reduce__', '__reduce_ex__', '__repr__', '__setattr__', '__sizeof__', '__str__', '__subclasshook__', '__weakref__', 'info', 'show_info', 'whatsapp_ch']\n"
     ]
    }
   ],
   "source": [
    "print(dir(whats))"
   ]
  },
  {
   "cell_type": "code",
   "execution_count": 18,
   "id": "003d3292",
   "metadata": {},
   "outputs": [
    {
     "name": "stdout",
     "output_type": "stream",
     "text": [
      "facebook is a kind of blog | chat app\n"
     ]
    }
   ],
   "source": [
    "fb.facebook_info()"
   ]
  },
  {
   "cell_type": "code",
   "execution_count": 20,
   "id": "9a656b34",
   "metadata": {},
   "outputs": [
    {
     "ename": "AttributeError",
     "evalue": "'facebook_blog' object has no attribute 'show_info'",
     "output_type": "error",
     "traceback": [
      "\u001b[1;31m---------------------------------------------------------------------------\u001b[0m",
      "\u001b[1;31mAttributeError\u001b[0m                            Traceback (most recent call last)",
      "\u001b[1;32m~\\AppData\\Local\\Temp/ipykernel_1148/2948589235.py\u001b[0m in \u001b[0;36m<module>\u001b[1;34m\u001b[0m\n\u001b[1;32m----> 1\u001b[1;33m \u001b[0mfb\u001b[0m\u001b[1;33m.\u001b[0m\u001b[0mshow_info\u001b[0m\u001b[1;33m(\u001b[0m\u001b[1;33m)\u001b[0m\u001b[1;33m\u001b[0m\u001b[1;33m\u001b[0m\u001b[0m\n\u001b[0m",
      "\u001b[1;31mAttributeError\u001b[0m: 'facebook_blog' object has no attribute 'show_info'"
     ]
    }
   ],
   "source": [
    "fb.show_info()"
   ]
  },
  {
   "cell_type": "code",
   "execution_count": 21,
   "id": "5140830b",
   "metadata": {},
   "outputs": [
    {
     "name": "stdout",
     "output_type": "stream",
     "text": [
      "whatsapp has transaction features or chat .....\n"
     ]
    }
   ],
   "source": [
    "whats.show_info()"
   ]
  },
  {
   "cell_type": "code",
   "execution_count": 39,
   "id": "be9fe7d2",
   "metadata": {},
   "outputs": [],
   "source": [
    "class test:\n",
    "    def __init__(self):\n",
    "        self.name='python'\n",
    "        self.__qual='M.S' # private variable \n",
    "    def show(self):\n",
    "        print('this is show method')"
   ]
  },
  {
   "cell_type": "code",
   "execution_count": 23,
   "id": "a321cdb3",
   "metadata": {},
   "outputs": [],
   "source": [
    "#setter (set attribute) |getter (get attribute)"
   ]
  },
  {
   "cell_type": "code",
   "execution_count": 40,
   "id": "1bbdc7b7",
   "metadata": {},
   "outputs": [],
   "source": [
    "obj=test()"
   ]
  },
  {
   "cell_type": "code",
   "execution_count": 41,
   "id": "d4fc1d79",
   "metadata": {},
   "outputs": [
    {
     "name": "stdout",
     "output_type": "stream",
     "text": [
      "['__class__', '__delattr__', '__dict__', '__dir__', '__doc__', '__eq__', '__format__', '__ge__', '__getattribute__', '__gt__', '__hash__', '__init__', '__init_subclass__', '__le__', '__lt__', '__module__', '__ne__', '__new__', '__reduce__', '__reduce_ex__', '__repr__', '__setattr__', '__sizeof__', '__str__', '__subclasshook__', '__weakref__', '_test__qual', 'name', 'show']\n"
     ]
    }
   ],
   "source": [
    "print(dir(obj))"
   ]
  },
  {
   "cell_type": "code",
   "execution_count": 26,
   "id": "ceca0b77",
   "metadata": {},
   "outputs": [
    {
     "data": {
      "text/plain": [
       "'python'"
      ]
     },
     "execution_count": 26,
     "metadata": {},
     "output_type": "execute_result"
    }
   ],
   "source": [
    "getattr(obj,'name')"
   ]
  },
  {
   "cell_type": "code",
   "execution_count": 29,
   "id": "c804ae2a",
   "metadata": {},
   "outputs": [],
   "source": [
    "setattr(obj,'addr','jaipur')"
   ]
  },
  {
   "cell_type": "code",
   "execution_count": 30,
   "id": "501d5af8",
   "metadata": {},
   "outputs": [
    {
     "name": "stdout",
     "output_type": "stream",
     "text": [
      "['__class__', '__delattr__', '__dict__', '__dir__', '__doc__', '__eq__', '__format__', '__ge__', '__getattribute__', '__gt__', '__hash__', '__init__', '__init_subclass__', '__le__', '__lt__', '__module__', '__ne__', '__new__', '__reduce__', '__reduce_ex__', '__repr__', '__setattr__', '__sizeof__', '__str__', '__subclasshook__', '__weakref__', 'addr', 'name', 'show']\n"
     ]
    }
   ],
   "source": [
    "print(dir(obj))"
   ]
  },
  {
   "cell_type": "code",
   "execution_count": 31,
   "id": "4cb8f7a8",
   "metadata": {},
   "outputs": [
    {
     "data": {
      "text/plain": [
       "'jaipur'"
      ]
     },
     "execution_count": 31,
     "metadata": {},
     "output_type": "execute_result"
    }
   ],
   "source": [
    "getattr(obj,'addr')"
   ]
  },
  {
   "cell_type": "code",
   "execution_count": 32,
   "id": "3d1065e4",
   "metadata": {},
   "outputs": [
    {
     "ename": "AttributeError",
     "evalue": "'test' object has no attribute 'course'",
     "output_type": "error",
     "traceback": [
      "\u001b[1;31m---------------------------------------------------------------------------\u001b[0m",
      "\u001b[1;31mAttributeError\u001b[0m                            Traceback (most recent call last)",
      "\u001b[1;32m~\\AppData\\Local\\Temp/ipykernel_1148/4147467941.py\u001b[0m in \u001b[0;36m<module>\u001b[1;34m\u001b[0m\n\u001b[1;32m----> 1\u001b[1;33m \u001b[0mgetattr\u001b[0m\u001b[1;33m(\u001b[0m\u001b[0mobj\u001b[0m\u001b[1;33m,\u001b[0m\u001b[1;34m'course'\u001b[0m\u001b[1;33m)\u001b[0m\u001b[1;33m\u001b[0m\u001b[1;33m\u001b[0m\u001b[0m\n\u001b[0m",
      "\u001b[1;31mAttributeError\u001b[0m: 'test' object has no attribute 'course'"
     ]
    }
   ],
   "source": [
    "getattr(obj,'course')"
   ]
  },
  {
   "cell_type": "code",
   "execution_count": 35,
   "id": "6c509371",
   "metadata": {},
   "outputs": [
    {
     "data": {
      "text/plain": [
       "{'name': 'python', 'addr': 'jaipur'}"
      ]
     },
     "execution_count": 35,
     "metadata": {},
     "output_type": "execute_result"
    }
   ],
   "source": [
    "obj.__dict__"
   ]
  },
  {
   "cell_type": "code",
   "execution_count": 36,
   "id": "71270e6f",
   "metadata": {},
   "outputs": [
    {
     "data": {
      "text/plain": [
       "'jaipur'"
      ]
     },
     "execution_count": 36,
     "metadata": {},
     "output_type": "execute_result"
    }
   ],
   "source": [
    "getattr(obj,'addr')"
   ]
  },
  {
   "cell_type": "code",
   "execution_count": 37,
   "id": "434cc591",
   "metadata": {},
   "outputs": [],
   "source": [
    "setattr(obj,'course','data science')"
   ]
  },
  {
   "cell_type": "code",
   "execution_count": 42,
   "id": "2235b43c",
   "metadata": {},
   "outputs": [
    {
     "data": {
      "text/plain": [
       "{'name': 'python', '_test__qual': 'M.S'}"
      ]
     },
     "execution_count": 42,
     "metadata": {},
     "output_type": "execute_result"
    }
   ],
   "source": [
    "obj.__dict__"
   ]
  },
  {
   "cell_type": "code",
   "execution_count": 43,
   "id": "7c913f1c",
   "metadata": {},
   "outputs": [
    {
     "ename": "AttributeError",
     "evalue": "'test' object has no attribute '__qaual'",
     "output_type": "error",
     "traceback": [
      "\u001b[1;31m---------------------------------------------------------------------------\u001b[0m",
      "\u001b[1;31mAttributeError\u001b[0m                            Traceback (most recent call last)",
      "\u001b[1;32m~\\AppData\\Local\\Temp/ipykernel_1148/1232184135.py\u001b[0m in \u001b[0;36m<module>\u001b[1;34m\u001b[0m\n\u001b[1;32m----> 1\u001b[1;33m \u001b[0mobj\u001b[0m\u001b[1;33m.\u001b[0m\u001b[0m__qaual\u001b[0m\u001b[1;33m\u001b[0m\u001b[1;33m\u001b[0m\u001b[0m\n\u001b[0m",
      "\u001b[1;31mAttributeError\u001b[0m: 'test' object has no attribute '__qaual'"
     ]
    }
   ],
   "source": [
    "obj.__qaual"
   ]
  },
  {
   "cell_type": "code",
   "execution_count": 45,
   "id": "b61b76e4",
   "metadata": {},
   "outputs": [
    {
     "ename": "AttributeError",
     "evalue": "'test' object has no attribute '__qual'",
     "output_type": "error",
     "traceback": [
      "\u001b[1;31m---------------------------------------------------------------------------\u001b[0m",
      "\u001b[1;31mAttributeError\u001b[0m                            Traceback (most recent call last)",
      "\u001b[1;32m~\\AppData\\Local\\Temp/ipykernel_1148/2779482483.py\u001b[0m in \u001b[0;36m<module>\u001b[1;34m\u001b[0m\n\u001b[1;32m----> 1\u001b[1;33m \u001b[0mgetattr\u001b[0m\u001b[1;33m(\u001b[0m\u001b[0mobj\u001b[0m\u001b[1;33m,\u001b[0m\u001b[1;34m'__qual'\u001b[0m\u001b[1;33m)\u001b[0m\u001b[1;33m\u001b[0m\u001b[1;33m\u001b[0m\u001b[0m\n\u001b[0m\u001b[0;32m      2\u001b[0m \u001b[1;33m\u001b[0m\u001b[0m\n",
      "\u001b[1;31mAttributeError\u001b[0m: 'test' object has no attribute '__qual'"
     ]
    }
   ],
   "source": [
    "getattr(obj,'__qual')\n",
    "       "
   ]
  },
  {
   "cell_type": "code",
   "execution_count": 54,
   "id": "f9e86b85",
   "metadata": {},
   "outputs": [],
   "source": [
    "class demo:\n",
    "    def __init__(self):\n",
    "        self.name='python' # public\n",
    "        self.__founder='guido'# private\n",
    "    def show (self):\n",
    "        print('name: ',self.name)\n",
    "        print('founder name: ',self.__founder)\n",
    "class data(demo):\n",
    "    def show_info(self):\n",
    "        print('course name: ',self.name)\n",
    "        print('founder name: ',self.__founder)"
   ]
  },
  {
   "cell_type": "code",
   "execution_count": 47,
   "id": "88c6ebfd",
   "metadata": {},
   "outputs": [],
   "source": [
    "obj=demo()"
   ]
  },
  {
   "cell_type": "code",
   "execution_count": 48,
   "id": "4b03c193",
   "metadata": {},
   "outputs": [
    {
     "data": {
      "text/plain": [
       "'python'"
      ]
     },
     "execution_count": 48,
     "metadata": {},
     "output_type": "execute_result"
    }
   ],
   "source": [
    "getattr(obj,'name')"
   ]
  },
  {
   "cell_type": "code",
   "execution_count": 49,
   "id": "ceafd138",
   "metadata": {},
   "outputs": [
    {
     "ename": "AttributeError",
     "evalue": "'demo' object has no attribute '__founder'",
     "output_type": "error",
     "traceback": [
      "\u001b[1;31m---------------------------------------------------------------------------\u001b[0m",
      "\u001b[1;31mAttributeError\u001b[0m                            Traceback (most recent call last)",
      "\u001b[1;32m~\\AppData\\Local\\Temp/ipykernel_1148/2879958905.py\u001b[0m in \u001b[0;36m<module>\u001b[1;34m\u001b[0m\n\u001b[1;32m----> 1\u001b[1;33m \u001b[0mgetattr\u001b[0m\u001b[1;33m(\u001b[0m\u001b[0mobj\u001b[0m\u001b[1;33m,\u001b[0m\u001b[1;34m'__founder'\u001b[0m\u001b[1;33m)\u001b[0m\u001b[1;33m\u001b[0m\u001b[1;33m\u001b[0m\u001b[0m\n\u001b[0m",
      "\u001b[1;31mAttributeError\u001b[0m: 'demo' object has no attribute '__founder'"
     ]
    }
   ],
   "source": [
    "getattr(obj,'__founder')"
   ]
  },
  {
   "cell_type": "code",
   "execution_count": 50,
   "id": "324bcf75",
   "metadata": {},
   "outputs": [
    {
     "name": "stdout",
     "output_type": "stream",
     "text": [
      "name:  python\n",
      "founder name:  guido\n"
     ]
    }
   ],
   "source": [
    "obj.show()"
   ]
  },
  {
   "cell_type": "code",
   "execution_count": 52,
   "id": "c7af5ece",
   "metadata": {},
   "outputs": [
    {
     "data": {
      "text/plain": [
       "'python'"
      ]
     },
     "execution_count": 52,
     "metadata": {},
     "output_type": "execute_result"
    }
   ],
   "source": [
    "obj.name"
   ]
  },
  {
   "cell_type": "code",
   "execution_count": 53,
   "id": "f421e4fe",
   "metadata": {},
   "outputs": [
    {
     "ename": "AttributeError",
     "evalue": "'demo' object has no attribute '__founder'",
     "output_type": "error",
     "traceback": [
      "\u001b[1;31m---------------------------------------------------------------------------\u001b[0m",
      "\u001b[1;31mAttributeError\u001b[0m                            Traceback (most recent call last)",
      "\u001b[1;32m~\\AppData\\Local\\Temp/ipykernel_1148/2898661317.py\u001b[0m in \u001b[0;36m<module>\u001b[1;34m\u001b[0m\n\u001b[1;32m----> 1\u001b[1;33m \u001b[0mobj\u001b[0m\u001b[1;33m.\u001b[0m\u001b[0m__founder\u001b[0m\u001b[1;33m\u001b[0m\u001b[1;33m\u001b[0m\u001b[0m\n\u001b[0m",
      "\u001b[1;31mAttributeError\u001b[0m: 'demo' object has no attribute '__founder'"
     ]
    }
   ],
   "source": [
    "obj.__founder"
   ]
  },
  {
   "cell_type": "code",
   "execution_count": 55,
   "id": "baf8fe6c",
   "metadata": {},
   "outputs": [],
   "source": [
    "ob=data()"
   ]
  },
  {
   "cell_type": "code",
   "execution_count": 56,
   "id": "5003bf2a",
   "metadata": {},
   "outputs": [
    {
     "name": "stdout",
     "output_type": "stream",
     "text": [
      "name:  python\n",
      "founder name:  guido\n"
     ]
    }
   ],
   "source": [
    "ob.show()"
   ]
  },
  {
   "cell_type": "code",
   "execution_count": 57,
   "id": "e16c63f4",
   "metadata": {},
   "outputs": [
    {
     "name": "stdout",
     "output_type": "stream",
     "text": [
      "course name:  python\n"
     ]
    },
    {
     "ename": "AttributeError",
     "evalue": "'data' object has no attribute '_data__founder'",
     "output_type": "error",
     "traceback": [
      "\u001b[1;31m---------------------------------------------------------------------------\u001b[0m",
      "\u001b[1;31mAttributeError\u001b[0m                            Traceback (most recent call last)",
      "\u001b[1;32m~\\AppData\\Local\\Temp/ipykernel_1148/2540914688.py\u001b[0m in \u001b[0;36m<module>\u001b[1;34m\u001b[0m\n\u001b[1;32m----> 1\u001b[1;33m \u001b[0mob\u001b[0m\u001b[1;33m.\u001b[0m\u001b[0mshow_info\u001b[0m\u001b[1;33m(\u001b[0m\u001b[1;33m)\u001b[0m\u001b[1;33m\u001b[0m\u001b[1;33m\u001b[0m\u001b[0m\n\u001b[0m",
      "\u001b[1;32m~\\AppData\\Local\\Temp/ipykernel_1148/3647032235.py\u001b[0m in \u001b[0;36mshow_info\u001b[1;34m(self)\u001b[0m\n\u001b[0;32m      9\u001b[0m     \u001b[1;32mdef\u001b[0m \u001b[0mshow_info\u001b[0m\u001b[1;33m(\u001b[0m\u001b[0mself\u001b[0m\u001b[1;33m)\u001b[0m\u001b[1;33m:\u001b[0m\u001b[1;33m\u001b[0m\u001b[1;33m\u001b[0m\u001b[0m\n\u001b[0;32m     10\u001b[0m         \u001b[0mprint\u001b[0m\u001b[1;33m(\u001b[0m\u001b[1;34m'course name: '\u001b[0m\u001b[1;33m,\u001b[0m\u001b[0mself\u001b[0m\u001b[1;33m.\u001b[0m\u001b[0mname\u001b[0m\u001b[1;33m)\u001b[0m\u001b[1;33m\u001b[0m\u001b[1;33m\u001b[0m\u001b[0m\n\u001b[1;32m---> 11\u001b[1;33m         \u001b[0mprint\u001b[0m\u001b[1;33m(\u001b[0m\u001b[1;34m'founder name: '\u001b[0m\u001b[1;33m,\u001b[0m\u001b[0mself\u001b[0m\u001b[1;33m.\u001b[0m\u001b[0m__founder\u001b[0m\u001b[1;33m)\u001b[0m\u001b[1;33m\u001b[0m\u001b[1;33m\u001b[0m\u001b[0m\n\u001b[0m",
      "\u001b[1;31mAttributeError\u001b[0m: 'data' object has no attribute '_data__founder'"
     ]
    }
   ],
   "source": [
    "ob.show_info()"
   ]
  },
  {
   "cell_type": "code",
   "execution_count": null,
   "id": "bb2b5dfb",
   "metadata": {},
   "outputs": [],
   "source": []
  }
 ],
 "metadata": {
  "kernelspec": {
   "display_name": "Python 3 (ipykernel)",
   "language": "python",
   "name": "python3"
  },
  "language_info": {
   "codemirror_mode": {
    "name": "ipython",
    "version": 3
   },
   "file_extension": ".py",
   "mimetype": "text/x-python",
   "name": "python",
   "nbconvert_exporter": "python",
   "pygments_lexer": "ipython3",
   "version": "3.9.6"
  }
 },
 "nbformat": 4,
 "nbformat_minor": 5
}
