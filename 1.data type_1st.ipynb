{
 "cells": [
  {
   "cell_type": "markdown",
   "id": "ddaf49c1",
   "metadata": {},
   "source": [
    "                Founder of Python ---> Guido van rossum\n",
    "                1989 ----> python implement\n",
    "                            fundamental ---> c lang\n",
    "                            oops----> c++\n",
    "                            scripting----> perl and shell scrip\n",
    "                1994----> 1.0 v\n",
    "                2000-----> 2.0 v\n",
    "                2008 -----> 2.7 | 3 \n",
    "                2021----> 3.10\n",
    "                \n",
    "                dynamic----> \n",
    "                interpreter ---\n",
    "                1. cpython---> python with c\n",
    "                2. jython----> java + python\n",
    "                3. iron python---> .net + python\n",
    "                4. pypy\n",
    "                "
   ]
  },
  {
   "cell_type": "markdown",
   "id": "d812444f",
   "metadata": {},
   "source": [
    "# Data Type"
   ]
  },
  {
   "cell_type": "code",
   "execution_count": 1,
   "id": "17e06d07",
   "metadata": {},
   "outputs": [],
   "source": [
    "# variable | container | object | identifier \n",
    "# variable should not start with number  and do not use special character "
   ]
  },
  {
   "cell_type": "code",
   "execution_count": 2,
   "id": "32a55404",
   "metadata": {},
   "outputs": [],
   "source": [
    "x=10"
   ]
  },
  {
   "cell_type": "code",
   "execution_count": 1,
   "id": "7941c578",
   "metadata": {},
   "outputs": [],
   "source": [
    "name='harpreet'"
   ]
  },
  {
   "cell_type": "code",
   "execution_count": 2,
   "id": "a70b20da",
   "metadata": {},
   "outputs": [],
   "source": [
    "name1='harpreet'"
   ]
  },
  {
   "cell_type": "code",
   "execution_count": 3,
   "id": "c7f78143",
   "metadata": {},
   "outputs": [
    {
     "ename": "SyntaxError",
     "evalue": "invalid syntax (Temp/ipykernel_10424/4084921513.py, line 1)",
     "output_type": "error",
     "traceback": [
      "\u001b[1;36m  File \u001b[1;32m\"C:\\Users\\ADMIN0~1\\AppData\\Local\\Temp/ipykernel_10424/4084921513.py\"\u001b[1;36m, line \u001b[1;32m1\u001b[0m\n\u001b[1;33m    1name='harpreet'\u001b[0m\n\u001b[1;37m     ^\u001b[0m\n\u001b[1;31mSyntaxError\u001b[0m\u001b[1;31m:\u001b[0m invalid syntax\n"
     ]
    }
   ],
   "source": [
    "1name='harpreet'"
   ]
  },
  {
   "cell_type": "code",
   "execution_count": 6,
   "id": "9b5be33f",
   "metadata": {},
   "outputs": [
    {
     "ename": "TypeError",
     "evalue": "unsupported operand type(s) for @=: 'str' and 'str'",
     "output_type": "error",
     "traceback": [
      "\u001b[1;31m---------------------------------------------------------------------------\u001b[0m",
      "\u001b[1;31mTypeError\u001b[0m                                 Traceback (most recent call last)",
      "\u001b[1;32m~\\AppData\\Local\\Temp/ipykernel_10576/528090249.py\u001b[0m in \u001b[0;36m<module>\u001b[1;34m\u001b[0m\n\u001b[1;32m----> 1\u001b[1;33m \u001b[0mname\u001b[0m\u001b[1;33m@=\u001b[0m\u001b[1;34m'hello world'\u001b[0m\u001b[1;33m\u001b[0m\u001b[1;33m\u001b[0m\u001b[0m\n\u001b[0m",
      "\u001b[1;31mTypeError\u001b[0m: unsupported operand type(s) for @=: 'str' and 'str'"
     ]
    }
   ],
   "source": [
    "name@='hello world'"
   ]
  },
  {
   "cell_type": "code",
   "execution_count": 4,
   "id": "0e47e677",
   "metadata": {},
   "outputs": [],
   "source": [
    "x='harpreet'"
   ]
  },
  {
   "cell_type": "code",
   "execution_count": 5,
   "id": "501841b5",
   "metadata": {},
   "outputs": [
    {
     "name": "stdout",
     "output_type": "stream",
     "text": [
      "harpreet\n"
     ]
    }
   ],
   "source": [
    "print(x)"
   ]
  },
  {
   "cell_type": "code",
   "execution_count": 6,
   "id": "4e682fa6",
   "metadata": {},
   "outputs": [],
   "source": [
    "x='shan'"
   ]
  },
  {
   "cell_type": "code",
   "execution_count": 7,
   "id": "342819db",
   "metadata": {},
   "outputs": [
    {
     "name": "stdout",
     "output_type": "stream",
     "text": [
      "shan\n"
     ]
    }
   ],
   "source": [
    "print(x)"
   ]
  },
  {
   "cell_type": "code",
   "execution_count": 8,
   "id": "e3a6c1e7",
   "metadata": {},
   "outputs": [
    {
     "name": "stdout",
     "output_type": "stream",
     "text": [
      "Enter name: harpreet\n"
     ]
    }
   ],
   "source": [
    "name=input('Enter name: ')  # store only str value "
   ]
  },
  {
   "cell_type": "code",
   "execution_count": 9,
   "id": "73f15015",
   "metadata": {},
   "outputs": [
    {
     "name": "stdout",
     "output_type": "stream",
     "text": [
      "harpreet\n"
     ]
    }
   ],
   "source": [
    "print(name)"
   ]
  },
  {
   "cell_type": "code",
   "execution_count": 10,
   "id": "b53966e0",
   "metadata": {},
   "outputs": [
    {
     "data": {
      "text/plain": [
       "str"
      ]
     },
     "execution_count": 10,
     "metadata": {},
     "output_type": "execute_result"
    }
   ],
   "source": [
    "type(name)"
   ]
  },
  {
   "cell_type": "code",
   "execution_count": 35,
   "id": "a4681d6b",
   "metadata": {},
   "outputs": [
    {
     "name": "stdout",
     "output_type": "stream",
     "text": [
      "Enter x: 34\n",
      "value of x:  34.0\n",
      "type of x:  <class 'float'>\n"
     ]
    }
   ],
   "source": [
    "x=eval(input('Enter x: '))\n",
    "print('value of x: ',x)\n",
    "print('type of x: ',type(x))"
   ]
  },
  {
   "cell_type": "markdown",
   "id": "71fc6616",
   "metadata": {},
   "source": [
    "# Data Type"
   ]
  },
  {
   "cell_type": "markdown",
   "id": "fd8ba66a",
   "metadata": {},
   "source": [
    "            Data type:\n",
    "                Data ----> everything is data ---> process --> Information\n",
    "            1. Numbers ---> int , float , complex\n",
    "            2. str ---> string ---\n",
    "            3. list ---> collection of data type\n",
    "            4. tuple---> ''\n",
    "            5. dict\n",
    "            6. set\n",
    "            7. bool (True , False)\n",
    "            8. bytes\n",
    "      1. mutable (we can modify or update)     2. immutable (we cant modify or update)\n",
    "      1. mutable ---> list , dict, set\n",
    "      2. immutable ---> tuple , numbers , str\n",
    "      \n",
    "      \n",
    "      "
   ]
  },
  {
   "cell_type": "code",
   "execution_count": 37,
   "id": "4b263b49",
   "metadata": {},
   "outputs": [],
   "source": [
    "# numbers ---> \n",
    "# int---> real number without decimal value with base 10  e.g -->x=10 , y=-11\n",
    "# float---> with decimal values\n",
    "# complex---> collection or real part and imaginary part   a+bj here a is real\n",
    "# part and b is imaginary part"
   ]
  },
  {
   "cell_type": "code",
   "execution_count": 38,
   "id": "df82a7c5",
   "metadata": {},
   "outputs": [],
   "source": [
    "x=67678"
   ]
  },
  {
   "cell_type": "code",
   "execution_count": 39,
   "id": "466ed227",
   "metadata": {},
   "outputs": [
    {
     "data": {
      "text/plain": [
       "int"
      ]
     },
     "execution_count": 39,
     "metadata": {},
     "output_type": "execute_result"
    }
   ],
   "source": [
    "type(x)"
   ]
  },
  {
   "cell_type": "code",
   "execution_count": 40,
   "id": "1e1b72aa",
   "metadata": {},
   "outputs": [],
   "source": [
    "y=-8767"
   ]
  },
  {
   "cell_type": "code",
   "execution_count": 41,
   "id": "9884f77f",
   "metadata": {},
   "outputs": [
    {
     "data": {
      "text/plain": [
       "int"
      ]
     },
     "execution_count": 41,
     "metadata": {},
     "output_type": "execute_result"
    }
   ],
   "source": [
    "type(y)"
   ]
  },
  {
   "cell_type": "code",
   "execution_count": 42,
   "id": "6aa9e2eb",
   "metadata": {},
   "outputs": [],
   "source": [
    "t=776."
   ]
  },
  {
   "cell_type": "code",
   "execution_count": 43,
   "id": "0254d463",
   "metadata": {},
   "outputs": [
    {
     "data": {
      "text/plain": [
       "float"
      ]
     },
     "execution_count": 43,
     "metadata": {},
     "output_type": "execute_result"
    }
   ],
   "source": [
    "type(t)"
   ]
  },
  {
   "cell_type": "code",
   "execution_count": 44,
   "id": "259bbabe",
   "metadata": {},
   "outputs": [
    {
     "name": "stdout",
     "output_type": "stream",
     "text": [
      "776.0\n"
     ]
    }
   ],
   "source": [
    "print(t)"
   ]
  },
  {
   "cell_type": "code",
   "execution_count": 46,
   "id": "36536b20",
   "metadata": {},
   "outputs": [],
   "source": [
    "r=-6767.4"
   ]
  },
  {
   "cell_type": "code",
   "execution_count": 47,
   "id": "f98fb418",
   "metadata": {},
   "outputs": [
    {
     "data": {
      "text/plain": [
       "float"
      ]
     },
     "execution_count": 47,
     "metadata": {},
     "output_type": "execute_result"
    }
   ],
   "source": [
    "type(r)"
   ]
  },
  {
   "cell_type": "code",
   "execution_count": 48,
   "id": "913d2a17",
   "metadata": {},
   "outputs": [
    {
     "name": "stdout",
     "output_type": "stream",
     "text": [
      "-6767.4\n"
     ]
    }
   ],
   "source": [
    "print(r)"
   ]
  },
  {
   "cell_type": "code",
   "execution_count": 49,
   "id": "3cbe5c5b",
   "metadata": {},
   "outputs": [],
   "source": [
    "c=5+6j"
   ]
  },
  {
   "cell_type": "code",
   "execution_count": null,
   "id": "2f01dc26",
   "metadata": {},
   "outputs": [],
   "source": []
  },
  {
   "cell_type": "code",
   "execution_count": 50,
   "id": "3cb48f3e",
   "metadata": {},
   "outputs": [
    {
     "data": {
      "text/plain": [
       "complex"
      ]
     },
     "execution_count": 50,
     "metadata": {},
     "output_type": "execute_result"
    }
   ],
   "source": [
    "type(c)"
   ]
  },
  {
   "cell_type": "code",
   "execution_count": 51,
   "id": "c79c7928",
   "metadata": {},
   "outputs": [
    {
     "name": "stdout",
     "output_type": "stream",
     "text": [
      "(5+6j)\n"
     ]
    }
   ],
   "source": [
    "print(c)"
   ]
  },
  {
   "cell_type": "code",
   "execution_count": 52,
   "id": "98d341dd",
   "metadata": {},
   "outputs": [
    {
     "data": {
      "text/plain": [
       "5.0"
      ]
     },
     "execution_count": 52,
     "metadata": {},
     "output_type": "execute_result"
    }
   ],
   "source": [
    "c.real"
   ]
  },
  {
   "cell_type": "code",
   "execution_count": 53,
   "id": "19e33a8a",
   "metadata": {},
   "outputs": [
    {
     "data": {
      "text/plain": [
       "6.0"
      ]
     },
     "execution_count": 53,
     "metadata": {},
     "output_type": "execute_result"
    }
   ],
   "source": [
    "c.imag"
   ]
  },
  {
   "cell_type": "code",
   "execution_count": 55,
   "id": "c0ce7e03",
   "metadata": {},
   "outputs": [],
   "source": [
    "e=(5+4j)*(5-4j)   # 25(-16*(-1))"
   ]
  },
  {
   "cell_type": "code",
   "execution_count": 56,
   "id": "c71f8476",
   "metadata": {},
   "outputs": [
    {
     "name": "stdout",
     "output_type": "stream",
     "text": [
      "(41+0j)\n"
     ]
    }
   ],
   "source": [
    "print(e)"
   ]
  },
  {
   "cell_type": "code",
   "execution_count": 57,
   "id": "ff72dd8a",
   "metadata": {},
   "outputs": [],
   "source": [
    "# String----> a single char or collection of char inside the '', \" \", ''' '''"
   ]
  },
  {
   "cell_type": "code",
   "execution_count": 58,
   "id": "7206193c",
   "metadata": {},
   "outputs": [],
   "source": [
    "s='hello python'"
   ]
  },
  {
   "cell_type": "code",
   "execution_count": 59,
   "id": "1bad416b",
   "metadata": {},
   "outputs": [
    {
     "data": {
      "text/plain": [
       "str"
      ]
     },
     "execution_count": 59,
     "metadata": {},
     "output_type": "execute_result"
    }
   ],
   "source": [
    "type(s)"
   ]
  },
  {
   "cell_type": "code",
   "execution_count": 60,
   "id": "10abaf49",
   "metadata": {},
   "outputs": [
    {
     "name": "stdout",
     "output_type": "stream",
     "text": [
      "hello python\n"
     ]
    }
   ],
   "source": [
    "print(s)"
   ]
  },
  {
   "cell_type": "code",
   "execution_count": 61,
   "id": "b8b5e832",
   "metadata": {},
   "outputs": [],
   "source": [
    "a=\"hello python\""
   ]
  },
  {
   "cell_type": "code",
   "execution_count": 62,
   "id": "1d5b1457",
   "metadata": {},
   "outputs": [
    {
     "name": "stdout",
     "output_type": "stream",
     "text": [
      "hello python\n"
     ]
    }
   ],
   "source": [
    "print(a)"
   ]
  },
  {
   "cell_type": "code",
   "execution_count": 63,
   "id": "3816f04e",
   "metadata": {},
   "outputs": [
    {
     "data": {
      "text/plain": [
       "str"
      ]
     },
     "execution_count": 63,
     "metadata": {},
     "output_type": "execute_result"
    }
   ],
   "source": [
    "type(a)"
   ]
  },
  {
   "cell_type": "code",
   "execution_count": 64,
   "id": "cb4a10ea",
   "metadata": {},
   "outputs": [],
   "source": [
    "b='''hello python'''"
   ]
  },
  {
   "cell_type": "code",
   "execution_count": 65,
   "id": "ed897e15",
   "metadata": {},
   "outputs": [
    {
     "name": "stdout",
     "output_type": "stream",
     "text": [
      "hello python\n"
     ]
    }
   ],
   "source": [
    "print(b)"
   ]
  },
  {
   "cell_type": "code",
   "execution_count": 66,
   "id": "83da62fa",
   "metadata": {},
   "outputs": [],
   "source": [
    "# for single line string ---> ' ', \" \", ''' '''\n",
    "# para----> ''' '''"
   ]
  },
  {
   "cell_type": "code",
   "execution_count": 11,
   "id": "f741bbb9",
   "metadata": {},
   "outputs": [],
   "source": [
    "s='''hello \n",
    "harpreet how are \n",
    "everything is good?'''"
   ]
  },
  {
   "cell_type": "code",
   "execution_count": 12,
   "id": "d89536b3",
   "metadata": {},
   "outputs": [
    {
     "name": "stdout",
     "output_type": "stream",
     "text": [
      "hello \n",
      "harpreet how are \n",
      "everything is good?\n"
     ]
    }
   ],
   "source": [
    "print(s)"
   ]
  },
  {
   "cell_type": "code",
   "execution_count": 71,
   "id": "2ad3070c",
   "metadata": {},
   "outputs": [
    {
     "name": "stdout",
     "output_type": "stream",
     "text": [
      "['__add__', '__class__', '__contains__', '__delattr__', '__dir__', '__doc__', '__eq__', '__format__', '__ge__', '__getattribute__', '__getitem__', '__getnewargs__', '__gt__', '__hash__', '__init__', '__init_subclass__', '__iter__', '__le__', '__len__', '__lt__', '__mod__', '__mul__', '__ne__', '__new__', '__reduce__', '__reduce_ex__', '__repr__', '__rmod__', '__rmul__', '__setattr__', '__sizeof__', '__str__', '__subclasshook__', 'capitalize', 'casefold', 'center', 'count', 'encode', 'endswith', 'expandtabs', 'find', 'format', 'format_map', 'index', 'isalnum', 'isalpha', 'isascii', 'isdecimal', 'isdigit', 'isidentifier', 'islower', 'isnumeric', 'isprintable', 'isspace', 'istitle', 'isupper', 'join', 'ljust', 'lower', 'lstrip', 'maketrans', 'partition', 'removeprefix', 'removesuffix', 'replace', 'rfind', 'rindex', 'rjust', 'rpartition', 'rsplit', 'rstrip', 'split', 'splitlines', 'startswith', 'strip', 'swapcase', 'title', 'translate', 'upper', 'zfill']\n"
     ]
    }
   ],
   "source": [
    "print(dir(str))"
   ]
  },
  {
   "cell_type": "code",
   "execution_count": 13,
   "id": "c009e4e8",
   "metadata": {},
   "outputs": [
    {
     "data": {
      "text/plain": [
       "'C:\\\\Users\\\\Admin0809'"
      ]
     },
     "execution_count": 13,
     "metadata": {},
     "output_type": "execute_result"
    }
   ],
   "source": [
    "pwd"
   ]
  },
  {
   "cell_type": "code",
   "execution_count": null,
   "id": "e1333a34",
   "metadata": {},
   "outputs": [],
   "source": []
  }
 ],
 "metadata": {
  "kernelspec": {
   "display_name": "Python 3 (ipykernel)",
   "language": "python",
   "name": "python3"
  },
  "language_info": {
   "codemirror_mode": {
    "name": "ipython",
    "version": 3
   },
   "file_extension": ".py",
   "mimetype": "text/x-python",
   "name": "python",
   "nbconvert_exporter": "python",
   "pygments_lexer": "ipython3",
   "version": "3.9.7"
  }
 },
 "nbformat": 4,
 "nbformat_minor": 5
}
