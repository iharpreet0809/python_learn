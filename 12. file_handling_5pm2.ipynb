{
 "cells": [
  {
   "cell_type": "markdown",
   "id": "c1104be6",
   "metadata": {},
   "source": [
    "                        roll   name    math    sci    com\n",
    "                        101    shan     89      67     88\n",
    "                        "
   ]
  },
  {
   "cell_type": "code",
   "execution_count": 12,
   "id": "b6c98e68",
   "metadata": {},
   "outputs": [
    {
     "name": "stdout",
     "output_type": "stream",
     "text": [
      "Enter student data roll name math sci com\n",
      "Enter student data 101 shan 90 98 78\n",
      "Enter student data 102 jeet 66 77 88\n",
      "Enter student data 103 ram 56 66 65\n",
      "Enter student data 104 neha 90 98 56\n",
      "Enter student data 105 mann 77 87 78\n"
     ]
    }
   ],
   "source": [
    "f=open('C:\\\\Users\\\\rmani\\\\Desktop\\\\stu_info.txt','w')\n",
    "for i in range(6):\n",
    "    data=input('Enter student data ').split()\n",
    "    data='\\t'.join(data)\n",
    "    data=data+'\\n'\n",
    "    f.write(data)\n",
    "f.close()"
   ]
  },
  {
   "cell_type": "code",
   "execution_count": 1,
   "id": "d6dab7f2",
   "metadata": {},
   "outputs": [
    {
     "name": "stdout",
     "output_type": "stream",
     "text": [
      "data: roll name math sci com\n"
     ]
    }
   ],
   "source": [
    "r=input('data: ')"
   ]
  },
  {
   "cell_type": "code",
   "execution_count": 4,
   "id": "2d31680c",
   "metadata": {},
   "outputs": [],
   "source": [
    "t=r.split()"
   ]
  },
  {
   "cell_type": "code",
   "execution_count": 5,
   "id": "b92285c3",
   "metadata": {},
   "outputs": [
    {
     "data": {
      "text/plain": [
       "['roll', 'name', 'math', 'sci', 'com']"
      ]
     },
     "execution_count": 5,
     "metadata": {},
     "output_type": "execute_result"
    }
   ],
   "source": [
    "t"
   ]
  },
  {
   "cell_type": "code",
   "execution_count": 7,
   "id": "3b238353",
   "metadata": {},
   "outputs": [],
   "source": [
    "e='\\t'.join(t)"
   ]
  },
  {
   "cell_type": "code",
   "execution_count": 8,
   "id": "4effa249",
   "metadata": {},
   "outputs": [
    {
     "data": {
      "text/plain": [
       "'roll\\tname\\tmath\\tsci\\tcom'"
      ]
     },
     "execution_count": 8,
     "metadata": {},
     "output_type": "execute_result"
    }
   ],
   "source": [
    "e"
   ]
  },
  {
   "cell_type": "code",
   "execution_count": 9,
   "id": "6f7c0d5f",
   "metadata": {},
   "outputs": [
    {
     "name": "stdout",
     "output_type": "stream",
     "text": [
      "roll\tname\tmath\tsci\tcom\n"
     ]
    }
   ],
   "source": [
    "print(e)"
   ]
  },
  {
   "cell_type": "code",
   "execution_count": 13,
   "id": "28cce0dc",
   "metadata": {},
   "outputs": [],
   "source": [
    "f1=open('C:\\\\Users\\\\rmani\\\\Desktop\\\\stu_info.txt','r')"
   ]
  },
  {
   "cell_type": "code",
   "execution_count": 14,
   "id": "26346e56",
   "metadata": {},
   "outputs": [],
   "source": [
    "data=f1.read()"
   ]
  },
  {
   "cell_type": "code",
   "execution_count": 15,
   "id": "fcd84006",
   "metadata": {},
   "outputs": [
    {
     "name": "stdout",
     "output_type": "stream",
     "text": [
      "roll\tname\tmath\tsci\tcom\n",
      "101\tshan\t90\t98\t78\n",
      "102\tjeet\t66\t77\t88\n",
      "103\tram\t56\t66\t65\n",
      "104\tneha\t90\t98\t56\n",
      "105\tmann\t77\t87\t78\n",
      "\n"
     ]
    }
   ],
   "source": [
    "print(data)"
   ]
  },
  {
   "cell_type": "code",
   "execution_count": 16,
   "id": "44a77965",
   "metadata": {},
   "outputs": [
    {
     "name": "stdout",
     "output_type": "stream",
     "text": [
      "'roll\\tname\\tmath\\tsci\\tcom\\n101\\tshan\\t90\\t98\\t78\\n102\\tjeet\\t66\\t77\\t88\\n103\\tram\\t56\\t66\\t65\\n104\\tneha\\t90\\t98\\t56\\n105\\tmann\\t77\\t87\\t78\\n'\n"
     ]
    }
   ],
   "source": [
    "print(repr(data))"
   ]
  },
  {
   "cell_type": "code",
   "execution_count": 17,
   "id": "38ea06ea",
   "metadata": {},
   "outputs": [],
   "source": [
    "res=data.split('\\n')"
   ]
  },
  {
   "cell_type": "code",
   "execution_count": 18,
   "id": "e1262b58",
   "metadata": {},
   "outputs": [
    {
     "name": "stdout",
     "output_type": "stream",
     "text": [
      "['roll\\tname\\tmath\\tsci\\tcom', '101\\tshan\\t90\\t98\\t78', '102\\tjeet\\t66\\t77\\t88', '103\\tram\\t56\\t66\\t65', '104\\tneha\\t90\\t98\\t56', '105\\tmann\\t77\\t87\\t78', '']\n"
     ]
    }
   ],
   "source": [
    "print(repr(res))"
   ]
  },
  {
   "cell_type": "code",
   "execution_count": 19,
   "id": "45957be2",
   "metadata": {},
   "outputs": [
    {
     "data": {
      "text/plain": [
       "'roll\\tname\\tmath\\tsci\\tcom'"
      ]
     },
     "execution_count": 19,
     "metadata": {},
     "output_type": "execute_result"
    }
   ],
   "source": [
    "res[0]"
   ]
  },
  {
   "cell_type": "code",
   "execution_count": 20,
   "id": "165a9ef8",
   "metadata": {},
   "outputs": [
    {
     "data": {
      "text/plain": [
       "'101\\tshan\\t90\\t98\\t78'"
      ]
     },
     "execution_count": 20,
     "metadata": {},
     "output_type": "execute_result"
    }
   ],
   "source": [
    "res[1]"
   ]
  },
  {
   "cell_type": "code",
   "execution_count": 21,
   "id": "df57a0ac",
   "metadata": {},
   "outputs": [
    {
     "data": {
      "text/plain": [
       "''"
      ]
     },
     "execution_count": 21,
     "metadata": {},
     "output_type": "execute_result"
    }
   ],
   "source": [
    "res[-1]"
   ]
  },
  {
   "cell_type": "code",
   "execution_count": 22,
   "id": "c081394f",
   "metadata": {},
   "outputs": [],
   "source": [
    "d=res[1:-1]"
   ]
  },
  {
   "cell_type": "code",
   "execution_count": 24,
   "id": "78a200d0",
   "metadata": {},
   "outputs": [
    {
     "name": "stdout",
     "output_type": "stream",
     "text": [
      "['101\\tshan\\t90\\t98\\t78', '102\\tjeet\\t66\\t77\\t88', '103\\tram\\t56\\t66\\t65', '104\\tneha\\t90\\t98\\t56', '105\\tmann\\t77\\t87\\t78']\n"
     ]
    }
   ],
   "source": [
    "print(repr(d))"
   ]
  },
  {
   "cell_type": "code",
   "execution_count": 37,
   "id": "da436418",
   "metadata": {},
   "outputs": [
    {
     "name": "stdout",
     "output_type": "stream",
     "text": [
      "'101\\tshan\\t90\\t98\\t78\\t88'\n",
      "'102\\tjeet\\t66\\t77\\t88\\t77'\n",
      "'103\\tram\\t56\\t66\\t65\\t62'\n",
      "'104\\tneha\\t90\\t98\\t56\\t81'\n",
      "'105\\tmann\\t77\\t87\\t78\\t80'\n"
     ]
    }
   ],
   "source": [
    "result=[]\n",
    "for item in d:\n",
    "    i=item.split('\\t')\n",
    "    #print(repr(item))\n",
    "    p=str(sum(map(int,i[2:]))//3)\n",
    "    i.append(p)\n",
    "    i='\\t'.join(i)\n",
    "    result.append(i)\n",
    "    print(repr(i))"
   ]
  },
  {
   "cell_type": "code",
   "execution_count": 38,
   "id": "869d2965",
   "metadata": {},
   "outputs": [
    {
     "data": {
      "text/plain": [
       "['101\\tshan\\t90\\t98\\t78\\t88',\n",
       " '102\\tjeet\\t66\\t77\\t88\\t77',\n",
       " '103\\tram\\t56\\t66\\t65\\t62',\n",
       " '104\\tneha\\t90\\t98\\t56\\t81',\n",
       " '105\\tmann\\t77\\t87\\t78\\t80']"
      ]
     },
     "execution_count": 38,
     "metadata": {},
     "output_type": "execute_result"
    }
   ],
   "source": [
    "result"
   ]
  },
  {
   "cell_type": "code",
   "execution_count": 39,
   "id": "cbb782e1",
   "metadata": {},
   "outputs": [],
   "source": [
    "result='\\n'.join(result)"
   ]
  },
  {
   "cell_type": "code",
   "execution_count": 40,
   "id": "b3ace432",
   "metadata": {},
   "outputs": [
    {
     "name": "stdout",
     "output_type": "stream",
     "text": [
      "'101\\tshan\\t90\\t98\\t78\\t88\\n102\\tjeet\\t66\\t77\\t88\\t77\\n103\\tram\\t56\\t66\\t65\\t62\\n104\\tneha\\t90\\t98\\t56\\t81\\n105\\tmann\\t77\\t87\\t78\\t80'\n"
     ]
    }
   ],
   "source": [
    "print(repr(result))"
   ]
  },
  {
   "cell_type": "code",
   "execution_count": 45,
   "id": "e69a2953",
   "metadata": {},
   "outputs": [
    {
     "data": {
      "text/plain": [
       "'roll\\tname\\tmath\\tsci\\tcom\\tpercent\\n'"
      ]
     },
     "execution_count": 45,
     "metadata": {},
     "output_type": "execute_result"
    }
   ],
   "source": [
    "head=res[0]+'\\tpercent\\n'\n",
    "head"
   ]
  },
  {
   "cell_type": "code",
   "execution_count": 43,
   "id": "92c31c44",
   "metadata": {},
   "outputs": [],
   "source": [
    "final=head+result"
   ]
  },
  {
   "cell_type": "code",
   "execution_count": 44,
   "id": "739c541e",
   "metadata": {},
   "outputs": [
    {
     "name": "stdout",
     "output_type": "stream",
     "text": [
      "roll\tname\tmath\tsci\tcom\tpercent\n",
      "101\tshan\t90\t98\t78\t88\n",
      "102\tjeet\t66\t77\t88\t77\n",
      "103\tram\t56\t66\t65\t62\n",
      "104\tneha\t90\t98\t56\t81\n",
      "105\tmann\t77\t87\t78\t80\n"
     ]
    }
   ],
   "source": [
    "print(final)"
   ]
  },
  {
   "cell_type": "code",
   "execution_count": 46,
   "id": "f3050429",
   "metadata": {},
   "outputs": [
    {
     "data": {
      "text/plain": [
       "['roll\\tname\\tmath\\tsci\\tcom',\n",
       " '101\\tshan\\t90\\t98\\t78',\n",
       " '102\\tjeet\\t66\\t77\\t88',\n",
       " '103\\tram\\t56\\t66\\t65',\n",
       " '104\\tneha\\t90\\t98\\t56',\n",
       " '105\\tmann\\t77\\t87\\t78',\n",
       " '']"
      ]
     },
     "execution_count": 46,
     "metadata": {},
     "output_type": "execute_result"
    }
   ],
   "source": [
    "res"
   ]
  },
  {
   "cell_type": "code",
   "execution_count": null,
   "id": "ce838915",
   "metadata": {},
   "outputs": [],
   "source": []
  }
 ],
 "metadata": {
  "kernelspec": {
   "display_name": "Python 3 (ipykernel)",
   "language": "python",
   "name": "python3"
  },
  "language_info": {
   "codemirror_mode": {
    "name": "ipython",
    "version": 3
   },
   "file_extension": ".py",
   "mimetype": "text/x-python",
   "name": "python",
   "nbconvert_exporter": "python",
   "pygments_lexer": "ipython3",
   "version": "3.9.6"
  }
 },
 "nbformat": 4,
 "nbformat_minor": 5
}
