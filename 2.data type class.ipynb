{
 "cells": [
  {
   "cell_type": "markdown",
   "id": "c0bb33de",
   "metadata": {},
   "source": [
    "# String"
   ]
  },
  {
   "cell_type": "code",
   "execution_count": 1,
   "id": "8086a077",
   "metadata": {},
   "outputs": [],
   "source": [
    "#''' ''' , \"\"\" \"\"\""
   ]
  },
  {
   "cell_type": "code",
   "execution_count": 3,
   "id": "30f9c694",
   "metadata": {},
   "outputs": [],
   "source": [
    "s='hello \"python\" how are you'"
   ]
  },
  {
   "cell_type": "code",
   "execution_count": 4,
   "id": "a1985e48",
   "metadata": {},
   "outputs": [
    {
     "name": "stdout",
     "output_type": "stream",
     "text": [
      "hello \"python\" how are you\n"
     ]
    }
   ],
   "source": [
    "print(s)"
   ]
  },
  {
   "cell_type": "code",
   "execution_count": 5,
   "id": "47264c5d",
   "metadata": {},
   "outputs": [],
   "source": [
    "s='hello python how are you'"
   ]
  },
  {
   "cell_type": "code",
   "execution_count": 6,
   "id": "430270a4",
   "metadata": {},
   "outputs": [
    {
     "name": "stdout",
     "output_type": "stream",
     "text": [
      "['__add__', '__class__', '__contains__', '__delattr__', '__dir__', '__doc__', '__eq__', '__format__', '__ge__', '__getattribute__', '__getitem__', '__getnewargs__', '__gt__', '__hash__', '__init__', '__init_subclass__', '__iter__', '__le__', '__len__', '__lt__', '__mod__', '__mul__', '__ne__', '__new__', '__reduce__', '__reduce_ex__', '__repr__', '__rmod__', '__rmul__', '__setattr__', '__sizeof__', '__str__', '__subclasshook__', 'capitalize', 'casefold', 'center', 'count', 'encode', 'endswith', 'expandtabs', 'find', 'format', 'format_map', 'index', 'isalnum', 'isalpha', 'isascii', 'isdecimal', 'isdigit', 'isidentifier', 'islower', 'isnumeric', 'isprintable', 'isspace', 'istitle', 'isupper', 'join', 'ljust', 'lower', 'lstrip', 'maketrans', 'partition', 'removeprefix', 'removesuffix', 'replace', 'rfind', 'rindex', 'rjust', 'rpartition', 'rsplit', 'rstrip', 'split', 'splitlines', 'startswith', 'strip', 'swapcase', 'title', 'translate', 'upper', 'zfill']\n"
     ]
    }
   ],
   "source": [
    "print(dir(str))"
   ]
  },
  {
   "cell_type": "code",
   "execution_count": 7,
   "id": "26acfa4a",
   "metadata": {},
   "outputs": [
    {
     "name": "stdout",
     "output_type": "stream",
     "text": [
      "Help on built-in function capitalize:\n",
      "\n",
      "capitalize() method of builtins.str instance\n",
      "    Return a capitalized version of the string.\n",
      "    \n",
      "    More specifically, make the first character have upper case and the rest lower\n",
      "    case.\n",
      "\n",
      "None\n"
     ]
    }
   ],
   "source": [
    "print(help(s.capitalize))"
   ]
  },
  {
   "cell_type": "code",
   "execution_count": 100,
   "id": "7f7c5f02",
   "metadata": {},
   "outputs": [],
   "source": [
    "s.capitalize?"
   ]
  },
  {
   "cell_type": "code",
   "execution_count": 9,
   "id": "de8e01b6",
   "metadata": {},
   "outputs": [],
   "source": [
    "r='heLLo WoRld'"
   ]
  },
  {
   "cell_type": "code",
   "execution_count": 10,
   "id": "fcbf5a1a",
   "metadata": {},
   "outputs": [
    {
     "data": {
      "text/plain": [
       "'Hello world'"
      ]
     },
     "execution_count": 10,
     "metadata": {},
     "output_type": "execute_result"
    }
   ],
   "source": [
    "r.capitalize()"
   ]
  },
  {
   "cell_type": "code",
   "execution_count": 12,
   "id": "c71126b4",
   "metadata": {},
   "outputs": [],
   "source": [
    "# case change\n"
   ]
  },
  {
   "cell_type": "code",
   "execution_count": 16,
   "id": "33214f34",
   "metadata": {},
   "outputs": [],
   "source": [
    "r='hello PythOn How aRe yoU'"
   ]
  },
  {
   "cell_type": "code",
   "execution_count": 17,
   "id": "4d643b99",
   "metadata": {},
   "outputs": [
    {
     "name": "stdout",
     "output_type": "stream",
     "text": [
      "original string:  hello PythOn How aRe yoU\n",
      "capitalized version:  Hello python how are you\n",
      "uppercase :  HELLO PYTHON HOW ARE YOU\n",
      "lowercase : hello python how are you\n",
      "titled case : Hello Python How Are You\n",
      "swapcase : HELLO pYTHoN hOW ArE YOu\n"
     ]
    }
   ],
   "source": [
    "print('original string: ',r)\n",
    "print('capitalized version: ',r.capitalize())\n",
    "print('uppercase : ',r.upper())\n",
    "print('lowercase :',r.lower())\n",
    "print('titled case :',r.title())\n",
    "print('swapcase :',r.swapcase())"
   ]
  },
  {
   "cell_type": "code",
   "execution_count": 18,
   "id": "48201688",
   "metadata": {},
   "outputs": [],
   "source": [
    "# check string  is alphabet digit or alphanumeric"
   ]
  },
  {
   "cell_type": "code",
   "execution_count": 19,
   "id": "bccd4682",
   "metadata": {},
   "outputs": [],
   "source": [
    "# alpha ---> a to z\n",
    "# digit ---> 0 to 9\n",
    "# alnum----> 0 to 9 and a to z"
   ]
  },
  {
   "cell_type": "code",
   "execution_count": 29,
   "id": "a41b1c09",
   "metadata": {},
   "outputs": [],
   "source": [
    "s='hello world'"
   ]
  },
  {
   "cell_type": "code",
   "execution_count": 30,
   "id": "7a402f51",
   "metadata": {},
   "outputs": [
    {
     "data": {
      "text/plain": [
       "False"
      ]
     },
     "execution_count": 30,
     "metadata": {},
     "output_type": "execute_result"
    }
   ],
   "source": [
    "s.isalpha()  # return true if string is alpha otherwise false"
   ]
  },
  {
   "cell_type": "code",
   "execution_count": 24,
   "id": "8d5bd5a9",
   "metadata": {},
   "outputs": [
    {
     "data": {
      "text/plain": [
       "True"
      ]
     },
     "execution_count": 24,
     "metadata": {},
     "output_type": "execute_result"
    }
   ],
   "source": [
    "s.isalnum()"
   ]
  },
  {
   "cell_type": "code",
   "execution_count": 26,
   "id": "6eeceb18",
   "metadata": {},
   "outputs": [
    {
     "data": {
      "text/plain": [
       "False"
      ]
     },
     "execution_count": 26,
     "metadata": {},
     "output_type": "execute_result"
    }
   ],
   "source": [
    "s.isdigit()"
   ]
  },
  {
   "cell_type": "code",
   "execution_count": 27,
   "id": "4be16902",
   "metadata": {},
   "outputs": [],
   "source": [
    "e='657657'"
   ]
  },
  {
   "cell_type": "code",
   "execution_count": 28,
   "id": "0a38dfa9",
   "metadata": {},
   "outputs": [
    {
     "data": {
      "text/plain": [
       "True"
      ]
     },
     "execution_count": 28,
     "metadata": {},
     "output_type": "execute_result"
    }
   ],
   "source": [
    "e.isdigit()"
   ]
  },
  {
   "cell_type": "code",
   "execution_count": 31,
   "id": "c0c6b31b",
   "metadata": {},
   "outputs": [],
   "source": [
    "# string split \n",
    "# split \n",
    "# partition"
   ]
  },
  {
   "cell_type": "code",
   "execution_count": 1,
   "id": "9e383713",
   "metadata": {},
   "outputs": [],
   "source": [
    "r='harpreet how are you and python how are you?'"
   ]
  },
  {
   "cell_type": "code",
   "execution_count": 5,
   "id": "e811b43e",
   "metadata": {},
   "outputs": [],
   "source": [
    "w=r.split('how')"
   ]
  },
  {
   "cell_type": "code",
   "execution_count": 6,
   "id": "5a853923",
   "metadata": {},
   "outputs": [
    {
     "data": {
      "text/plain": [
       "['harpreet ', ' are you and python ', ' are you?']"
      ]
     },
     "execution_count": 6,
     "metadata": {},
     "output_type": "execute_result"
    }
   ],
   "source": [
    "w"
   ]
  },
  {
   "cell_type": "code",
   "execution_count": 7,
   "id": "bb394abd",
   "metadata": {},
   "outputs": [
    {
     "data": {
      "text/plain": [
       "'harpreet hii are you and python hii are you?'"
      ]
     },
     "execution_count": 7,
     "metadata": {},
     "output_type": "execute_result"
    }
   ],
   "source": [
    "'hii'.join(w)"
   ]
  },
  {
   "cell_type": "code",
   "execution_count": 8,
   "id": "e32a89cd",
   "metadata": {},
   "outputs": [
    {
     "data": {
      "text/plain": [
       "'harpreet how are you and python how are you?'"
      ]
     },
     "execution_count": 8,
     "metadata": {},
     "output_type": "execute_result"
    }
   ],
   "source": [
    "r"
   ]
  },
  {
   "cell_type": "code",
   "execution_count": 9,
   "id": "8a0a77b9",
   "metadata": {},
   "outputs": [
    {
     "data": {
      "text/plain": [
       "'harpreet how are you and python how are you?'"
      ]
     },
     "execution_count": 9,
     "metadata": {},
     "output_type": "execute_result"
    }
   ],
   "source": [
    "r"
   ]
  },
  {
   "cell_type": "code",
   "execution_count": 10,
   "id": "dc6f8661",
   "metadata": {},
   "outputs": [
    {
     "data": {
      "text/plain": [
       "('harpreet how are ', 'you', ' and python how are you?')"
      ]
     },
     "execution_count": 10,
     "metadata": {},
     "output_type": "execute_result"
    }
   ],
   "source": [
    "r.partition('you')"
   ]
  },
  {
   "cell_type": "code",
   "execution_count": 47,
   "id": "9fb857eb",
   "metadata": {},
   "outputs": [],
   "source": [
    "# count----> "
   ]
  },
  {
   "cell_type": "code",
   "execution_count": 51,
   "id": "bd42d49f",
   "metadata": {},
   "outputs": [],
   "source": [
    "para='''\n",
    "Python is an interpreted high-level general-purpose\n",
    "\\programming language. Its design philosophy emphasizes code\n",
    "readability with its use of significant indentation. Its language \n",
    "constructs as well as its object-oriented approach aim to help\n",
    "programmers write clear, logical code for small and large-scale \n",
    "projects.[31]\n",
    "\n",
    "Python is dynamically-typed and garbage-collected. It supports multiple\n",
    "programming paradigms, including structured (particularly, procedural),\n",
    "object-oriented and functional programming. It is often described as a \n",
    "\"batteries included\" language due to its comprehensive standard library.\n",
    "[32]\n",
    "\n",
    "Guido van Rossum began working on Python in the late 1980s, as a \n",
    "\\successor to the ABC programming language, and first released it in \n",
    "1991 as Python 0.9.0.[33] Python 2.0 was released in 2000 and\n",
    "introduced new features, such as list comprehensions and a garbage \n",
    "collection system using reference counting. python 3.0 was released in\n",
    "2008 and was a major revision of the language that is not completely\n",
    "backward-compatible. python 2 was discontinued with version 2.7.18 in\n",
    "2020.[34]\n",
    "\n",
    "\n",
    "'''"
   ]
  },
  {
   "cell_type": "code",
   "execution_count": 55,
   "id": "24394b02",
   "metadata": {},
   "outputs": [
    {
     "name": "stdout",
     "output_type": "stream",
     "text": [
      "\n",
      "python is an interpreted high-level general-purpose\n",
      "\\programming language. its design philosophy emphasizes code\n",
      "readability with its use of significant indentation. its language \n",
      "constructs as well as its object-oriented approach aim to help\n",
      "programmers write clear, logical code for small and large-scale \n",
      "projects.[31]\n",
      "\n",
      "python is dynamically-typed and garbage-collected. it supports multiple\n",
      "programming paradigms, including structured (particularly, procedural),\n",
      "object-oriented and functional programming. it is often described as a \n",
      "\"batteries included\" language due to its comprehensive standard library.\n",
      "[32]\n",
      "\n",
      "guido van rossum began working on python in the late 1980s, as a \n",
      "\\successor to the abc programming language, and first released it in \n",
      "1991 as python 0.9.0.[33] python 2.0 was released in 2000 and\n",
      "introduced new features, such as list comprehensions and a garbage \n",
      "collection system using reference counting. python 3.0 was released in\n",
      "2008 and was a major revision of the language that is not completely\n",
      "backward-compatible. python 2 was discontinued with version 2.7.18 in\n",
      "2020.[34]\n",
      "\n",
      "\n",
      "\n"
     ]
    }
   ],
   "source": [
    "para=para.lower()\n",
    "print(para)"
   ]
  },
  {
   "cell_type": "code",
   "execution_count": 60,
   "id": "4550bf42",
   "metadata": {},
   "outputs": [
    {
     "data": {
      "text/plain": [
       "2"
      ]
     },
     "execution_count": 60,
     "metadata": {},
     "output_type": "execute_result"
    }
   ],
   "source": [
    "para.count('programming language')"
   ]
  },
  {
   "cell_type": "code",
   "execution_count": 61,
   "id": "4a994a2b",
   "metadata": {},
   "outputs": [],
   "source": [
    "s='hello python'"
   ]
  },
  {
   "cell_type": "code",
   "execution_count": 66,
   "id": "a9c1b846",
   "metadata": {},
   "outputs": [
    {
     "name": "stdout",
     "output_type": "stream",
     "text": [
      "                             hello python                             \n"
     ]
    }
   ],
   "source": [
    "print(s.center(70))"
   ]
  },
  {
   "cell_type": "code",
   "execution_count": 68,
   "id": "e754551f",
   "metadata": {},
   "outputs": [],
   "source": [
    "# strip\n",
    "# rstrip\n",
    "# lstrip"
   ]
  },
  {
   "cell_type": "code",
   "execution_count": 11,
   "id": "2fa339ad",
   "metadata": {},
   "outputs": [],
   "source": [
    "s='    harpreet     '"
   ]
  },
  {
   "cell_type": "code",
   "execution_count": 12,
   "id": "68430fd3",
   "metadata": {},
   "outputs": [
    {
     "data": {
      "text/plain": [
       "'    harpreet     '"
      ]
     },
     "execution_count": 12,
     "metadata": {},
     "output_type": "execute_result"
    }
   ],
   "source": [
    "s"
   ]
  },
  {
   "cell_type": "code",
   "execution_count": 13,
   "id": "aa27792e",
   "metadata": {},
   "outputs": [
    {
     "data": {
      "text/plain": [
       "'harpreet'"
      ]
     },
     "execution_count": 13,
     "metadata": {},
     "output_type": "execute_result"
    }
   ],
   "source": [
    "s.strip()"
   ]
  },
  {
   "cell_type": "code",
   "execution_count": 14,
   "id": "db589ce5",
   "metadata": {},
   "outputs": [],
   "source": [
    "t='aaaaahello harpreet-----'"
   ]
  },
  {
   "cell_type": "code",
   "execution_count": 15,
   "id": "c66a57ee",
   "metadata": {},
   "outputs": [
    {
     "data": {
      "text/plain": [
       "'aaaaahello harpreet-----'"
      ]
     },
     "execution_count": 15,
     "metadata": {},
     "output_type": "execute_result"
    }
   ],
   "source": [
    "t"
   ]
  },
  {
   "cell_type": "code",
   "execution_count": 16,
   "id": "d3c86055",
   "metadata": {},
   "outputs": [
    {
     "data": {
      "text/plain": [
       "'hello harpreet-----'"
      ]
     },
     "execution_count": 16,
     "metadata": {},
     "output_type": "execute_result"
    }
   ],
   "source": [
    "t.strip('a')"
   ]
  },
  {
   "cell_type": "code",
   "execution_count": 18,
   "id": "af2c2b9a",
   "metadata": {},
   "outputs": [
    {
     "data": {
      "text/plain": [
       "'aaaaahello harpreet'"
      ]
     },
     "execution_count": 18,
     "metadata": {},
     "output_type": "execute_result"
    }
   ],
   "source": [
    "t.rstrip('-')"
   ]
  },
  {
   "cell_type": "code",
   "execution_count": 17,
   "id": "2fe92560",
   "metadata": {},
   "outputs": [
    {
     "data": {
      "text/plain": [
       "'aaaaahello harpreet-----'"
      ]
     },
     "execution_count": 17,
     "metadata": {},
     "output_type": "execute_result"
    }
   ],
   "source": [
    "t.lstrip('-')"
   ]
  },
  {
   "cell_type": "code",
   "execution_count": 80,
   "id": "e209321b",
   "metadata": {},
   "outputs": [],
   "source": [
    "# indexing \n",
    "# slicing"
   ]
  },
  {
   "cell_type": "code",
   "execution_count": 82,
   "id": "e0d0d062",
   "metadata": {},
   "outputs": [],
   "source": [
    "s='hello python' # indexing ---> 0 to n-1 here n is length of string"
   ]
  },
  {
   "cell_type": "code",
   "execution_count": 83,
   "id": "7e674599",
   "metadata": {},
   "outputs": [
    {
     "data": {
      "text/plain": [
       "12"
      ]
     },
     "execution_count": 83,
     "metadata": {},
     "output_type": "execute_result"
    }
   ],
   "source": [
    "len(s)"
   ]
  },
  {
   "cell_type": "markdown",
   "id": "69084dce",
   "metadata": {},
   "source": [
    "                                   -6-5-4-3 -2 -1\n",
    "                        h e l l o   p y t h  o  n \n",
    "                        0 1 2 3 4 5 6 7 8 9  10 11"
   ]
  },
  {
   "cell_type": "code",
   "execution_count": 84,
   "id": "8fd51c41",
   "metadata": {},
   "outputs": [
    {
     "data": {
      "text/plain": [
       "'hello python'"
      ]
     },
     "execution_count": 84,
     "metadata": {},
     "output_type": "execute_result"
    }
   ],
   "source": [
    "s"
   ]
  },
  {
   "cell_type": "code",
   "execution_count": 88,
   "id": "1bf6c92d",
   "metadata": {},
   "outputs": [
    {
     "data": {
      "text/plain": [
       "'o'"
      ]
     },
     "execution_count": 88,
     "metadata": {},
     "output_type": "execute_result"
    }
   ],
   "source": [
    "s[-2]"
   ]
  },
  {
   "cell_type": "code",
   "execution_count": 89,
   "id": "8b74ea55",
   "metadata": {},
   "outputs": [],
   "source": [
    "# slicing----> \n",
    "# s[startpoint:endpoint:stepsize]\n",
    "# startpoint=0\n",
    "# endpoint =n-1\n",
    "# stepsize=1"
   ]
  },
  {
   "cell_type": "code",
   "execution_count": 19,
   "id": "cf26ac2d",
   "metadata": {},
   "outputs": [],
   "source": [
    "s='hello harpreet how are you whats going'"
   ]
  },
  {
   "cell_type": "code",
   "execution_count": 20,
   "id": "595272a9",
   "metadata": {},
   "outputs": [
    {
     "data": {
      "text/plain": [
       "'harpreet how are you whats going'"
      ]
     },
     "execution_count": 20,
     "metadata": {},
     "output_type": "execute_result"
    }
   ],
   "source": [
    "s[6:]"
   ]
  },
  {
   "cell_type": "code",
   "execution_count": 21,
   "id": "dbf2a8f0",
   "metadata": {},
   "outputs": [
    {
     "data": {
      "text/plain": [
       "'gniog'"
      ]
     },
     "execution_count": 21,
     "metadata": {},
     "output_type": "execute_result"
    }
   ],
   "source": [
    "s[-1:-6:-1]"
   ]
  },
  {
   "cell_type": "code",
   "execution_count": 22,
   "id": "952b9e77",
   "metadata": {},
   "outputs": [
    {
     "data": {
      "text/plain": [
       "'gniog stahw uoy era woh teerprah olleh'"
      ]
     },
     "execution_count": 22,
     "metadata": {},
     "output_type": "execute_result"
    }
   ],
   "source": [
    "s[-1::-1]"
   ]
  },
  {
   "cell_type": "code",
   "execution_count": 23,
   "id": "1eab59f1",
   "metadata": {},
   "outputs": [
    {
     "data": {
      "text/plain": [
       "'hello harpreet how are you whats going'"
      ]
     },
     "execution_count": 23,
     "metadata": {},
     "output_type": "execute_result"
    }
   ],
   "source": [
    "s"
   ]
  },
  {
   "cell_type": "code",
   "execution_count": 24,
   "id": "5622d006",
   "metadata": {},
   "outputs": [
    {
     "name": "stdout",
     "output_type": "stream",
     "text": [
      "Object `casefold` not found.\n"
     ]
    }
   ],
   "source": [
    "casefold?"
   ]
  },
  {
   "cell_type": "code",
   "execution_count": 32,
   "id": "4fe44caf",
   "metadata": {},
   "outputs": [],
   "source": [
    "s.casefold?"
   ]
  },
  {
   "cell_type": "code",
   "execution_count": 26,
   "id": "690daf0c",
   "metadata": {},
   "outputs": [],
   "source": [
    "a=\"harpreet\""
   ]
  },
  {
   "cell_type": "code",
   "execution_count": 27,
   "id": "abfbf3f7",
   "metadata": {},
   "outputs": [
    {
     "name": "stdout",
     "output_type": "stream",
     "text": [
      "<built-in method casefold of str object at 0x000001F15EDA4630>\n"
     ]
    }
   ],
   "source": [
    "print(a.casefold)"
   ]
  },
  {
   "cell_type": "code",
   "execution_count": 28,
   "id": "396b7f07",
   "metadata": {},
   "outputs": [
    {
     "data": {
      "text/plain": [
       "<function str.casefold()>"
      ]
     },
     "execution_count": 28,
     "metadata": {},
     "output_type": "execute_result"
    }
   ],
   "source": [
    "a.casefold"
   ]
  },
  {
   "cell_type": "code",
   "execution_count": 29,
   "id": "108c7c94",
   "metadata": {},
   "outputs": [],
   "source": [
    "txt = \"Hello, And Welcome To My World!\""
   ]
  },
  {
   "cell_type": "code",
   "execution_count": 30,
   "id": "d6a1549c",
   "metadata": {},
   "outputs": [],
   "source": [
    "x=txt.casefold()"
   ]
  },
  {
   "cell_type": "code",
   "execution_count": 31,
   "id": "95a483cc",
   "metadata": {},
   "outputs": [
    {
     "name": "stdout",
     "output_type": "stream",
     "text": [
      "hello, and welcome to my world!\n"
     ]
    }
   ],
   "source": [
    "print(x)"
   ]
  },
  {
   "cell_type": "code",
   "execution_count": 33,
   "id": "9bf7036e",
   "metadata": {},
   "outputs": [],
   "source": [
    "s.encode?"
   ]
  },
  {
   "cell_type": "code",
   "execution_count": 40,
   "id": "4d194ae1",
   "metadata": {},
   "outputs": [],
   "source": [
    "txt=\"how are You Ståle?\""
   ]
  },
  {
   "cell_type": "code",
   "execution_count": 41,
   "id": "bd278c2f",
   "metadata": {},
   "outputs": [],
   "source": [
    "b=txt.encode()"
   ]
  },
  {
   "cell_type": "code",
   "execution_count": 42,
   "id": "aca61585",
   "metadata": {},
   "outputs": [
    {
     "name": "stdout",
     "output_type": "stream",
     "text": [
      "b'how are You St\\xc3\\xa5le?'\n"
     ]
    }
   ],
   "source": [
    "print(b)"
   ]
  },
  {
   "cell_type": "markdown",
   "id": "4d26bd89",
   "metadata": {},
   "source": [
    "# encoding\tOptional. A String specifying the encoding to use. Default is UTF-8\n",
    "#errors\tOptional. A String specifying the error method. Legal values are:\n",
    "'backslashreplace'\t- uses a backslash instead of the character that could not be encoded\n",
    "'ignore'\t- ignores the characters that cannot be encoded\n",
    "'namereplace'\t- replaces the character with a text explaining the character\n",
    "'strict'\t- Default, raises an error on failure\n",
    "'replace'\t- replaces the character with a questionmark\n",
    "'xmlcharrefreplace'\t- replaces the character with an xml character"
   ]
  },
  {
   "cell_type": "code",
   "execution_count": 47,
   "id": "2666e84d",
   "metadata": {},
   "outputs": [
    {
     "name": "stdout",
     "output_type": "stream",
     "text": [
      "b'how are You St\\\\xe5le?'\n",
      "b'how are You Stle?'\n",
      "b'how are You St\\\\N{LATIN SMALL LETTER A WITH RING ABOVE}le?'\n",
      "b'how are You St?le?'\n",
      "b'how are You St&#229;le?'\n"
     ]
    }
   ],
   "source": [
    "print(txt.encode(encoding=\"ascii\",errors=\"backslashreplace\"))\n",
    "print(txt.encode(encoding=\"ascii\",errors=\"ignore\"))\n",
    "print(txt.encode(encoding=\"ascii\",errors=\"namereplace\"))\n",
    "print(txt.encode(encoding=\"ascii\",errors=\"replace\"))\n",
    "print(txt.encode(encoding=\"ascii\",errors=\"xmlcharrefreplace\"))"
   ]
  },
  {
   "cell_type": "code",
   "execution_count": null,
   "id": "c7e94e3b",
   "metadata": {},
   "outputs": [],
   "source": [
    "# s.endswith? #To check specific letter ends a string or not"
   ]
  },
  {
   "cell_type": "code",
   "execution_count": 50,
   "id": "a7303ef5",
   "metadata": {},
   "outputs": [],
   "source": [
    "a=\"Hello, welcome to my world.\""
   ]
  },
  {
   "cell_type": "code",
   "execution_count": 51,
   "id": "19eab620",
   "metadata": {},
   "outputs": [],
   "source": [
    "b=a.endswith(\".\")"
   ]
  },
  {
   "cell_type": "code",
   "execution_count": 52,
   "id": "6ca12314",
   "metadata": {},
   "outputs": [
    {
     "data": {
      "text/plain": [
       "True"
      ]
     },
     "execution_count": 52,
     "metadata": {},
     "output_type": "execute_result"
    }
   ],
   "source": [
    "b"
   ]
  },
  {
   "cell_type": "code",
   "execution_count": 53,
   "id": "7749b823",
   "metadata": {},
   "outputs": [],
   "source": [
    "s.format_map?"
   ]
  },
  {
   "cell_type": "code",
   "execution_count": 54,
   "id": "8c06387b",
   "metadata": {},
   "outputs": [],
   "source": [
    "x=\"heyy harpreet what are you doing?\""
   ]
  },
  {
   "cell_type": "code",
   "execution_count": 58,
   "id": "5582c928",
   "metadata": {},
   "outputs": [],
   "source": [
    "a=x.format_map(2)"
   ]
  },
  {
   "cell_type": "code",
   "execution_count": 59,
   "id": "9f64c870",
   "metadata": {},
   "outputs": [
    {
     "data": {
      "text/plain": [
       "'heyy harpreet what are you doing?'"
      ]
     },
     "execution_count": 59,
     "metadata": {},
     "output_type": "execute_result"
    }
   ],
   "source": [
    "a"
   ]
  },
  {
   "cell_type": "code",
   "execution_count": 60,
   "id": "db88eca9",
   "metadata": {},
   "outputs": [],
   "source": [
    "s.find?"
   ]
  },
  {
   "cell_type": "code",
   "execution_count": 61,
   "id": "c9bb6d5c",
   "metadata": {},
   "outputs": [],
   "source": [
    "a=\"hello buddy whatsapp\""
   ]
  },
  {
   "cell_type": "code",
   "execution_count": 67,
   "id": "e7fc9449",
   "metadata": {},
   "outputs": [],
   "source": [
    "b=a.find(\"buddy\")"
   ]
  },
  {
   "cell_type": "code",
   "execution_count": 68,
   "id": "7e5e4b71",
   "metadata": {},
   "outputs": [
    {
     "data": {
      "text/plain": [
       "6"
      ]
     },
     "execution_count": 68,
     "metadata": {},
     "output_type": "execute_result"
    }
   ],
   "source": [
    "b"
   ]
  },
  {
   "cell_type": "code",
   "execution_count": 83,
   "id": "a31f1ce7",
   "metadata": {},
   "outputs": [],
   "source": [
    "a=\"how are you\""
   ]
  },
  {
   "cell_type": "code",
   "execution_count": 84,
   "id": "604cb0b8",
   "metadata": {},
   "outputs": [
    {
     "data": {
      "text/plain": [
       "True"
      ]
     },
     "execution_count": 84,
     "metadata": {},
     "output_type": "execute_result"
    }
   ],
   "source": [
    "a.isprintable()"
   ]
  },
  {
   "cell_type": "code",
   "execution_count": 89,
   "id": "3dfa173a",
   "metadata": {},
   "outputs": [],
   "source": [
    "s.isspace?"
   ]
  },
  {
   "cell_type": "code",
   "execution_count": 110,
   "id": "231180fb",
   "metadata": {},
   "outputs": [],
   "source": [
    "a=\"Hello fkjdjfkd \""
   ]
  },
  {
   "cell_type": "code",
   "execution_count": 105,
   "id": "b49947b1",
   "metadata": {},
   "outputs": [
    {
     "data": {
      "text/plain": [
       "False"
      ]
     },
     "execution_count": 105,
     "metadata": {},
     "output_type": "execute_result"
    }
   ],
   "source": [
    "a.isspace()"
   ]
  },
  {
   "cell_type": "code",
   "execution_count": 106,
   "id": "7e59bd52",
   "metadata": {},
   "outputs": [
    {
     "data": {
      "text/plain": [
       "False"
      ]
     },
     "execution_count": 106,
     "metadata": {},
     "output_type": "execute_result"
    }
   ],
   "source": [
    "a.istitle()"
   ]
  },
  {
   "cell_type": "code",
   "execution_count": 107,
   "id": "589e4348",
   "metadata": {},
   "outputs": [],
   "source": [
    "s.ljust?"
   ]
  },
  {
   "cell_type": "code",
   "execution_count": 113,
   "id": "aff70e95",
   "metadata": {},
   "outputs": [
    {
     "data": {
      "text/plain": [
       "'Hello fkjdjfkd '"
      ]
     },
     "execution_count": 113,
     "metadata": {},
     "output_type": "execute_result"
    }
   ],
   "source": [
    "a.ljust(0)"
   ]
  },
  {
   "cell_type": "code",
   "execution_count": null,
   "id": "be27f7f4",
   "metadata": {},
   "outputs": [],
   "source": []
  },
  {
   "cell_type": "code",
   "execution_count": null,
   "id": "ce00c822",
   "metadata": {},
   "outputs": [],
   "source": []
  }
 ],
 "metadata": {
  "kernelspec": {
   "display_name": "Python 3 (ipykernel)",
   "language": "python",
   "name": "python3"
  },
  "language_info": {
   "codemirror_mode": {
    "name": "ipython",
    "version": 3
   },
   "file_extension": ".py",
   "mimetype": "text/x-python",
   "name": "python",
   "nbconvert_exporter": "python",
   "pygments_lexer": "ipython3",
   "version": "3.9.7"
  }
 },
 "nbformat": 4,
 "nbformat_minor": 5
}
