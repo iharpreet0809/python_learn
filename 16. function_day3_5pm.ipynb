{
 "cells": [
  {
   "cell_type": "code",
   "execution_count": 1,
   "id": "dd1bfed8",
   "metadata": {},
   "outputs": [],
   "source": [
    "# my_range function copy of python predefine range function"
   ]
  },
  {
   "cell_type": "code",
   "execution_count": 3,
   "id": "b36fc1aa",
   "metadata": {},
   "outputs": [
    {
     "data": {
      "text/plain": [
       "[0, 1, 2, 3, 4, 5, 6, 7, 8, 9, 10, 11, 12, 13, 14]"
      ]
     },
     "execution_count": 3,
     "metadata": {},
     "output_type": "execute_result"
    }
   ],
   "source": [
    "list(range(15))  # if i passed single parameter .... range will start from zero \n"
   ]
  },
  {
   "cell_type": "code",
   "execution_count": 5,
   "id": "5e8f878d",
   "metadata": {},
   "outputs": [
    {
     "data": {
      "text/plain": [
       "[10, 11, 12, 13, 14, 15, 16, 17, 18, 19]"
      ]
     },
     "execution_count": 5,
     "metadata": {},
     "output_type": "execute_result"
    }
   ],
   "source": [
    "list(range(10,20))# start----> 1st para"
   ]
  },
  {
   "cell_type": "code",
   "execution_count": 30,
   "id": "c92d01bb",
   "metadata": {},
   "outputs": [
    {
     "data": {
      "text/plain": [
       "[-10, -11, -12, -13, -14, -15, -16, -17, -18, -19]"
      ]
     },
     "execution_count": 30,
     "metadata": {},
     "output_type": "execute_result"
    }
   ],
   "source": [
    "list(range(-10,-20,-1))"
   ]
  },
  {
   "cell_type": "code",
   "execution_count": 49,
   "id": "d9aa8c09",
   "metadata": {},
   "outputs": [],
   "source": [
    "def my_range(*a):\n",
    "    para=list(a)\n",
    "    if len(para)==1:\n",
    "        start=0\n",
    "        end=para[0]\n",
    "        while start<end:\n",
    "            yield start\n",
    "            start+=1\n",
    "    elif len(para)==2:\n",
    "        start=para[0]\n",
    "        end=para[1]\n",
    "        while start<end:\n",
    "            yield start\n",
    "            start+=1\n",
    "    elif len(para)==3:\n",
    "        start=para[0]\n",
    "        end=para[1]\n",
    "        step=para[2]\n",
    "        if step<0:\n",
    "            while start>end:\n",
    "                yield start\n",
    "                start+=step\n",
    "        else:\n",
    "            while start<end:\n",
    "                yield start\n",
    "                start+=step\n",
    "            "
   ]
  },
  {
   "cell_type": "code",
   "execution_count": 26,
   "id": "929aee76",
   "metadata": {},
   "outputs": [
    {
     "data": {
      "text/plain": [
       "[0, 1, 2, 3, 4, 5, 6, 7, 8, 9]"
      ]
     },
     "execution_count": 26,
     "metadata": {},
     "output_type": "execute_result"
    }
   ],
   "source": [
    "list(my_range(10))"
   ]
  },
  {
   "cell_type": "code",
   "execution_count": 27,
   "id": "783e73db",
   "metadata": {},
   "outputs": [],
   "source": [
    "p=[10,20]"
   ]
  },
  {
   "cell_type": "code",
   "execution_count": 28,
   "id": "994846c1",
   "metadata": {},
   "outputs": [
    {
     "data": {
      "text/plain": [
       "10"
      ]
     },
     "execution_count": 28,
     "metadata": {},
     "output_type": "execute_result"
    }
   ],
   "source": [
    "p[0]"
   ]
  },
  {
   "cell_type": "code",
   "execution_count": 29,
   "id": "5c218465",
   "metadata": {},
   "outputs": [
    {
     "data": {
      "text/plain": [
       "20"
      ]
     },
     "execution_count": 29,
     "metadata": {},
     "output_type": "execute_result"
    }
   ],
   "source": [
    "p[1]"
   ]
  },
  {
   "cell_type": "code",
   "execution_count": 42,
   "id": "4cc2e8c7",
   "metadata": {},
   "outputs": [
    {
     "data": {
      "text/plain": [
       "[-20, -22, -24, -26, -28]"
      ]
     },
     "execution_count": 42,
     "metadata": {},
     "output_type": "execute_result"
    }
   ],
   "source": [
    "list(range(-20,-30,-2))"
   ]
  },
  {
   "cell_type": "code",
   "execution_count": 43,
   "id": "b00c4ef2",
   "metadata": {},
   "outputs": [
    {
     "data": {
      "text/plain": [
       "[-20, -22, -24, -26, -28]"
      ]
     },
     "execution_count": 43,
     "metadata": {},
     "output_type": "execute_result"
    }
   ],
   "source": [
    "list(my_range(-20,-30,-2))"
   ]
  },
  {
   "cell_type": "code",
   "execution_count": 52,
   "id": "399077ec",
   "metadata": {},
   "outputs": [
    {
     "name": "stdout",
     "output_type": "stream",
     "text": [
      "10\n",
      "13\n",
      "16\n",
      "19\n",
      "22\n"
     ]
    }
   ],
   "source": [
    "for i in my_range(10,25,3):\n",
    "    print(i)"
   ]
  },
  {
   "cell_type": "markdown",
   "id": "c55a6f65",
   "metadata": {},
   "source": [
    "# Bank Application"
   ]
  },
  {
   "cell_type": "markdown",
   "id": "d75a4ef9",
   "metadata": {},
   "source": [
    "                            main------> Login , Signup, exit\n",
    "                            Signup---> user entry(name, email, ph, bal,pasword,userid)---->\n",
    "                                    #HOW TO GENERATE OTP IN PYTHON\n",
    "                                    #HOW TO SEND MAIL IN PYTHON\n",
    "                            Login-----> userid , password ----> match in database----> w'll provide services(debit , credit, balance info, password reset)\n",
    "                                `\n",
    "                            "
   ]
  },
  {
   "cell_type": "code",
   "execution_count": 53,
   "id": "6d10b7a2",
   "metadata": {},
   "outputs": [],
   "source": [
    "# otp-----> 4 digit | 6 digit ----> random number from 0 to 9 "
   ]
  },
  {
   "cell_type": "code",
   "execution_count": 54,
   "id": "b2da8916",
   "metadata": {},
   "outputs": [],
   "source": [
    "import random"
   ]
  },
  {
   "cell_type": "code",
   "execution_count": 55,
   "id": "13eac91e",
   "metadata": {},
   "outputs": [
    {
     "name": "stdout",
     "output_type": "stream",
     "text": [
      "['BPF', 'LOG4', 'NV_MAGICCONST', 'RECIP_BPF', 'Random', 'SG_MAGICCONST', 'SystemRandom', 'TWOPI', '_Sequence', '_Set', '__all__', '__builtins__', '__cached__', '__doc__', '__file__', '__loader__', '__name__', '__package__', '__spec__', '_accumulate', '_acos', '_bisect', '_ceil', '_cos', '_e', '_exp', '_floor', '_inst', '_log', '_os', '_pi', '_random', '_repeat', '_sha512', '_sin', '_sqrt', '_test', '_test_generator', '_urandom', '_warn', 'betavariate', 'choice', 'choices', 'expovariate', 'gammavariate', 'gauss', 'getrandbits', 'getstate', 'lognormvariate', 'normalvariate', 'paretovariate', 'randbytes', 'randint', 'random', 'randrange', 'sample', 'seed', 'setstate', 'shuffle', 'triangular', 'uniform', 'vonmisesvariate', 'weibullvariate']\n"
     ]
    }
   ],
   "source": [
    "print(dir(random))"
   ]
  },
  {
   "cell_type": "code",
   "execution_count": 62,
   "id": "4c6023c9",
   "metadata": {},
   "outputs": [
    {
     "data": {
      "text/plain": [
       "29"
      ]
     },
     "execution_count": 62,
     "metadata": {},
     "output_type": "execute_result"
    }
   ],
   "source": [
    "random.randint(10,30)"
   ]
  },
  {
   "cell_type": "code",
   "execution_count": 69,
   "id": "1be21255",
   "metadata": {},
   "outputs": [
    {
     "data": {
      "text/plain": [
       "0.8402326665458417"
      ]
     },
     "execution_count": 69,
     "metadata": {},
     "output_type": "execute_result"
    }
   ],
   "source": [
    "random.random()"
   ]
  },
  {
   "cell_type": "code",
   "execution_count": 70,
   "id": "5d68da88",
   "metadata": {},
   "outputs": [],
   "source": [
    "random.choice?"
   ]
  },
  {
   "cell_type": "code",
   "execution_count": 71,
   "id": "fcec46ad",
   "metadata": {},
   "outputs": [],
   "source": [
    "p=['om','shan','manish','sachin','harpreet','simran','ravi','shahrukh']\n",
    "# seq------> it will be list or tuple or string or range()"
   ]
  },
  {
   "cell_type": "code",
   "execution_count": 80,
   "id": "6e181773",
   "metadata": {},
   "outputs": [
    {
     "data": {
      "text/plain": [
       "'shahrukh'"
      ]
     },
     "execution_count": 80,
     "metadata": {},
     "output_type": "execute_result"
    }
   ],
   "source": [
    "random.choice(p)"
   ]
  },
  {
   "cell_type": "code",
   "execution_count": 83,
   "id": "781ac10e",
   "metadata": {},
   "outputs": [],
   "source": [
    "random.shuffle(p)"
   ]
  },
  {
   "cell_type": "code",
   "execution_count": 84,
   "id": "76c59215",
   "metadata": {},
   "outputs": [
    {
     "data": {
      "text/plain": [
       "['simran', 'om', 'harpreet', 'manish', 'sachin', 'ravi', 'shahrukh', 'shan']"
      ]
     },
     "execution_count": 84,
     "metadata": {},
     "output_type": "execute_result"
    }
   ],
   "source": [
    "p"
   ]
  },
  {
   "cell_type": "code",
   "execution_count": 114,
   "id": "bda99860",
   "metadata": {},
   "outputs": [],
   "source": [
    "def otp():\n",
    "    o=''\n",
    "    for i in range(4):\n",
    "        o=o+str(random.randint(0,9))\n",
    "\n",
    "    return o"
   ]
  },
  {
   "cell_type": "code",
   "execution_count": 115,
   "id": "6f91bbc6",
   "metadata": {},
   "outputs": [
    {
     "data": {
      "text/plain": [
       "'2617'"
      ]
     },
     "execution_count": 115,
     "metadata": {},
     "output_type": "execute_result"
    }
   ],
   "source": [
    "otp()"
   ]
  },
  {
   "cell_type": "code",
   "execution_count": null,
   "id": "de21befb",
   "metadata": {},
   "outputs": [],
   "source": []
  }
 ],
 "metadata": {
  "kernelspec": {
   "display_name": "Python 3 (ipykernel)",
   "language": "python",
   "name": "python3"
  },
  "language_info": {
   "codemirror_mode": {
    "name": "ipython",
    "version": 3
   },
   "file_extension": ".py",
   "mimetype": "text/x-python",
   "name": "python",
   "nbconvert_exporter": "python",
   "pygments_lexer": "ipython3",
   "version": "3.9.6"
  }
 },
 "nbformat": 4,
 "nbformat_minor": 5
}
