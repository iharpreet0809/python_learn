{
 "cells": [
  {
   "cell_type": "markdown",
   "id": "056ca35a",
   "metadata": {},
   "source": [
    "                \n",
    "                data transfer-----> chat app\n",
    "               \n",
    "                server(connection) <-------> client(connection)       \n",
    "                \n",
    "                \n",
    "                \n",
    "                \n",
    "                connection------>hostname,port\n",
    "                \n",
    "                \n",
    "                "
   ]
  },
  {
   "cell_type": "code",
   "execution_count": 1,
   "id": "bfa75abf",
   "metadata": {},
   "outputs": [],
   "source": [
    "import socket"
   ]
  },
  {
   "cell_type": "code",
   "execution_count": 2,
   "id": "37d40624",
   "metadata": {},
   "outputs": [
    {
     "data": {
      "text/plain": [
       "'DESKTOP-DJJ079G'"
      ]
     },
     "execution_count": 2,
     "metadata": {},
     "output_type": "execute_result"
    }
   ],
   "source": [
    "socket.gethostname() "
   ]
  },
  {
   "cell_type": "code",
   "execution_count": 3,
   "id": "a2a046ef",
   "metadata": {},
   "outputs": [],
   "source": [
    "#port ----12345"
   ]
  },
  {
   "cell_type": "code",
   "execution_count": 4,
   "id": "869e1fbd",
   "metadata": {},
   "outputs": [],
   "source": [
    "#server"
   ]
  },
  {
   "cell_type": "code",
   "execution_count": 10,
   "id": "b087d50f",
   "metadata": {},
   "outputs": [
    {
     "name": "stdout",
     "output_type": "stream",
     "text": [
      "connected\n",
      "Enter msg: hello client\n",
      "hello server\n"
     ]
    }
   ],
   "source": [
    "import socket\n",
    "connection=socket.socket()\n",
    "connection.bind(('DESKTOP-DJJ079G',1234))\n",
    "connection.listen(1)\n",
    "c_con,c_add=connection.accept()\n",
    "print('connected')\n",
    "msg=input('Enter msg: ')\n",
    "c_con.send(msg.encode())\n",
    "d1=c_con.recv(1024)\n",
    "print(d1.decode())"
   ]
  },
  {
   "cell_type": "code",
   "execution_count": 6,
   "id": "330a0f46",
   "metadata": {},
   "outputs": [
    {
     "name": "stdout",
     "output_type": "stream",
     "text": [
      "<socket.socket fd=1200, family=AddressFamily.AF_INET, type=SocketKind.SOCK_STREAM, proto=0, laddr=('192.168.253.1', 1234), raddr=('192.168.253.1', 50617)>\n"
     ]
    }
   ],
   "source": [
    "print(c_con)"
   ]
  },
  {
   "cell_type": "code",
   "execution_count": 7,
   "id": "c284df80",
   "metadata": {},
   "outputs": [
    {
     "name": "stdout",
     "output_type": "stream",
     "text": [
      "('192.168.253.1', 50617)\n"
     ]
    }
   ],
   "source": [
    "print(c_add)"
   ]
  },
  {
   "cell_type": "code",
   "execution_count": 8,
   "id": "640c4866",
   "metadata": {},
   "outputs": [
    {
     "data": {
      "text/plain": [
       "'192.168.253.1'"
      ]
     },
     "execution_count": 8,
     "metadata": {},
     "output_type": "execute_result"
    }
   ],
   "source": [
    "socket.gethostbyname('DESKTOP-DJJ079G')"
   ]
  },
  {
   "cell_type": "code",
   "execution_count": 3,
   "id": "340cd939",
   "metadata": {},
   "outputs": [
    {
     "name": "stdout",
     "output_type": "stream",
     "text": [
      "Overwriting server_5pm.py\n"
     ]
    }
   ],
   "source": [
    "%%writefile server_5pm.py\n",
    "import socket\n",
    "connection=socket.socket()\n",
    "connection.bind(('DESKTOP-DJJ079G',12345))\n",
    "connection.listen(1)\n",
    "c_con,c_add=connection.accept()\n",
    "while True:\n",
    "    msg=input('Enter msg: ')\n",
    "    c_con.send(msg.encode())\n",
    "    if msg=='bye':\n",
    "        break\n",
    "    d1=c_con.recv(1024)\n",
    "    print(d1.decode())\n",
    "    if d1.decode()=='bye':\n",
    "        break"
   ]
  },
  {
   "cell_type": "code",
   "execution_count": null,
   "id": "f3347a90",
   "metadata": {},
   "outputs": [],
   "source": []
  }
 ],
 "metadata": {
  "kernelspec": {
   "display_name": "Python 3 (ipykernel)",
   "language": "python",
   "name": "python3"
  },
  "language_info": {
   "codemirror_mode": {
    "name": "ipython",
    "version": 3
   },
   "file_extension": ".py",
   "mimetype": "text/x-python",
   "name": "python",
   "nbconvert_exporter": "python",
   "pygments_lexer": "ipython3",
   "version": "3.9.6"
  }
 },
 "nbformat": 4,
 "nbformat_minor": 5
}
