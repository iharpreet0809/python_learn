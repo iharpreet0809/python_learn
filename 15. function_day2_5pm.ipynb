{
 "cells": [
  {
   "cell_type": "code",
   "execution_count": 1,
   "id": "197da33c",
   "metadata": {},
   "outputs": [],
   "source": [
    "# userdefine function"
   ]
  },
  {
   "cell_type": "code",
   "execution_count": 2,
   "id": "b6a642c8",
   "metadata": {},
   "outputs": [],
   "source": [
    "#1. function definition\n",
    "# Optional function docstring\n",
    "#2. function suite\n",
    "#3. return statement\n",
    "#4. function calling"
   ]
  },
  {
   "cell_type": "code",
   "execution_count": 3,
   "id": "f073d994",
   "metadata": {},
   "outputs": [],
   "source": [
    "print?"
   ]
  },
  {
   "cell_type": "code",
   "execution_count": 4,
   "id": "e8499604",
   "metadata": {},
   "outputs": [],
   "source": [
    "def function_name():   # function definition\n",
    "    '''this is simple function''' #function docstring\n",
    "    a=int(input('Enter a: '))\n",
    "    b=int(input('Enter b: '))\n",
    "    c=a+b\n",
    "    return c"
   ]
  },
  {
   "cell_type": "code",
   "execution_count": 6,
   "id": "e548efe8",
   "metadata": {},
   "outputs": [
    {
     "name": "stdout",
     "output_type": "stream",
     "text": [
      "Enter a: 30\n",
      "Enter b: 40\n"
     ]
    },
    {
     "data": {
      "text/plain": [
       "70"
      ]
     },
     "execution_count": 6,
     "metadata": {},
     "output_type": "execute_result"
    }
   ],
   "source": [
    "function_name()   #function calling"
   ]
  },
  {
   "cell_type": "code",
   "execution_count": 7,
   "id": "b0f32045",
   "metadata": {},
   "outputs": [],
   "source": [
    "def add():   # function definition\n",
    "    '''this is simple function''' #function docstring\n",
    "    a=int(input('Enter a: '))\n",
    "    b=int(input('Enter b: '))\n",
    "    c=a+b\n",
    "    return c"
   ]
  },
  {
   "cell_type": "code",
   "execution_count": 8,
   "id": "2e33ea43",
   "metadata": {},
   "outputs": [],
   "source": [
    "def add1():   # function definition\n",
    "    '''this is simple function''' #function docstring\n",
    "    a=int(input('Enter a: '))\n",
    "    b=int(input('Enter b: '))\n",
    "    c=a+b\n",
    "    print(c)"
   ]
  },
  {
   "cell_type": "code",
   "execution_count": 9,
   "id": "01d6b48c",
   "metadata": {},
   "outputs": [
    {
     "name": "stdout",
     "output_type": "stream",
     "text": [
      "Enter a: 20\n",
      "Enter b: 30\n"
     ]
    },
    {
     "data": {
      "text/plain": [
       "50"
      ]
     },
     "execution_count": 9,
     "metadata": {},
     "output_type": "execute_result"
    }
   ],
   "source": [
    "add()"
   ]
  },
  {
   "cell_type": "code",
   "execution_count": 10,
   "id": "7cdd2ca0",
   "metadata": {},
   "outputs": [
    {
     "name": "stdout",
     "output_type": "stream",
     "text": [
      "Enter a: 20\n",
      "Enter b: 30\n",
      "50\n"
     ]
    }
   ],
   "source": [
    "add1()"
   ]
  },
  {
   "cell_type": "code",
   "execution_count": 11,
   "id": "01005ddf",
   "metadata": {},
   "outputs": [
    {
     "name": "stdout",
     "output_type": "stream",
     "text": [
      "Enter a: 10\n",
      "Enter b: 20\n"
     ]
    }
   ],
   "source": [
    "x=add()"
   ]
  },
  {
   "cell_type": "code",
   "execution_count": 12,
   "id": "7fb4db47",
   "metadata": {},
   "outputs": [
    {
     "name": "stdout",
     "output_type": "stream",
     "text": [
      "Enter a: 10\n",
      "Enter b: 20\n",
      "30\n"
     ]
    }
   ],
   "source": [
    "y=add1()"
   ]
  },
  {
   "cell_type": "code",
   "execution_count": 13,
   "id": "9a24484c",
   "metadata": {},
   "outputs": [
    {
     "name": "stdout",
     "output_type": "stream",
     "text": [
      "30\n"
     ]
    }
   ],
   "source": [
    "print(x)"
   ]
  },
  {
   "cell_type": "code",
   "execution_count": 14,
   "id": "ee5614f8",
   "metadata": {},
   "outputs": [
    {
     "name": "stdout",
     "output_type": "stream",
     "text": [
      "None\n"
     ]
    }
   ],
   "source": [
    "print(y)"
   ]
  },
  {
   "cell_type": "code",
   "execution_count": 37,
   "id": "c8b9ca43",
   "metadata": {},
   "outputs": [],
   "source": [
    "def greet():\n",
    "    import time\n",
    "    p=int(time.ctime().split()[3][:2])\n",
    "    if 6<=p<=12:\n",
    "        return 'good morning'\n",
    "    elif p<=18:\n",
    "        return 'good afternoon'\n",
    "    elif p<22:\n",
    "        return 'good evening'\n",
    "    else:\n",
    "        return 'good night'"
   ]
  },
  {
   "cell_type": "code",
   "execution_count": 38,
   "id": "587cb701",
   "metadata": {},
   "outputs": [
    {
     "data": {
      "text/plain": [
       "'good afternoon'"
      ]
     },
     "execution_count": 38,
     "metadata": {},
     "output_type": "execute_result"
    }
   ],
   "source": [
    "greet()"
   ]
  },
  {
   "cell_type": "code",
   "execution_count": 31,
   "id": "ee080528",
   "metadata": {},
   "outputs": [],
   "source": [
    "import time"
   ]
  },
  {
   "cell_type": "code",
   "execution_count": 36,
   "id": "910cf7d6",
   "metadata": {},
   "outputs": [
    {
     "data": {
      "text/plain": [
       "17"
      ]
     },
     "execution_count": 36,
     "metadata": {},
     "output_type": "execute_result"
    }
   ],
   "source": [
    "int(time.ctime().split()[3][:2])"
   ]
  },
  {
   "cell_type": "code",
   "execution_count": 39,
   "id": "388009f0",
   "metadata": {},
   "outputs": [],
   "source": [
    "# arguments| parameter"
   ]
  },
  {
   "cell_type": "code",
   "execution_count": 40,
   "id": "f506b49e",
   "metadata": {},
   "outputs": [],
   "source": [
    "print?"
   ]
  },
  {
   "cell_type": "code",
   "execution_count": 41,
   "id": "ce8c2375",
   "metadata": {},
   "outputs": [],
   "source": [
    "# 1. positional\n",
    "# 2. default\n",
    "# 3. keyword argument"
   ]
  },
  {
   "cell_type": "code",
   "execution_count": 42,
   "id": "96ae9721",
   "metadata": {},
   "outputs": [],
   "source": [
    "# 1. posotional argument"
   ]
  },
  {
   "cell_type": "code",
   "execution_count": 43,
   "id": "b18695b9",
   "metadata": {},
   "outputs": [],
   "source": [
    "def add(a,b):  # here a and b are positional parameter or argument\n",
    "    print('value of a: ',a)\n",
    "    print('value of b: ',b)\n",
    "    return a+b\n"
   ]
  },
  {
   "cell_type": "code",
   "execution_count": 48,
   "id": "1285934a",
   "metadata": {},
   "outputs": [
    {
     "name": "stdout",
     "output_type": "stream",
     "text": [
      "value of a:  20\n",
      "value of b:  5\n"
     ]
    },
    {
     "data": {
      "text/plain": [
       "25"
      ]
     },
     "execution_count": 48,
     "metadata": {},
     "output_type": "execute_result"
    }
   ],
   "source": [
    "add(20,5)"
   ]
  },
  {
   "cell_type": "code",
   "execution_count": 57,
   "id": "4fc292f2",
   "metadata": {},
   "outputs": [],
   "source": [
    "def add(c=5,d=1):\n",
    "    print('value of c: ',c)\n",
    "    print('value of d: ',d)\n",
    "    return c+d"
   ]
  },
  {
   "cell_type": "code",
   "execution_count": 52,
   "id": "d6a0657e",
   "metadata": {},
   "outputs": [
    {
     "name": "stdout",
     "output_type": "stream",
     "text": [
      "value of c:  5\n",
      "value of d:  20\n"
     ]
    },
    {
     "data": {
      "text/plain": [
       "25"
      ]
     },
     "execution_count": 52,
     "metadata": {},
     "output_type": "execute_result"
    }
   ],
   "source": [
    "add(d=20)"
   ]
  },
  {
   "cell_type": "code",
   "execution_count": 53,
   "id": "c33fbe34",
   "metadata": {},
   "outputs": [],
   "source": [
    "# positional keyword argument"
   ]
  },
  {
   "cell_type": "code",
   "execution_count": 65,
   "id": "cd83ebe3",
   "metadata": {},
   "outputs": [],
   "source": [
    "def add(*a):\n",
    "    return print(a)"
   ]
  },
  {
   "cell_type": "code",
   "execution_count": 56,
   "id": "31505378",
   "metadata": {},
   "outputs": [
    {
     "name": "stdout",
     "output_type": "stream",
     "text": [
      "[1, 2, 3, 56]\n"
     ]
    },
    {
     "data": {
      "text/plain": [
       "62"
      ]
     },
     "execution_count": 56,
     "metadata": {},
     "output_type": "execute_result"
    }
   ],
   "source": [
    "add(1,2,3,56)"
   ]
  },
  {
   "cell_type": "code",
   "execution_count": 58,
   "id": "cc311e14",
   "metadata": {},
   "outputs": [
    {
     "name": "stdout",
     "output_type": "stream",
     "text": [
      "40\n",
      "50\n",
      "value of c:  40\n",
      "value of d:  50\n"
     ]
    },
    {
     "data": {
      "text/plain": [
       "90"
      ]
     },
     "execution_count": 58,
     "metadata": {},
     "output_type": "execute_result"
    }
   ],
   "source": [
    "add(c=int(input()),d=int(input()))"
   ]
  },
  {
   "cell_type": "code",
   "execution_count": 66,
   "id": "1a7c2eac",
   "metadata": {},
   "outputs": [
    {
     "name": "stdout",
     "output_type": "stream",
     "text": [
      "3\n",
      "45\n",
      "23\n",
      "12\n",
      "([45, 23, 12],)\n"
     ]
    }
   ],
   "source": [
    "n=int(input('enter number: '))\n",
    "l=[]\n",
    "for i in range(n):\n",
    "    r=int(input())\n",
    "    l.append(r)\n",
    "add(l)"
   ]
  },
  {
   "cell_type": "code",
   "execution_count": 67,
   "id": "0ecfc89a",
   "metadata": {},
   "outputs": [],
   "source": [
    "# range()"
   ]
  },
  {
   "cell_type": "code",
   "execution_count": 68,
   "id": "b42c06bc",
   "metadata": {},
   "outputs": [
    {
     "data": {
      "text/plain": [
       "range(0, 10)"
      ]
     },
     "execution_count": 68,
     "metadata": {},
     "output_type": "execute_result"
    }
   ],
   "source": [
    "range(10)"
   ]
  },
  {
   "cell_type": "code",
   "execution_count": 69,
   "id": "c89f98f0",
   "metadata": {},
   "outputs": [
    {
     "data": {
      "text/plain": [
       "[0, 1, 2, 3, 4, 5, 6, 7, 8, 9]"
      ]
     },
     "execution_count": 69,
     "metadata": {},
     "output_type": "execute_result"
    }
   ],
   "source": [
    "list(range(10))"
   ]
  },
  {
   "cell_type": "code",
   "execution_count": 74,
   "id": "ac5386e2",
   "metadata": {},
   "outputs": [
    {
     "data": {
      "text/plain": [
       "(10, 13, 16, 19)"
      ]
     },
     "execution_count": 74,
     "metadata": {},
     "output_type": "execute_result"
    }
   ],
   "source": [
    "tuple(range(10,20,3))"
   ]
  },
  {
   "cell_type": "code",
   "execution_count": null,
   "id": "0b79a86f",
   "metadata": {},
   "outputs": [],
   "source": [
    "my_range()"
   ]
  }
 ],
 "metadata": {
  "kernelspec": {
   "display_name": "Python 3 (ipykernel)",
   "language": "python",
   "name": "python3"
  },
  "language_info": {
   "codemirror_mode": {
    "name": "ipython",
    "version": 3
   },
   "file_extension": ".py",
   "mimetype": "text/x-python",
   "name": "python",
   "nbconvert_exporter": "python",
   "pygments_lexer": "ipython3",
   "version": "3.9.6"
  }
 },
 "nbformat": 4,
 "nbformat_minor": 5
}
