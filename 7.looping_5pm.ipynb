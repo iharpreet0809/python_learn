{
 "cells": [
  {
   "cell_type": "markdown",
   "id": "a1800db6",
   "metadata": {},
   "source": [
    "            loop\n",
    "            1. while loop\n",
    "            2. for loop\n",
    "          1. while loop :\n",
    "              1. initial \n",
    "              2. condition\n",
    "              3. statement | expression\n",
    "              4. increment | decrement"
   ]
  },
  {
   "cell_type": "code",
   "execution_count": 1,
   "id": "7361d630",
   "metadata": {},
   "outputs": [
    {
     "name": "stdout",
     "output_type": "stream",
     "text": [
      "1\n",
      "2\n",
      "3\n",
      "4\n",
      "5\n",
      "6\n",
      "7\n",
      "8\n",
      "9\n",
      "10\n",
      "11\n",
      "12\n",
      "13\n",
      "14\n",
      "15\n",
      "16\n",
      "17\n",
      "18\n",
      "19\n",
      "20\n",
      "21\n",
      "22\n",
      "23\n",
      "24\n",
      "25\n",
      "26\n",
      "27\n",
      "28\n",
      "29\n",
      "30\n",
      "31\n",
      "32\n",
      "33\n",
      "34\n",
      "35\n",
      "36\n",
      "37\n",
      "38\n",
      "39\n",
      "40\n",
      "41\n",
      "42\n",
      "43\n",
      "44\n",
      "45\n",
      "46\n",
      "47\n",
      "48\n",
      "49\n",
      "50\n",
      "51\n",
      "52\n",
      "53\n",
      "54\n",
      "55\n",
      "56\n",
      "57\n",
      "58\n",
      "59\n",
      "60\n",
      "61\n",
      "62\n",
      "63\n",
      "64\n",
      "65\n",
      "66\n",
      "67\n",
      "68\n",
      "69\n",
      "70\n",
      "71\n",
      "72\n",
      "73\n",
      "74\n",
      "75\n",
      "76\n",
      "77\n",
      "78\n",
      "79\n",
      "80\n",
      "81\n",
      "82\n",
      "83\n",
      "84\n",
      "85\n",
      "86\n",
      "87\n",
      "88\n",
      "89\n",
      "90\n",
      "91\n",
      "92\n",
      "93\n",
      "94\n",
      "95\n",
      "96\n",
      "97\n",
      "98\n",
      "99\n",
      "100\n"
     ]
    }
   ],
   "source": [
    "c=1\n",
    "while c<=100:\n",
    "    print(c)\n",
    "    c+=1"
   ]
  },
  {
   "cell_type": "code",
   "execution_count": 2,
   "id": "087b0cba",
   "metadata": {},
   "outputs": [],
   "source": [
    "#1 to 100 even"
   ]
  },
  {
   "cell_type": "code",
   "execution_count": 4,
   "id": "407f440c",
   "metadata": {},
   "outputs": [
    {
     "name": "stdout",
     "output_type": "stream",
     "text": [
      "2\n",
      "4\n",
      "6\n",
      "8\n",
      "10\n",
      "12\n",
      "14\n",
      "16\n",
      "18\n",
      "20\n",
      "22\n",
      "24\n",
      "26\n",
      "28\n",
      "30\n",
      "32\n",
      "34\n",
      "36\n",
      "38\n",
      "40\n",
      "42\n",
      "44\n",
      "46\n",
      "48\n",
      "50\n",
      "52\n",
      "54\n",
      "56\n",
      "58\n",
      "60\n",
      "62\n",
      "64\n",
      "66\n",
      "68\n",
      "70\n",
      "72\n",
      "74\n",
      "76\n",
      "78\n",
      "80\n",
      "82\n",
      "84\n",
      "86\n",
      "88\n",
      "90\n",
      "92\n",
      "94\n",
      "96\n",
      "98\n",
      "100\n"
     ]
    }
   ],
   "source": [
    "c=0\n",
    "while c<=100:\n",
    "    c+=1\n",
    "    if c%2==0:\n",
    "        print(c)\n",
    "    \n",
    "        "
   ]
  },
  {
   "cell_type": "code",
   "execution_count": 6,
   "id": "fd0eb4d7",
   "metadata": {},
   "outputs": [
    {
     "name": "stdout",
     "output_type": "stream",
     "text": [
      "Enter a number: 9\n",
      "9\n",
      "18\n",
      "27\n",
      "36\n",
      "45\n",
      "54\n",
      "63\n",
      "72\n",
      "81\n",
      "90\n"
     ]
    }
   ],
   "source": [
    "a=int(input('Enter a number: '))\n",
    "c=a\n",
    "while c<=a*10:\n",
    "    print(c)\n",
    "    c+=a\n",
    "    "
   ]
  },
  {
   "cell_type": "code",
   "execution_count": 7,
   "id": "12bf79ec",
   "metadata": {},
   "outputs": [],
   "source": [
    "# factorial \n",
    "fact(5)===5*4*3*2*1"
   ]
  },
  {
   "cell_type": "code",
   "execution_count": 10,
   "id": "2ce49fdc",
   "metadata": {},
   "outputs": [
    {
     "name": "stdout",
     "output_type": "stream",
     "text": [
      "Enter b: 7\n",
      "factorial of b is :  5040\n"
     ]
    }
   ],
   "source": [
    "b=int(input('Enter b: '))\n",
    "c=b\n",
    "s=1\n",
    "while c>=1:\n",
    "    s=s*c\n",
    "    c-=1\n",
    "print('factorial of b is : ',s)\n",
    "    \n",
    "    "
   ]
  },
  {
   "cell_type": "code",
   "execution_count": 12,
   "id": "a5aed458",
   "metadata": {},
   "outputs": [
    {
     "name": "stdout",
     "output_type": "stream",
     "text": [
      "Enter x: 100\n",
      "5050\n"
     ]
    }
   ],
   "source": [
    "x=int(input('Enter x: '))\n",
    "c=1\n",
    "s=0\n",
    "while c<=x:\n",
    "    s=s+c\n",
    "    c+=1\n",
    "print(s)\n",
    "    "
   ]
  },
  {
   "cell_type": "markdown",
   "id": "5fd47231",
   "metadata": {},
   "source": [
    "# Program to print the sum of digits of any number\n"
   ]
  },
  {
   "cell_type": "code",
   "execution_count": 17,
   "id": "333c6f92",
   "metadata": {},
   "outputs": [
    {
     "data": {
      "text/plain": [
       "3"
      ]
     },
     "execution_count": 17,
     "metadata": {},
     "output_type": "execute_result"
    }
   ],
   "source": [
    "123%10"
   ]
  },
  {
   "cell_type": "code",
   "execution_count": 18,
   "id": "d7d5ce41",
   "metadata": {},
   "outputs": [
    {
     "data": {
      "text/plain": [
       "12"
      ]
     },
     "execution_count": 18,
     "metadata": {},
     "output_type": "execute_result"
    }
   ],
   "source": [
    "123//10"
   ]
  },
  {
   "cell_type": "code",
   "execution_count": 19,
   "id": "829bcdb6",
   "metadata": {},
   "outputs": [
    {
     "data": {
      "text/plain": [
       "2"
      ]
     },
     "execution_count": 19,
     "metadata": {},
     "output_type": "execute_result"
    }
   ],
   "source": [
    "12%10"
   ]
  },
  {
   "cell_type": "code",
   "execution_count": 20,
   "id": "ad35c52c",
   "metadata": {},
   "outputs": [
    {
     "data": {
      "text/plain": [
       "1"
      ]
     },
     "execution_count": 20,
     "metadata": {},
     "output_type": "execute_result"
    }
   ],
   "source": [
    "12//10"
   ]
  },
  {
   "cell_type": "code",
   "execution_count": 23,
   "id": "a1e991a5",
   "metadata": {},
   "outputs": [
    {
     "name": "stdout",
     "output_type": "stream",
     "text": [
      "Enter a number: 456\n",
      "sum of digits:  15\n"
     ]
    }
   ],
   "source": [
    "q=int(input('Enter a number: '))\n",
    "s=0\n",
    "while q:\n",
    "    rem=q%10\n",
    "    s=s+rem\n",
    "    q=q//10\n",
    "print('sum of digits: ',s)\n",
    "    "
   ]
  },
  {
   "cell_type": "markdown",
   "id": "e6c1609d",
   "metadata": {},
   "source": [
    "# ⦁\tProgram to find the sum of numbers entered"
   ]
  },
  {
   "cell_type": "code",
   "execution_count": 24,
   "id": "2332d12e",
   "metadata": {},
   "outputs": [
    {
     "name": "stdout",
     "output_type": "stream",
     "text": [
      "Enter counting: 5\n",
      "Enter number: 10\n",
      "Enter number: 23\n",
      "Enter number: 45\n",
      "Enter number: 67\n",
      "Enter number: 45\n",
      "sum of entered number:  190\n"
     ]
    }
   ],
   "source": [
    "a=int(input('Enter counting: '))\n",
    "c=1\n",
    "s=0\n",
    "while c<=a:\n",
    "    r=int(input('Enter number: '))\n",
    "    s=s+r\n",
    "    c+=1\n",
    "print('sum of entered number: ',s)\n",
    "    "
   ]
  },
  {
   "cell_type": "code",
   "execution_count": null,
   "id": "c9270dd2",
   "metadata": {},
   "outputs": [],
   "source": []
  }
 ],
 "metadata": {
  "kernelspec": {
   "display_name": "Python 3 (ipykernel)",
   "language": "python",
   "name": "python3"
  },
  "language_info": {
   "codemirror_mode": {
    "name": "ipython",
    "version": 3
   },
   "file_extension": ".py",
   "mimetype": "text/x-python",
   "name": "python",
   "nbconvert_exporter": "python",
   "pygments_lexer": "ipython3",
   "version": "3.9.6"
  }
 },
 "nbformat": 4,
 "nbformat_minor": 5
}
