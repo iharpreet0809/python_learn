{
 "cells": [
  {
   "cell_type": "code",
   "execution_count": 1,
   "id": "5ed2844f",
   "metadata": {},
   "outputs": [],
   "source": [
    "url='https://www.worldometers.info/coronavirus/countries-where-coronavirus-has-spread/'"
   ]
  },
  {
   "cell_type": "code",
   "execution_count": 2,
   "id": "7e6f08e6",
   "metadata": {},
   "outputs": [],
   "source": [
    "import requests\n",
    "from bs4 import BeautifulSoup\n",
    "import random\n"
   ]
  },
  {
   "cell_type": "code",
   "execution_count": 3,
   "id": "43273f1e",
   "metadata": {},
   "outputs": [],
   "source": [
    "import pandas as pd"
   ]
  },
  {
   "cell_type": "code",
   "execution_count": 4,
   "id": "8a4f7152",
   "metadata": {},
   "outputs": [],
   "source": [
    "res=requests.get(url).content"
   ]
  },
  {
   "cell_type": "code",
   "execution_count": 7,
   "id": "f83e6b5a",
   "metadata": {},
   "outputs": [],
   "source": [
    "data=pd.read_html(res)"
   ]
  },
  {
   "cell_type": "code",
   "execution_count": 9,
   "id": "204dc3c7",
   "metadata": {},
   "outputs": [],
   "source": [
    "df=data[0]"
   ]
  },
  {
   "cell_type": "code",
   "execution_count": 11,
   "id": "11fdbe8e",
   "metadata": {},
   "outputs": [
    {
     "data": {
      "text/plain": [
       "Index(['Country', 'Cases', 'Deaths', 'Region'], dtype='object')"
      ]
     },
     "execution_count": 11,
     "metadata": {},
     "output_type": "execute_result"
    }
   ],
   "source": [
    "df.columns"
   ]
  },
  {
   "cell_type": "code",
   "execution_count": 12,
   "id": "4ccf021f",
   "metadata": {},
   "outputs": [],
   "source": [
    "df=df[['Country', 'Cases', 'Deaths']]"
   ]
  },
  {
   "cell_type": "code",
   "execution_count": 16,
   "id": "f2fbb3fb",
   "metadata": {},
   "outputs": [],
   "source": [
    "df_sort=df.sort_values(by='Cases',ascending=False)"
   ]
  },
  {
   "cell_type": "code",
   "execution_count": 17,
   "id": "d5f03d10",
   "metadata": {},
   "outputs": [
    {
     "data": {
      "text/html": [
       "<div>\n",
       "<style scoped>\n",
       "    .dataframe tbody tr th:only-of-type {\n",
       "        vertical-align: middle;\n",
       "    }\n",
       "\n",
       "    .dataframe tbody tr th {\n",
       "        vertical-align: top;\n",
       "    }\n",
       "\n",
       "    .dataframe thead th {\n",
       "        text-align: right;\n",
       "    }\n",
       "</style>\n",
       "<table border=\"1\" class=\"dataframe\">\n",
       "  <thead>\n",
       "    <tr style=\"text-align: right;\">\n",
       "      <th></th>\n",
       "      <th>Country</th>\n",
       "      <th>Cases</th>\n",
       "      <th>Deaths</th>\n",
       "    </tr>\n",
       "  </thead>\n",
       "  <tbody>\n",
       "    <tr>\n",
       "      <th>0</th>\n",
       "      <td>United States</td>\n",
       "      <td>76516202</td>\n",
       "      <td>913924</td>\n",
       "    </tr>\n",
       "    <tr>\n",
       "      <th>1</th>\n",
       "      <td>India</td>\n",
       "      <td>41630885</td>\n",
       "      <td>497996</td>\n",
       "    </tr>\n",
       "    <tr>\n",
       "      <th>2</th>\n",
       "      <td>Brazil</td>\n",
       "      <td>25625133</td>\n",
       "      <td>628132</td>\n",
       "    </tr>\n",
       "    <tr>\n",
       "      <th>3</th>\n",
       "      <td>France</td>\n",
       "      <td>19557626</td>\n",
       "      <td>131312</td>\n",
       "    </tr>\n",
       "    <tr>\n",
       "      <th>4</th>\n",
       "      <td>United Kingdom</td>\n",
       "      <td>17428345</td>\n",
       "      <td>156875</td>\n",
       "    </tr>\n",
       "    <tr>\n",
       "      <th>...</th>\n",
       "      <td>...</td>\n",
       "      <td>...</td>\n",
       "      <td>...</td>\n",
       "    </tr>\n",
       "    <tr>\n",
       "      <th>219</th>\n",
       "      <td>Vanuatu</td>\n",
       "      <td>7</td>\n",
       "      <td>1</td>\n",
       "    </tr>\n",
       "    <tr>\n",
       "      <th>220</th>\n",
       "      <td>Marshall Islands</td>\n",
       "      <td>7</td>\n",
       "      <td>0</td>\n",
       "    </tr>\n",
       "    <tr>\n",
       "      <th>221</th>\n",
       "      <td>Saint Helena</td>\n",
       "      <td>2</td>\n",
       "      <td>0</td>\n",
       "    </tr>\n",
       "    <tr>\n",
       "      <th>222</th>\n",
       "      <td>Micronesia</td>\n",
       "      <td>1</td>\n",
       "      <td>0</td>\n",
       "    </tr>\n",
       "    <tr>\n",
       "      <th>223</th>\n",
       "      <td>Tonga</td>\n",
       "      <td>1</td>\n",
       "      <td>0</td>\n",
       "    </tr>\n",
       "  </tbody>\n",
       "</table>\n",
       "<p>224 rows × 3 columns</p>\n",
       "</div>"
      ],
      "text/plain": [
       "              Country     Cases  Deaths\n",
       "0       United States  76516202  913924\n",
       "1               India  41630885  497996\n",
       "2              Brazil  25625133  628132\n",
       "3              France  19557626  131312\n",
       "4      United Kingdom  17428345  156875\n",
       "..                ...       ...     ...\n",
       "219           Vanuatu         7       1\n",
       "220  Marshall Islands         7       0\n",
       "221      Saint Helena         2       0\n",
       "222        Micronesia         1       0\n",
       "223             Tonga         1       0\n",
       "\n",
       "[224 rows x 3 columns]"
      ]
     },
     "execution_count": 17,
     "metadata": {},
     "output_type": "execute_result"
    }
   ],
   "source": [
    "df_sort"
   ]
  },
  {
   "cell_type": "code",
   "execution_count": 18,
   "id": "72aa5892",
   "metadata": {},
   "outputs": [],
   "source": [
    "top_30=df_sort[:30]"
   ]
  },
  {
   "cell_type": "code",
   "execution_count": 31,
   "id": "35256da6",
   "metadata": {},
   "outputs": [],
   "source": [
    "india=top_30[top_30['Country']=='India']['Cases'].values[0]"
   ]
  },
  {
   "cell_type": "code",
   "execution_count": 19,
   "id": "7d6cf15c",
   "metadata": {},
   "outputs": [
    {
     "data": {
      "text/html": [
       "<div>\n",
       "<style scoped>\n",
       "    .dataframe tbody tr th:only-of-type {\n",
       "        vertical-align: middle;\n",
       "    }\n",
       "\n",
       "    .dataframe tbody tr th {\n",
       "        vertical-align: top;\n",
       "    }\n",
       "\n",
       "    .dataframe thead th {\n",
       "        text-align: right;\n",
       "    }\n",
       "</style>\n",
       "<table border=\"1\" class=\"dataframe\">\n",
       "  <thead>\n",
       "    <tr style=\"text-align: right;\">\n",
       "      <th></th>\n",
       "      <th>Country</th>\n",
       "      <th>Cases</th>\n",
       "      <th>Deaths</th>\n",
       "    </tr>\n",
       "  </thead>\n",
       "  <tbody>\n",
       "    <tr>\n",
       "      <th>0</th>\n",
       "      <td>United States</td>\n",
       "      <td>76516202</td>\n",
       "      <td>913924</td>\n",
       "    </tr>\n",
       "    <tr>\n",
       "      <th>1</th>\n",
       "      <td>India</td>\n",
       "      <td>41630885</td>\n",
       "      <td>497996</td>\n",
       "    </tr>\n",
       "    <tr>\n",
       "      <th>2</th>\n",
       "      <td>Brazil</td>\n",
       "      <td>25625133</td>\n",
       "      <td>628132</td>\n",
       "    </tr>\n",
       "    <tr>\n",
       "      <th>3</th>\n",
       "      <td>France</td>\n",
       "      <td>19557626</td>\n",
       "      <td>131312</td>\n",
       "    </tr>\n",
       "    <tr>\n",
       "      <th>4</th>\n",
       "      <td>United Kingdom</td>\n",
       "      <td>17428345</td>\n",
       "      <td>156875</td>\n",
       "    </tr>\n",
       "    <tr>\n",
       "      <th>5</th>\n",
       "      <td>Russia</td>\n",
       "      <td>12128796</td>\n",
       "      <td>332690</td>\n",
       "    </tr>\n",
       "    <tr>\n",
       "      <th>6</th>\n",
       "      <td>Turkey</td>\n",
       "      <td>11722483</td>\n",
       "      <td>87614</td>\n",
       "    </tr>\n",
       "    <tr>\n",
       "      <th>7</th>\n",
       "      <td>Italy</td>\n",
       "      <td>11116422</td>\n",
       "      <td>146925</td>\n",
       "    </tr>\n",
       "    <tr>\n",
       "      <th>8</th>\n",
       "      <td>Germany</td>\n",
       "      <td>10079778</td>\n",
       "      <td>118709</td>\n",
       "    </tr>\n",
       "    <tr>\n",
       "      <th>9</th>\n",
       "      <td>Spain</td>\n",
       "      <td>10039126</td>\n",
       "      <td>93633</td>\n",
       "    </tr>\n",
       "    <tr>\n",
       "      <th>10</th>\n",
       "      <td>Argentina</td>\n",
       "      <td>8427778</td>\n",
       "      <td>121513</td>\n",
       "    </tr>\n",
       "    <tr>\n",
       "      <th>11</th>\n",
       "      <td>Iran</td>\n",
       "      <td>6446404</td>\n",
       "      <td>132563</td>\n",
       "    </tr>\n",
       "    <tr>\n",
       "      <th>12</th>\n",
       "      <td>Colombia</td>\n",
       "      <td>5901715</td>\n",
       "      <td>134551</td>\n",
       "    </tr>\n",
       "    <tr>\n",
       "      <th>13</th>\n",
       "      <td>Mexico</td>\n",
       "      <td>4985689</td>\n",
       "      <td>306920</td>\n",
       "    </tr>\n",
       "    <tr>\n",
       "      <th>14</th>\n",
       "      <td>Poland</td>\n",
       "      <td>4981321</td>\n",
       "      <td>105753</td>\n",
       "    </tr>\n",
       "    <tr>\n",
       "      <th>15</th>\n",
       "      <td>Netherlands</td>\n",
       "      <td>4538279</td>\n",
       "      <td>21293</td>\n",
       "    </tr>\n",
       "    <tr>\n",
       "      <th>16</th>\n",
       "      <td>Indonesia</td>\n",
       "      <td>4369391</td>\n",
       "      <td>144348</td>\n",
       "    </tr>\n",
       "    <tr>\n",
       "      <th>17</th>\n",
       "      <td>Ukraine</td>\n",
       "      <td>4130277</td>\n",
       "      <td>100599</td>\n",
       "    </tr>\n",
       "    <tr>\n",
       "      <th>18</th>\n",
       "      <td>South Africa</td>\n",
       "      <td>3608307</td>\n",
       "      <td>95288</td>\n",
       "    </tr>\n",
       "    <tr>\n",
       "      <th>19</th>\n",
       "      <td>Philippines</td>\n",
       "      <td>3577298</td>\n",
       "      <td>54097</td>\n",
       "    </tr>\n",
       "    <tr>\n",
       "      <th>20</th>\n",
       "      <td>Peru</td>\n",
       "      <td>3262165</td>\n",
       "      <td>205985</td>\n",
       "    </tr>\n",
       "    <tr>\n",
       "      <th>21</th>\n",
       "      <td>Belgium</td>\n",
       "      <td>3184201</td>\n",
       "      <td>29083</td>\n",
       "    </tr>\n",
       "    <tr>\n",
       "      <th>22</th>\n",
       "      <td>Czech Republic (Czechia)</td>\n",
       "      <td>3100462</td>\n",
       "      <td>37281</td>\n",
       "    </tr>\n",
       "    <tr>\n",
       "      <th>23</th>\n",
       "      <td>Canada</td>\n",
       "      <td>3063059</td>\n",
       "      <td>34017</td>\n",
       "    </tr>\n",
       "    <tr>\n",
       "      <th>24</th>\n",
       "      <td>Israel</td>\n",
       "      <td>2966451</td>\n",
       "      <td>8926</td>\n",
       "    </tr>\n",
       "    <tr>\n",
       "      <th>25</th>\n",
       "      <td>Malaysia</td>\n",
       "      <td>2876324</td>\n",
       "      <td>31985</td>\n",
       "    </tr>\n",
       "    <tr>\n",
       "      <th>26</th>\n",
       "      <td>Japan (+Diamond Princess)</td>\n",
       "      <td>2811762</td>\n",
       "      <td>18884</td>\n",
       "    </tr>\n",
       "    <tr>\n",
       "      <th>27</th>\n",
       "      <td>Portugal</td>\n",
       "      <td>2690690</td>\n",
       "      <td>19968</td>\n",
       "    </tr>\n",
       "    <tr>\n",
       "      <th>28</th>\n",
       "      <td>Australia</td>\n",
       "      <td>2620063</td>\n",
       "      <td>3905</td>\n",
       "    </tr>\n",
       "    <tr>\n",
       "      <th>29</th>\n",
       "      <td>Thailand</td>\n",
       "      <td>2456551</td>\n",
       "      <td>22210</td>\n",
       "    </tr>\n",
       "  </tbody>\n",
       "</table>\n",
       "</div>"
      ],
      "text/plain": [
       "                      Country     Cases  Deaths\n",
       "0               United States  76516202  913924\n",
       "1                       India  41630885  497996\n",
       "2                      Brazil  25625133  628132\n",
       "3                      France  19557626  131312\n",
       "4              United Kingdom  17428345  156875\n",
       "5                      Russia  12128796  332690\n",
       "6                      Turkey  11722483   87614\n",
       "7                       Italy  11116422  146925\n",
       "8                     Germany  10079778  118709\n",
       "9                       Spain  10039126   93633\n",
       "10                  Argentina   8427778  121513\n",
       "11                       Iran   6446404  132563\n",
       "12                   Colombia   5901715  134551\n",
       "13                     Mexico   4985689  306920\n",
       "14                     Poland   4981321  105753\n",
       "15                Netherlands   4538279   21293\n",
       "16                  Indonesia   4369391  144348\n",
       "17                    Ukraine   4130277  100599\n",
       "18               South Africa   3608307   95288\n",
       "19                Philippines   3577298   54097\n",
       "20                       Peru   3262165  205985\n",
       "21                    Belgium   3184201   29083\n",
       "22   Czech Republic (Czechia)   3100462   37281\n",
       "23                     Canada   3063059   34017\n",
       "24                     Israel   2966451    8926\n",
       "25                   Malaysia   2876324   31985\n",
       "26  Japan (+Diamond Princess)   2811762   18884\n",
       "27                   Portugal   2690690   19968\n",
       "28                  Australia   2620063    3905\n",
       "29                   Thailand   2456551   22210"
      ]
     },
     "execution_count": 19,
     "metadata": {},
     "output_type": "execute_result"
    }
   ],
   "source": [
    "top_30"
   ]
  },
  {
   "cell_type": "code",
   "execution_count": 32,
   "id": "cdf1503d",
   "metadata": {},
   "outputs": [
    {
     "data": {
      "text/plain": [
       "41630885"
      ]
     },
     "execution_count": 32,
     "metadata": {},
     "output_type": "execute_result"
    }
   ],
   "source": [
    "india"
   ]
  },
  {
   "cell_type": "code",
   "execution_count": 33,
   "id": "0ca22b55",
   "metadata": {},
   "outputs": [],
   "source": [
    "def make_color():\n",
    "    col='#'\n",
    "    for i in range(6):\n",
    "        col=col+str(random.randint(0,9))\n",
    "    return col"
   ]
  },
  {
   "cell_type": "code",
   "execution_count": 38,
   "id": "f409ab36",
   "metadata": {},
   "outputs": [
    {
     "data": {
      "text/plain": [
       "'#280250'"
      ]
     },
     "execution_count": 38,
     "metadata": {},
     "output_type": "execute_result"
    }
   ],
   "source": [
    "make_color()"
   ]
  },
  {
   "cell_type": "code",
   "execution_count": 53,
   "id": "ae92c811",
   "metadata": {},
   "outputs": [],
   "source": [
    "colors=[]\n",
    "while len(colors)!=29:\n",
    "    c=make_color()\n",
    "    if c not in colors:\n",
    "        colors.append(c)\n",
    "    "
   ]
  },
  {
   "cell_type": "code",
   "execution_count": 56,
   "id": "94c00909",
   "metadata": {},
   "outputs": [],
   "source": [
    "colors.insert(0,'red')"
   ]
  },
  {
   "cell_type": "code",
   "execution_count": 57,
   "id": "c0c7b545",
   "metadata": {},
   "outputs": [
    {
     "name": "stdout",
     "output_type": "stream",
     "text": [
      "['red', '#251723', '#348070', '#969797', '#139758', '#115540', '#219558', '#091022', '#044824', '#097210', '#406916', '#057132', '#047967', '#874409', '#369461', '#012580', '#060376', '#370980', '#797808', '#160956', '#284630', '#096900', '#814699', '#447852', '#428608', '#044172', '#227375', '#049815', '#178843', '#784686']\n"
     ]
    }
   ],
   "source": [
    "print(colors)"
   ]
  },
  {
   "cell_type": "code",
   "execution_count": 41,
   "id": "c39548d9",
   "metadata": {},
   "outputs": [],
   "source": [
    "import matplotlib.pyplot as plt"
   ]
  },
  {
   "cell_type": "code",
   "execution_count": 68,
   "id": "8a9e894b",
   "metadata": {},
   "outputs": [
    {
     "name": "stderr",
     "output_type": "stream",
     "text": [
      "c:\\users\\rmani\\appdata\\local\\programs\\python\\python36-32\\lib\\site-packages\\ipykernel_launcher.py:5: UserWarning: FixedFormatter should only be used together with FixedLocator\n",
      "  \"\"\"\n"
     ]
    },
    {
     "data": {
      "image/png": "[encoded data removed]",
      "text/plain": [
       "<Figure size 864x432 with 1 Axes>"
      ]
     },
     "metadata": {
      "needs_background": "light"
     },
     "output_type": "display_data"
    }
   ],
   "source": [
    "import time\n",
    "plt.rcParams['figure.figsize']=(12,6)\n",
    "fig,ax=plt.subplots()\n",
    "ax.bar(top_30['Country'],top_30['Cases'],color=colors)\n",
    "ax.set_xticklabels(top_30['Country'],rotation=90)\n",
    "ax.spines['top'].set_visible(False)\n",
    "ax.spines['right'].set_visible(False)\n",
    "ax.text(15,50000000,f\"India:  {india}\",fontsize=20,color='blue')\n",
    "ax.text(15,40000000,f\"Time:  {time.ctime()}\",fontsize=20,color='blue')\n",
    "\n",
    "plt.show()"
   ]
  },
  {
   "cell_type": "code",
   "execution_count": null,
   "id": "a98da082",
   "metadata": {},
   "outputs": [],
   "source": []
  }
 ],
 "metadata": {
  "kernelspec": {
   "display_name": "Python 3",
   "language": "python",
   "name": "python3"
  },
  "language_info": {
   "codemirror_mode": {
    "name": "ipython",
    "version": 3
   },
   "file_extension": ".py",
   "mimetype": "text/x-python",
   "name": "python",
   "nbconvert_exporter": "python",
   "pygments_lexer": "ipython3",
   "version": "3.6.4"
  }
 },
 "nbformat": 4,
 "nbformat_minor": 5
}
