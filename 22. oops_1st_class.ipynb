{
 "cells": [
  {
   "cell_type": "markdown",
   "id": "dfa485cb",
   "metadata": {},
   "source": [
    "                OOPS:\n",
    "                    scope\n",
    "                    classes\n",
    "                    methods\n",
    "                    object\n",
    "                    Inheritance\n",
    "                    polymorphysm\n",
    "                    encapsulation\n",
    "                    owerriding, overloading\n",
    "                    "
   ]
  },
  {
   "cell_type": "code",
   "execution_count": 1,
   "id": "c1fdcb9d",
   "metadata": {},
   "outputs": [],
   "source": [
    "x=10\n",
    "x=30\n",
    "x=50\n",
    "x=5"
   ]
  },
  {
   "cell_type": "code",
   "execution_count": 2,
   "id": "a74eaa4f",
   "metadata": {},
   "outputs": [
    {
     "name": "stdout",
     "output_type": "stream",
     "text": [
      "5\n"
     ]
    }
   ],
   "source": [
    "print(x)"
   ]
  },
  {
   "cell_type": "code",
   "execution_count": 3,
   "id": "74167334",
   "metadata": {},
   "outputs": [
    {
     "name": "stdout",
     "output_type": "stream",
     "text": [
      "<class 'int'>\n"
     ]
    }
   ],
   "source": [
    "print(type(x))"
   ]
  },
  {
   "cell_type": "code",
   "execution_count": 8,
   "id": "5d21ce1b",
   "metadata": {},
   "outputs": [],
   "source": [
    "y='global scope'\n",
    "class testing:\n",
    "    y='class scope'\n",
    "    def demo():\n",
    "        y='local scope'\n",
    "        print(y)\n",
    "    "
   ]
  },
  {
   "cell_type": "code",
   "execution_count": 9,
   "id": "9f2940cd",
   "metadata": {},
   "outputs": [],
   "source": [
    "obj=testing()"
   ]
  },
  {
   "cell_type": "code",
   "execution_count": 10,
   "id": "83c982e5",
   "metadata": {},
   "outputs": [],
   "source": [
    "obj.y='object scope'"
   ]
  },
  {
   "cell_type": "code",
   "execution_count": null,
   "id": "61636b5d",
   "metadata": {},
   "outputs": [],
   "source": []
  },
  {
   "cell_type": "code",
   "execution_count": 11,
   "id": "a970394e",
   "metadata": {},
   "outputs": [
    {
     "name": "stdout",
     "output_type": "stream",
     "text": [
      "global scope\n"
     ]
    }
   ],
   "source": [
    "print(y)"
   ]
  },
  {
   "cell_type": "code",
   "execution_count": 12,
   "id": "9e681fd4",
   "metadata": {},
   "outputs": [
    {
     "data": {
      "text/plain": [
       "'class scope'"
      ]
     },
     "execution_count": 12,
     "metadata": {},
     "output_type": "execute_result"
    }
   ],
   "source": [
    "testing.y"
   ]
  },
  {
   "cell_type": "code",
   "execution_count": 13,
   "id": "774ec610",
   "metadata": {},
   "outputs": [
    {
     "name": "stdout",
     "output_type": "stream",
     "text": [
      "global scope\n"
     ]
    }
   ],
   "source": [
    "print(y)"
   ]
  },
  {
   "cell_type": "code",
   "execution_count": 14,
   "id": "6e5055f2",
   "metadata": {},
   "outputs": [
    {
     "data": {
      "text/plain": [
       "'class scope'"
      ]
     },
     "execution_count": 14,
     "metadata": {},
     "output_type": "execute_result"
    }
   ],
   "source": [
    "testing.y"
   ]
  },
  {
   "cell_type": "code",
   "execution_count": 15,
   "id": "0d9aafd5",
   "metadata": {},
   "outputs": [
    {
     "name": "stdout",
     "output_type": "stream",
     "text": [
      "local scope\n"
     ]
    }
   ],
   "source": [
    "testing.demo()"
   ]
  },
  {
   "cell_type": "code",
   "execution_count": 16,
   "id": "b9679b98",
   "metadata": {},
   "outputs": [
    {
     "data": {
      "text/plain": [
       "'object scope'"
      ]
     },
     "execution_count": 16,
     "metadata": {},
     "output_type": "execute_result"
    }
   ],
   "source": [
    "obj.y"
   ]
  },
  {
   "cell_type": "code",
   "execution_count": 25,
   "id": "85ac6305",
   "metadata": {},
   "outputs": [],
   "source": [
    "d=100\n",
    "class test:\n",
    "    r='hello manish'\n",
    "    def show():\n",
    "        print(test.r)"
   ]
  },
  {
   "cell_type": "code",
   "execution_count": 26,
   "id": "829b3bcf",
   "metadata": {},
   "outputs": [
    {
     "name": "stdout",
     "output_type": "stream",
     "text": [
      "hello manish\n"
     ]
    }
   ],
   "source": [
    "test.show()"
   ]
  },
  {
   "cell_type": "code",
   "execution_count": 27,
   "id": "26c4b07b",
   "metadata": {},
   "outputs": [],
   "source": [
    "# class and object\n",
    "\n",
    "\n",
    "\n",
    "#class blueprint obj"
   ]
  },
  {
   "cell_type": "code",
   "execution_count": 28,
   "id": "5eea991f",
   "metadata": {},
   "outputs": [],
   "source": [
    "l={1,2,3,4,5,6,7,8}  # object"
   ]
  },
  {
   "cell_type": "code",
   "execution_count": 29,
   "id": "6c41cc9c",
   "metadata": {},
   "outputs": [],
   "source": [
    "k={2,3,4,5,6,7}   # class"
   ]
  },
  {
   "cell_type": "code",
   "execution_count": 35,
   "id": "9819a0ac",
   "metadata": {},
   "outputs": [],
   "source": [
    "class robot:\n",
    "    x='something'\n",
    "    def demo():\n",
    "        print('hello python')\n",
    "    def show():\n",
    "        print('welcome to python')\n",
    "    def get():\n",
    "        print('bye bye world')"
   ]
  },
  {
   "cell_type": "code",
   "execution_count": 36,
   "id": "7e3562df",
   "metadata": {},
   "outputs": [],
   "source": [
    "obj=robot()"
   ]
  },
  {
   "cell_type": "code",
   "execution_count": 37,
   "id": "815cf640",
   "metadata": {},
   "outputs": [
    {
     "name": "stdout",
     "output_type": "stream",
     "text": [
      "['__class__', '__delattr__', '__dict__', '__dir__', '__doc__', '__eq__', '__format__', '__ge__', '__getattribute__', '__gt__', '__hash__', '__init__', '__init_subclass__', '__le__', '__lt__', '__module__', '__ne__', '__new__', '__reduce__', '__reduce_ex__', '__repr__', '__setattr__', '__sizeof__', '__str__', '__subclasshook__', '__weakref__', 'demo', 'get', 'show', 'x']\n"
     ]
    }
   ],
   "source": [
    "print(dir(robot))"
   ]
  },
  {
   "cell_type": "code",
   "execution_count": 38,
   "id": "09e5dad0",
   "metadata": {},
   "outputs": [
    {
     "name": "stdout",
     "output_type": "stream",
     "text": [
      "['__class__', '__delattr__', '__dict__', '__dir__', '__doc__', '__eq__', '__format__', '__ge__', '__getattribute__', '__gt__', '__hash__', '__init__', '__init_subclass__', '__le__', '__lt__', '__module__', '__ne__', '__new__', '__reduce__', '__reduce_ex__', '__repr__', '__setattr__', '__sizeof__', '__str__', '__subclasshook__', '__weakref__', 'demo', 'get', 'show', 'x']\n"
     ]
    }
   ],
   "source": [
    "print(dir(obj))\n"
   ]
  },
  {
   "cell_type": "code",
   "execution_count": 39,
   "id": "5e9196a8",
   "metadata": {},
   "outputs": [],
   "source": [
    "obj.y='nothing'"
   ]
  },
  {
   "cell_type": "code",
   "execution_count": 40,
   "id": "514e03b0",
   "metadata": {},
   "outputs": [
    {
     "name": "stdout",
     "output_type": "stream",
     "text": [
      "['__class__', '__delattr__', '__dict__', '__dir__', '__doc__', '__eq__', '__format__', '__ge__', '__getattribute__', '__gt__', '__hash__', '__init__', '__init_subclass__', '__le__', '__lt__', '__module__', '__ne__', '__new__', '__reduce__', '__reduce_ex__', '__repr__', '__setattr__', '__sizeof__', '__str__', '__subclasshook__', '__weakref__', 'demo', 'get', 'show', 'x', 'y']\n"
     ]
    }
   ],
   "source": [
    "print(dir(obj))"
   ]
  },
  {
   "cell_type": "code",
   "execution_count": 41,
   "id": "635806a5",
   "metadata": {},
   "outputs": [
    {
     "name": "stdout",
     "output_type": "stream",
     "text": [
      "['__class__', '__delattr__', '__dict__', '__dir__', '__doc__', '__eq__', '__format__', '__ge__', '__getattribute__', '__gt__', '__hash__', '__init__', '__init_subclass__', '__le__', '__lt__', '__module__', '__ne__', '__new__', '__reduce__', '__reduce_ex__', '__repr__', '__setattr__', '__sizeof__', '__str__', '__subclasshook__', '__weakref__', 'demo', 'get', 'show', 'x']\n"
     ]
    }
   ],
   "source": [
    "print(dir(robot))"
   ]
  },
  {
   "cell_type": "code",
   "execution_count": null,
   "id": "9ef92a53",
   "metadata": {},
   "outputs": [],
   "source": []
  },
  {
   "cell_type": "code",
   "execution_count": 46,
   "id": "bea5d67f",
   "metadata": {},
   "outputs": [],
   "source": [
    "class somthing:\n",
    "    def get(a):\n",
    "        print('hello world')"
   ]
  },
  {
   "cell_type": "code",
   "execution_count": 47,
   "id": "448fb198",
   "metadata": {},
   "outputs": [],
   "source": [
    "ob=somthing()"
   ]
  },
  {
   "cell_type": "code",
   "execution_count": 44,
   "id": "4405982e",
   "metadata": {},
   "outputs": [
    {
     "name": "stdout",
     "output_type": "stream",
     "text": [
      "hello world\n"
     ]
    }
   ],
   "source": [
    "somthing.get()"
   ]
  },
  {
   "cell_type": "code",
   "execution_count": 48,
   "id": "a2b7ae94",
   "metadata": {},
   "outputs": [
    {
     "name": "stdout",
     "output_type": "stream",
     "text": [
      "hello world\n"
     ]
    }
   ],
   "source": [
    "ob.get()\n",
    "\n",
    "\n",
    "# __new__ "
   ]
  },
  {
   "cell_type": "code",
   "execution_count": null,
   "id": "24792488",
   "metadata": {},
   "outputs": [],
   "source": []
  }
 ],
 "metadata": {
  "kernelspec": {
   "display_name": "Python 3 (ipykernel)",
   "language": "python",
   "name": "python3"
  },
  "language_info": {
   "codemirror_mode": {
    "name": "ipython",
    "version": 3
   },
   "file_extension": ".py",
   "mimetype": "text/x-python",
   "name": "python",
   "nbconvert_exporter": "python",
   "pygments_lexer": "ipython3",
   "version": "3.9.6"
  }
 },
 "nbformat": 4,
 "nbformat_minor": 5
}
