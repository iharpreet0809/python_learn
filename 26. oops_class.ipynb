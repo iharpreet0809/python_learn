{
 "cells": [
  {
   "cell_type": "code",
   "execution_count": 63,
   "id": "2ef3991d",
   "metadata": {},
   "outputs": [],
   "source": [
    "class employee:\n",
    "    emp_id=1\n",
    "    def __init__(self,name,salary):\n",
    "        self.name=name\n",
    "        self.salary=salary\n",
    "        self.__id=employee.emp_id\n",
    "        employee.emp_id+=1\n",
    "    \n",
    "    def __str__(self):\n",
    "        return f\"employee name: {self.name} \\n employee salary: {self.salary}\\n employee id: {self.__id}\""
   ]
  },
  {
   "cell_type": "code",
   "execution_count": 64,
   "id": "459f01cb",
   "metadata": {},
   "outputs": [],
   "source": [
    "emp1=employee('manish',80000)"
   ]
  },
  {
   "cell_type": "code",
   "execution_count": 65,
   "id": "e23271c4",
   "metadata": {},
   "outputs": [],
   "source": [
    "emp2=employee('shan',50000)"
   ]
  },
  {
   "cell_type": "code",
   "execution_count": 66,
   "id": "d4d43cdd",
   "metadata": {},
   "outputs": [],
   "source": [
    "emp3=employee('shahrukh',60000)"
   ]
  },
  {
   "cell_type": "code",
   "execution_count": 67,
   "id": "f8d6ed98",
   "metadata": {},
   "outputs": [
    {
     "name": "stdout",
     "output_type": "stream",
     "text": [
      "employee name: ,manish \n",
      " employee salary: ,80000\n",
      " employee id: ,1\n"
     ]
    }
   ],
   "source": [
    "print(emp1)"
   ]
  },
  {
   "cell_type": "code",
   "execution_count": 60,
   "id": "88c5ae21",
   "metadata": {},
   "outputs": [
    {
     "name": "stdout",
     "output_type": "stream",
     "text": [
      "<__main__.employee object at 0x000001B25D818910>\n"
     ]
    }
   ],
   "source": [
    "print(emp2)"
   ]
  },
  {
   "cell_type": "code",
   "execution_count": 61,
   "id": "e939f05d",
   "metadata": {},
   "outputs": [
    {
     "name": "stdout",
     "output_type": "stream",
     "text": [
      "<__main__.employee object at 0x000001B25D818700>\n"
     ]
    }
   ],
   "source": [
    "print(emp3)"
   ]
  },
  {
   "cell_type": "code",
   "execution_count": 43,
   "id": "33ab022f",
   "metadata": {},
   "outputs": [
    {
     "data": {
      "text/plain": [
       "'manish'"
      ]
     },
     "execution_count": 43,
     "metadata": {},
     "output_type": "execute_result"
    }
   ],
   "source": [
    "getattr(emp1, 'name')"
   ]
  },
  {
   "cell_type": "code",
   "execution_count": 27,
   "id": "4cc5a355",
   "metadata": {},
   "outputs": [
    {
     "data": {
      "text/plain": [
       "80000"
      ]
     },
     "execution_count": 27,
     "metadata": {},
     "output_type": "execute_result"
    }
   ],
   "source": [
    "getattr(emp1,'salary')"
   ]
  },
  {
   "cell_type": "code",
   "execution_count": 28,
   "id": "7e04f015",
   "metadata": {},
   "outputs": [
    {
     "ename": "AttributeError",
     "evalue": "'employee' object has no attribute '__id'",
     "output_type": "error",
     "traceback": [
      "\u001b[1;31m---------------------------------------------------------------------------\u001b[0m",
      "\u001b[1;31mAttributeError\u001b[0m                            Traceback (most recent call last)",
      "\u001b[1;32m~\\AppData\\Local\\Temp/ipykernel_5392/102114475.py\u001b[0m in \u001b[0;36m<module>\u001b[1;34m\u001b[0m\n\u001b[1;32m----> 1\u001b[1;33m \u001b[0mgetattr\u001b[0m\u001b[1;33m(\u001b[0m\u001b[0memp1\u001b[0m\u001b[1;33m,\u001b[0m\u001b[1;34m'__id'\u001b[0m\u001b[1;33m)\u001b[0m\u001b[1;33m\u001b[0m\u001b[1;33m\u001b[0m\u001b[0m\n\u001b[0m",
      "\u001b[1;31mAttributeError\u001b[0m: 'employee' object has no attribute '__id'"
     ]
    }
   ],
   "source": [
    "getattr(emp1,'__id')"
   ]
  },
  {
   "cell_type": "code",
   "execution_count": 68,
   "id": "9b514050",
   "metadata": {},
   "outputs": [
    {
     "data": {
      "text/plain": [
       "<__main__.employee at 0x1b25d8188e0>"
      ]
     },
     "execution_count": 68,
     "metadata": {},
     "output_type": "execute_result"
    }
   ],
   "source": [
    "emp1"
   ]
  },
  {
   "cell_type": "code",
   "execution_count": 69,
   "id": "bcd0e080",
   "metadata": {},
   "outputs": [
    {
     "data": {
      "text/plain": [
       "'manish'"
      ]
     },
     "execution_count": 69,
     "metadata": {},
     "output_type": "execute_result"
    }
   ],
   "source": [
    "emp1.name"
   ]
  },
  {
   "cell_type": "code",
   "execution_count": 70,
   "id": "ac3e340d",
   "metadata": {},
   "outputs": [],
   "source": [
    "x=100"
   ]
  },
  {
   "cell_type": "code",
   "execution_count": 72,
   "id": "89e16149",
   "metadata": {},
   "outputs": [
    {
     "name": "stdout",
     "output_type": "stream",
     "text": [
      "chocolate price 100\n"
     ]
    }
   ],
   "source": [
    "print(f'chocolate price {x}')"
   ]
  },
  {
   "cell_type": "code",
   "execution_count": 74,
   "id": "e005f981",
   "metadata": {},
   "outputs": [],
   "source": [
    "class empl:\n",
    "    emp_id=1\n",
    "    def __init__(self):\n",
    "        self.name=None\n",
    "        self.salary=None\n",
    "        self.__id=employee.emp_id\n",
    "        employee.emp_id+=1\n",
    "    \n",
    "    def __str__(self):\n",
    "        return f\"employee name: {self.name} \\n employee salary: {self.salary}\\n employee id: {self.__id}\""
   ]
  },
  {
   "cell_type": "code",
   "execution_count": 75,
   "id": "a79f0e74",
   "metadata": {},
   "outputs": [],
   "source": [
    "em1=empl()"
   ]
  },
  {
   "cell_type": "code",
   "execution_count": 76,
   "id": "8e21406f",
   "metadata": {},
   "outputs": [
    {
     "name": "stdout",
     "output_type": "stream",
     "text": [
      "employee name: None \n",
      " employee salary: None\n",
      " employee id: 1\n"
     ]
    }
   ],
   "source": [
    "print(em1)"
   ]
  },
  {
   "cell_type": "code",
   "execution_count": 77,
   "id": "741c3bf5",
   "metadata": {},
   "outputs": [],
   "source": [
    "em1.name='python'"
   ]
  },
  {
   "cell_type": "code",
   "execution_count": 80,
   "id": "262803b4",
   "metadata": {},
   "outputs": [],
   "source": [
    "em1.salary=20000"
   ]
  },
  {
   "cell_type": "code",
   "execution_count": 81,
   "id": "98165294",
   "metadata": {},
   "outputs": [
    {
     "name": "stdout",
     "output_type": "stream",
     "text": [
      "employee name: python \n",
      " employee salary: 20000\n",
      " employee id: 1\n"
     ]
    }
   ],
   "source": [
    "print(em1)"
   ]
  },
  {
   "cell_type": "code",
   "execution_count": 82,
   "id": "1714560a",
   "metadata": {},
   "outputs": [],
   "source": [
    "em2=empl()"
   ]
  },
  {
   "cell_type": "code",
   "execution_count": 83,
   "id": "1bbb7a28",
   "metadata": {},
   "outputs": [],
   "source": [
    "setattr(em2,'name','java')"
   ]
  },
  {
   "cell_type": "code",
   "execution_count": null,
   "id": "15ffa41d",
   "metadata": {},
   "outputs": [],
   "source": []
  },
  {
   "cell_type": "code",
   "execution_count": 84,
   "id": "105cb56b",
   "metadata": {},
   "outputs": [],
   "source": [
    "setattr(em2,'salary',5000)"
   ]
  },
  {
   "cell_type": "code",
   "execution_count": 85,
   "id": "880e431d",
   "metadata": {},
   "outputs": [
    {
     "name": "stdout",
     "output_type": "stream",
     "text": [
      "employee name: java \n",
      " employee salary: 5000\n",
      " employee id: 2\n"
     ]
    }
   ],
   "source": [
    "print(em2)"
   ]
  },
  {
   "cell_type": "code",
   "execution_count": 102,
   "id": "aabcbc98",
   "metadata": {},
   "outputs": [],
   "source": [
    "class e:\n",
    "    emp_id=1\n",
    "    def __init__(self):\n",
    "        self.__id=e.emp_id\n",
    "        e.emp_id+=1\n",
    "    \n",
    "    def __str__(self):\n",
    "        return f\"employee name: {self.name} \\n employee salary: {self.salary}\\n employee id: {self.__id}\""
   ]
  },
  {
   "cell_type": "code",
   "execution_count": 103,
   "id": "897241e6",
   "metadata": {},
   "outputs": [],
   "source": [
    "empx=e()"
   ]
  },
  {
   "cell_type": "code",
   "execution_count": 104,
   "id": "fc76c177",
   "metadata": {},
   "outputs": [],
   "source": [
    "empy=e()"
   ]
  },
  {
   "cell_type": "code",
   "execution_count": 105,
   "id": "76e226bf",
   "metadata": {},
   "outputs": [],
   "source": [
    "empz=e()"
   ]
  },
  {
   "cell_type": "code",
   "execution_count": 106,
   "id": "c04b8a20",
   "metadata": {},
   "outputs": [],
   "source": [
    "setattr(empx,'name','mann')"
   ]
  },
  {
   "cell_type": "code",
   "execution_count": 107,
   "id": "90c350d0",
   "metadata": {},
   "outputs": [],
   "source": [
    "setattr(empx,'salary',4000)"
   ]
  },
  {
   "cell_type": "code",
   "execution_count": 108,
   "id": "7ed6c4b1",
   "metadata": {},
   "outputs": [
    {
     "name": "stdout",
     "output_type": "stream",
     "text": [
      "employee name: mann \n",
      " employee salary: 4000\n",
      " employee id: 1\n"
     ]
    }
   ],
   "source": [
    "print(empx)"
   ]
  },
  {
   "cell_type": "code",
   "execution_count": 109,
   "id": "ab645abf",
   "metadata": {},
   "outputs": [],
   "source": [
    "# Operator overloading\n",
    "# database"
   ]
  },
  {
   "cell_type": "code",
   "execution_count": 111,
   "id": "36fd5a01",
   "metadata": {},
   "outputs": [],
   "source": [
    "#mann\n",
    "# __add__\n",
    "#__sub__\n",
    "\n",
    "\n",
    "#ob+ob1\n",
    "# ob-ob1"
   ]
  },
  {
   "cell_type": "code",
   "execution_count": 120,
   "id": "0c41e78e",
   "metadata": {},
   "outputs": [],
   "source": [
    "def add(*a):\n",
    "    print((a))\n",
    "    for i in a:\n",
    "        print(sum(i))"
   ]
  },
  {
   "cell_type": "code",
   "execution_count": 118,
   "id": "842cd20e",
   "metadata": {},
   "outputs": [
    {
     "name": "stdout",
     "output_type": "stream",
     "text": [
      "[1, 2, 4, 5, 6, 78, 9]\n",
      "1\n",
      "2\n",
      "4\n",
      "5\n",
      "6\n",
      "78\n",
      "9\n"
     ]
    },
    {
     "data": {
      "text/plain": [
       "(1, 2, 4, 5, 6, 78, 9)"
      ]
     },
     "execution_count": 118,
     "metadata": {},
     "output_type": "execute_result"
    }
   ],
   "source": [
    "add(1,2,4,5,6,78,9)"
   ]
  },
  {
   "cell_type": "code",
   "execution_count": 121,
   "id": "58f2e81d",
   "metadata": {},
   "outputs": [
    {
     "name": "stdout",
     "output_type": "stream",
     "text": [
      "n: 4\n",
      "34\n",
      "345\n",
      "5\n",
      "567\n",
      "[[34, 345, 5, 567]]\n",
      "951\n"
     ]
    }
   ],
   "source": [
    "n=int(input('n: '))\n",
    "l=[]\n",
    "for i in range(n):\n",
    "    a=int(input())\n",
    "    l.append(a)\n",
    "add(l)"
   ]
  },
  {
   "cell_type": "markdown",
   "id": "01733b2c",
   "metadata": {},
   "source": [
    "###### "
   ]
  }
 ],
 "metadata": {
  "kernelspec": {
   "display_name": "Python 3 (ipykernel)",
   "language": "python",
   "name": "python3"
  },
  "language_info": {
   "codemirror_mode": {
    "name": "ipython",
    "version": 3
   },
   "file_extension": ".py",
   "mimetype": "text/x-python",
   "name": "python",
   "nbconvert_exporter": "python",
   "pygments_lexer": "ipython3",
   "version": "3.9.6"
  }
 },
 "nbformat": 4,
 "nbformat_minor": 5
}
