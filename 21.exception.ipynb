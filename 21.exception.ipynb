{
 "cells": [
  {
   "cell_type": "code",
   "execution_count": 1,
   "id": "d9d72514",
   "metadata": {},
   "outputs": [],
   "source": [
    "#Exception_handling"
   ]
  },
  {
   "cell_type": "code",
   "execution_count": 2,
   "id": "06151247",
   "metadata": {},
   "outputs": [],
   "source": [
    "def add(a,b):\n",
    "    return a+b"
   ]
  },
  {
   "cell_type": "code",
   "execution_count": 3,
   "id": "d24ea79e",
   "metadata": {},
   "outputs": [
    {
     "data": {
      "text/plain": [
       "30"
      ]
     },
     "execution_count": 3,
     "metadata": {},
     "output_type": "execute_result"
    }
   ],
   "source": [
    "add(10,20)"
   ]
  },
  {
   "cell_type": "code",
   "execution_count": 4,
   "id": "e271e975",
   "metadata": {},
   "outputs": [
    {
     "data": {
      "text/plain": [
       "120"
      ]
     },
     "execution_count": 4,
     "metadata": {},
     "output_type": "execute_result"
    }
   ],
   "source": [
    "add(50,70)"
   ]
  },
  {
   "cell_type": "code",
   "execution_count": 5,
   "id": "42e5746a",
   "metadata": {},
   "outputs": [
    {
     "ename": "TypeError",
     "evalue": "unsupported operand type(s) for +: 'int' and 'str'",
     "output_type": "error",
     "traceback": [
      "\u001b[1;31m---------------------------------------------------------------------------\u001b[0m",
      "\u001b[1;31mTypeError\u001b[0m                                 Traceback (most recent call last)",
      "\u001b[1;32m~\\AppData\\Local\\Temp/ipykernel_6216/109042692.py\u001b[0m in \u001b[0;36m<module>\u001b[1;34m\u001b[0m\n\u001b[1;32m----> 1\u001b[1;33m \u001b[0madd\u001b[0m\u001b[1;33m(\u001b[0m\u001b[1;36m10\u001b[0m\u001b[1;33m,\u001b[0m\u001b[1;34m'20'\u001b[0m\u001b[1;33m)\u001b[0m\u001b[1;33m\u001b[0m\u001b[1;33m\u001b[0m\u001b[0m\n\u001b[0m",
      "\u001b[1;32m~\\AppData\\Local\\Temp/ipykernel_6216/848913544.py\u001b[0m in \u001b[0;36madd\u001b[1;34m(a, b)\u001b[0m\n\u001b[0;32m      1\u001b[0m \u001b[1;32mdef\u001b[0m \u001b[0madd\u001b[0m\u001b[1;33m(\u001b[0m\u001b[0ma\u001b[0m\u001b[1;33m,\u001b[0m\u001b[0mb\u001b[0m\u001b[1;33m)\u001b[0m\u001b[1;33m:\u001b[0m\u001b[1;33m\u001b[0m\u001b[1;33m\u001b[0m\u001b[0m\n\u001b[1;32m----> 2\u001b[1;33m     \u001b[1;32mreturn\u001b[0m \u001b[0ma\u001b[0m\u001b[1;33m+\u001b[0m\u001b[0mb\u001b[0m\u001b[1;33m\u001b[0m\u001b[1;33m\u001b[0m\u001b[0m\n\u001b[0m",
      "\u001b[1;31mTypeError\u001b[0m: unsupported operand type(s) for +: 'int' and 'str'"
     ]
    }
   ],
   "source": [
    "add(10,'20')"
   ]
  },
  {
   "cell_type": "markdown",
   "id": "ea46cfff",
   "metadata": {},
   "source": [
    "                        Exception---->\n",
    "                             1. base class-----> \n",
    "                                 system exit\n",
    "                                 generatorexit\n",
    "                                 keyboardintrrupt\n",
    "                            \n",
    "                             2. exception\n",
    "                                 remaining all exception\n",
    "                         exception -----> we will handle exception class -----  \n",
    "                         \n",
    "                         system exit , generator, keyboard----> system error\n",
    "                         \n",
    "                         system exit\n",
    "                          \n",
    "                         generatorexit\n",
    "                         "
   ]
  },
  {
   "cell_type": "code",
   "execution_count": 1,
   "id": "2f8fc683",
   "metadata": {},
   "outputs": [],
   "source": [
    "r=iter('mann')"
   ]
  },
  {
   "cell_type": "code",
   "execution_count": 2,
   "id": "f0f8c9b8",
   "metadata": {},
   "outputs": [
    {
     "data": {
      "text/plain": [
       "'m'"
      ]
     },
     "execution_count": 2,
     "metadata": {},
     "output_type": "execute_result"
    }
   ],
   "source": [
    "next(r)"
   ]
  },
  {
   "cell_type": "code",
   "execution_count": 3,
   "id": "125361c7",
   "metadata": {},
   "outputs": [
    {
     "data": {
      "text/plain": [
       "'a'"
      ]
     },
     "execution_count": 3,
     "metadata": {},
     "output_type": "execute_result"
    }
   ],
   "source": [
    "next(r)"
   ]
  },
  {
   "cell_type": "code",
   "execution_count": 4,
   "id": "6c6bb766",
   "metadata": {},
   "outputs": [
    {
     "data": {
      "text/plain": [
       "'n'"
      ]
     },
     "execution_count": 4,
     "metadata": {},
     "output_type": "execute_result"
    }
   ],
   "source": [
    "next(r)"
   ]
  },
  {
   "cell_type": "code",
   "execution_count": 5,
   "id": "456a1a0e",
   "metadata": {},
   "outputs": [
    {
     "data": {
      "text/plain": [
       "'n'"
      ]
     },
     "execution_count": 5,
     "metadata": {},
     "output_type": "execute_result"
    }
   ],
   "source": [
    "next(r)"
   ]
  },
  {
   "cell_type": "code",
   "execution_count": 6,
   "id": "b6fd3611",
   "metadata": {},
   "outputs": [
    {
     "ename": "StopIteration",
     "evalue": "",
     "output_type": "error",
     "traceback": [
      "\u001b[1;31m---------------------------------------------------------------------------\u001b[0m",
      "\u001b[1;31mStopIteration\u001b[0m                             Traceback (most recent call last)",
      "\u001b[1;32m~\\AppData\\Local\\Temp/ipykernel_8556/4134984757.py\u001b[0m in \u001b[0;36m<module>\u001b[1;34m\u001b[0m\n\u001b[1;32m----> 1\u001b[1;33m \u001b[0mnext\u001b[0m\u001b[1;33m(\u001b[0m\u001b[0mr\u001b[0m\u001b[1;33m)\u001b[0m\u001b[1;33m\u001b[0m\u001b[1;33m\u001b[0m\u001b[0m\n\u001b[0m",
      "\u001b[1;31mStopIteration\u001b[0m: "
     ]
    }
   ],
   "source": [
    "next(r)"
   ]
  },
  {
   "cell_type": "code",
   "execution_count": 11,
   "id": "3cbb4e6d",
   "metadata": {},
   "outputs": [],
   "source": [
    "def add(a,b):\n",
    "    try:\n",
    "        return a+b\n",
    "    except TypeError:\n",
    "        print('hint: enter integer value')\n",
    "        "
   ]
  },
  {
   "cell_type": "code",
   "execution_count": 12,
   "id": "15e80a2b",
   "metadata": {},
   "outputs": [
    {
     "data": {
      "text/plain": [
       "23.5"
      ]
     },
     "execution_count": 12,
     "metadata": {},
     "output_type": "execute_result"
    }
   ],
   "source": [
    "add(10,13.5)"
   ]
  },
  {
   "cell_type": "code",
   "execution_count": 13,
   "id": "473f3840",
   "metadata": {},
   "outputs": [
    {
     "name": "stdout",
     "output_type": "stream",
     "text": [
      "hint: enter integer value\n"
     ]
    }
   ],
   "source": [
    "add('mana',20)"
   ]
  },
  {
   "cell_type": "code",
   "execution_count": 10,
   "id": "d5d3220f",
   "metadata": {},
   "outputs": [],
   "source": [
    "# error name\n",
    "# exception"
   ]
  },
  {
   "cell_type": "code",
   "execution_count": 29,
   "id": "69ebfd3a",
   "metadata": {},
   "outputs": [],
   "source": [
    "def div():\n",
    "    try:\n",
    "        a=int(input('Enter a: '))\n",
    "        a=int(input('Enter a: '))\n",
    "        return a/b\n",
    "    except Exception:\n",
    "        print('hint: enter number')"
   ]
  },
  {
   "cell_type": "code",
   "execution_count": 30,
   "id": "b4e64df0",
   "metadata": {},
   "outputs": [
    {
     "name": "stdout",
     "output_type": "stream",
     "text": [
      "Enter a: \n",
      "hint: enter number\n"
     ]
    }
   ],
   "source": [
    "div()"
   ]
  },
  {
   "cell_type": "code",
   "execution_count": 25,
   "id": "5ef6122f",
   "metadata": {},
   "outputs": [
    {
     "data": {
      "text/plain": [
       "5.0"
      ]
     },
     "execution_count": 25,
     "metadata": {},
     "output_type": "execute_result"
    }
   ],
   "source": [
    "div(20,4)"
   ]
  },
  {
   "cell_type": "code",
   "execution_count": 26,
   "id": "e5f607fb",
   "metadata": {},
   "outputs": [
    {
     "name": "stdout",
     "output_type": "stream",
     "text": [
      "hint: enter number\n"
     ]
    }
   ],
   "source": [
    "div(10,'3')"
   ]
  },
  {
   "cell_type": "code",
   "execution_count": 27,
   "id": "e1d8a26c",
   "metadata": {},
   "outputs": [
    {
     "name": "stdout",
     "output_type": "stream",
     "text": [
      "hint: enter number\n"
     ]
    }
   ],
   "source": [
    "div(10,0)"
   ]
  },
  {
   "cell_type": "code",
   "execution_count": 38,
   "id": "98192f49",
   "metadata": {},
   "outputs": [],
   "source": [
    "def demo():\n",
    "    try:\n",
    "        import sys\n",
    "        print('1. Greet \\t 2. detail \\t 3. exit'.center(90))\n",
    "        usr=int(input('Enter option 1, 2, 3: '))\n",
    "        if usr==1:\n",
    "            print('hello sir good morning...')\n",
    "        elif usr==2:\n",
    "            print('thank you for choosing this option...')\n",
    "        elif usr==3:\n",
    "            sys.exit()\n",
    "    except Exception:\n",
    "        print('invalid input')"
   ]
  },
  {
   "cell_type": "code",
   "execution_count": 39,
   "id": "d13f9e31",
   "metadata": {},
   "outputs": [
    {
     "name": "stdout",
     "output_type": "stream",
     "text": [
      "                              1. Greet \t 2. detail \t 3. exit                              \n",
      "Enter option 1, 2, 3: 3\n"
     ]
    },
    {
     "ename": "SystemExit",
     "evalue": "",
     "output_type": "error",
     "traceback": [
      "An exception has occurred, use %tb to see the full traceback.\n",
      "\u001b[1;31mSystemExit\u001b[0m\n"
     ]
    }
   ],
   "source": [
    "demo()"
   ]
  },
  {
   "cell_type": "code",
   "execution_count": 40,
   "id": "139ef501",
   "metadata": {},
   "outputs": [],
   "source": [
    "def demo():\n",
    "    try:\n",
    "        import sys\n",
    "        print('1. Greet \\t 2. detail \\t 3. exit'.center(90))\n",
    "        usr=int(input('Enter option 1, 2, 3: '))\n",
    "        if usr==1:\n",
    "            print('hello sir good morning...')\n",
    "        elif usr==2:\n",
    "            print('thank you for choosing this option...')\n",
    "        elif usr==3:\n",
    "            sys.exit()\n",
    "    except BaseException:\n",
    "        print('invalid input')"
   ]
  },
  {
   "cell_type": "code",
   "execution_count": 43,
   "id": "c4a792d7",
   "metadata": {},
   "outputs": [
    {
     "name": "stdout",
     "output_type": "stream",
     "text": [
      "                              1. Greet \t 2. detail \t 3. exit                              \n",
      "Enter option 1, 2, 3: \n",
      "invalid input\n"
     ]
    }
   ],
   "source": [
    "demo()"
   ]
  },
  {
   "cell_type": "code",
   "execution_count": 44,
   "id": "7af6ac97",
   "metadata": {},
   "outputs": [],
   "source": [
    "#OOPS\n",
    "#databse"
   ]
  },
  {
   "cell_type": "code",
   "execution_count": null,
   "id": "2173e7f3",
   "metadata": {},
   "outputs": [],
   "source": []
  }
 ],
 "metadata": {
  "kernelspec": {
   "display_name": "Python 3 (ipykernel)",
   "language": "python",
   "name": "python3"
  },
  "language_info": {
   "codemirror_mode": {
    "name": "ipython",
    "version": 3
   },
   "file_extension": ".py",
   "mimetype": "text/x-python",
   "name": "python",
   "nbconvert_exporter": "python",
   "pygments_lexer": "ipython3",
   "version": "3.9.6"
  }
 },
 "nbformat": 4,
 "nbformat_minor": 5
}
