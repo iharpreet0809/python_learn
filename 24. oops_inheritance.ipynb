{
 "cells": [
  {
   "cell_type": "markdown",
   "id": "c7c26537",
   "metadata": {},
   "source": [
    "# inheritance"
   ]
  },
  {
   "cell_type": "code",
   "execution_count": 1,
   "id": "e438e0c2",
   "metadata": {},
   "outputs": [],
   "source": [
    "# Single Inheritance"
   ]
  },
  {
   "cell_type": "code",
   "execution_count": 2,
   "id": "42d79295",
   "metadata": {},
   "outputs": [],
   "source": [
    "# app | car | robot------->  kia---> base model------> "
   ]
  },
  {
   "cell_type": "code",
   "execution_count": 3,
   "id": "23823116",
   "metadata": {},
   "outputs": [],
   "source": [
    "class Car:\n",
    "    def __init__(self):\n",
    "        self.name='kia'\n",
    "        self.model='seltos'\n",
    "        self.price='12L to 14L'\n",
    "    def show_base(self):\n",
    "        print('car name: ',self.name)\n",
    "        print('car model name: ',self.model)\n",
    "        print('car price :',self.price)\n",
    "        "
   ]
  },
  {
   "cell_type": "code",
   "execution_count": 4,
   "id": "07976d85",
   "metadata": {},
   "outputs": [],
   "source": [
    "obj=Car()"
   ]
  },
  {
   "cell_type": "code",
   "execution_count": 5,
   "id": "f0dd963c",
   "metadata": {},
   "outputs": [
    {
     "name": "stdout",
     "output_type": "stream",
     "text": [
      "car name:  kia\n",
      "car model name:  seltos\n",
      "car price : 12L to 14L\n"
     ]
    }
   ],
   "source": [
    "obj.show_base()"
   ]
  },
  {
   "cell_type": "code",
   "execution_count": 41,
   "id": "4f90d75d",
   "metadata": {},
   "outputs": [],
   "source": [
    "class update_kia(Car):\n",
    "    def __init__(self):\n",
    "        Car.__init__(self)\n",
    "        self.umodel='Carnival'\n",
    "        self.uprice='25L to 35L'\n",
    "    def show_carnival(self):\n",
    "        print('car name: ',self.name)\n",
    "        print('car model name: ',self.umodel)\n",
    "        print('car price :',self.uprice)\n",
    "        "
   ]
  },
  {
   "cell_type": "code",
   "execution_count": 42,
   "id": "9e09244a",
   "metadata": {},
   "outputs": [],
   "source": [
    "ob=update_kia()\n"
   ]
  },
  {
   "cell_type": "code",
   "execution_count": 43,
   "id": "4d6efa89",
   "metadata": {},
   "outputs": [
    {
     "name": "stdout",
     "output_type": "stream",
     "text": [
      "car name:  kia\n",
      "car model name:  seltos\n",
      "car price : 12L to 14L\n"
     ]
    }
   ],
   "source": [
    "ob.show_base()"
   ]
  },
  {
   "cell_type": "code",
   "execution_count": 44,
   "id": "3be17c58",
   "metadata": {},
   "outputs": [
    {
     "name": "stdout",
     "output_type": "stream",
     "text": [
      "car name:  kia\n",
      "car model name:  Carnival\n",
      "car price : 25L to 35L\n"
     ]
    }
   ],
   "source": [
    "ob.show_carnival()"
   ]
  },
  {
   "cell_type": "code",
   "execution_count": 31,
   "id": "241b391b",
   "metadata": {},
   "outputs": [
    {
     "name": "stdout",
     "output_type": "stream",
     "text": [
      "10\n"
     ]
    }
   ],
   "source": [
    "demo()"
   ]
  },
  {
   "cell_type": "code",
   "execution_count": 45,
   "id": "8a04897c",
   "metadata": {},
   "outputs": [
    {
     "name": "stdout",
     "output_type": "stream",
     "text": [
      "['__class__', '__delattr__', '__dict__', '__dir__', '__doc__', '__eq__', '__format__', '__ge__', '__getattribute__', '__gt__', '__hash__', '__init__', '__init_subclass__', '__le__', '__lt__', '__module__', '__ne__', '__new__', '__reduce__', '__reduce_ex__', '__repr__', '__setattr__', '__sizeof__', '__str__', '__subclasshook__', '__weakref__', 'model', 'name', 'price', 'show_base', 'show_carnival', 'umodel', 'uprice']\n"
     ]
    }
   ],
   "source": [
    "print(dir(ob))"
   ]
  },
  {
   "cell_type": "code",
   "execution_count": 70,
   "id": "ccb0d67e",
   "metadata": {},
   "outputs": [],
   "source": [
    "class whatsapp:\n",
    "    def __init__(self):\n",
    "        self.payment='whatsapp UPI'\n",
    "        self.process='connection'\n",
    "    def show(self):\n",
    "        print('payment method name: ',self.payment)\n",
    "        print('payment process :', self.process)\n",
    "class Facebook:\n",
    "    def __init__(self):\n",
    "        self.name='facebook blog'\n",
    "        self.post='random post'\n",
    "    def show(self):\n",
    "        print('blog name: ',self.name)\n",
    "        print('blog feature: ',self.post)\n",
    "class chat(Facebook,whatsapp): # MRO left to right (method resolution order) \n",
    "    def __init__(self):\n",
    "        whatsapp.__init__(self)\n",
    "        Facebook.__init__(self)\n",
    "        \n",
    "        print('simple chat app')"
   ]
  },
  {
   "cell_type": "code",
   "execution_count": 71,
   "id": "fcc8bcf8",
   "metadata": {},
   "outputs": [
    {
     "name": "stdout",
     "output_type": "stream",
     "text": [
      "simple chat app\n"
     ]
    }
   ],
   "source": [
    "obj=chat()"
   ]
  },
  {
   "cell_type": "code",
   "execution_count": 72,
   "id": "7b3d669e",
   "metadata": {},
   "outputs": [
    {
     "name": "stdout",
     "output_type": "stream",
     "text": [
      "blog name:  facebook blog\n",
      "blog feature:  random post\n"
     ]
    }
   ],
   "source": [
    "obj.show()"
   ]
  },
  {
   "cell_type": "code",
   "execution_count": 66,
   "id": "c2b67b58",
   "metadata": {},
   "outputs": [
    {
     "name": "stdout",
     "output_type": "stream",
     "text": [
      "blog name:  facebook blog\n",
      "blog feature:  random post\n"
     ]
    }
   ],
   "source": [
    "obj.showblog()"
   ]
  },
  {
   "cell_type": "code",
   "execution_count": null,
   "id": "9b492020",
   "metadata": {},
   "outputs": [],
   "source": []
  },
  {
   "cell_type": "code",
   "execution_count": null,
   "id": "d783c575",
   "metadata": {},
   "outputs": [],
   "source": []
  }
 ],
 "metadata": {
  "kernelspec": {
   "display_name": "Python 3 (ipykernel)",
   "language": "python",
   "name": "python3"
  },
  "language_info": {
   "codemirror_mode": {
    "name": "ipython",
    "version": 3
   },
   "file_extension": ".py",
   "mimetype": "text/x-python",
   "name": "python",
   "nbconvert_exporter": "python",
   "pygments_lexer": "ipython3",
   "version": "3.9.6"
  }
 },
 "nbformat": 4,
 "nbformat_minor": 5
}
